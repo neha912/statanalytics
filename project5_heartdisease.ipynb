{
 "cells": [
  {
   "cell_type": "code",
   "execution_count": 1,
   "metadata": {},
   "outputs": [],
   "source": [
    "import pandas as pd\n",
    "import numpy as np\n",
    "import seaborn as sns\n",
    "import matplotlib.pyplot as plt\n",
    "%matplotlib inline\n",
    "import warnings\n",
    "warnings.filterwarnings(\"ignore\")\n",
    "from sklearn.model_selection import train_test_split\n",
    "from sklearn import metrics\n",
    "from sklearn.preprocessing import StandardScaler\n",
    "from sklearn.preprocessing import LabelEncoder\n",
    "from sklearn.linear_model import LogisticRegression\n",
    "\n",
    "\n",
    "from subprocess import check_output\n",
    "from sklearn.metrics import accuracy_score\n",
    "from sklearn.metrics import confusion_matrix\n",
    "\n"
   ]
  },
  {
   "cell_type": "code",
   "execution_count": 2,
   "metadata": {},
   "outputs": [
    {
     "data": {
      "text/html": [
       "<div>\n",
       "<style scoped>\n",
       "    .dataframe tbody tr th:only-of-type {\n",
       "        vertical-align: middle;\n",
       "    }\n",
       "\n",
       "    .dataframe tbody tr th {\n",
       "        vertical-align: top;\n",
       "    }\n",
       "\n",
       "    .dataframe thead th {\n",
       "        text-align: right;\n",
       "    }\n",
       "</style>\n",
       "<table border=\"1\" class=\"dataframe\">\n",
       "  <thead>\n",
       "    <tr style=\"text-align: right;\">\n",
       "      <th></th>\n",
       "      <th>age</th>\n",
       "      <th>sex</th>\n",
       "      <th>cp</th>\n",
       "      <th>trestbps</th>\n",
       "      <th>chol</th>\n",
       "      <th>fbs</th>\n",
       "      <th>restecg</th>\n",
       "      <th>thalach</th>\n",
       "      <th>exang</th>\n",
       "      <th>oldpeak</th>\n",
       "      <th>slope</th>\n",
       "      <th>ca</th>\n",
       "      <th>thal</th>\n",
       "      <th>target</th>\n",
       "    </tr>\n",
       "  </thead>\n",
       "  <tbody>\n",
       "    <tr>\n",
       "      <th>0</th>\n",
       "      <td>44</td>\n",
       "      <td>1</td>\n",
       "      <td>4</td>\n",
       "      <td>130</td>\n",
       "      <td>209</td>\n",
       "      <td>0</td>\n",
       "      <td>1</td>\n",
       "      <td>127</td>\n",
       "      <td>0</td>\n",
       "      <td>0</td>\n",
       "      <td>?</td>\n",
       "      <td>?</td>\n",
       "      <td>?</td>\n",
       "      <td>0</td>\n",
       "    </tr>\n",
       "    <tr>\n",
       "      <th>1</th>\n",
       "      <td>60</td>\n",
       "      <td>1</td>\n",
       "      <td>4</td>\n",
       "      <td>132</td>\n",
       "      <td>218</td>\n",
       "      <td>0</td>\n",
       "      <td>1</td>\n",
       "      <td>140</td>\n",
       "      <td>1</td>\n",
       "      <td>1.5</td>\n",
       "      <td>3</td>\n",
       "      <td>?</td>\n",
       "      <td>?</td>\n",
       "      <td>2</td>\n",
       "    </tr>\n",
       "    <tr>\n",
       "      <th>2</th>\n",
       "      <td>55</td>\n",
       "      <td>1</td>\n",
       "      <td>4</td>\n",
       "      <td>142</td>\n",
       "      <td>228</td>\n",
       "      <td>0</td>\n",
       "      <td>1</td>\n",
       "      <td>149</td>\n",
       "      <td>1</td>\n",
       "      <td>2.5</td>\n",
       "      <td>1</td>\n",
       "      <td>?</td>\n",
       "      <td>?</td>\n",
       "      <td>1</td>\n",
       "    </tr>\n",
       "    <tr>\n",
       "      <th>3</th>\n",
       "      <td>66</td>\n",
       "      <td>1</td>\n",
       "      <td>3</td>\n",
       "      <td>110</td>\n",
       "      <td>213</td>\n",
       "      <td>1</td>\n",
       "      <td>2</td>\n",
       "      <td>99</td>\n",
       "      <td>1</td>\n",
       "      <td>1.3</td>\n",
       "      <td>2</td>\n",
       "      <td>?</td>\n",
       "      <td>?</td>\n",
       "      <td>0</td>\n",
       "    </tr>\n",
       "    <tr>\n",
       "      <th>4</th>\n",
       "      <td>66</td>\n",
       "      <td>1</td>\n",
       "      <td>3</td>\n",
       "      <td>120</td>\n",
       "      <td>0</td>\n",
       "      <td>0</td>\n",
       "      <td>1</td>\n",
       "      <td>120</td>\n",
       "      <td>0</td>\n",
       "      <td>-0.5</td>\n",
       "      <td>1</td>\n",
       "      <td>?</td>\n",
       "      <td>?</td>\n",
       "      <td>0</td>\n",
       "    </tr>\n",
       "  </tbody>\n",
       "</table>\n",
       "</div>"
      ],
      "text/plain": [
       "   age  sex  cp trestbps chol fbs  restecg thalach exang oldpeak slope ca  \\\n",
       "0   44    1   4      130  209   0        1     127     0       0     ?  ?   \n",
       "1   60    1   4      132  218   0        1     140     1     1.5     3  ?   \n",
       "2   55    1   4      142  228   0        1     149     1     2.5     1  ?   \n",
       "3   66    1   3      110  213   1        2      99     1     1.3     2  ?   \n",
       "4   66    1   3      120    0   0        1     120     0    -0.5     1  ?   \n",
       "\n",
       "  thal  target  \n",
       "0    ?       0  \n",
       "1    ?       2  \n",
       "2    ?       1  \n",
       "3    ?       0  \n",
       "4    ?       0  "
      ]
     },
     "execution_count": 2,
     "metadata": {},
     "output_type": "execute_result"
    }
   ],
   "source": [
    "df=pd.read_csv('heartdisease_data.csv')\n",
    "names=['age','sex','cp','trestbps','chol','fbs','restecg','thalach','exang','oldpeak','slope','ca','thal','target']\n",
    "df = df.rename(columns=dict(zip(df.columns, names)))\n",
    "df.head()"
   ]
  },
  {
   "cell_type": "code",
   "execution_count": 3,
   "metadata": {},
   "outputs": [
    {
     "data": {
      "text/html": [
       "<div>\n",
       "<style scoped>\n",
       "    .dataframe tbody tr th:only-of-type {\n",
       "        vertical-align: middle;\n",
       "    }\n",
       "\n",
       "    .dataframe tbody tr th {\n",
       "        vertical-align: top;\n",
       "    }\n",
       "\n",
       "    .dataframe thead th {\n",
       "        text-align: right;\n",
       "    }\n",
       "</style>\n",
       "<table border=\"1\" class=\"dataframe\">\n",
       "  <thead>\n",
       "    <tr style=\"text-align: right;\">\n",
       "      <th></th>\n",
       "      <th>age</th>\n",
       "      <th>sex</th>\n",
       "      <th>cp</th>\n",
       "      <th>trestbps</th>\n",
       "      <th>chol</th>\n",
       "      <th>fbs</th>\n",
       "      <th>restecg</th>\n",
       "      <th>thalach</th>\n",
       "      <th>exang</th>\n",
       "      <th>oldpeak</th>\n",
       "      <th>slope</th>\n",
       "      <th>ca</th>\n",
       "      <th>thal</th>\n",
       "      <th>target</th>\n",
       "    </tr>\n",
       "  </thead>\n",
       "  <tbody>\n",
       "    <tr>\n",
       "      <th>194</th>\n",
       "      <td>54</td>\n",
       "      <td>0</td>\n",
       "      <td>4</td>\n",
       "      <td>127</td>\n",
       "      <td>333</td>\n",
       "      <td>1</td>\n",
       "      <td>1</td>\n",
       "      <td>154</td>\n",
       "      <td>0</td>\n",
       "      <td>0</td>\n",
       "      <td>?</td>\n",
       "      <td>?</td>\n",
       "      <td>?</td>\n",
       "      <td>1</td>\n",
       "    </tr>\n",
       "    <tr>\n",
       "      <th>195</th>\n",
       "      <td>62</td>\n",
       "      <td>1</td>\n",
       "      <td>1</td>\n",
       "      <td>?</td>\n",
       "      <td>139</td>\n",
       "      <td>0</td>\n",
       "      <td>1</td>\n",
       "      <td>?</td>\n",
       "      <td>?</td>\n",
       "      <td>?</td>\n",
       "      <td>?</td>\n",
       "      <td>?</td>\n",
       "      <td>?</td>\n",
       "      <td>0</td>\n",
       "    </tr>\n",
       "    <tr>\n",
       "      <th>196</th>\n",
       "      <td>55</td>\n",
       "      <td>1</td>\n",
       "      <td>4</td>\n",
       "      <td>122</td>\n",
       "      <td>223</td>\n",
       "      <td>1</td>\n",
       "      <td>1</td>\n",
       "      <td>100</td>\n",
       "      <td>0</td>\n",
       "      <td>0</td>\n",
       "      <td>?</td>\n",
       "      <td>?</td>\n",
       "      <td>6</td>\n",
       "      <td>2</td>\n",
       "    </tr>\n",
       "    <tr>\n",
       "      <th>197</th>\n",
       "      <td>58</td>\n",
       "      <td>1</td>\n",
       "      <td>4</td>\n",
       "      <td>?</td>\n",
       "      <td>385</td>\n",
       "      <td>1</td>\n",
       "      <td>2</td>\n",
       "      <td>?</td>\n",
       "      <td>?</td>\n",
       "      <td>?</td>\n",
       "      <td>?</td>\n",
       "      <td>?</td>\n",
       "      <td>?</td>\n",
       "      <td>0</td>\n",
       "    </tr>\n",
       "    <tr>\n",
       "      <th>198</th>\n",
       "      <td>62</td>\n",
       "      <td>1</td>\n",
       "      <td>2</td>\n",
       "      <td>120</td>\n",
       "      <td>254</td>\n",
       "      <td>0</td>\n",
       "      <td>2</td>\n",
       "      <td>93</td>\n",
       "      <td>1</td>\n",
       "      <td>0</td>\n",
       "      <td>?</td>\n",
       "      <td>?</td>\n",
       "      <td>?</td>\n",
       "      <td>1</td>\n",
       "    </tr>\n",
       "  </tbody>\n",
       "</table>\n",
       "</div>"
      ],
      "text/plain": [
       "     age  sex  cp trestbps chol fbs  restecg thalach exang oldpeak slope ca  \\\n",
       "194   54    0   4      127  333   1        1     154     0       0     ?  ?   \n",
       "195   62    1   1        ?  139   0        1       ?     ?       ?     ?  ?   \n",
       "196   55    1   4      122  223   1        1     100     0       0     ?  ?   \n",
       "197   58    1   4        ?  385   1        2       ?     ?       ?     ?  ?   \n",
       "198   62    1   2      120  254   0        2      93     1       0     ?  ?   \n",
       "\n",
       "    thal  target  \n",
       "194    ?       1  \n",
       "195    ?       0  \n",
       "196    6       2  \n",
       "197    ?       0  \n",
       "198    ?       1  "
      ]
     },
     "execution_count": 3,
     "metadata": {},
     "output_type": "execute_result"
    }
   ],
   "source": [
    "df.tail()"
   ]
  },
  {
   "cell_type": "code",
   "execution_count": 4,
   "metadata": {},
   "outputs": [
    {
     "data": {
      "text/plain": [
       "age         0\n",
       "sex         0\n",
       "cp          0\n",
       "trestbps    0\n",
       "chol        0\n",
       "fbs         0\n",
       "restecg     0\n",
       "thalach     0\n",
       "exang       0\n",
       "oldpeak     0\n",
       "slope       0\n",
       "ca          0\n",
       "thal        0\n",
       "target      0\n",
       "dtype: int64"
      ]
     },
     "execution_count": 4,
     "metadata": {},
     "output_type": "execute_result"
    }
   ],
   "source": [
    "df.isnull().sum()"
   ]
  },
  {
   "cell_type": "code",
   "execution_count": 5,
   "metadata": {},
   "outputs": [
    {
     "data": {
      "text/plain": [
       "(199, 14)"
      ]
     },
     "execution_count": 5,
     "metadata": {},
     "output_type": "execute_result"
    }
   ],
   "source": [
    "df.shape"
   ]
  },
  {
   "cell_type": "code",
   "execution_count": 6,
   "metadata": {},
   "outputs": [
    {
     "name": "stdout",
     "output_type": "stream",
     "text": [
      "<class 'pandas.core.frame.DataFrame'>\n",
      "RangeIndex: 199 entries, 0 to 198\n",
      "Data columns (total 14 columns):\n",
      " #   Column    Non-Null Count  Dtype \n",
      "---  ------    --------------  ----- \n",
      " 0   age       199 non-null    int64 \n",
      " 1   sex       199 non-null    int64 \n",
      " 2   cp        199 non-null    int64 \n",
      " 3   trestbps  199 non-null    object\n",
      " 4   chol      199 non-null    object\n",
      " 5   fbs       199 non-null    object\n",
      " 6   restecg   199 non-null    int64 \n",
      " 7   thalach   199 non-null    object\n",
      " 8   exang     199 non-null    object\n",
      " 9   oldpeak   199 non-null    object\n",
      " 10  slope     199 non-null    object\n",
      " 11  ca        199 non-null    object\n",
      " 12  thal      199 non-null    object\n",
      " 13  target    199 non-null    int64 \n",
      "dtypes: int64(5), object(9)\n",
      "memory usage: 21.9+ KB\n"
     ]
    }
   ],
   "source": [
    "df.info()"
   ]
  },
  {
   "cell_type": "code",
   "execution_count": 7,
   "metadata": {},
   "outputs": [
    {
     "data": {
      "text/plain": [
       "age          int64\n",
       "sex          int64\n",
       "cp           int64\n",
       "trestbps    object\n",
       "chol        object\n",
       "fbs         object\n",
       "restecg      int64\n",
       "thalach     object\n",
       "exang       object\n",
       "oldpeak     object\n",
       "slope       object\n",
       "ca          object\n",
       "thal        object\n",
       "target       int64\n",
       "dtype: object"
      ]
     },
     "execution_count": 7,
     "metadata": {},
     "output_type": "execute_result"
    }
   ],
   "source": [
    "df.dtypes"
   ]
  },
  {
   "cell_type": "code",
   "execution_count": 8,
   "metadata": {},
   "outputs": [
    {
     "data": {
      "text/plain": [
       "Index(['age', 'sex', 'cp', 'trestbps', 'chol', 'fbs', 'restecg', 'thalach',\n",
       "       'exang', 'oldpeak', 'slope', 'ca', 'thal', 'target'],\n",
       "      dtype='object')"
      ]
     },
     "execution_count": 8,
     "metadata": {},
     "output_type": "execute_result"
    }
   ],
   "source": [
    "df.columns"
   ]
  },
  {
   "cell_type": "code",
   "execution_count": 9,
   "metadata": {},
   "outputs": [
    {
     "data": {
      "text/plain": [
       "array([0, 2, 1, 3, 4], dtype=int64)"
      ]
     },
     "execution_count": 9,
     "metadata": {},
     "output_type": "execute_result"
    }
   ],
   "source": [
    "df.target.unique()"
   ]
  },
  {
   "cell_type": "code",
   "execution_count": 10,
   "metadata": {},
   "outputs": [
    {
     "data": {
      "text/plain": [
       "array([1, 0], dtype=int64)"
      ]
     },
     "execution_count": 10,
     "metadata": {},
     "output_type": "execute_result"
    }
   ],
   "source": [
    "df.sex.unique()"
   ]
  },
  {
   "cell_type": "code",
   "execution_count": 11,
   "metadata": {},
   "outputs": [
    {
     "data": {
      "image/png": "[encoded data removed]",
      "text/plain": [
       "<Figure size 1440x1440 with 6 Axes>"
      ]
     },
     "metadata": {
      "needs_background": "light"
     },
     "output_type": "display_data"
    }
   ],
   "source": [
    "df.hist(edgecolor='black', linewidth=1.2, figsize=(20, 20));"
   ]
  },
  {
   "cell_type": "code",
   "execution_count": 12,
   "metadata": {},
   "outputs": [
    {
     "data": {
      "text/plain": [
       "1    56\n",
       "0    51\n",
       "3    42\n",
       "2    40\n",
       "4    10\n",
       "Name: target, dtype: int64"
      ]
     },
     "execution_count": 12,
     "metadata": {},
     "output_type": "execute_result"
    }
   ],
   "source": [
    "df['target'].value_counts()"
   ]
  },
  {
   "cell_type": "code",
   "execution_count": 13,
   "metadata": {},
   "outputs": [
    {
     "data": {
      "image/png": "[encoded data removed]",
      "text/plain": [
       "<Figure size 720x720 with 2 Axes>"
      ]
     },
     "metadata": {
      "needs_background": "light"
     },
     "output_type": "display_data"
    }
   ],
   "source": [
    "plt.figure(figsize=(10,10))\n",
    "sns.heatmap(df.corr(),annot=True)\n",
    "plt.show()"
   ]
  },
  {
   "cell_type": "code",
   "execution_count": 14,
   "metadata": {},
   "outputs": [
    {
     "data": {
      "image/png": "[encoded data removed]",
      "text/plain": [
       "<Figure size 900x900 with 30 Axes>"
      ]
     },
     "metadata": {
      "needs_background": "light"
     },
     "output_type": "display_data"
    }
   ],
   "source": [
    "sns.pairplot(df)\n",
    "plt.show()"
   ]
  },
  {
   "cell_type": "code",
   "execution_count": 15,
   "metadata": {},
   "outputs": [
    {
     "data": {
      "text/plain": [
       "62    15\n",
       "63    14\n",
       "55    14\n",
       "60    12\n",
       "58    12\n",
       "61    12\n",
       "57    10\n",
       "64     9\n",
       "56     9\n",
       "69     8\n",
       "59     8\n",
       "54     7\n",
       "51     7\n",
       "65     6\n",
       "74     5\n",
       "67     5\n",
       "53     5\n",
       "68     4\n",
       "48     4\n",
       "72     3\n",
       "66     3\n",
       "75     3\n",
       "40     2\n",
       "46     2\n",
       "50     2\n",
       "49     2\n",
       "41     2\n",
       "52     2\n",
       "71     2\n",
       "42     1\n",
       "37     1\n",
       "38     1\n",
       "77     1\n",
       "43     1\n",
       "44     1\n",
       "45     1\n",
       "76     1\n",
       "70     1\n",
       "35     1\n",
       "Name: age, dtype: int64"
      ]
     },
     "execution_count": 15,
     "metadata": {},
     "output_type": "execute_result"
    }
   ],
   "source": [
    "df.age.value_counts()"
   ]
  },
  {
   "cell_type": "code",
   "execution_count": 16,
   "metadata": {},
   "outputs": [
    {
     "data": {
      "image/png": "[encoded data removed]",
      "text/plain": [
       "<Figure size 432x288 with 1 Axes>"
      ]
     },
     "metadata": {
      "needs_background": "light"
     },
     "output_type": "display_data"
    }
   ],
   "source": [
    "sns.barplot(x=df.age.value_counts()[:10].index,y=df.age.value_counts()[:10].values)\n",
    "plt.xlabel('age')\n",
    "plt.ylabel('age Counter')\n",
    "plt.title('age Analysis System')\n",
    "plt.show()"
   ]
  },
  {
   "cell_type": "code",
   "execution_count": 17,
   "metadata": {},
   "outputs": [
    {
     "name": "stdout",
     "output_type": "stream",
     "text": [
      "Min Age : 35\n",
      "Max Age : 77\n",
      "Mean Age : 59.33165829145729\n"
     ]
    }
   ],
   "source": [
    "minAge=min(df.age)\n",
    "maxAge=max(df.age)\n",
    "meanAge=df.age.mean()\n",
    "print('Min Age :',minAge)\n",
    "print('Max Age :',maxAge)\n",
    "print('Mean Age :',meanAge)"
   ]
  },
  {
   "cell_type": "code",
   "execution_count": 18,
   "metadata": {},
   "outputs": [
    {
     "name": "stdout",
     "output_type": "stream",
     "text": [
      "Young Ages : 3\n",
      "Middle Ages : 39\n",
      "Elderly Ages : 143\n"
     ]
    }
   ],
   "source": [
    "young_ages=df[(df.age>=29)&(df.age<40)]\n",
    "middle_ages=df[(df.age>=40)&(df.age<55)]\n",
    "elderly_ages=df[(df.age>55)]\n",
    "print('Young Ages :',len(young_ages))\n",
    "print('Middle Ages :',len(middle_ages))\n",
    "print('Elderly Ages :',len(elderly_ages))"
   ]
  },
  {
   "cell_type": "code",
   "execution_count": 19,
   "metadata": {},
   "outputs": [
    {
     "data": {
      "image/png": "[encoded data removed]",
      "text/plain": [
       "<Figure size 432x288 with 1 Axes>"
      ]
     },
     "metadata": {
      "needs_background": "light"
     },
     "output_type": "display_data"
    }
   ],
   "source": [
    "sns.barplot(x=['young ages','middle ages','elderly ages'],y=[len(young_ages),len(middle_ages),len(elderly_ages)])\n",
    "plt.xlabel('Age Range')\n",
    "plt.ylabel('Age Counts')\n",
    "plt.title('Ages State in Dataset')\n",
    "plt.show()"
   ]
  },
  {
   "cell_type": "code",
   "execution_count": 20,
   "metadata": {},
   "outputs": [],
   "source": [
    "df['AgeRange']=0\n",
    "youngAge_index=df[(df.age>=29)&(df.age<40)].index\n",
    "middleAge_index=df[(df.age>=40)&(df.age<55)].index\n",
    "elderlyAge_index=df[(df.age>55)].index"
   ]
  },
  {
   "cell_type": "code",
   "execution_count": 21,
   "metadata": {},
   "outputs": [],
   "source": [
    "for index in elderlyAge_index:\n",
    "    df.loc[index,'AgeRange']=2\n",
    "    \n",
    "for index in middleAge_index:\n",
    "    df.loc[index,'AgeRange']=1\n",
    "\n",
    "    for index in youngAge_index:\n",
    "        df.loc[index,'AgeRange']=0\n"
   ]
  },
  {
   "cell_type": "code",
   "execution_count": 22,
   "metadata": {},
   "outputs": [
    {
     "data": {
      "image/png": "[encoded data removed]",
      "text/plain": [
       "<Figure size 432x288 with 1 Axes>"
      ]
     },
     "metadata": {
      "needs_background": "light"
     },
     "output_type": "display_data"
    }
   ],
   "source": [
    "sns.swarmplot(x=\"AgeRange\", y=\"age\",hue='sex',\n",
    "              palette=[\"r\", \"c\", \"y\"], data=df)\n",
    "plt.show()"
   ]
  },
  {
   "cell_type": "code",
   "execution_count": 23,
   "metadata": {},
   "outputs": [
    {
     "data": {
      "image/png": "[encoded data removed]",
      "text/plain": [
       "<Figure size 432x288 with 1 Axes>"
      ]
     },
     "metadata": {
      "needs_background": "light"
     },
     "output_type": "display_data"
    }
   ],
   "source": [
    "sns.set_color_codes(\"pastel\")\n",
    "sns.barplot(y=\"AgeRange\", x=\"sex\", data=df,\n",
    "            label=\"Total\", color=\"b\")\n",
    "plt.show()"
   ]
  },
  {
   "cell_type": "code",
   "execution_count": 24,
   "metadata": {},
   "outputs": [
    {
     "data": {
      "image/png": "[encoded data removed]",
      "text/plain": [
       "<Figure size 432x288 with 1 Axes>"
      ]
     },
     "metadata": {
      "needs_background": "light"
     },
     "output_type": "display_data"
    }
   ],
   "source": [
    "sns.countplot(elderly_ages.sex)\n",
    "plt.title(\"Elderly Sex Operations\")\n",
    "plt.show()"
   ]
  },
  {
   "cell_type": "code",
   "execution_count": 25,
   "metadata": {},
   "outputs": [
    {
     "data": {
      "image/png": "[encoded data removed]",
      "text/plain": [
       "<Figure size 432x288 with 1 Axes>"
      ]
     },
     "metadata": {
      "needs_background": "light"
     },
     "output_type": "display_data"
    }
   ],
   "source": [
    "sns.violinplot(df.age, palette=\"Set3\", bw=.2, cut=1, linewidth=1)\n",
    "plt.xticks(rotation=90)\n",
    "plt.title(\"Age Rates\")\n",
    "plt.show()"
   ]
  },
  {
   "cell_type": "code",
   "execution_count": 26,
   "metadata": {},
   "outputs": [
    {
     "name": "stderr",
     "output_type": "stream",
     "text": [
      "No handles with labels found to put in legend.\n"
     ]
    },
    {
     "data": {
      "image/png": "[encoded data removed]",
      "text/plain": [
       "<Figure size 1080x504 with 1 Axes>"
      ]
     },
     "metadata": {
      "needs_background": "light"
     },
     "output_type": "display_data"
    }
   ],
   "source": [
    "plt.figure(figsize=(15,7))\n",
    "sns.violinplot(x=df.age,y=df.target)\n",
    "plt.xticks(rotation=90)\n",
    "plt.legend()\n",
    "plt.title(\"Age & Target System\")\n",
    "plt.show()"
   ]
  },
  {
   "cell_type": "code",
   "execution_count": 27,
   "metadata": {},
   "outputs": [
    {
     "data": {
      "image/png": "[encoded data removed]",
      "text/plain": [
       "<Figure size 360x360 with 1 Axes>"
      ]
     },
     "metadata": {},
     "output_type": "display_data"
    }
   ],
   "source": [
    "colors = ['blue','green','yellow']\n",
    "explode = [0,0,0.1]\n",
    "plt.figure(figsize = (5,5))\n",
    "#plt.pie([target_0_agerang_0,target_1_agerang_0], explode=explode, labels=['Target 0 Age Range 0','Target 1 Age Range 0'], colors=colors, autopct='%1.1f%%')\n",
    "plt.pie([len(young_ages),len(middle_ages),len(elderly_ages)],labels=['young ages','middle ages','elderly ages'],explode=explode,colors=colors, autopct='%1.1f%%')\n",
    "plt.title('Age States',color = 'blue',fontsize = 15)\n",
    "plt.show()"
   ]
  },
  {
   "cell_type": "code",
   "execution_count": 28,
   "metadata": {},
   "outputs": [
    {
     "data": {
      "image/png": "[encoded data removed]",
      "text/plain": [
       "<Figure size 432x288 with 1 Axes>"
      ]
     },
     "metadata": {
      "needs_background": "light"
     },
     "output_type": "display_data"
    }
   ],
   "source": [
    "sns.countplot(x=\"target\", data=df, palette=\"bwr\")\n",
    "plt.show()"
   ]
  },
  {
   "cell_type": "code",
   "execution_count": 29,
   "metadata": {},
   "outputs": [
    {
     "name": "stdout",
     "output_type": "stream",
     "text": [
      "Percentage of Patients who Haven't Heart Disease: 25.63%\n",
      "Percentage of Patients who Have Heart Disease: 28.14%\n"
     ]
    }
   ],
   "source": [
    "countNoDisease = len(df[df.target == 0])\n",
    "countHaveDisease = len(df[df.target == 1])\n",
    "print(\"Percentage of Patients who Haven't Heart Disease: {:.2f}%\".format((countNoDisease / (len(df.target))*100)))\n",
    "print(\"Percentage of Patients who Have Heart Disease: {:.2f}%\".format((countHaveDisease / (len(df.target))*100)))"
   ]
  },
  {
   "cell_type": "code",
   "execution_count": 30,
   "metadata": {},
   "outputs": [
    {
     "data": {
      "image/png": "[encoded data removed]",
      "text/plain": [
       "<Figure size 432x288 with 1 Axes>"
      ]
     },
     "metadata": {
      "needs_background": "light"
     },
     "output_type": "display_data"
    }
   ],
   "source": [
    "sns.countplot(x='sex', data=df)\n",
    "plt.xlabel(\"Sex (0 = female, 1= male)\")\n",
    "plt.show()"
   ]
  },
  {
   "cell_type": "code",
   "execution_count": 31,
   "metadata": {},
   "outputs": [
    {
     "name": "stdout",
     "output_type": "stream",
     "text": [
      "Percentage of Female Patients: 3.02%\n",
      "Percentage of Male Patients: 96.98%\n"
     ]
    }
   ],
   "source": [
    "countFemale = len(df[df.sex == 0])\n",
    "countMale = len(df[df.sex == 1])\n",
    "print(\"Percentage of Female Patients: {:.2f}%\".format((countFemale / (len(df.sex))*100)))\n",
    "print(\"Percentage of Male Patients: {:.2f}%\".format((countMale / (len(df.sex))*100)))"
   ]
  },
  {
   "cell_type": "code",
   "execution_count": 32,
   "metadata": {},
   "outputs": [
    {
     "data": {
      "text/html": [
       "<div>\n",
       "<style scoped>\n",
       "    .dataframe tbody tr th:only-of-type {\n",
       "        vertical-align: middle;\n",
       "    }\n",
       "\n",
       "    .dataframe tbody tr th {\n",
       "        vertical-align: top;\n",
       "    }\n",
       "\n",
       "    .dataframe thead th {\n",
       "        text-align: right;\n",
       "    }\n",
       "</style>\n",
       "<table border=\"1\" class=\"dataframe\">\n",
       "  <thead>\n",
       "    <tr style=\"text-align: right;\">\n",
       "      <th></th>\n",
       "      <th>age</th>\n",
       "      <th>sex</th>\n",
       "      <th>cp</th>\n",
       "      <th>restecg</th>\n",
       "      <th>AgeRange</th>\n",
       "    </tr>\n",
       "    <tr>\n",
       "      <th>target</th>\n",
       "      <th></th>\n",
       "      <th></th>\n",
       "      <th></th>\n",
       "      <th></th>\n",
       "      <th></th>\n",
       "    </tr>\n",
       "  </thead>\n",
       "  <tbody>\n",
       "    <tr>\n",
       "      <th>0</th>\n",
       "      <td>56.823529</td>\n",
       "      <td>0.941176</td>\n",
       "      <td>3.156863</td>\n",
       "      <td>0.803922</td>\n",
       "      <td>1.529412</td>\n",
       "    </tr>\n",
       "    <tr>\n",
       "      <th>1</th>\n",
       "      <td>57.571429</td>\n",
       "      <td>0.946429</td>\n",
       "      <td>3.642857</td>\n",
       "      <td>0.714286</td>\n",
       "      <td>1.517857</td>\n",
       "    </tr>\n",
       "    <tr>\n",
       "      <th>2</th>\n",
       "      <td>61.000000</td>\n",
       "      <td>1.000000</td>\n",
       "      <td>3.675000</td>\n",
       "      <td>0.725000</td>\n",
       "      <td>1.750000</td>\n",
       "    </tr>\n",
       "    <tr>\n",
       "      <th>3</th>\n",
       "      <td>62.452381</td>\n",
       "      <td>1.000000</td>\n",
       "      <td>3.523810</td>\n",
       "      <td>0.619048</td>\n",
       "      <td>1.714286</td>\n",
       "    </tr>\n",
       "    <tr>\n",
       "      <th>4</th>\n",
       "      <td>62.200000</td>\n",
       "      <td>1.000000</td>\n",
       "      <td>3.700000</td>\n",
       "      <td>1.000000</td>\n",
       "      <td>2.000000</td>\n",
       "    </tr>\n",
       "  </tbody>\n",
       "</table>\n",
       "</div>"
      ],
      "text/plain": [
       "              age       sex        cp   restecg  AgeRange\n",
       "target                                                   \n",
       "0       56.823529  0.941176  3.156863  0.803922  1.529412\n",
       "1       57.571429  0.946429  3.642857  0.714286  1.517857\n",
       "2       61.000000  1.000000  3.675000  0.725000  1.750000\n",
       "3       62.452381  1.000000  3.523810  0.619048  1.714286\n",
       "4       62.200000  1.000000  3.700000  1.000000  2.000000"
      ]
     },
     "execution_count": 32,
     "metadata": {},
     "output_type": "execute_result"
    }
   ],
   "source": [
    "df.groupby('target').mean()"
   ]
  },
  {
   "cell_type": "code",
   "execution_count": 33,
   "metadata": {},
   "outputs": [
    {
     "data": {
      "image/png": "[encoded data removed]",
      "text/plain": [
       "<Figure size 1440x432 with 1 Axes>"
      ]
     },
     "metadata": {
      "needs_background": "light"
     },
     "output_type": "display_data"
    }
   ],
   "source": [
    "pd.crosstab(df.age,df.target).plot(kind=\"bar\",figsize=(20,6))\n",
    "plt.title('Heart Disease Frequency for Ages')\n",
    "plt.xlabel('Age')\n",
    "plt.ylabel('Frequency')\n",
    "plt.savefig('heartDiseaseAndAges.png')\n",
    "plt.show()"
   ]
  },
  {
   "cell_type": "code",
   "execution_count": 34,
   "metadata": {},
   "outputs": [
    {
     "data": {
      "image/png": "[encoded data removed]",
      "text/plain": [
       "<Figure size 720x432 with 1 Axes>"
      ]
     },
     "metadata": {
      "needs_background": "light"
     },
     "output_type": "display_data"
    }
   ],
   "source": [
    "pd.crosstab(df.sex,df.target).plot(kind=\"bar\",figsize=(10,6),color=['#1CA53B','#AA1111' ])\n",
    "plt.title('Heart Disease Frequency for Sex')\n",
    "plt.xlabel('Sex (0 = Female, 1 = Male)')\n",
    "plt.xticks(rotation=0)\n",
    "plt.legend([\"Haven't Disease\", \"Have Disease\"])\n",
    "plt.ylabel('Frequency')\n",
    "plt.show()"
   ]
  },
  {
   "cell_type": "code",
   "execution_count": 35,
   "metadata": {},
   "outputs": [
    {
     "data": {
      "image/png": "[encoded data removed]",
      "text/plain": [
       "<Figure size 432x288 with 1 Axes>"
      ]
     },
     "metadata": {
      "needs_background": "light"
     },
     "output_type": "display_data"
    }
   ],
   "source": [
    "\n",
    "plt.scatter(x=df.age[df.target==1], y=df.thalach[(df.target==1)], c=\"red\")\n",
    "plt.scatter(x=df.age[df.target==0], y=df.thalach[(df.target==0)])\n",
    "plt.legend([\"Disease\", \"Not Disease\"])\n",
    "plt.xlabel(\"Age\")\n",
    "plt.ylabel(\"Maximum Heart Rate\")\n",
    "plt.show()"
   ]
  },
  {
   "cell_type": "code",
   "execution_count": 36,
   "metadata": {},
   "outputs": [
    {
     "data": {
      "image/png": "[encoded data removed]",
      "text/plain": [
       "<Figure size 720x432 with 1 Axes>"
      ]
     },
     "metadata": {
      "needs_background": "light"
     },
     "output_type": "display_data"
    }
   ],
   "source": [
    "pd.crosstab(df.slope,df.target).plot(kind=\"bar\",figsize=(10,6),color=['#DAF7A6','#FF5733' ])\n",
    "plt.title('Heart Disease Frequency for Slope')\n",
    "plt.xlabel('The Slope of The Peak Exercise ST Segment ')\n",
    "plt.xticks(rotation = 0)\n",
    "plt.ylabel('Frequency')\n",
    "plt.show()"
   ]
  },
  {
   "cell_type": "code",
   "execution_count": 37,
   "metadata": {},
   "outputs": [
    {
     "data": {
      "image/png": "[encoded data removed]",
      "text/plain": [
       "<Figure size 720x432 with 1 Axes>"
      ]
     },
     "metadata": {
      "needs_background": "light"
     },
     "output_type": "display_data"
    }
   ],
   "source": [
    "pd.crosstab(df.fbs,df.target).plot(kind=\"bar\",figsize=(10,6),color=['#FFC300','#581845' ])\n",
    "plt.title('Heart Disease Frequency According To FBS')\n",
    "plt.xlabel('FBS - (Fasting Blood Sugar > 120 mg/dl) (1 = true; 0 = false)')\n",
    "plt.xticks(rotation = 0)\n",
    "plt.legend([\"Haven't Disease\", \"Have Disease\"])\n",
    "plt.ylabel('Frequency of Disease or Not')\n",
    "plt.show()"
   ]
  },
  {
   "cell_type": "code",
   "execution_count": 38,
   "metadata": {},
   "outputs": [
    {
     "data": {
      "image/png": "[encoded data removed]",
      "text/plain": [
       "<Figure size 720x432 with 1 Axes>"
      ]
     },
     "metadata": {
      "needs_background": "light"
     },
     "output_type": "display_data"
    }
   ],
   "source": [
    "pd.crosstab(df.cp,df.target).plot(kind=\"bar\",figsize=(10,6),color=['#11A5AA','#AA1190' ])\n",
    "plt.title('Heart Disease Frequency According To Chest Pain Type')\n",
    "plt.xlabel('Chest Pain Type')\n",
    "plt.xticks(rotation = 0)\n",
    "plt.ylabel('Frequency of Disease or Not')\n",
    "plt.show()"
   ]
  },
  {
   "cell_type": "code",
   "execution_count": 39,
   "metadata": {},
   "outputs": [],
   "source": [
    "target_0_agerang_0=len(df[(df.target==0)&(df.AgeRange==0)])\n",
    "target_1_agerang_0=len(df[(df.target==1)&(df.AgeRange==0)])"
   ]
  },
  {
   "cell_type": "code",
   "execution_count": 40,
   "metadata": {},
   "outputs": [
    {
     "data": {
      "image/png": "[encoded data removed]",
      "text/plain": [
       "<Figure size 360x360 with 1 Axes>"
      ]
     },
     "metadata": {},
     "output_type": "display_data"
    }
   ],
   "source": [
    "colors = ['blue','green']\n",
    "explode = [0,0.1]\n",
    "plt.figure(figsize = (5,5))\n",
    "plt.pie([target_0_agerang_0,target_1_agerang_0], explode=explode, labels=['Target 0 Age Range 0','Target 1 Age Range 0'], colors=colors, autopct='%1.1f%%')\n",
    "plt.title('Target vs Age Range Young Age ',color = 'blue',fontsize = 15)\n",
    "plt.show()"
   ]
  },
  {
   "cell_type": "code",
   "execution_count": 41,
   "metadata": {},
   "outputs": [],
   "source": [
    "target_0_agerang_1=len(df[(df.target==0)&(df.AgeRange==1)])\n",
    "target_1_agerang_1=len(df[(df.target==1)&(df.AgeRange==1)])"
   ]
  },
  {
   "cell_type": "code",
   "execution_count": 42,
   "metadata": {},
   "outputs": [
    {
     "data": {
      "image/png": "[encoded data removed]",
      "text/plain": [
       "<Figure size 360x360 with 1 Axes>"
      ]
     },
     "metadata": {},
     "output_type": "display_data"
    }
   ],
   "source": [
    "colors = ['blue','green']\n",
    "explode = [0.1,0]\n",
    "plt.figure(figsize = (5,5))\n",
    "plt.pie([target_0_agerang_1,target_1_agerang_1], explode=explode, labels=['Target 0 Age Range 1','Target 1 Age Range 1'], colors=colors, autopct='%1.1f%%')\n",
    "plt.title('Target vs Age Range Middle Age',color = 'blue',fontsize = 15)\n",
    "plt.show()"
   ]
  },
  {
   "cell_type": "code",
   "execution_count": 43,
   "metadata": {},
   "outputs": [],
   "source": [
    "target_0_agerang_2=len(df[(df.target==0)&(df.AgeRange==2)])\n",
    "target_1_agerang_2=len(df[(df.target==1)&(df.AgeRange==2)])"
   ]
  },
  {
   "cell_type": "code",
   "execution_count": 44,
   "metadata": {},
   "outputs": [
    {
     "data": {
      "image/png": "[encoded data removed]",
      "text/plain": [
       "<Figure size 360x360 with 1 Axes>"
      ]
     },
     "metadata": {},
     "output_type": "display_data"
    }
   ],
   "source": [
    "colors = ['blue','green']\n",
    "explode = [0,0.1]\n",
    "plt.figure(figsize = (5,5))\n",
    "plt.pie([target_0_agerang_2,target_1_agerang_2], explode=explode, labels=['Target 0 Age Range 2','Target 1 Age Range 2'], colors=colors, autopct='%1.1f%%')\n",
    "plt.title('Target vs Age Range Elderly Age ',color = 'blue',fontsize = 15)\n",
    "plt.show()"
   ]
  },
  {
   "cell_type": "code",
   "execution_count": 45,
   "metadata": {},
   "outputs": [
    {
     "data": {
      "text/html": [
       "<div>\n",
       "<style scoped>\n",
       "    .dataframe tbody tr th:only-of-type {\n",
       "        vertical-align: middle;\n",
       "    }\n",
       "\n",
       "    .dataframe tbody tr th {\n",
       "        vertical-align: top;\n",
       "    }\n",
       "\n",
       "    .dataframe thead th {\n",
       "        text-align: right;\n",
       "    }\n",
       "</style>\n",
       "<table border=\"1\" class=\"dataframe\">\n",
       "  <thead>\n",
       "    <tr style=\"text-align: right;\">\n",
       "      <th></th>\n",
       "      <th>age</th>\n",
       "      <th>sex</th>\n",
       "      <th>cp</th>\n",
       "      <th>restecg</th>\n",
       "      <th>target</th>\n",
       "      <th>AgeRange</th>\n",
       "    </tr>\n",
       "  </thead>\n",
       "  <tbody>\n",
       "    <tr>\n",
       "      <th>age</th>\n",
       "      <td>1.000000</td>\n",
       "      <td>0.033837</td>\n",
       "      <td>-0.039809</td>\n",
       "      <td>0.001487</td>\n",
       "      <td>0.286630</td>\n",
       "      <td>0.658126</td>\n",
       "    </tr>\n",
       "    <tr>\n",
       "      <th>sex</th>\n",
       "      <td>0.033837</td>\n",
       "      <td>1.000000</td>\n",
       "      <td>0.037525</td>\n",
       "      <td>0.060305</td>\n",
       "      <td>0.147190</td>\n",
       "      <td>0.036980</td>\n",
       "    </tr>\n",
       "    <tr>\n",
       "      <th>cp</th>\n",
       "      <td>-0.039809</td>\n",
       "      <td>0.037525</td>\n",
       "      <td>1.000000</td>\n",
       "      <td>0.033617</td>\n",
       "      <td>0.167202</td>\n",
       "      <td>-0.023065</td>\n",
       "    </tr>\n",
       "    <tr>\n",
       "      <th>restecg</th>\n",
       "      <td>0.001487</td>\n",
       "      <td>0.060305</td>\n",
       "      <td>0.033617</td>\n",
       "      <td>1.000000</td>\n",
       "      <td>-0.033597</td>\n",
       "      <td>-0.005123</td>\n",
       "    </tr>\n",
       "    <tr>\n",
       "      <th>target</th>\n",
       "      <td>0.286630</td>\n",
       "      <td>0.147190</td>\n",
       "      <td>0.167202</td>\n",
       "      <td>-0.033597</td>\n",
       "      <td>1.000000</td>\n",
       "      <td>0.180398</td>\n",
       "    </tr>\n",
       "    <tr>\n",
       "      <th>AgeRange</th>\n",
       "      <td>0.658126</td>\n",
       "      <td>0.036980</td>\n",
       "      <td>-0.023065</td>\n",
       "      <td>-0.005123</td>\n",
       "      <td>0.180398</td>\n",
       "      <td>1.000000</td>\n",
       "    </tr>\n",
       "  </tbody>\n",
       "</table>\n",
       "</div>"
      ],
      "text/plain": [
       "               age       sex        cp   restecg    target  AgeRange\n",
       "age       1.000000  0.033837 -0.039809  0.001487  0.286630  0.658126\n",
       "sex       0.033837  1.000000  0.037525  0.060305  0.147190  0.036980\n",
       "cp       -0.039809  0.037525  1.000000  0.033617  0.167202 -0.023065\n",
       "restecg   0.001487  0.060305  0.033617  1.000000 -0.033597 -0.005123\n",
       "target    0.286630  0.147190  0.167202 -0.033597  1.000000  0.180398\n",
       "AgeRange  0.658126  0.036980 -0.023065 -0.005123  0.180398  1.000000"
      ]
     },
     "execution_count": 45,
     "metadata": {},
     "output_type": "execute_result"
    }
   ],
   "source": [
    "df.corr()"
   ]
  },
  {
   "cell_type": "code",
   "execution_count": 46,
   "metadata": {},
   "outputs": [
    {
     "data": {
      "text/html": [
       "<div>\n",
       "<style scoped>\n",
       "    .dataframe tbody tr th:only-of-type {\n",
       "        vertical-align: middle;\n",
       "    }\n",
       "\n",
       "    .dataframe tbody tr th {\n",
       "        vertical-align: top;\n",
       "    }\n",
       "\n",
       "    .dataframe thead th {\n",
       "        text-align: right;\n",
       "    }\n",
       "</style>\n",
       "<table border=\"1\" class=\"dataframe\">\n",
       "  <thead>\n",
       "    <tr style=\"text-align: right;\">\n",
       "      <th></th>\n",
       "      <th>age</th>\n",
       "      <th>sex</th>\n",
       "      <th>cp</th>\n",
       "      <th>trestbps</th>\n",
       "      <th>chol</th>\n",
       "      <th>fbs</th>\n",
       "      <th>restecg</th>\n",
       "      <th>thalach</th>\n",
       "      <th>exang</th>\n",
       "      <th>oldpeak</th>\n",
       "      <th>slope</th>\n",
       "      <th>ca</th>\n",
       "      <th>thal</th>\n",
       "      <th>target</th>\n",
       "      <th>AgeRange</th>\n",
       "    </tr>\n",
       "  </thead>\n",
       "  <tbody>\n",
       "    <tr>\n",
       "      <th>0</th>\n",
       "      <td>44</td>\n",
       "      <td>1</td>\n",
       "      <td>4</td>\n",
       "      <td>130</td>\n",
       "      <td>209</td>\n",
       "      <td>0</td>\n",
       "      <td>1</td>\n",
       "      <td>127</td>\n",
       "      <td>0</td>\n",
       "      <td>0</td>\n",
       "      <td>?</td>\n",
       "      <td>?</td>\n",
       "      <td>?</td>\n",
       "      <td>0</td>\n",
       "      <td>1</td>\n",
       "    </tr>\n",
       "    <tr>\n",
       "      <th>1</th>\n",
       "      <td>60</td>\n",
       "      <td>1</td>\n",
       "      <td>4</td>\n",
       "      <td>132</td>\n",
       "      <td>218</td>\n",
       "      <td>0</td>\n",
       "      <td>1</td>\n",
       "      <td>140</td>\n",
       "      <td>1</td>\n",
       "      <td>1.5</td>\n",
       "      <td>3</td>\n",
       "      <td>?</td>\n",
       "      <td>?</td>\n",
       "      <td>2</td>\n",
       "      <td>2</td>\n",
       "    </tr>\n",
       "    <tr>\n",
       "      <th>2</th>\n",
       "      <td>55</td>\n",
       "      <td>1</td>\n",
       "      <td>4</td>\n",
       "      <td>142</td>\n",
       "      <td>228</td>\n",
       "      <td>0</td>\n",
       "      <td>1</td>\n",
       "      <td>149</td>\n",
       "      <td>1</td>\n",
       "      <td>2.5</td>\n",
       "      <td>1</td>\n",
       "      <td>?</td>\n",
       "      <td>?</td>\n",
       "      <td>1</td>\n",
       "      <td>0</td>\n",
       "    </tr>\n",
       "    <tr>\n",
       "      <th>3</th>\n",
       "      <td>66</td>\n",
       "      <td>1</td>\n",
       "      <td>3</td>\n",
       "      <td>110</td>\n",
       "      <td>213</td>\n",
       "      <td>1</td>\n",
       "      <td>2</td>\n",
       "      <td>99</td>\n",
       "      <td>1</td>\n",
       "      <td>1.3</td>\n",
       "      <td>2</td>\n",
       "      <td>?</td>\n",
       "      <td>?</td>\n",
       "      <td>0</td>\n",
       "      <td>2</td>\n",
       "    </tr>\n",
       "    <tr>\n",
       "      <th>4</th>\n",
       "      <td>66</td>\n",
       "      <td>1</td>\n",
       "      <td>3</td>\n",
       "      <td>120</td>\n",
       "      <td>0</td>\n",
       "      <td>0</td>\n",
       "      <td>1</td>\n",
       "      <td>120</td>\n",
       "      <td>0</td>\n",
       "      <td>-0.5</td>\n",
       "      <td>1</td>\n",
       "      <td>?</td>\n",
       "      <td>?</td>\n",
       "      <td>0</td>\n",
       "      <td>2</td>\n",
       "    </tr>\n",
       "  </tbody>\n",
       "</table>\n",
       "</div>"
      ],
      "text/plain": [
       "   age  sex  cp trestbps chol fbs  restecg thalach exang oldpeak slope ca  \\\n",
       "0   44    1   4      130  209   0        1     127     0       0     ?  ?   \n",
       "1   60    1   4      132  218   0        1     140     1     1.5     3  ?   \n",
       "2   55    1   4      142  228   0        1     149     1     2.5     1  ?   \n",
       "3   66    1   3      110  213   1        2      99     1     1.3     2  ?   \n",
       "4   66    1   3      120    0   0        1     120     0    -0.5     1  ?   \n",
       "\n",
       "  thal  target  AgeRange  \n",
       "0    ?       0         1  \n",
       "1    ?       2         2  \n",
       "2    ?       1         0  \n",
       "3    ?       0         2  \n",
       "4    ?       0         2  "
      ]
     },
     "execution_count": 46,
     "metadata": {},
     "output_type": "execute_result"
    }
   ],
   "source": [
    "df.head()"
   ]
  },
  {
   "cell_type": "code",
   "execution_count": 47,
   "metadata": {},
   "outputs": [
    {
     "name": "stdout",
     "output_type": "stream",
     "text": [
      "The unique value counts of age are: \n",
      "62    15\n",
      "63    14\n",
      "55    14\n",
      "60    12\n",
      "58    12\n",
      "61    12\n",
      "57    10\n",
      "64     9\n",
      "56     9\n",
      "69     8\n",
      "59     8\n",
      "54     7\n",
      "51     7\n",
      "65     6\n",
      "74     5\n",
      "67     5\n",
      "53     5\n",
      "68     4\n",
      "48     4\n",
      "72     3\n",
      "66     3\n",
      "75     3\n",
      "40     2\n",
      "46     2\n",
      "50     2\n",
      "49     2\n",
      "41     2\n",
      "52     2\n",
      "71     2\n",
      "42     1\n",
      "37     1\n",
      "38     1\n",
      "77     1\n",
      "43     1\n",
      "44     1\n",
      "45     1\n",
      "76     1\n",
      "70     1\n",
      "35     1\n",
      "Name: age, dtype: int64\n",
      "\n",
      "\n",
      "The unique value counts of sex are: \n",
      "1    193\n",
      "0      6\n",
      "Name: sex, dtype: int64\n",
      "\n",
      "\n",
      "The unique value counts of cp are: \n",
      "4    130\n",
      "3     47\n",
      "2     14\n",
      "1      8\n",
      "Name: cp, dtype: int64\n",
      "\n",
      "\n",
      "The unique value counts of trestbps are: \n",
      "?      56\n",
      "120    16\n",
      "130    15\n",
      "140     9\n",
      "110     9\n",
      "150     9\n",
      "160     8\n",
      "122     6\n",
      "142     5\n",
      "136     4\n",
      "134     4\n",
      "126     4\n",
      "144     4\n",
      "124     4\n",
      "170     4\n",
      "128     4\n",
      "158     3\n",
      "132     3\n",
      "112     2\n",
      "116     2\n",
      "125     2\n",
      "138     2\n",
      "180     2\n",
      "155     2\n",
      "154     2\n",
      "152     2\n",
      "104     2\n",
      "114     1\n",
      "127     1\n",
      "172     1\n",
      "146     1\n",
      "106     1\n",
      "102     1\n",
      "135     1\n",
      "118     1\n",
      "178     1\n",
      "100     1\n",
      "190     1\n",
      "0       1\n",
      "156     1\n",
      "96      1\n",
      "Name: trestbps, dtype: int64\n",
      "\n",
      "\n",
      "The unique value counts of chol are: \n",
      "0      49\n",
      "?       7\n",
      "203     4\n",
      "258     4\n",
      "220     4\n",
      "       ..\n",
      "197     1\n",
      "232     1\n",
      "211     1\n",
      "175     1\n",
      "182     1\n",
      "Name: chol, Length: 100, dtype: int64\n",
      "\n",
      "\n",
      "The unique value counts of fbs are: \n",
      "0    124\n",
      "1     68\n",
      "?      7\n",
      "Name: fbs, dtype: int64\n",
      "\n",
      "\n",
      "The unique value counts of restecg are: \n",
      "1    92\n",
      "0    80\n",
      "2    27\n",
      "Name: restecg, dtype: int64\n",
      "\n",
      "\n",
      "The unique value counts of thalach are: \n",
      "?      53\n",
      "140    12\n",
      "120    12\n",
      "110     8\n",
      "130     6\n",
      "112     5\n",
      "150     4\n",
      "160     4\n",
      "118     4\n",
      "128     4\n",
      "100     4\n",
      "105     4\n",
      "122     3\n",
      "148     3\n",
      "102     3\n",
      "106     3\n",
      "86      3\n",
      "108     3\n",
      "117     3\n",
      "84      3\n",
      "135     3\n",
      "125     3\n",
      "119     2\n",
      "111     2\n",
      "180     2\n",
      "129     2\n",
      "80      2\n",
      "154     2\n",
      "96      2\n",
      "127     2\n",
      "165     2\n",
      "138     2\n",
      "98      2\n",
      "149     1\n",
      "132     1\n",
      "159     1\n",
      "162     1\n",
      "99      1\n",
      "124     1\n",
      "113     1\n",
      "131     1\n",
      "151     1\n",
      "107     1\n",
      "144     1\n",
      "115     1\n",
      "73      1\n",
      "123     1\n",
      "93      1\n",
      "157     1\n",
      "141     1\n",
      "161     1\n",
      "88      1\n",
      "133     1\n",
      "155     1\n",
      "145     1\n",
      "126     1\n",
      "121     1\n",
      "97      1\n",
      "69      1\n",
      "94      1\n",
      "Name: thalach, dtype: int64\n",
      "\n",
      "\n",
      "The unique value counts of exang are: \n",
      "1    94\n",
      "?    53\n",
      "0    52\n",
      "Name: exang, dtype: int64\n",
      "\n",
      "\n",
      "The unique value counts of oldpeak are: \n",
      "?       56\n",
      "0       40\n",
      "2       25\n",
      "1.5     21\n",
      "1       18\n",
      "3       12\n",
      "2.5      9\n",
      "0.5      7\n",
      "4        4\n",
      "1.3      2\n",
      "-0.5     1\n",
      "1.6      1\n",
      "1.7      1\n",
      "3.5      1\n",
      "0.8      1\n",
      "Name: oldpeak, dtype: int64\n",
      "\n",
      "\n",
      "The unique value counts of slope are: \n",
      "?    102\n",
      "2     52\n",
      "3     29\n",
      "1     16\n",
      "Name: slope, dtype: int64\n",
      "\n",
      "\n",
      "The unique value counts of ca are: \n",
      "?    197\n",
      "0      2\n",
      "Name: ca, dtype: int64\n",
      "\n",
      "\n",
      "The unique value counts of thal are: \n",
      "?    165\n",
      "7     22\n",
      "6      8\n",
      "3      4\n",
      "Name: thal, dtype: int64\n",
      "\n",
      "\n",
      "The unique value counts of target are: \n",
      "1    56\n",
      "0    51\n",
      "3    42\n",
      "2    40\n",
      "4    10\n",
      "Name: target, dtype: int64\n",
      "\n",
      "\n",
      "The unique value counts of AgeRange are: \n",
      "2    143\n",
      "1     39\n",
      "0     17\n",
      "Name: AgeRange, dtype: int64\n",
      "\n",
      "\n"
     ]
    }
   ],
   "source": [
    "for i in df.columns:\n",
    "    print(\"The unique value counts of\", i, \"are: \")\n",
    "    print(df[i].value_counts())\n",
    "    print(\"\\n\")"
   ]
  },
  {
   "cell_type": "code",
   "execution_count": 48,
   "metadata": {},
   "outputs": [
    {
     "data": {
      "text/html": [
       "<div>\n",
       "<style scoped>\n",
       "    .dataframe tbody tr th:only-of-type {\n",
       "        vertical-align: middle;\n",
       "    }\n",
       "\n",
       "    .dataframe tbody tr th {\n",
       "        vertical-align: top;\n",
       "    }\n",
       "\n",
       "    .dataframe thead th {\n",
       "        text-align: right;\n",
       "    }\n",
       "</style>\n",
       "<table border=\"1\" class=\"dataframe\">\n",
       "  <thead>\n",
       "    <tr style=\"text-align: right;\">\n",
       "      <th></th>\n",
       "      <th>age</th>\n",
       "      <th>sex</th>\n",
       "      <th>cp</th>\n",
       "      <th>trestbps</th>\n",
       "      <th>chol</th>\n",
       "      <th>fbs</th>\n",
       "      <th>restecg</th>\n",
       "      <th>thalach</th>\n",
       "      <th>exang</th>\n",
       "      <th>oldpeak</th>\n",
       "      <th>slope</th>\n",
       "      <th>target</th>\n",
       "      <th>AgeRange</th>\n",
       "    </tr>\n",
       "  </thead>\n",
       "  <tbody>\n",
       "    <tr>\n",
       "      <th>0</th>\n",
       "      <td>44</td>\n",
       "      <td>1</td>\n",
       "      <td>4</td>\n",
       "      <td>130</td>\n",
       "      <td>209</td>\n",
       "      <td>0</td>\n",
       "      <td>1</td>\n",
       "      <td>127</td>\n",
       "      <td>0</td>\n",
       "      <td>0</td>\n",
       "      <td>?</td>\n",
       "      <td>0</td>\n",
       "      <td>1</td>\n",
       "    </tr>\n",
       "    <tr>\n",
       "      <th>1</th>\n",
       "      <td>60</td>\n",
       "      <td>1</td>\n",
       "      <td>4</td>\n",
       "      <td>132</td>\n",
       "      <td>218</td>\n",
       "      <td>0</td>\n",
       "      <td>1</td>\n",
       "      <td>140</td>\n",
       "      <td>1</td>\n",
       "      <td>1.5</td>\n",
       "      <td>3</td>\n",
       "      <td>2</td>\n",
       "      <td>2</td>\n",
       "    </tr>\n",
       "    <tr>\n",
       "      <th>2</th>\n",
       "      <td>55</td>\n",
       "      <td>1</td>\n",
       "      <td>4</td>\n",
       "      <td>142</td>\n",
       "      <td>228</td>\n",
       "      <td>0</td>\n",
       "      <td>1</td>\n",
       "      <td>149</td>\n",
       "      <td>1</td>\n",
       "      <td>2.5</td>\n",
       "      <td>1</td>\n",
       "      <td>1</td>\n",
       "      <td>0</td>\n",
       "    </tr>\n",
       "    <tr>\n",
       "      <th>3</th>\n",
       "      <td>66</td>\n",
       "      <td>1</td>\n",
       "      <td>3</td>\n",
       "      <td>110</td>\n",
       "      <td>213</td>\n",
       "      <td>1</td>\n",
       "      <td>2</td>\n",
       "      <td>99</td>\n",
       "      <td>1</td>\n",
       "      <td>1.3</td>\n",
       "      <td>2</td>\n",
       "      <td>0</td>\n",
       "      <td>2</td>\n",
       "    </tr>\n",
       "    <tr>\n",
       "      <th>4</th>\n",
       "      <td>66</td>\n",
       "      <td>1</td>\n",
       "      <td>3</td>\n",
       "      <td>120</td>\n",
       "      <td>0</td>\n",
       "      <td>0</td>\n",
       "      <td>1</td>\n",
       "      <td>120</td>\n",
       "      <td>0</td>\n",
       "      <td>-0.5</td>\n",
       "      <td>1</td>\n",
       "      <td>0</td>\n",
       "      <td>2</td>\n",
       "    </tr>\n",
       "  </tbody>\n",
       "</table>\n",
       "</div>"
      ],
      "text/plain": [
       "   age  sex  cp trestbps chol fbs  restecg thalach exang oldpeak slope  \\\n",
       "0   44    1   4      130  209   0        1     127     0       0     ?   \n",
       "1   60    1   4      132  218   0        1     140     1     1.5     3   \n",
       "2   55    1   4      142  228   0        1     149     1     2.5     1   \n",
       "3   66    1   3      110  213   1        2      99     1     1.3     2   \n",
       "4   66    1   3      120    0   0        1     120     0    -0.5     1   \n",
       "\n",
       "   target  AgeRange  \n",
       "0       0         1  \n",
       "1       2         2  \n",
       "2       1         0  \n",
       "3       0         2  \n",
       "4       0         2  "
      ]
     },
     "execution_count": 48,
     "metadata": {},
     "output_type": "execute_result"
    }
   ],
   "source": [
    "df.drop(['ca','thal'],axis=1,inplace=True)\n",
    "df.head()"
   ]
  },
  {
   "cell_type": "code",
   "execution_count": 49,
   "metadata": {},
   "outputs": [],
   "source": [
    "df['slope']=df['slope'].replace('?','2') \n",
    "df['oldpeak']=df['oldpeak'].replace('?','0')\n",
    "df['exang']=df['exang'].replace('?',df['exang'].mode()[0])\n",
    "df['thalach']=df['thalach'].replace('?','120')\n",
    "df['fbs']=df['fbs'].replace('?',df['fbs'].mode()[0])\n",
    "df['chol']=df['chol'].replace('?',df['chol'].mode()[0])\n",
    "df['trestbps']=df['trestbps'].replace('?','120')"
   ]
  },
  {
   "cell_type": "code",
   "execution_count": 50,
   "metadata": {},
   "outputs": [
    {
     "data": {
      "text/plain": [
       "Index(['age', 'sex', 'cp', 'trestbps', 'chol', 'fbs', 'restecg', 'thalach',\n",
       "       'exang', 'oldpeak', 'slope', 'target', 'AgeRange'],\n",
       "      dtype='object')"
      ]
     },
     "execution_count": 50,
     "metadata": {},
     "output_type": "execute_result"
    }
   ],
   "source": [
    "df.columns"
   ]
  },
  {
   "cell_type": "code",
   "execution_count": 51,
   "metadata": {},
   "outputs": [],
   "source": [
    "\n",
    "df['chol']=df['chol'].astype(int)\n",
    "df['oldpeak']=df['oldpeak'].astype(float)\n",
    "df['exang']=df['exang'].astype(int)\n",
    "df['thalach']=df['thalach'].astype(int)\n",
    "df['fbs']=df['fbs'].astype(int)\n",
    "df['chol']=df['chol'].astype(int)\n",
    "df['trestbps']=df['trestbps'].astype(int)\n",
    "df['slope']=df['slope'].astype(int)"
   ]
  },
  {
   "cell_type": "code",
   "execution_count": 52,
   "metadata": {},
   "outputs": [],
   "source": [
    "#removing the skew using log method\n",
    "for i in df.columns:\n",
    "    if df.skew()[i]>0.55:\n",
    "        df[i]=np.log1p(df[i])"
   ]
  },
  {
   "cell_type": "code",
   "execution_count": 53,
   "metadata": {},
   "outputs": [],
   "source": [
    "#removing the skew using sqrt method\n",
    "for i in df.columns:\n",
    "    if df.skew()[i]>0.55:\n",
    "        df[i]=np.sqrt(df[i])"
   ]
  },
  {
   "cell_type": "code",
   "execution_count": 54,
   "metadata": {},
   "outputs": [
    {
     "name": "stdout",
     "output_type": "stream",
     "text": [
      "(199, 12)\n",
      "(199, 1)\n"
     ]
    },
    {
     "data": {
      "text/html": [
       "<div>\n",
       "<style scoped>\n",
       "    .dataframe tbody tr th:only-of-type {\n",
       "        vertical-align: middle;\n",
       "    }\n",
       "\n",
       "    .dataframe tbody tr th {\n",
       "        vertical-align: top;\n",
       "    }\n",
       "\n",
       "    .dataframe thead th {\n",
       "        text-align: right;\n",
       "    }\n",
       "</style>\n",
       "<table border=\"1\" class=\"dataframe\">\n",
       "  <thead>\n",
       "    <tr style=\"text-align: right;\">\n",
       "      <th></th>\n",
       "      <th>age</th>\n",
       "      <th>sex</th>\n",
       "      <th>cp</th>\n",
       "      <th>trestbps</th>\n",
       "      <th>chol</th>\n",
       "      <th>fbs</th>\n",
       "      <th>restecg</th>\n",
       "      <th>thalach</th>\n",
       "      <th>exang</th>\n",
       "      <th>oldpeak</th>\n",
       "      <th>slope</th>\n",
       "      <th>target</th>\n",
       "    </tr>\n",
       "  </thead>\n",
       "  <tbody>\n",
       "    <tr>\n",
       "      <th>0</th>\n",
       "      <td>44</td>\n",
       "      <td>1</td>\n",
       "      <td>4</td>\n",
       "      <td>130</td>\n",
       "      <td>209</td>\n",
       "      <td>0.000000</td>\n",
       "      <td>1</td>\n",
       "      <td>127</td>\n",
       "      <td>0</td>\n",
       "      <td>0.000000</td>\n",
       "      <td>2</td>\n",
       "      <td>0</td>\n",
       "    </tr>\n",
       "    <tr>\n",
       "      <th>1</th>\n",
       "      <td>60</td>\n",
       "      <td>1</td>\n",
       "      <td>4</td>\n",
       "      <td>132</td>\n",
       "      <td>218</td>\n",
       "      <td>0.000000</td>\n",
       "      <td>1</td>\n",
       "      <td>140</td>\n",
       "      <td>1</td>\n",
       "      <td>0.916291</td>\n",
       "      <td>3</td>\n",
       "      <td>2</td>\n",
       "    </tr>\n",
       "    <tr>\n",
       "      <th>2</th>\n",
       "      <td>55</td>\n",
       "      <td>1</td>\n",
       "      <td>4</td>\n",
       "      <td>142</td>\n",
       "      <td>228</td>\n",
       "      <td>0.000000</td>\n",
       "      <td>1</td>\n",
       "      <td>149</td>\n",
       "      <td>1</td>\n",
       "      <td>1.252763</td>\n",
       "      <td>1</td>\n",
       "      <td>1</td>\n",
       "    </tr>\n",
       "    <tr>\n",
       "      <th>3</th>\n",
       "      <td>66</td>\n",
       "      <td>1</td>\n",
       "      <td>3</td>\n",
       "      <td>110</td>\n",
       "      <td>213</td>\n",
       "      <td>0.832555</td>\n",
       "      <td>2</td>\n",
       "      <td>99</td>\n",
       "      <td>1</td>\n",
       "      <td>0.832909</td>\n",
       "      <td>2</td>\n",
       "      <td>0</td>\n",
       "    </tr>\n",
       "    <tr>\n",
       "      <th>4</th>\n",
       "      <td>66</td>\n",
       "      <td>1</td>\n",
       "      <td>3</td>\n",
       "      <td>120</td>\n",
       "      <td>0</td>\n",
       "      <td>0.000000</td>\n",
       "      <td>1</td>\n",
       "      <td>120</td>\n",
       "      <td>0</td>\n",
       "      <td>-0.693147</td>\n",
       "      <td>1</td>\n",
       "      <td>0</td>\n",
       "    </tr>\n",
       "  </tbody>\n",
       "</table>\n",
       "</div>"
      ],
      "text/plain": [
       "   age  sex  cp  trestbps  chol       fbs  restecg  thalach  exang   oldpeak  \\\n",
       "0   44    1   4       130   209  0.000000        1      127      0  0.000000   \n",
       "1   60    1   4       132   218  0.000000        1      140      1  0.916291   \n",
       "2   55    1   4       142   228  0.000000        1      149      1  1.252763   \n",
       "3   66    1   3       110   213  0.832555        2       99      1  0.832909   \n",
       "4   66    1   3       120     0  0.000000        1      120      0 -0.693147   \n",
       "\n",
       "   slope  target  \n",
       "0      2       0  \n",
       "1      3       2  \n",
       "2      1       1  \n",
       "3      2       0  \n",
       "4      1       0  "
      ]
     },
     "execution_count": 54,
     "metadata": {},
     "output_type": "execute_result"
    }
   ],
   "source": [
    "#separating the input and target variables before using the scaler\n",
    "x=df.iloc[:,0:-1]\n",
    "y=pd.DataFrame(df.iloc[:,-1])\n",
    "print(x.shape)\n",
    "print(y.shape)\n",
    "x.head()"
   ]
  },
  {
   "cell_type": "code",
   "execution_count": 55,
   "metadata": {},
   "outputs": [
    {
     "data": {
      "text/html": [
       "<div>\n",
       "<style scoped>\n",
       "    .dataframe tbody tr th:only-of-type {\n",
       "        vertical-align: middle;\n",
       "    }\n",
       "\n",
       "    .dataframe tbody tr th {\n",
       "        vertical-align: top;\n",
       "    }\n",
       "\n",
       "    .dataframe thead th {\n",
       "        text-align: right;\n",
       "    }\n",
       "</style>\n",
       "<table border=\"1\" class=\"dataframe\">\n",
       "  <thead>\n",
       "    <tr style=\"text-align: right;\">\n",
       "      <th></th>\n",
       "      <th>0</th>\n",
       "      <th>1</th>\n",
       "      <th>2</th>\n",
       "      <th>3</th>\n",
       "      <th>4</th>\n",
       "      <th>5</th>\n",
       "      <th>6</th>\n",
       "      <th>7</th>\n",
       "      <th>8</th>\n",
       "      <th>9</th>\n",
       "      <th>10</th>\n",
       "      <th>11</th>\n",
       "    </tr>\n",
       "  </thead>\n",
       "  <tbody>\n",
       "    <tr>\n",
       "      <th>0</th>\n",
       "      <td>0.214286</td>\n",
       "      <td>1.0</td>\n",
       "      <td>1.000000</td>\n",
       "      <td>0.684211</td>\n",
       "      <td>0.456332</td>\n",
       "      <td>0.0</td>\n",
       "      <td>0.5</td>\n",
       "      <td>0.522523</td>\n",
       "      <td>0.0</td>\n",
       "      <td>0.301030</td>\n",
       "      <td>0.5</td>\n",
       "      <td>0.00</td>\n",
       "    </tr>\n",
       "    <tr>\n",
       "      <th>1</th>\n",
       "      <td>0.595238</td>\n",
       "      <td>1.0</td>\n",
       "      <td>1.000000</td>\n",
       "      <td>0.694737</td>\n",
       "      <td>0.475983</td>\n",
       "      <td>0.0</td>\n",
       "      <td>0.5</td>\n",
       "      <td>0.639640</td>\n",
       "      <td>1.0</td>\n",
       "      <td>0.698970</td>\n",
       "      <td>1.0</td>\n",
       "      <td>0.50</td>\n",
       "    </tr>\n",
       "    <tr>\n",
       "      <th>2</th>\n",
       "      <td>0.476190</td>\n",
       "      <td>1.0</td>\n",
       "      <td>1.000000</td>\n",
       "      <td>0.747368</td>\n",
       "      <td>0.497817</td>\n",
       "      <td>0.0</td>\n",
       "      <td>0.5</td>\n",
       "      <td>0.720721</td>\n",
       "      <td>1.0</td>\n",
       "      <td>0.845098</td>\n",
       "      <td>0.0</td>\n",
       "      <td>0.25</td>\n",
       "    </tr>\n",
       "    <tr>\n",
       "      <th>3</th>\n",
       "      <td>0.738095</td>\n",
       "      <td>1.0</td>\n",
       "      <td>0.666667</td>\n",
       "      <td>0.578947</td>\n",
       "      <td>0.465066</td>\n",
       "      <td>1.0</td>\n",
       "      <td>1.0</td>\n",
       "      <td>0.270270</td>\n",
       "      <td>1.0</td>\n",
       "      <td>0.662758</td>\n",
       "      <td>0.5</td>\n",
       "      <td>0.00</td>\n",
       "    </tr>\n",
       "    <tr>\n",
       "      <th>4</th>\n",
       "      <td>0.738095</td>\n",
       "      <td>1.0</td>\n",
       "      <td>0.666667</td>\n",
       "      <td>0.631579</td>\n",
       "      <td>0.000000</td>\n",
       "      <td>0.0</td>\n",
       "      <td>0.5</td>\n",
       "      <td>0.459459</td>\n",
       "      <td>0.0</td>\n",
       "      <td>0.000000</td>\n",
       "      <td>0.0</td>\n",
       "      <td>0.00</td>\n",
       "    </tr>\n",
       "  </tbody>\n",
       "</table>\n",
       "</div>"
      ],
      "text/plain": [
       "          0    1         2         3         4    5    6         7    8  \\\n",
       "0  0.214286  1.0  1.000000  0.684211  0.456332  0.0  0.5  0.522523  0.0   \n",
       "1  0.595238  1.0  1.000000  0.694737  0.475983  0.0  0.5  0.639640  1.0   \n",
       "2  0.476190  1.0  1.000000  0.747368  0.497817  0.0  0.5  0.720721  1.0   \n",
       "3  0.738095  1.0  0.666667  0.578947  0.465066  1.0  1.0  0.270270  1.0   \n",
       "4  0.738095  1.0  0.666667  0.631579  0.000000  0.0  0.5  0.459459  0.0   \n",
       "\n",
       "          9   10    11  \n",
       "0  0.301030  0.5  0.00  \n",
       "1  0.698970  1.0  0.50  \n",
       "2  0.845098  0.0  0.25  \n",
       "3  0.662758  0.5  0.00  \n",
       "4  0.000000  0.0  0.00  "
      ]
     },
     "execution_count": 55,
     "metadata": {},
     "output_type": "execute_result"
    }
   ],
   "source": [
    "from sklearn.preprocessing import MinMaxScaler\n",
    "scaler=MinMaxScaler()\n",
    "x=pd.DataFrame(scaler.fit_transform(x))\n",
    "x.head()"
   ]
  },
  {
   "cell_type": "code",
   "execution_count": 56,
   "metadata": {},
   "outputs": [],
   "source": [
    "#import necessary libraries\n",
    "from sklearn.model_selection import train_test_split\n",
    "from sklearn.model_selection import cross_val_score\n",
    "from sklearn.metrics import accuracy_score, classification_report, confusion_matrix\n",
    "\n",
    "def max_accuracy(reg,x,y):\n",
    "    max_acc_score=0\n",
    "    for r_state in range(42,101):\n",
    "        train_x,test_x,train_y,test_y=train_test_split(x,y,random_state=r_state,test_size=0.20)\n",
    "        reg.fit(train_x,train_y)\n",
    "        pred=reg.predict(test_x)\n",
    "        acc_score=accuracy_score(test_y,pred)\n",
    "        print(\"The accuracy score achieved at r state\", r_state, \"is\", acc_score)\n",
    "        if acc_score>max_acc_score:\n",
    "            max_acc_score=acc_score\n",
    "            final_r_state=r_state\n",
    "    print(\"The maximum accuracy\", max_acc_score, \"is achieved at random state\", final_r_state)\n",
    "    return max_acc_score"
   ]
  },
  {
   "cell_type": "code",
   "execution_count": 57,
   "metadata": {},
   "outputs": [
    {
     "name": "stdout",
     "output_type": "stream",
     "text": [
      "The accuracy score achieved at r state 42 is 0.675\n",
      "The accuracy score achieved at r state 43 is 0.725\n",
      "The accuracy score achieved at r state 44 is 0.775\n",
      "The accuracy score achieved at r state 45 is 0.65\n",
      "The accuracy score achieved at r state 46 is 0.75\n",
      "The accuracy score achieved at r state 47 is 0.775\n",
      "The accuracy score achieved at r state 48 is 0.75\n",
      "The accuracy score achieved at r state 49 is 0.55\n",
      "The accuracy score achieved at r state 50 is 0.75\n",
      "The accuracy score achieved at r state 51 is 0.825\n",
      "The accuracy score achieved at r state 52 is 0.725\n",
      "The accuracy score achieved at r state 53 is 0.625\n",
      "The accuracy score achieved at r state 54 is 0.7\n",
      "The accuracy score achieved at r state 55 is 0.675\n",
      "The accuracy score achieved at r state 56 is 0.8\n",
      "The accuracy score achieved at r state 57 is 0.75\n",
      "The accuracy score achieved at r state 58 is 0.75\n",
      "The accuracy score achieved at r state 59 is 0.775\n",
      "The accuracy score achieved at r state 60 is 0.65\n",
      "The accuracy score achieved at r state 61 is 0.675\n",
      "The accuracy score achieved at r state 62 is 0.625\n",
      "The accuracy score achieved at r state 63 is 0.525\n",
      "The accuracy score achieved at r state 64 is 0.7\n",
      "The accuracy score achieved at r state 65 is 0.775\n",
      "The accuracy score achieved at r state 66 is 0.725\n",
      "The accuracy score achieved at r state 67 is 0.75\n",
      "The accuracy score achieved at r state 68 is 0.575\n",
      "The accuracy score achieved at r state 69 is 0.8\n",
      "The accuracy score achieved at r state 70 is 0.7\n",
      "The accuracy score achieved at r state 71 is 0.725\n",
      "The accuracy score achieved at r state 72 is 0.65\n",
      "The accuracy score achieved at r state 73 is 0.75\n",
      "The accuracy score achieved at r state 74 is 0.775\n",
      "The accuracy score achieved at r state 75 is 0.65\n",
      "The accuracy score achieved at r state 76 is 0.775\n",
      "The accuracy score achieved at r state 77 is 0.7\n",
      "The accuracy score achieved at r state 78 is 0.7\n",
      "The accuracy score achieved at r state 79 is 0.6\n",
      "The accuracy score achieved at r state 80 is 0.625\n",
      "The accuracy score achieved at r state 81 is 0.775\n",
      "The accuracy score achieved at r state 82 is 0.675\n",
      "The accuracy score achieved at r state 83 is 0.675\n",
      "The accuracy score achieved at r state 84 is 0.625\n",
      "The accuracy score achieved at r state 85 is 0.55\n",
      "The accuracy score achieved at r state 86 is 0.75\n",
      "The accuracy score achieved at r state 87 is 0.7\n",
      "The accuracy score achieved at r state 88 is 0.7\n",
      "The accuracy score achieved at r state 89 is 0.725\n",
      "The accuracy score achieved at r state 90 is 0.775\n",
      "The accuracy score achieved at r state 91 is 0.775\n",
      "The accuracy score achieved at r state 92 is 0.85\n",
      "The accuracy score achieved at r state 93 is 0.775\n",
      "The accuracy score achieved at r state 94 is 0.675\n",
      "The accuracy score achieved at r state 95 is 0.625\n",
      "The accuracy score achieved at r state 96 is 0.8\n",
      "The accuracy score achieved at r state 97 is 0.75\n",
      "The accuracy score achieved at r state 98 is 0.75\n",
      "The accuracy score achieved at r state 99 is 0.75\n",
      "The accuracy score achieved at r state 100 is 0.75\n",
      "The maximum accuracy 0.85 is achieved at random state 92\n"
     ]
    },
    {
     "data": {
      "text/plain": [
       "0.85"
      ]
     },
     "execution_count": 57,
     "metadata": {},
     "output_type": "execute_result"
    }
   ],
   "source": [
    "from sklearn.naive_bayes import MultinomialNB\n",
    "mb=MultinomialNB()\n",
    "max_accuracy(mb,x,y)"
   ]
  },
  {
   "cell_type": "code",
   "execution_count": 58,
   "metadata": {},
   "outputs": [],
   "source": [
    "#splitting the test and training data\n",
    "train_x,test_x,train_y,test_y=train_test_split(x,y,random_state=47,test_size=0.20)"
   ]
  },
  {
   "cell_type": "code",
   "execution_count": 59,
   "metadata": {},
   "outputs": [
    {
     "data": {
      "text/plain": [
       "{'alpha': 0}"
      ]
     },
     "execution_count": 59,
     "metadata": {},
     "output_type": "execute_result"
    }
   ],
   "source": [
    "#Checking the best parameters using GridSearchCV\n",
    "from sklearn.model_selection import GridSearchCV\n",
    "from sklearn.naive_bayes import MultinomialNB\n",
    "import warnings\n",
    "warnings.filterwarnings('ignore')\n",
    "mb=MultinomialNB()\n",
    "parameters={'alpha':(0,0.001,0.01,0.1,1)}\n",
    "gdmb=GridSearchCV(mb,parameters)\n",
    "gdmb.fit(train_x,train_y)\n",
    "gdmb.best_params_"
   ]
  },
  {
   "cell_type": "code",
   "execution_count": 60,
   "metadata": {},
   "outputs": [
    {
     "data": {
      "text/plain": [
       "{'criterion': 'gini', 'splitter': 'best'}"
      ]
     },
     "execution_count": 60,
     "metadata": {},
     "output_type": "execute_result"
    }
   ],
   "source": [
    "from sklearn.tree import DecisionTreeClassifier\n",
    "dt=DecisionTreeClassifier()\n",
    "parameters={'criterion':('gini','entropy'), 'splitter':('best','random')}\n",
    "gddt=GridSearchCV(dt,parameters)\n",
    "gddt.fit(train_x,train_y)\n",
    "gddt.best_params_\n",
    "\n"
   ]
  },
  {
   "cell_type": "code",
   "execution_count": 61,
   "metadata": {},
   "outputs": [
    {
     "data": {
      "text/plain": [
       "{'C': 10, 'kernel': 'linear'}"
      ]
     },
     "execution_count": 61,
     "metadata": {},
     "output_type": "execute_result"
    }
   ],
   "source": [
    "from sklearn.svm import SVC\n",
    "sv=SVC()\n",
    "parameters={'C':(1,10),'kernel':('linear','poly','rbf')}\n",
    "gdsv=GridSearchCV(sv,parameters)\n",
    "gdsv.fit(train_x,train_y)\n",
    "gdsv.best_params_"
   ]
  },
  {
   "cell_type": "code",
   "execution_count": 62,
   "metadata": {},
   "outputs": [
    {
     "data": {
      "text/plain": [
       "{'algorithm': 'auto', 'n_neighbors': 10, 'weights': 'distance'}"
      ]
     },
     "execution_count": 62,
     "metadata": {},
     "output_type": "execute_result"
    }
   ],
   "source": [
    "from sklearn.neighbors import KNeighborsClassifier\n",
    "kn=KNeighborsClassifier()\n",
    "parameters={'n_neighbors':(5,10,15,20),'weights':('uniform','distance'),'algorithm':('auto','ball_tree','kd_tree','brute')}\n",
    "gdkn=GridSearchCV(kn,parameters)\n",
    "gdkn.fit(train_x,train_y)\n",
    "gdkn.best_params_"
   ]
  },
  {
   "cell_type": "code",
   "execution_count": 63,
   "metadata": {},
   "outputs": [
    {
     "name": "stdout",
     "output_type": "stream",
     "text": [
      "KNeighborsClassifier(algorithm='auto', leaf_size=30, metric='minkowski',\n",
      "                     metric_params=None, n_jobs=None, n_neighbors=5, p=2,\n",
      "                     weights='uniform')\n",
      "\n",
      "The accuracy score is  0.775\n",
      "\n",
      "The cross val score is 0.7339743589743589\n",
      "\n",
      "              precision    recall  f1-score   support\n",
      "\n",
      "           0       0.00      0.00      0.00         5\n",
      "           1       0.33      0.25      0.29         4\n",
      "           2       0.81      0.97      0.88        31\n",
      "\n",
      "    accuracy                           0.78        40\n",
      "   macro avg       0.38      0.41      0.39        40\n",
      "weighted avg       0.66      0.78      0.71        40\n",
      "\n",
      "\n",
      "[[ 0  1  4]\n",
      " [ 0  1  3]\n",
      " [ 0  1 30]]\n",
      "\n",
      "The roc auc score is 0.4285714285714286\n",
      "\n",
      "\n",
      "\n",
      "\n",
      "DecisionTreeClassifier(ccp_alpha=0.0, class_weight=None, criterion='entropy',\n",
      "                       max_depth=None, max_features=None, max_leaf_nodes=None,\n",
      "                       min_impurity_decrease=0.0, min_impurity_split=None,\n",
      "                       min_samples_leaf=1, min_samples_split=2,\n",
      "                       min_weight_fraction_leaf=0.0, presort='deprecated',\n",
      "                       random_state=None, splitter='random')\n",
      "\n",
      "The accuracy score is  0.975\n",
      "\n",
      "The cross val score is 0.97\n",
      "\n",
      "              precision    recall  f1-score   support\n",
      "\n",
      "           0       1.00      0.80      0.89         5\n",
      "           1       0.80      1.00      0.89         4\n",
      "           2       1.00      1.00      1.00        31\n",
      "\n",
      "    accuracy                           0.97        40\n",
      "   macro avg       0.93      0.93      0.93        40\n",
      "weighted avg       0.98      0.97      0.97        40\n",
      "\n",
      "\n",
      "[[ 4  1  0]\n",
      " [ 0  4  0]\n",
      " [ 0  0 31]]\n",
      "\n",
      "The roc auc score is 0.962037037037037\n",
      "\n",
      "\n",
      "\n",
      "\n",
      "SVC(C=10, break_ties=False, cache_size=200, class_weight=None, coef0=0.0,\n",
      "    decision_function_shape='ovr', degree=3, gamma='scale', kernel='poly',\n",
      "    max_iter=-1, probability=False, random_state=None, shrinking=True,\n",
      "    tol=0.001, verbose=False)\n",
      "\n",
      "The accuracy score is  0.825\n",
      "\n",
      "The cross val score is 0.7993589743589744\n",
      "\n",
      "              precision    recall  f1-score   support\n",
      "\n",
      "           0       0.43      0.60      0.50         5\n",
      "           1       0.40      0.50      0.44         4\n",
      "           2       1.00      0.90      0.95        31\n",
      "\n",
      "    accuracy                           0.82        40\n",
      "   macro avg       0.61      0.67      0.63        40\n",
      "weighted avg       0.87      0.82      0.84        40\n",
      "\n",
      "\n",
      "[[ 3  2  0]\n",
      " [ 2  2  0]\n",
      " [ 2  1 28]]\n",
      "\n",
      "The roc auc score is 0.8009344598054277\n",
      "\n",
      "\n",
      "\n",
      "\n",
      "MultinomialNB(alpha=0, class_prior=None, fit_prior=True)\n",
      "\n",
      "The accuracy score is  0.775\n",
      "\n",
      "The cross val score is 0.7187179487179487\n",
      "\n",
      "              precision    recall  f1-score   support\n",
      "\n",
      "           0       0.00      0.00      0.00         5\n",
      "           1       0.00      0.00      0.00         4\n",
      "           2       0.78      1.00      0.87        31\n",
      "\n",
      "    accuracy                           0.78        40\n",
      "   macro avg       0.26      0.33      0.29        40\n",
      "weighted avg       0.60      0.78      0.68        40\n",
      "\n",
      "\n",
      "[[ 0  0  5]\n",
      " [ 0  0  4]\n",
      " [ 0  0 31]]\n",
      "\n",
      "The roc auc score is 0.5\n",
      "\n",
      "\n",
      "\n",
      "\n"
     ]
    }
   ],
   "source": [
    "score=[]\n",
    "cv=[]\n",
    "roc=[]\n",
    "\n",
    "from sklearn.metrics import auc, roc_auc_score, roc_curve\n",
    "from sklearn.preprocessing import LabelBinarizer\n",
    "\n",
    "algorithms=[KNeighborsClassifier(algorithm='auto', n_neighbors= 5, weights='uniform'), DecisionTreeClassifier(criterion= 'entropy', splitter= 'random'), SVC(C=10, kernel='poly'),MultinomialNB(alpha=0)]\n",
    "\n",
    "for i in algorithms:\n",
    "    print(i)\n",
    "    i.fit(train_x,train_y)\n",
    "    pred=i.predict(test_x)\n",
    "    accscore=accuracy_score(test_y,pred)\n",
    "    score.append(accscore)\n",
    "    print(\"\")\n",
    "    print(\"The accuracy score is \", accscore)\n",
    "    print(\"\")\n",
    "    cvscore=cross_val_score(i,x,y,cv=5,scoring='accuracy').mean()\n",
    "    cv.append(cvscore)\n",
    "    print(\"The cross val score is\", cvscore)\n",
    "    print()\n",
    "    print(classification_report(test_y,pred))\n",
    "    print()\n",
    "    cm=confusion_matrix(test_y,pred)\n",
    "    print(cm)\n",
    "    print()\n",
    "    lb=LabelBinarizer()\n",
    "    y_test=lb.fit_transform(test_y)\n",
    "    predy=lb.fit_transform(pred)\n",
    "    rocscore=roc_auc_score(y_test,predy)\n",
    "    roc.append(rocscore)\n",
    "    print(\"The roc auc score is\", rocscore)\n",
    "    print(\"\\n\")\n",
    "    print(\"\\n\")\n",
    "    "
   ]
  },
  {
   "cell_type": "code",
   "execution_count": 64,
   "metadata": {},
   "outputs": [
    {
     "data": {
      "text/html": [
       "<div>\n",
       "<style scoped>\n",
       "    .dataframe tbody tr th:only-of-type {\n",
       "        vertical-align: middle;\n",
       "    }\n",
       "\n",
       "    .dataframe tbody tr th {\n",
       "        vertical-align: top;\n",
       "    }\n",
       "\n",
       "    .dataframe thead th {\n",
       "        text-align: right;\n",
       "    }\n",
       "</style>\n",
       "<table border=\"1\" class=\"dataframe\">\n",
       "  <thead>\n",
       "    <tr style=\"text-align: right;\">\n",
       "      <th></th>\n",
       "      <th>Model</th>\n",
       "      <th>Accuracy_Score</th>\n",
       "      <th>Cross_val_score</th>\n",
       "      <th>roc-auc score</th>\n",
       "    </tr>\n",
       "  </thead>\n",
       "  <tbody>\n",
       "    <tr>\n",
       "      <th>0</th>\n",
       "      <td>&lt;class 'sklearn.neighbors._classification.KNei...</td>\n",
       "      <td>0.775</td>\n",
       "      <td>0.733974</td>\n",
       "      <td>0.428571</td>\n",
       "    </tr>\n",
       "    <tr>\n",
       "      <th>1</th>\n",
       "      <td>&lt;class 'sklearn.tree._classes.DecisionTreeClas...</td>\n",
       "      <td>0.975</td>\n",
       "      <td>0.970000</td>\n",
       "      <td>0.962037</td>\n",
       "    </tr>\n",
       "    <tr>\n",
       "      <th>2</th>\n",
       "      <td>&lt;class 'sklearn.svm._classes.SVC'&gt;</td>\n",
       "      <td>0.825</td>\n",
       "      <td>0.799359</td>\n",
       "      <td>0.800934</td>\n",
       "    </tr>\n",
       "    <tr>\n",
       "      <th>3</th>\n",
       "      <td>&lt;class 'sklearn.naive_bayes.MultinomialNB'&gt;</td>\n",
       "      <td>0.775</td>\n",
       "      <td>0.718718</td>\n",
       "      <td>0.500000</td>\n",
       "    </tr>\n",
       "  </tbody>\n",
       "</table>\n",
       "</div>"
      ],
      "text/plain": [
       "                                               Model  Accuracy_Score  \\\n",
       "0  <class 'sklearn.neighbors._classification.KNei...           0.775   \n",
       "1  <class 'sklearn.tree._classes.DecisionTreeClas...           0.975   \n",
       "2                 <class 'sklearn.svm._classes.SVC'>           0.825   \n",
       "3        <class 'sklearn.naive_bayes.MultinomialNB'>           0.775   \n",
       "\n",
       "   Cross_val_score  roc-auc score  \n",
       "0         0.733974       0.428571  \n",
       "1         0.970000       0.962037  \n",
       "2         0.799359       0.800934  \n",
       "3         0.718718       0.500000  "
      ]
     },
     "execution_count": 64,
     "metadata": {},
     "output_type": "execute_result"
    }
   ],
   "source": [
    "result=pd.DataFrame({'Model':[KNeighborsClassifier, DecisionTreeClassifier, SVC,MultinomialNB],'Accuracy_Score':score,'Cross_val_score':cv, 'roc-auc score': roc})\n",
    "result"
   ]
  },
  {
   "cell_type": "markdown",
   "metadata": {},
   "source": [
    "since the models are giving high accuracy boosting is not required although if we want to achieve the accuracy above 90% in that case we can use the ensemble techniques to boost the score"
   ]
  },
  {
   "cell_type": "code",
   "execution_count": 65,
   "metadata": {},
   "outputs": [
    {
     "data": {
      "text/plain": [
       "{'n_estimators': 50}"
      ]
     },
     "execution_count": 65,
     "metadata": {},
     "output_type": "execute_result"
    }
   ],
   "source": [
    "from sklearn.ensemble import RandomForestClassifier\n",
    "rf=RandomForestClassifier()\n",
    "parameters={'n_estimators':(10,50,100,200,500)}\n",
    "gdrf=GridSearchCV(rf,parameters)\n",
    "gdrf.fit(train_x,train_y)\n",
    "gdrf.best_params_"
   ]
  },
  {
   "cell_type": "code",
   "execution_count": 66,
   "metadata": {},
   "outputs": [
    {
     "name": "stdout",
     "output_type": "stream",
     "text": [
      "The accuracy score achieved at r state 42 is 1.0\n",
      "The accuracy score achieved at r state 43 is 0.95\n",
      "The accuracy score achieved at r state 44 is 0.925\n",
      "The accuracy score achieved at r state 45 is 0.975\n",
      "The accuracy score achieved at r state 46 is 0.925\n",
      "The accuracy score achieved at r state 47 is 0.925\n",
      "The accuracy score achieved at r state 48 is 0.975\n",
      "The accuracy score achieved at r state 49 is 0.975\n",
      "The accuracy score achieved at r state 50 is 0.95\n",
      "The accuracy score achieved at r state 51 is 1.0\n",
      "The accuracy score achieved at r state 52 is 0.975\n",
      "The accuracy score achieved at r state 53 is 0.95\n",
      "The accuracy score achieved at r state 54 is 0.975\n",
      "The accuracy score achieved at r state 55 is 0.975\n",
      "The accuracy score achieved at r state 56 is 1.0\n",
      "The accuracy score achieved at r state 57 is 1.0\n",
      "The accuracy score achieved at r state 58 is 0.95\n",
      "The accuracy score achieved at r state 59 is 1.0\n",
      "The accuracy score achieved at r state 60 is 0.975\n",
      "The accuracy score achieved at r state 61 is 0.975\n",
      "The accuracy score achieved at r state 62 is 0.925\n",
      "The accuracy score achieved at r state 63 is 1.0\n",
      "The accuracy score achieved at r state 64 is 0.95\n",
      "The accuracy score achieved at r state 65 is 0.975\n",
      "The accuracy score achieved at r state 66 is 1.0\n",
      "The accuracy score achieved at r state 67 is 0.975\n",
      "The accuracy score achieved at r state 68 is 0.975\n",
      "The accuracy score achieved at r state 69 is 0.95\n",
      "The accuracy score achieved at r state 70 is 1.0\n",
      "The accuracy score achieved at r state 71 is 1.0\n",
      "The accuracy score achieved at r state 72 is 0.9\n",
      "The accuracy score achieved at r state 73 is 1.0\n",
      "The accuracy score achieved at r state 74 is 1.0\n",
      "The accuracy score achieved at r state 75 is 0.975\n",
      "The accuracy score achieved at r state 76 is 0.95\n",
      "The accuracy score achieved at r state 77 is 1.0\n",
      "The accuracy score achieved at r state 78 is 0.95\n",
      "The accuracy score achieved at r state 79 is 1.0\n",
      "The accuracy score achieved at r state 80 is 1.0\n",
      "The accuracy score achieved at r state 81 is 0.975\n",
      "The accuracy score achieved at r state 82 is 0.975\n",
      "The accuracy score achieved at r state 83 is 0.975\n",
      "The accuracy score achieved at r state 84 is 0.975\n",
      "The accuracy score achieved at r state 85 is 1.0\n",
      "The accuracy score achieved at r state 86 is 0.95\n",
      "The accuracy score achieved at r state 87 is 0.975\n",
      "The accuracy score achieved at r state 88 is 0.95\n",
      "The accuracy score achieved at r state 89 is 1.0\n",
      "The accuracy score achieved at r state 90 is 1.0\n",
      "The accuracy score achieved at r state 91 is 0.975\n",
      "The accuracy score achieved at r state 92 is 1.0\n",
      "The accuracy score achieved at r state 93 is 0.975\n",
      "The accuracy score achieved at r state 94 is 1.0\n",
      "The accuracy score achieved at r state 95 is 1.0\n",
      "The accuracy score achieved at r state 96 is 0.975\n",
      "The accuracy score achieved at r state 97 is 0.925\n",
      "The accuracy score achieved at r state 98 is 0.95\n",
      "The accuracy score achieved at r state 99 is 1.0\n",
      "The accuracy score achieved at r state 100 is 0.95\n",
      "The maximum accuracy 1.0 is achieved at random state 42\n"
     ]
    },
    {
     "data": {
      "text/plain": [
       "1.0"
      ]
     },
     "execution_count": 66,
     "metadata": {},
     "output_type": "execute_result"
    }
   ],
   "source": [
    "#checking the best accuracy score and random state for RandomForestClassifier\n",
    "rf=RandomForestClassifier(n_estimators=100)\n",
    "max_accuracy(rf,x,y)"
   ]
  },
  {
   "cell_type": "markdown",
   "metadata": {},
   "source": [
    "the model has achieved the 100% accuracy score"
   ]
  },
  {
   "cell_type": "code",
   "execution_count": 67,
   "metadata": {},
   "outputs": [
    {
     "name": "stdout",
     "output_type": "stream",
     "text": [
      "The cross val score of Random forest classifier is 0.96\n"
     ]
    }
   ],
   "source": [
    "#checking the cross val score\n",
    "cs=cross_val_score(rf,x,y,cv=5,scoring='accuracy').mean()\n",
    "print(\"The cross val score of Random forest classifier is\", cs)"
   ]
  },
  {
   "cell_type": "code",
   "execution_count": 68,
   "metadata": {},
   "outputs": [
    {
     "data": {
      "text/plain": [
       "{'criterion': 'friedman_mse', 'learning_rate': 0.001, 'n_estimators': 500}"
      ]
     },
     "execution_count": 68,
     "metadata": {},
     "output_type": "execute_result"
    }
   ],
   "source": [
    "from sklearn.ensemble import GradientBoostingClassifier\n",
    "gc=GradientBoostingClassifier()\n",
    "parameters={'learning_rate':(0.001,0.01,0.1,1),'n_estimators':(50,100,200,500),'criterion':('friedman_mse', 'mse', 'mae')}\n",
    "gd=GridSearchCV(gc,parameters)\n",
    "gd.fit(train_x,train_y)\n",
    "gd.best_params_"
   ]
  },
  {
   "cell_type": "code",
   "execution_count": 69,
   "metadata": {},
   "outputs": [
    {
     "name": "stdout",
     "output_type": "stream",
     "text": [
      "The accuracy score achieved at r state 42 is 1.0\n",
      "The accuracy score achieved at r state 43 is 1.0\n",
      "The accuracy score achieved at r state 44 is 1.0\n",
      "The accuracy score achieved at r state 45 is 1.0\n",
      "The accuracy score achieved at r state 46 is 0.925\n",
      "The accuracy score achieved at r state 47 is 1.0\n",
      "The accuracy score achieved at r state 48 is 1.0\n",
      "The accuracy score achieved at r state 49 is 1.0\n",
      "The accuracy score achieved at r state 50 is 1.0\n",
      "The accuracy score achieved at r state 51 is 1.0\n",
      "The accuracy score achieved at r state 52 is 1.0\n",
      "The accuracy score achieved at r state 53 is 1.0\n",
      "The accuracy score achieved at r state 54 is 1.0\n",
      "The accuracy score achieved at r state 55 is 1.0\n",
      "The accuracy score achieved at r state 56 is 1.0\n",
      "The accuracy score achieved at r state 57 is 1.0\n",
      "The accuracy score achieved at r state 58 is 1.0\n",
      "The accuracy score achieved at r state 59 is 1.0\n",
      "The accuracy score achieved at r state 60 is 1.0\n",
      "The accuracy score achieved at r state 61 is 1.0\n",
      "The accuracy score achieved at r state 62 is 1.0\n",
      "The accuracy score achieved at r state 63 is 1.0\n",
      "The accuracy score achieved at r state 64 is 1.0\n",
      "The accuracy score achieved at r state 65 is 1.0\n",
      "The accuracy score achieved at r state 66 is 1.0\n",
      "The accuracy score achieved at r state 67 is 1.0\n",
      "The accuracy score achieved at r state 68 is 1.0\n",
      "The accuracy score achieved at r state 69 is 1.0\n",
      "The accuracy score achieved at r state 70 is 1.0\n",
      "The accuracy score achieved at r state 71 is 1.0\n",
      "The accuracy score achieved at r state 72 is 1.0\n",
      "The accuracy score achieved at r state 73 is 1.0\n",
      "The accuracy score achieved at r state 74 is 1.0\n",
      "The accuracy score achieved at r state 75 is 1.0\n",
      "The accuracy score achieved at r state 76 is 1.0\n",
      "The accuracy score achieved at r state 77 is 1.0\n",
      "The accuracy score achieved at r state 78 is 1.0\n",
      "The accuracy score achieved at r state 79 is 1.0\n",
      "The accuracy score achieved at r state 80 is 1.0\n",
      "The accuracy score achieved at r state 81 is 1.0\n",
      "The accuracy score achieved at r state 82 is 1.0\n",
      "The accuracy score achieved at r state 83 is 1.0\n",
      "The accuracy score achieved at r state 84 is 1.0\n",
      "The accuracy score achieved at r state 85 is 1.0\n",
      "The accuracy score achieved at r state 86 is 1.0\n",
      "The accuracy score achieved at r state 87 is 1.0\n",
      "The accuracy score achieved at r state 88 is 1.0\n",
      "The accuracy score achieved at r state 89 is 1.0\n",
      "The accuracy score achieved at r state 90 is 1.0\n",
      "The accuracy score achieved at r state 91 is 1.0\n",
      "The accuracy score achieved at r state 92 is 1.0\n",
      "The accuracy score achieved at r state 93 is 1.0\n",
      "The accuracy score achieved at r state 94 is 1.0\n",
      "The accuracy score achieved at r state 95 is 1.0\n",
      "The accuracy score achieved at r state 96 is 1.0\n",
      "The accuracy score achieved at r state 97 is 1.0\n",
      "The accuracy score achieved at r state 98 is 1.0\n",
      "The accuracy score achieved at r state 99 is 1.0\n",
      "The accuracy score achieved at r state 100 is 1.0\n",
      "The maximum accuracy 1.0 is achieved at random state 42\n"
     ]
    },
    {
     "data": {
      "text/plain": [
       "1.0"
      ]
     },
     "execution_count": 69,
     "metadata": {},
     "output_type": "execute_result"
    }
   ],
   "source": [
    "#checking the best accuracy score and random state for RandomForestClassifier\n",
    "gc=GradientBoostingClassifier(criterion='mse', learning_rate= 1, n_estimators= 200)\n",
    "max_accuracy(gc,x,y)"
   ]
  },
  {
   "cell_type": "markdown",
   "metadata": {},
   "source": [
    "this also has achieved 100% accuracy"
   ]
  },
  {
   "cell_type": "code",
   "execution_count": 70,
   "metadata": {},
   "outputs": [
    {
     "name": "stdout",
     "output_type": "stream",
     "text": [
      "The cross val score of GradientBoosting classifier is 0.9949999999999999\n"
     ]
    }
   ],
   "source": [
    "#checking the cross val score\n",
    "cs=cross_val_score(gc,x,y,cv=5,scoring='accuracy').mean()\n",
    "print(\"The cross val score of GradientBoosting classifier is\", cs)"
   ]
  },
  {
   "cell_type": "code",
   "execution_count": 71,
   "metadata": {},
   "outputs": [
    {
     "data": {
      "text/plain": [
       "{'algorithm': 'SAMME', 'learning_rate': 0.1, 'n_estimators': 500}"
      ]
     },
     "execution_count": 71,
     "metadata": {},
     "output_type": "execute_result"
    }
   ],
   "source": [
    "from sklearn.ensemble import AdaBoostClassifier\n",
    "ad=AdaBoostClassifier()\n",
    "parameters={'learning_rate':(0.001,0.01,0.1,1),'n_estimators':(50,100,200,500),'algorithm':('SAMME', 'SAMME.R')}\n",
    "gd=GridSearchCV(ad,parameters)\n",
    "gd.fit(train_x,train_y)\n",
    "gd.best_params_"
   ]
  },
  {
   "cell_type": "code",
   "execution_count": 72,
   "metadata": {},
   "outputs": [
    {
     "name": "stdout",
     "output_type": "stream",
     "text": [
      "The accuracy score achieved at r state 42 is 1.0\n",
      "The accuracy score achieved at r state 43 is 1.0\n",
      "The accuracy score achieved at r state 44 is 1.0\n",
      "The accuracy score achieved at r state 45 is 1.0\n",
      "The accuracy score achieved at r state 46 is 0.925\n",
      "The accuracy score achieved at r state 47 is 1.0\n",
      "The accuracy score achieved at r state 48 is 1.0\n",
      "The accuracy score achieved at r state 49 is 1.0\n",
      "The accuracy score achieved at r state 50 is 1.0\n",
      "The accuracy score achieved at r state 51 is 1.0\n",
      "The accuracy score achieved at r state 52 is 1.0\n",
      "The accuracy score achieved at r state 53 is 1.0\n",
      "The accuracy score achieved at r state 54 is 1.0\n",
      "The accuracy score achieved at r state 55 is 1.0\n",
      "The accuracy score achieved at r state 56 is 1.0\n",
      "The accuracy score achieved at r state 57 is 1.0\n",
      "The accuracy score achieved at r state 58 is 1.0\n",
      "The accuracy score achieved at r state 59 is 1.0\n",
      "The accuracy score achieved at r state 60 is 1.0\n",
      "The accuracy score achieved at r state 61 is 1.0\n",
      "The accuracy score achieved at r state 62 is 1.0\n",
      "The accuracy score achieved at r state 63 is 1.0\n",
      "The accuracy score achieved at r state 64 is 1.0\n",
      "The accuracy score achieved at r state 65 is 1.0\n",
      "The accuracy score achieved at r state 66 is 1.0\n",
      "The accuracy score achieved at r state 67 is 1.0\n",
      "The accuracy score achieved at r state 68 is 1.0\n",
      "The accuracy score achieved at r state 69 is 1.0\n",
      "The accuracy score achieved at r state 70 is 1.0\n",
      "The accuracy score achieved at r state 71 is 1.0\n",
      "The accuracy score achieved at r state 72 is 1.0\n",
      "The accuracy score achieved at r state 73 is 1.0\n",
      "The accuracy score achieved at r state 74 is 1.0\n",
      "The accuracy score achieved at r state 75 is 1.0\n",
      "The accuracy score achieved at r state 76 is 1.0\n",
      "The accuracy score achieved at r state 77 is 1.0\n",
      "The accuracy score achieved at r state 78 is 1.0\n",
      "The accuracy score achieved at r state 79 is 1.0\n",
      "The accuracy score achieved at r state 80 is 1.0\n",
      "The accuracy score achieved at r state 81 is 1.0\n",
      "The accuracy score achieved at r state 82 is 1.0\n",
      "The accuracy score achieved at r state 83 is 1.0\n",
      "The accuracy score achieved at r state 84 is 1.0\n",
      "The accuracy score achieved at r state 85 is 1.0\n",
      "The accuracy score achieved at r state 86 is 1.0\n",
      "The accuracy score achieved at r state 87 is 1.0\n",
      "The accuracy score achieved at r state 88 is 1.0\n",
      "The accuracy score achieved at r state 89 is 1.0\n",
      "The accuracy score achieved at r state 90 is 1.0\n",
      "The accuracy score achieved at r state 91 is 1.0\n",
      "The accuracy score achieved at r state 92 is 1.0\n",
      "The accuracy score achieved at r state 93 is 1.0\n",
      "The accuracy score achieved at r state 94 is 1.0\n",
      "The accuracy score achieved at r state 95 is 1.0\n",
      "The accuracy score achieved at r state 96 is 1.0\n",
      "The accuracy score achieved at r state 97 is 1.0\n",
      "The accuracy score achieved at r state 98 is 1.0\n",
      "The accuracy score achieved at r state 99 is 1.0\n",
      "The accuracy score achieved at r state 100 is 1.0\n",
      "The maximum accuracy 1.0 is achieved at random state 42\n"
     ]
    },
    {
     "data": {
      "text/plain": [
       "1.0"
      ]
     },
     "execution_count": 72,
     "metadata": {},
     "output_type": "execute_result"
    }
   ],
   "source": [
    "#checking the best accuracy score and random state for AdaBoostClassifier\n",
    "gc=AdaBoostClassifier(algorithm= 'SAMME.R', learning_rate= 1, n_estimators= 100)\n",
    "max_accuracy(gc,x,y)"
   ]
  },
  {
   "cell_type": "code",
   "execution_count": 73,
   "metadata": {},
   "outputs": [
    {
     "name": "stdout",
     "output_type": "stream",
     "text": [
      "The cross val score of AdaBoost classifier is 0.9949999999999999\n"
     ]
    }
   ],
   "source": [
    "#checking the cross val score\n",
    "cs=cross_val_score(ad,x,y,cv=5,scoring='accuracy').mean()\n",
    "print(\"The cross val score of AdaBoost classifier is\", cs)"
   ]
  },
  {
   "cell_type": "code",
   "execution_count": 74,
   "metadata": {},
   "outputs": [
    {
     "name": "stdout",
     "output_type": "stream",
     "text": [
      "The accuracy score is 1.0\n",
      "The cross val score is 0.97\n"
     ]
    }
   ],
   "source": [
    "train_x,test_x,train_y,test_y=train_test_split(x,y,random_state=70,test_size=0.20)\n",
    "rf=RandomForestClassifier(n_estimators=100)\n",
    "rf.fit(train_x,train_y)\n",
    "pred=rf.predict(test_x)\n",
    "ascore=accuracy_score(test_y,pred)\n",
    "print(\"The accuracy score is\", ascore)\n",
    "cs=cross_val_score(rf,x,y,cv=5,scoring='accuracy').mean()\n",
    "print(\"The cross val score is\", cs)\n",
    "pd.DataFrame(pred).to_csv(\"Project5_HeartDisease_predictions.csv\")"
   ]
  },
  {
   "cell_type": "code",
   "execution_count": 75,
   "metadata": {},
   "outputs": [
    {
     "data": {
      "text/plain": [
       "['heartdisease.pkl']"
      ]
     },
     "execution_count": 75,
     "metadata": {},
     "output_type": "execute_result"
    }
   ],
   "source": [
    "#saving the model\n",
    "from sklearn.externals import joblib\n",
    "joblib.dump(dt,\"heartdisease.pkl\")"
   ]
  },
  {
   "cell_type": "code",
   "execution_count": null,
   "metadata": {},
   "outputs": [],
   "source": []
  }
 ],
 "metadata": {
  "kernelspec": {
   "display_name": "Python 3",
   "language": "python",
   "name": "python3"
  },
  "language_info": {
   "codemirror_mode": {
    "name": "ipython",
    "version": 3
   },
   "file_extension": ".py",
   "mimetype": "text/x-python",
   "name": "python",
   "nbconvert_exporter": "python",
   "pygments_lexer": "ipython3",
   "version": "3.7.6"
  }
 },
 "nbformat": 4,
 "nbformat_minor": 4
}
