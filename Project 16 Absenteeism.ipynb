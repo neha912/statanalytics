{
 "cells": [
  {
   "cell_type": "markdown",
   "metadata": {},
   "source": [
    "#### Summary\n",
    "\n",
    "This dataset is taken from a courier company from July 2007 to July 2010. The employees who were absent and the reason behind it, the other personal details of the employees are covered in this dataset. Our aim is to predict the features which effect the employee to absent and building a model to predict the same. "
   ]
  },
  {
   "cell_type": "code",
   "execution_count": 76,
   "metadata": {},
   "outputs": [],
   "source": [
    "#import necessary libraries\n",
    "import pandas as pd\n",
    "import numpy as np\n",
    "import matplotlib.pyplot as plt\n",
    "import seaborn as sns\n",
    "import warnings\n",
    "warnings.filterwarnings('ignore')"
   ]
  },
  {
   "cell_type": "code",
   "execution_count": 77,
   "metadata": {},
   "outputs": [
    {
     "data": {
      "text/html": [
       "<div>\n",
       "<style scoped>\n",
       "    .dataframe tbody tr th:only-of-type {\n",
       "        vertical-align: middle;\n",
       "    }\n",
       "\n",
       "    .dataframe tbody tr th {\n",
       "        vertical-align: top;\n",
       "    }\n",
       "\n",
       "    .dataframe thead th {\n",
       "        text-align: right;\n",
       "    }\n",
       "</style>\n",
       "<table border=\"1\" class=\"dataframe\">\n",
       "  <thead>\n",
       "    <tr style=\"text-align: right;\">\n",
       "      <th></th>\n",
       "      <th>ID</th>\n",
       "      <th>Reason for absence</th>\n",
       "      <th>Month of absence</th>\n",
       "      <th>Day of the week</th>\n",
       "      <th>Seasons</th>\n",
       "      <th>Transportation expense</th>\n",
       "      <th>Distance from Residence to Work</th>\n",
       "      <th>Service time</th>\n",
       "      <th>Age</th>\n",
       "      <th>Work load Average/day</th>\n",
       "      <th>Hit target</th>\n",
       "      <th>Disciplinary failure</th>\n",
       "      <th>Education</th>\n",
       "      <th>Son</th>\n",
       "      <th>Social drinker</th>\n",
       "      <th>Social smoker</th>\n",
       "      <th>Pet</th>\n",
       "      <th>Weight</th>\n",
       "      <th>Height</th>\n",
       "      <th>Body mass index</th>\n",
       "      <th>Absenteeism time in hours</th>\n",
       "    </tr>\n",
       "  </thead>\n",
       "  <tbody>\n",
       "    <tr>\n",
       "      <th>0</th>\n",
       "      <td>11</td>\n",
       "      <td>26</td>\n",
       "      <td>7</td>\n",
       "      <td>3</td>\n",
       "      <td>1</td>\n",
       "      <td>289</td>\n",
       "      <td>36</td>\n",
       "      <td>13</td>\n",
       "      <td>33</td>\n",
       "      <td>239554</td>\n",
       "      <td>97</td>\n",
       "      <td>0</td>\n",
       "      <td>1</td>\n",
       "      <td>2</td>\n",
       "      <td>1</td>\n",
       "      <td>0</td>\n",
       "      <td>1</td>\n",
       "      <td>90</td>\n",
       "      <td>172</td>\n",
       "      <td>30</td>\n",
       "      <td>4</td>\n",
       "    </tr>\n",
       "    <tr>\n",
       "      <th>1</th>\n",
       "      <td>36</td>\n",
       "      <td>0</td>\n",
       "      <td>7</td>\n",
       "      <td>3</td>\n",
       "      <td>1</td>\n",
       "      <td>118</td>\n",
       "      <td>13</td>\n",
       "      <td>18</td>\n",
       "      <td>50</td>\n",
       "      <td>239554</td>\n",
       "      <td>97</td>\n",
       "      <td>1</td>\n",
       "      <td>1</td>\n",
       "      <td>1</td>\n",
       "      <td>1</td>\n",
       "      <td>0</td>\n",
       "      <td>0</td>\n",
       "      <td>98</td>\n",
       "      <td>178</td>\n",
       "      <td>31</td>\n",
       "      <td>0</td>\n",
       "    </tr>\n",
       "    <tr>\n",
       "      <th>2</th>\n",
       "      <td>3</td>\n",
       "      <td>23</td>\n",
       "      <td>7</td>\n",
       "      <td>4</td>\n",
       "      <td>1</td>\n",
       "      <td>179</td>\n",
       "      <td>51</td>\n",
       "      <td>18</td>\n",
       "      <td>38</td>\n",
       "      <td>239554</td>\n",
       "      <td>97</td>\n",
       "      <td>0</td>\n",
       "      <td>1</td>\n",
       "      <td>0</td>\n",
       "      <td>1</td>\n",
       "      <td>0</td>\n",
       "      <td>0</td>\n",
       "      <td>89</td>\n",
       "      <td>170</td>\n",
       "      <td>31</td>\n",
       "      <td>2</td>\n",
       "    </tr>\n",
       "    <tr>\n",
       "      <th>3</th>\n",
       "      <td>7</td>\n",
       "      <td>7</td>\n",
       "      <td>7</td>\n",
       "      <td>5</td>\n",
       "      <td>1</td>\n",
       "      <td>279</td>\n",
       "      <td>5</td>\n",
       "      <td>14</td>\n",
       "      <td>39</td>\n",
       "      <td>239554</td>\n",
       "      <td>97</td>\n",
       "      <td>0</td>\n",
       "      <td>1</td>\n",
       "      <td>2</td>\n",
       "      <td>1</td>\n",
       "      <td>1</td>\n",
       "      <td>0</td>\n",
       "      <td>68</td>\n",
       "      <td>168</td>\n",
       "      <td>24</td>\n",
       "      <td>4</td>\n",
       "    </tr>\n",
       "    <tr>\n",
       "      <th>4</th>\n",
       "      <td>11</td>\n",
       "      <td>23</td>\n",
       "      <td>7</td>\n",
       "      <td>5</td>\n",
       "      <td>1</td>\n",
       "      <td>289</td>\n",
       "      <td>36</td>\n",
       "      <td>13</td>\n",
       "      <td>33</td>\n",
       "      <td>239554</td>\n",
       "      <td>97</td>\n",
       "      <td>0</td>\n",
       "      <td>1</td>\n",
       "      <td>2</td>\n",
       "      <td>1</td>\n",
       "      <td>0</td>\n",
       "      <td>1</td>\n",
       "      <td>90</td>\n",
       "      <td>172</td>\n",
       "      <td>30</td>\n",
       "      <td>2</td>\n",
       "    </tr>\n",
       "  </tbody>\n",
       "</table>\n",
       "</div>"
      ],
      "text/plain": [
       "   ID  Reason for absence  Month of absence  Day of the week  Seasons  \\\n",
       "0  11                  26                 7                3        1   \n",
       "1  36                   0                 7                3        1   \n",
       "2   3                  23                 7                4        1   \n",
       "3   7                   7                 7                5        1   \n",
       "4  11                  23                 7                5        1   \n",
       "\n",
       "   Transportation expense  Distance from Residence to Work  Service time  Age  \\\n",
       "0                     289                               36            13   33   \n",
       "1                     118                               13            18   50   \n",
       "2                     179                               51            18   38   \n",
       "3                     279                                5            14   39   \n",
       "4                     289                               36            13   33   \n",
       "\n",
       "   Work load Average/day   Hit target  Disciplinary failure  Education  Son  \\\n",
       "0                  239554          97                     0          1    2   \n",
       "1                  239554          97                     1          1    1   \n",
       "2                  239554          97                     0          1    0   \n",
       "3                  239554          97                     0          1    2   \n",
       "4                  239554          97                     0          1    2   \n",
       "\n",
       "   Social drinker  Social smoker  Pet  Weight  Height  Body mass index  \\\n",
       "0               1              0    1      90     172               30   \n",
       "1               1              0    0      98     178               31   \n",
       "2               1              0    0      89     170               31   \n",
       "3               1              1    0      68     168               24   \n",
       "4               1              0    1      90     172               30   \n",
       "\n",
       "   Absenteeism time in hours  \n",
       "0                          4  \n",
       "1                          0  \n",
       "2                          2  \n",
       "3                          4  \n",
       "4                          2  "
      ]
     },
     "execution_count": 77,
     "metadata": {},
     "output_type": "execute_result"
    }
   ],
   "source": [
    "#import the dataset\n",
    "df=pd.read_excel(\"absent.csv\")\n",
    "pd.set_option('Display.max_columns',None)\n",
    "df.head()"
   ]
  },
  {
   "cell_type": "code",
   "execution_count": 78,
   "metadata": {},
   "outputs": [
    {
     "data": {
      "text/plain": [
       "(740, 21)"
      ]
     },
     "execution_count": 78,
     "metadata": {},
     "output_type": "execute_result"
    }
   ],
   "source": [
    "#checking the data shape\n",
    "df.shape\n",
    "#There are 740 rows and 21 columns"
   ]
  },
  {
   "cell_type": "code",
   "execution_count": 79,
   "metadata": {},
   "outputs": [
    {
     "data": {
      "text/plain": [
       "ID                                 int64\n",
       "Reason for absence                 int64\n",
       "Month of absence                   int64\n",
       "Day of the week                    int64\n",
       "Seasons                            int64\n",
       "Transportation expense             int64\n",
       "Distance from Residence to Work    int64\n",
       "Service time                       int64\n",
       "Age                                int64\n",
       "Work load Average/day              int64\n",
       "Hit target                         int64\n",
       "Disciplinary failure               int64\n",
       "Education                          int64\n",
       "Son                                int64\n",
       "Social drinker                     int64\n",
       "Social smoker                      int64\n",
       "Pet                                int64\n",
       "Weight                             int64\n",
       "Height                             int64\n",
       "Body mass index                    int64\n",
       "Absenteeism time in hours          int64\n",
       "dtype: object"
      ]
     },
     "execution_count": 79,
     "metadata": {},
     "output_type": "execute_result"
    }
   ],
   "source": [
    "# checking the data type\n",
    "df.dtypes\n",
    "#There are no object datatype, all are numeric data types"
   ]
  },
  {
   "cell_type": "markdown",
   "metadata": {},
   "source": [
    "Attribute Information\n",
    "\n",
    "1. ID - Individual identification\n",
    "\n",
    "2. Reason for absence (ICD).\n",
    "Absences attested by the International Code of Diseases (ICD) stratified into 21 categories (I to XXI) as follows:\n",
    "I Certain infectious and parasitic diseases\n",
    "II Neoplasms\n",
    "III Diseases of the blood and blood-forming organs and certain disorders involving the immune mechanism\n",
    "IV Endocrine, nutritional and metabolic diseases\n",
    "V Mental and behavioural disorders\n",
    "VI Diseases of the nervous system\n",
    "VII Diseases of the eye and adnexa\n",
    "VIII Diseases of the ear and mastoid process\n",
    "IX Diseases of the circulatory system\n",
    "X Diseases of the respiratory system\n",
    "XI Diseases of the digestive system\n",
    "XII Diseases of the skin and subcutaneous tissue\n",
    "XIII Diseases of the musculoskeletal system and connective tissue\n",
    "XIV Diseases of the genitourinary system\n",
    "XV Pregnancy, childbirth and the puerperium\n",
    "XVI Certain conditions originating in the perinatal period\n",
    "XVII Congenital malformations, deformations and chromosomal abnormalities\n",
    "XVIII Symptoms, signs and abnormal clinical and laboratory findings, not elsewhere classified\n",
    "XIX Injury, poisoning and certain other consequences of external causes\n",
    "XX External causes of morbidity and mortality\n",
    "XXI Factors influencing health status and contact with health services.\n",
    "\n",
    "And 7 categories without (CID) patient follow-up (22), medical consultation (23), blood donation (24), laboratory examination (25), unjustified absence (26), physiotherapy (27), dental consultation (28).\n",
    "\n",
    "\n",
    "3. Month of absence\n",
    "\n",
    "4. Day of the week (Monday (2), Tuesday (3), Wednesday (4), Thursday (5), Friday (6))\n",
    "\n",
    "5. Seasons (summer (1), autumn (2), winter (3), spring (4))\n",
    "\n",
    "6. Transportation expense\n",
    "\n",
    "7. Distance from Residence to Work (kilometers)\n",
    "\n",
    "8. Service time\n",
    "\n",
    "9. Age\n",
    "\n",
    "10. Work load Average/day\n",
    "\n",
    "11. Hit target\n",
    "\n",
    "12. Disciplinary failure (yes=1; no=0)\n",
    "\n",
    "13. Education (high school (1), graduate (2), postgraduate (3), master and doctor (4))\n",
    "\n",
    "14. Son (number of children)\n",
    "\n",
    "15. Social drinker (yes=1; no=0)\n",
    "\n",
    "16. Social smoker (yes=1; no=0)\n",
    "\n",
    "17. Pet (number of pet)\n",
    "\n",
    "18. Weight\n",
    "\n",
    "19. Height\n",
    "\n",
    "20. Body mass index\n",
    "\n",
    "21. Absenteeism time in hours (target)\n"
   ]
  },
  {
   "cell_type": "code",
   "execution_count": 80,
   "metadata": {},
   "outputs": [
    {
     "data": {
      "text/plain": [
       "<matplotlib.axes._subplots.AxesSubplot at 0x1abf815d4c8>"
      ]
     },
     "execution_count": 80,
     "metadata": {},
     "output_type": "execute_result"
    },
    {
     "data": {
      "image/png": "[encoded data removed]",
      "text/plain": [
       "<Figure size 432x288 with 2 Axes>"
      ]
     },
     "metadata": {
      "needs_background": "light"
     },
     "output_type": "display_data"
    }
   ],
   "source": [
    "# checking for missing values\n",
    "sns.heatmap(df.isnull())"
   ]
  },
  {
   "cell_type": "code",
   "execution_count": 81,
   "metadata": {},
   "outputs": [
    {
     "data": {
      "text/plain": [
       "ID                                 0\n",
       "Reason for absence                 0\n",
       "Month of absence                   0\n",
       "Day of the week                    0\n",
       "Seasons                            0\n",
       "Transportation expense             0\n",
       "Distance from Residence to Work    0\n",
       "Service time                       0\n",
       "Age                                0\n",
       "Work load Average/day              0\n",
       "Hit target                         0\n",
       "Disciplinary failure               0\n",
       "Education                          0\n",
       "Son                                0\n",
       "Social drinker                     0\n",
       "Social smoker                      0\n",
       "Pet                                0\n",
       "Weight                             0\n",
       "Height                             0\n",
       "Body mass index                    0\n",
       "Absenteeism time in hours          0\n",
       "dtype: int64"
      ]
     },
     "execution_count": 81,
     "metadata": {},
     "output_type": "execute_result"
    }
   ],
   "source": [
    "df.isnull().sum()\n",
    "# There are no missing values in the data"
   ]
  },
  {
   "cell_type": "markdown",
   "metadata": {},
   "source": [
    "#### Univariate Analysis"
   ]
  },
  {
   "cell_type": "code",
   "execution_count": 82,
   "metadata": {},
   "outputs": [
    {
     "name": "stdout",
     "output_type": "stream",
     "text": [
      "The unique counts of  ID are: \n",
      "3     113\n",
      "28     76\n",
      "34     55\n",
      "22     46\n",
      "20     42\n",
      "11     40\n",
      "15     37\n",
      "36     34\n",
      "24     30\n",
      "14     29\n",
      "33     24\n",
      "10     24\n",
      "1      23\n",
      "17     20\n",
      "5      19\n",
      "18     16\n",
      "13     15\n",
      "25     10\n",
      "6       8\n",
      "9       8\n",
      "23      8\n",
      "27      7\n",
      "30      7\n",
      "12      7\n",
      "7       6\n",
      "2       6\n",
      "29      5\n",
      "26      5\n",
      "32      5\n",
      "31      3\n",
      "19      3\n",
      "21      3\n",
      "16      2\n",
      "8       2\n",
      "35      1\n",
      "4       1\n",
      "Name: ID, dtype: int64\n",
      "\n",
      "\n",
      "The unique counts of  Reason for absence are: \n",
      "23    149\n",
      "28    112\n",
      "27     69\n",
      "13     55\n",
      "0      43\n",
      "19     40\n",
      "22     38\n",
      "26     33\n",
      "25     31\n",
      "11     26\n",
      "10     25\n",
      "18     21\n",
      "14     19\n",
      "1      16\n",
      "7      15\n",
      "6       8\n",
      "12      8\n",
      "8       6\n",
      "21      6\n",
      "9       4\n",
      "5       3\n",
      "24      3\n",
      "16      3\n",
      "4       2\n",
      "15      2\n",
      "3       1\n",
      "2       1\n",
      "17      1\n",
      "Name: Reason for absence, dtype: int64\n",
      "\n",
      "\n",
      "The unique counts of  Month of absence are: \n",
      "3     87\n",
      "2     72\n",
      "10    71\n",
      "7     67\n",
      "5     64\n",
      "11    63\n",
      "8     54\n",
      "6     54\n",
      "9     53\n",
      "4     53\n",
      "1     50\n",
      "12    49\n",
      "0      3\n",
      "Name: Month of absence, dtype: int64\n",
      "\n",
      "\n",
      "The unique counts of  Day of the week are: \n",
      "2    161\n",
      "4    156\n",
      "3    154\n",
      "6    144\n",
      "5    125\n",
      "Name: Day of the week, dtype: int64\n",
      "\n",
      "\n",
      "The unique counts of  Seasons are: \n",
      "4    195\n",
      "2    192\n",
      "3    183\n",
      "1    170\n",
      "Name: Seasons, dtype: int64\n",
      "\n",
      "\n",
      "The unique counts of  Transportation expense are: \n",
      "179    180\n",
      "118     92\n",
      "225     81\n",
      "235     58\n",
      "289     45\n",
      "260     42\n",
      "291     40\n",
      "246     30\n",
      "155     29\n",
      "248     24\n",
      "361     24\n",
      "330     16\n",
      "369     15\n",
      "378      8\n",
      "228      8\n",
      "189      8\n",
      "233      7\n",
      "184      7\n",
      "157      7\n",
      "279      6\n",
      "300      5\n",
      "268      3\n",
      "388      3\n",
      "231      2\n",
      "Name: Transportation expense, dtype: int64\n",
      "\n",
      "\n",
      "The unique counts of  Distance from Residence to Work are: \n",
      "26    128\n",
      "51    120\n",
      "10     55\n",
      "25     54\n",
      "50     45\n",
      "36     40\n",
      "31     37\n",
      "13     34\n",
      "12     29\n",
      "11     26\n",
      "16     26\n",
      "52     24\n",
      "22     20\n",
      "20     19\n",
      "17     15\n",
      "29     14\n",
      "15      9\n",
      "14      9\n",
      "49      8\n",
      "27      7\n",
      "42      7\n",
      "5       6\n",
      "48      5\n",
      "35      2\n",
      "45      1\n",
      "Name: Distance from Residence to Work, dtype: int64\n",
      "\n",
      "\n",
      "The unique counts of  Service time are: \n",
      "18    147\n",
      "9     126\n",
      "14     85\n",
      "13     73\n",
      "12     61\n",
      "10     55\n",
      "11     50\n",
      "16     38\n",
      "3      24\n",
      "17     20\n",
      "4      16\n",
      "8      13\n",
      "6       7\n",
      "1       7\n",
      "7       7\n",
      "29      5\n",
      "15      4\n",
      "24      2\n",
      "Name: Service time, dtype: int64\n",
      "\n",
      "\n",
      "The unique counts of  Age are: \n",
      "28    117\n",
      "38    113\n",
      "37     78\n",
      "40     58\n",
      "33     51\n",
      "36     50\n",
      "30     46\n",
      "50     37\n",
      "41     34\n",
      "34     29\n",
      "47     24\n",
      "43     24\n",
      "31     22\n",
      "32     13\n",
      "58      8\n",
      "39      8\n",
      "29      7\n",
      "27      7\n",
      "48      6\n",
      "49      5\n",
      "46      2\n",
      "53      1\n",
      "Name: Age, dtype: int64\n",
      "\n",
      "\n",
      "The unique counts of  Work load Average/day  are: \n",
      "222196    36\n",
      "264249    33\n",
      "237656    32\n",
      "343253    29\n",
      "265017    28\n",
      "284853    25\n",
      "308593    24\n",
      "268519    23\n",
      "284031    22\n",
      "244387    22\n",
      "241476    22\n",
      "205917    21\n",
      "251818    21\n",
      "326452    20\n",
      "246288    20\n",
      "230290    20\n",
      "236629    19\n",
      "275089    19\n",
      "239554    19\n",
      "253957    19\n",
      "294217    19\n",
      "306345    18\n",
      "253465    18\n",
      "302585    18\n",
      "265615    18\n",
      "378884    16\n",
      "246074    16\n",
      "377550    16\n",
      "275312    16\n",
      "313532    15\n",
      "261306    15\n",
      "280549    15\n",
      "249797    15\n",
      "239409    13\n",
      "261756    12\n",
      "264604    12\n",
      "330061    11\n",
      "271219     3\n",
      "Name: Work load Average/day , dtype: int64\n",
      "\n",
      "\n",
      "The unique counts of  Hit target are: \n",
      "93     105\n",
      "99     102\n",
      "97      89\n",
      "92      79\n",
      "96      75\n",
      "95      75\n",
      "98      66\n",
      "91      45\n",
      "94      34\n",
      "88      28\n",
      "81      19\n",
      "87      12\n",
      "100     11\n",
      "Name: Hit target, dtype: int64\n",
      "\n",
      "\n",
      "The unique counts of  Disciplinary failure are: \n",
      "0    700\n",
      "1     40\n",
      "Name: Disciplinary failure, dtype: int64\n",
      "\n",
      "\n",
      "The unique counts of  Education are: \n",
      "1    611\n",
      "3     79\n",
      "2     46\n",
      "4      4\n",
      "Name: Education, dtype: int64\n",
      "\n",
      "\n",
      "The unique counts of  Son are: \n",
      "0    298\n",
      "1    229\n",
      "2    156\n",
      "4     42\n",
      "3     15\n",
      "Name: Son, dtype: int64\n",
      "\n",
      "\n",
      "The unique counts of  Social drinker are: \n",
      "1    420\n",
      "0    320\n",
      "Name: Social drinker, dtype: int64\n",
      "\n",
      "\n",
      "The unique counts of  Social smoker are: \n",
      "0    686\n",
      "1     54\n",
      "Name: Social smoker, dtype: int64\n",
      "\n",
      "\n",
      "The unique counts of  Pet are: \n",
      "0    460\n",
      "1    138\n",
      "2     96\n",
      "4     32\n",
      "8      8\n",
      "5      6\n",
      "Name: Pet, dtype: int64\n",
      "\n",
      "\n",
      "The unique counts of  Weight are: \n",
      "89     113\n",
      "69      85\n",
      "65      61\n",
      "83      55\n",
      "56      46\n",
      "90      40\n",
      "73      37\n",
      "98      35\n",
      "67      30\n",
      "95      29\n",
      "88      29\n",
      "86      24\n",
      "80      24\n",
      "63      20\n",
      "75      19\n",
      "106     19\n",
      "84      16\n",
      "70      15\n",
      "68      13\n",
      "58       7\n",
      "77       6\n",
      "108      5\n",
      "94       4\n",
      "76       3\n",
      "79       3\n",
      "100      2\n",
      "Name: Weight, dtype: int64\n",
      "\n",
      "\n",
      "The unique counts of  Height are: \n",
      "170    166\n",
      "172    155\n",
      "169     95\n",
      "171     83\n",
      "178     57\n",
      "168     48\n",
      "167     34\n",
      "196     29\n",
      "165     24\n",
      "182     20\n",
      "175      8\n",
      "174      8\n",
      "185      7\n",
      "163      6\n",
      "Name: Height, dtype: int64\n",
      "\n",
      "\n",
      "The unique counts of  Body mass index are: \n",
      "31    147\n",
      "25    126\n",
      "24     86\n",
      "23     75\n",
      "28     59\n",
      "19     46\n",
      "30     40\n",
      "22     35\n",
      "27     24\n",
      "32     24\n",
      "29     23\n",
      "21     22\n",
      "38     19\n",
      "33      6\n",
      "36      5\n",
      "35      2\n",
      "34      1\n",
      "Name: Body mass index, dtype: int64\n",
      "\n",
      "\n",
      "The unique counts of  Absenteeism time in hours are: \n",
      "8      208\n",
      "2      157\n",
      "3      112\n",
      "1       88\n",
      "4       60\n",
      "0       44\n",
      "16      19\n",
      "24      16\n",
      "40       7\n",
      "5        7\n",
      "32       6\n",
      "64       3\n",
      "80       3\n",
      "120      3\n",
      "112      2\n",
      "56       2\n",
      "48       1\n",
      "7        1\n",
      "104      1\n",
      "Name: Absenteeism time in hours, dtype: int64\n",
      "\n",
      "\n"
     ]
    }
   ],
   "source": [
    "# checking the unique values and its counts\n",
    "for i in df.columns:\n",
    "    print(\"The unique counts of \", i, \"are: \" )\n",
    "    print(df[i].value_counts())\n",
    "    print(\"\\n\")"
   ]
  },
  {
   "cell_type": "markdown",
   "metadata": {},
   "source": [
    "Observations\n",
    "1. There are 3 rows in which month is zero. This needs to be deleted"
   ]
  },
  {
   "cell_type": "code",
   "execution_count": 83,
   "metadata": {},
   "outputs": [
    {
     "data": {
      "text/plain": [
       "3     87\n",
       "2     72\n",
       "10    71\n",
       "7     67\n",
       "5     64\n",
       "11    63\n",
       "8     54\n",
       "6     54\n",
       "9     53\n",
       "4     53\n",
       "1     50\n",
       "12    49\n",
       "Name: Month of absence, dtype: int64"
      ]
     },
     "execution_count": 83,
     "metadata": {},
     "output_type": "execute_result"
    }
   ],
   "source": [
    "#removing rows where month is zero\n",
    "df=df[df['Month of absence']!=0]\n",
    "df['Month of absence'].value_counts()\n",
    "#The zero has been ignored in the new dataset"
   ]
  },
  {
   "cell_type": "markdown",
   "metadata": {},
   "source": [
    "Observations\n",
    "1. The most reasons for the absence are between 22-28.\n",
    "2. Most of the absences were in the months of 6-June, followed by 11-Nov.\n",
    "3. Thursday has lesser no. of absentees.\n",
    "4. Most of the transportation expenses is between 160-180, followed by 220-240.\n",
    "5. Many people stay far from work place, the most repeated distance is between 25-30 and between 47-52. \n",
    "6. Most of the work load average per day is between 260-270 and between 240-250.\n",
    "7. Hit targets are between 90-100 mostly.\n",
    "8. Absenteeism in right skewed. May be lot of outliers are present.\n",
    "9. Most repeated BMI is over 30.\n",
    "10. Most of the height is between 170-173\n",
    "11. The most repeated weight is 85-90 and around 70 kgs."
   ]
  },
  {
   "cell_type": "code",
   "execution_count": 84,
   "metadata": {},
   "outputs": [
    {
     "data": {
      "image/png": "[encoded data removed]",
      "text/plain": [
       "<Figure size 1440x1080 with 1 Axes>"
      ]
     },
     "metadata": {
      "needs_background": "light"
     },
     "output_type": "display_data"
    },
    {
     "data": {
      "image/png": "[encoded data removed]",
      "text/plain": [
       "<Figure size 1440x1080 with 1 Axes>"
      ]
     },
     "metadata": {
      "needs_background": "light"
     },
     "output_type": "display_data"
    },
    {
     "data": {
      "image/png": "[encoded data removed]",
      "text/plain": [
       "<Figure size 1440x1080 with 1 Axes>"
      ]
     },
     "metadata": {
      "needs_background": "light"
     },
     "output_type": "display_data"
    },
    {
     "data": {
      "image/png": "[encoded data removed]",
      "text/plain": [
       "<Figure size 1440x1080 with 1 Axes>"
      ]
     },
     "metadata": {
      "needs_background": "light"
     },
     "output_type": "display_data"
    },
    {
     "data": {
      "image/png": "[encoded data removed]",
      "text/plain": [
       "<Figure size 1440x1080 with 1 Axes>"
      ]
     },
     "metadata": {
      "needs_background": "light"
     },
     "output_type": "display_data"
    },
    {
     "data": {
      "image/png": "[encoded data removed]",
      "text/plain": [
       "<Figure size 1440x1080 with 1 Axes>"
      ]
     },
     "metadata": {
      "needs_background": "light"
     },
     "output_type": "display_data"
    },
    {
     "data": {
      "image/png": "[encoded data removed]",
      "text/plain": [
       "<Figure size 1440x1080 with 1 Axes>"
      ]
     },
     "metadata": {
      "needs_background": "light"
     },
     "output_type": "display_data"
    },
    {
     "data": {
      "image/png": "[encoded data removed]",
      "text/plain": [
       "<Figure size 1440x1080 with 1 Axes>"
      ]
     },
     "metadata": {
      "needs_background": "light"
     },
     "output_type": "display_data"
    },
    {
     "data": {
      "image/png": "[encoded data removed]",
      "text/plain": [
       "<Figure size 1440x1080 with 1 Axes>"
      ]
     },
     "metadata": {
      "needs_background": "light"
     },
     "output_type": "display_data"
    },
    {
     "data": {
      "image/png": "[encoded data removed]",
      "text/plain": [
       "<Figure size 1440x1080 with 1 Axes>"
      ]
     },
     "metadata": {
      "needs_background": "light"
     },
     "output_type": "display_data"
    },
    {
     "data": {
      "image/png": "[encoded data removed]",
      "text/plain": [
       "<Figure size 1440x1080 with 1 Axes>"
      ]
     },
     "metadata": {
      "needs_background": "light"
     },
     "output_type": "display_data"
    },
    {
     "data": {
      "image/png": "[encoded data removed]",
      "text/plain": [
       "<Figure size 1440x1080 with 1 Axes>"
      ]
     },
     "metadata": {
      "needs_background": "light"
     },
     "output_type": "display_data"
    },
    {
     "data": {
      "image/png": "[encoded data removed]",
      "text/plain": [
       "<Figure size 1440x1080 with 1 Axes>"
      ]
     },
     "metadata": {
      "needs_background": "light"
     },
     "output_type": "display_data"
    },
    {
     "data": {
      "image/png": "[encoded data removed]",
      "text/plain": [
       "<Figure size 1440x1080 with 1 Axes>"
      ]
     },
     "metadata": {
      "needs_background": "light"
     },
     "output_type": "display_data"
    },
    {
     "data": {
      "image/png": "[encoded data removed]",
      "text/plain": [
       "<Figure size 1440x1080 with 1 Axes>"
      ]
     },
     "metadata": {
      "needs_background": "light"
     },
     "output_type": "display_data"
    },
    {
     "data": {
      "image/png": "[encoded data removed]",
      "text/plain": [
       "<Figure size 1440x1080 with 1 Axes>"
      ]
     },
     "metadata": {
      "needs_background": "light"
     },
     "output_type": "display_data"
    },
    {
     "data": {
      "image/png": "[encoded data removed]",
      "text/plain": [
       "<Figure size 1440x1080 with 1 Axes>"
      ]
     },
     "metadata": {
      "needs_background": "light"
     },
     "output_type": "display_data"
    },
    {
     "data": {
      "image/png": "[encoded data removed]",
      "text/plain": [
       "<Figure size 1440x1080 with 1 Axes>"
      ]
     },
     "metadata": {
      "needs_background": "light"
     },
     "output_type": "display_data"
    },
    {
     "data": {
      "image/png": "[encoded data removed]",
      "text/plain": [
       "<Figure size 1440x1080 with 1 Axes>"
      ]
     },
     "metadata": {
      "needs_background": "light"
     },
     "output_type": "display_data"
    },
    {
     "data": {
      "image/png": "[encoded data removed]",
      "text/plain": [
       "<Figure size 1440x1080 with 1 Axes>"
      ]
     },
     "metadata": {
      "needs_background": "light"
     },
     "output_type": "display_data"
    },
    {
     "data": {
      "image/png": "[encoded data removed]",
      "text/plain": [
       "<Figure size 1440x1080 with 1 Axes>"
      ]
     },
     "metadata": {
      "needs_background": "light"
     },
     "output_type": "display_data"
    }
   ],
   "source": [
    "#checking for outliers using boxplot\n",
    "\n",
    "for i in df.columns:\n",
    "    if df[i].dtypes!='O':\n",
    "        plt.figure(figsize=(20,15))\n",
    "        plt.subplot(7,3,21)\n",
    "        sns.boxplot(df[i])"
   ]
  },
  {
   "cell_type": "markdown",
   "metadata": {},
   "source": [
    "Observations\n",
    "1. Absenteeism time in hours and height have outliers.\n",
    "2. Rest all column have very few and few have no outliers."
   ]
  },
  {
   "cell_type": "code",
   "execution_count": 85,
   "metadata": {},
   "outputs": [
    {
     "data": {
      "image/png": "[encoded data removed]",
      "text/plain": [
       "<Figure size 864x360 with 1 Axes>"
      ]
     },
     "metadata": {
      "needs_background": "light"
     },
     "output_type": "display_data"
    },
    {
     "data": {
      "image/png": "[encoded data removed]",
      "text/plain": [
       "<Figure size 864x360 with 1 Axes>"
      ]
     },
     "metadata": {
      "needs_background": "light"
     },
     "output_type": "display_data"
    },
    {
     "data": {
      "image/png": "[encoded data removed]",
      "text/plain": [
       "<Figure size 864x360 with 1 Axes>"
      ]
     },
     "metadata": {
      "needs_background": "light"
     },
     "output_type": "display_data"
    },
    {
     "data": {
      "image/png": "[encoded data removed]",
      "text/plain": [
       "<Figure size 864x360 with 1 Axes>"
      ]
     },
     "metadata": {
      "needs_background": "light"
     },
     "output_type": "display_data"
    },
    {
     "data": {
      "image/png": "[encoded data removed]",
      "text/plain": [
       "<Figure size 864x360 with 1 Axes>"
      ]
     },
     "metadata": {
      "needs_background": "light"
     },
     "output_type": "display_data"
    },
    {
     "data": {
      "image/png": "[encoded data removed]",
      "text/plain": [
       "<Figure size 864x360 with 1 Axes>"
      ]
     },
     "metadata": {
      "needs_background": "light"
     },
     "output_type": "display_data"
    },
    {
     "data": {
      "image/png": "[encoded data removed]",
      "text/plain": [
       "<Figure size 864x360 with 1 Axes>"
      ]
     },
     "metadata": {
      "needs_background": "light"
     },
     "output_type": "display_data"
    },
    {
     "data": {
      "image/png": "[encoded data removed]",
      "text/plain": [
       "<Figure size 864x360 with 1 Axes>"
      ]
     },
     "metadata": {
      "needs_background": "light"
     },
     "output_type": "display_data"
    },
    {
     "data": {
      "image/png": "[encoded data removed]",
      "text/plain": [
       "<Figure size 864x360 with 1 Axes>"
      ]
     },
     "metadata": {
      "needs_background": "light"
     },
     "output_type": "display_data"
    },
    {
     "data": {
      "image/png": "[encoded data removed]",
      "text/plain": [
       "<Figure size 864x360 with 1 Axes>"
      ]
     },
     "metadata": {
      "needs_background": "light"
     },
     "output_type": "display_data"
    },
    {
     "data": {
      "image/png": "[encoded data removed]",
      "text/plain": [
       "<Figure size 864x360 with 1 Axes>"
      ]
     },
     "metadata": {
      "needs_background": "light"
     },
     "output_type": "display_data"
    },
    {
     "data": {
      "image/png": "[encoded data removed]",
      "text/plain": [
       "<Figure size 864x360 with 1 Axes>"
      ]
     },
     "metadata": {
      "needs_background": "light"
     },
     "output_type": "display_data"
    },
    {
     "data": {
      "image/png": "[encoded data removed]",
      "text/plain": [
       "<Figure size 864x360 with 1 Axes>"
      ]
     },
     "metadata": {
      "needs_background": "light"
     },
     "output_type": "display_data"
    },
    {
     "data": {
      "image/png": "[encoded data removed]",
      "text/plain": [
       "<Figure size 864x360 with 1 Axes>"
      ]
     },
     "metadata": {
      "needs_background": "light"
     },
     "output_type": "display_data"
    },
    {
     "data": {
      "image/png": "[encoded data removed]",
      "text/plain": [
       "<Figure size 864x360 with 1 Axes>"
      ]
     },
     "metadata": {
      "needs_background": "light"
     },
     "output_type": "display_data"
    },
    {
     "data": {
      "image/png": "[encoded data removed]",
      "text/plain": [
       "<Figure size 864x360 with 1 Axes>"
      ]
     },
     "metadata": {
      "needs_background": "light"
     },
     "output_type": "display_data"
    },
    {
     "data": {
      "image/png": "[encoded data removed]",
      "text/plain": [
       "<Figure size 864x360 with 1 Axes>"
      ]
     },
     "metadata": {
      "needs_background": "light"
     },
     "output_type": "display_data"
    },
    {
     "data": {
      "image/png": "[encoded data removed]",
      "text/plain": [
       "<Figure size 864x360 with 1 Axes>"
      ]
     },
     "metadata": {
      "needs_background": "light"
     },
     "output_type": "display_data"
    },
    {
     "data": {
      "image/png": "[encoded data removed]",
      "text/plain": [
       "<Figure size 864x360 with 1 Axes>"
      ]
     },
     "metadata": {
      "needs_background": "light"
     },
     "output_type": "display_data"
    },
    {
     "data": {
      "image/png": "[encoded data removed]",
      "text/plain": [
       "<Figure size 864x360 with 1 Axes>"
      ]
     },
     "metadata": {
      "needs_background": "light"
     },
     "output_type": "display_data"
    },
    {
     "data": {
      "image/png": "[encoded data removed]",
      "text/plain": [
       "<Figure size 864x360 with 1 Axes>"
      ]
     },
     "metadata": {
      "needs_background": "light"
     },
     "output_type": "display_data"
    }
   ],
   "source": [
    "#scatterplots to check relationship with the target variable\n",
    "\n",
    "for i in df.columns:\n",
    "    if df[i].dtypes!='O':\n",
    "        plt.figure(figsize=(12,5))\n",
    "        plt.title(str(i)+' with '+'Absenteeism')\n",
    "        sns.scatterplot(x=df['Absenteeism time in hours'], y=df[i], data=df)\n",
    "        plt.show()"
   ]
  },
  {
   "cell_type": "markdown",
   "metadata": {},
   "source": [
    "#### checking correlation"
   ]
  },
  {
   "cell_type": "code",
   "execution_count": 86,
   "metadata": {},
   "outputs": [
    {
     "data": {
      "text/html": [
       "<div>\n",
       "<style scoped>\n",
       "    .dataframe tbody tr th:only-of-type {\n",
       "        vertical-align: middle;\n",
       "    }\n",
       "\n",
       "    .dataframe tbody tr th {\n",
       "        vertical-align: top;\n",
       "    }\n",
       "\n",
       "    .dataframe thead th {\n",
       "        text-align: right;\n",
       "    }\n",
       "</style>\n",
       "<table border=\"1\" class=\"dataframe\">\n",
       "  <thead>\n",
       "    <tr style=\"text-align: right;\">\n",
       "      <th></th>\n",
       "      <th>ID</th>\n",
       "      <th>Reason for absence</th>\n",
       "      <th>Month of absence</th>\n",
       "      <th>Day of the week</th>\n",
       "      <th>Seasons</th>\n",
       "      <th>Transportation expense</th>\n",
       "      <th>Distance from Residence to Work</th>\n",
       "      <th>Service time</th>\n",
       "      <th>Age</th>\n",
       "      <th>Work load Average/day</th>\n",
       "      <th>Hit target</th>\n",
       "      <th>Disciplinary failure</th>\n",
       "      <th>Education</th>\n",
       "      <th>Son</th>\n",
       "      <th>Social drinker</th>\n",
       "      <th>Social smoker</th>\n",
       "      <th>Pet</th>\n",
       "      <th>Weight</th>\n",
       "      <th>Height</th>\n",
       "      <th>Body mass index</th>\n",
       "      <th>Absenteeism time in hours</th>\n",
       "    </tr>\n",
       "  </thead>\n",
       "  <tbody>\n",
       "    <tr>\n",
       "      <th>ID</th>\n",
       "      <td>1.000000</td>\n",
       "      <td>-0.067157</td>\n",
       "      <td>-0.001661</td>\n",
       "      <td>0.030529</td>\n",
       "      <td>0.095106</td>\n",
       "      <td>-0.226494</td>\n",
       "      <td>-0.492063</td>\n",
       "      <td>-0.273746</td>\n",
       "      <td>0.037302</td>\n",
       "      <td>0.092754</td>\n",
       "      <td>0.018946</td>\n",
       "      <td>0.004309</td>\n",
       "      <td>-0.036765</td>\n",
       "      <td>0.003887</td>\n",
       "      <td>-0.448699</td>\n",
       "      <td>-0.011108</td>\n",
       "      <td>-0.031957</td>\n",
       "      <td>-0.250996</td>\n",
       "      <td>0.074600</td>\n",
       "      <td>-0.303171</td>\n",
       "      <td>-0.018519</td>\n",
       "    </tr>\n",
       "    <tr>\n",
       "      <th>Reason for absence</th>\n",
       "      <td>-0.067157</td>\n",
       "      <td>1.000000</td>\n",
       "      <td>-0.102748</td>\n",
       "      <td>0.120543</td>\n",
       "      <td>-0.123988</td>\n",
       "      <td>-0.127263</td>\n",
       "      <td>0.164906</td>\n",
       "      <td>0.051336</td>\n",
       "      <td>-0.068840</td>\n",
       "      <td>-0.124865</td>\n",
       "      <td>0.090925</td>\n",
       "      <td>-0.553221</td>\n",
       "      <td>-0.051957</td>\n",
       "      <td>-0.053301</td>\n",
       "      <td>0.068152</td>\n",
       "      <td>-0.119597</td>\n",
       "      <td>-0.036494</td>\n",
       "      <td>0.008961</td>\n",
       "      <td>-0.080842</td>\n",
       "      <td>0.048028</td>\n",
       "      <td>-0.179952</td>\n",
       "    </tr>\n",
       "    <tr>\n",
       "      <th>Month of absence</th>\n",
       "      <td>-0.001661</td>\n",
       "      <td>-0.102748</td>\n",
       "      <td>1.000000</td>\n",
       "      <td>-0.004358</td>\n",
       "      <td>0.407560</td>\n",
       "      <td>0.133624</td>\n",
       "      <td>-0.003052</td>\n",
       "      <td>-0.061394</td>\n",
       "      <td>0.007308</td>\n",
       "      <td>-0.171228</td>\n",
       "      <td>-0.462852</td>\n",
       "      <td>0.106907</td>\n",
       "      <td>-0.069891</td>\n",
       "      <td>0.081789</td>\n",
       "      <td>0.058240</td>\n",
       "      <td>-0.040996</td>\n",
       "      <td>0.066275</td>\n",
       "      <td>0.030949</td>\n",
       "      <td>-0.070007</td>\n",
       "      <td>0.059889</td>\n",
       "      <td>0.020603</td>\n",
       "    </tr>\n",
       "    <tr>\n",
       "      <th>Day of the week</th>\n",
       "      <td>0.030529</td>\n",
       "      <td>0.120543</td>\n",
       "      <td>-0.004358</td>\n",
       "      <td>1.000000</td>\n",
       "      <td>0.044661</td>\n",
       "      <td>0.034014</td>\n",
       "      <td>0.115404</td>\n",
       "      <td>0.020698</td>\n",
       "      <td>-0.000173</td>\n",
       "      <td>0.015682</td>\n",
       "      <td>0.030910</td>\n",
       "      <td>-0.014861</td>\n",
       "      <td>0.059162</td>\n",
       "      <td>0.098248</td>\n",
       "      <td>0.044896</td>\n",
       "      <td>0.013518</td>\n",
       "      <td>-0.025144</td>\n",
       "      <td>-0.128165</td>\n",
       "      <td>-0.083531</td>\n",
       "      <td>-0.102128</td>\n",
       "      <td>-0.124021</td>\n",
       "    </tr>\n",
       "    <tr>\n",
       "      <th>Seasons</th>\n",
       "      <td>0.095106</td>\n",
       "      <td>-0.123988</td>\n",
       "      <td>0.407560</td>\n",
       "      <td>0.044661</td>\n",
       "      <td>1.000000</td>\n",
       "      <td>0.034655</td>\n",
       "      <td>-0.065629</td>\n",
       "      <td>-0.010693</td>\n",
       "      <td>-0.012282</td>\n",
       "      <td>0.150664</td>\n",
       "      <td>-0.061035</td>\n",
       "      <td>0.151547</td>\n",
       "      <td>-0.003824</td>\n",
       "      <td>0.047623</td>\n",
       "      <td>-0.043279</td>\n",
       "      <td>-0.049317</td>\n",
       "      <td>0.023789</td>\n",
       "      <td>-0.022446</td>\n",
       "      <td>-0.034961</td>\n",
       "      <td>-0.006345</td>\n",
       "      <td>-0.006666</td>\n",
       "    </tr>\n",
       "    <tr>\n",
       "      <th>Transportation expense</th>\n",
       "      <td>-0.226494</td>\n",
       "      <td>-0.127263</td>\n",
       "      <td>0.133624</td>\n",
       "      <td>0.034014</td>\n",
       "      <td>0.034655</td>\n",
       "      <td>1.000000</td>\n",
       "      <td>0.261707</td>\n",
       "      <td>-0.350174</td>\n",
       "      <td>-0.225775</td>\n",
       "      <td>0.005429</td>\n",
       "      <td>-0.080046</td>\n",
       "      <td>0.108782</td>\n",
       "      <td>-0.056390</td>\n",
       "      <td>0.383716</td>\n",
       "      <td>0.146350</td>\n",
       "      <td>0.043672</td>\n",
       "      <td>0.421375</td>\n",
       "      <td>-0.205870</td>\n",
       "      <td>-0.195185</td>\n",
       "      <td>-0.134531</td>\n",
       "      <td>0.026215</td>\n",
       "    </tr>\n",
       "    <tr>\n",
       "      <th>Distance from Residence to Work</th>\n",
       "      <td>-0.492063</td>\n",
       "      <td>0.164906</td>\n",
       "      <td>-0.003052</td>\n",
       "      <td>0.115404</td>\n",
       "      <td>-0.065629</td>\n",
       "      <td>0.261707</td>\n",
       "      <td>1.000000</td>\n",
       "      <td>0.131477</td>\n",
       "      <td>-0.149825</td>\n",
       "      <td>-0.068781</td>\n",
       "      <td>-0.013938</td>\n",
       "      <td>-0.056510</td>\n",
       "      <td>-0.259909</td>\n",
       "      <td>0.053906</td>\n",
       "      <td>0.456205</td>\n",
       "      <td>-0.075368</td>\n",
       "      <td>0.218045</td>\n",
       "      <td>-0.046564</td>\n",
       "      <td>-0.355040</td>\n",
       "      <td>0.116527</td>\n",
       "      <td>-0.088307</td>\n",
       "    </tr>\n",
       "    <tr>\n",
       "      <th>Service time</th>\n",
       "      <td>-0.273746</td>\n",
       "      <td>0.051336</td>\n",
       "      <td>-0.061394</td>\n",
       "      <td>0.020698</td>\n",
       "      <td>-0.010693</td>\n",
       "      <td>-0.350174</td>\n",
       "      <td>0.131477</td>\n",
       "      <td>1.000000</td>\n",
       "      <td>0.672880</td>\n",
       "      <td>-0.000661</td>\n",
       "      <td>-0.007954</td>\n",
       "      <td>0.000026</td>\n",
       "      <td>-0.212666</td>\n",
       "      <td>-0.047551</td>\n",
       "      <td>0.353875</td>\n",
       "      <td>0.072737</td>\n",
       "      <td>-0.451301</td>\n",
       "      <td>0.456684</td>\n",
       "      <td>-0.053168</td>\n",
       "      <td>0.501195</td>\n",
       "      <td>0.019580</td>\n",
       "    </tr>\n",
       "    <tr>\n",
       "      <th>Age</th>\n",
       "      <td>0.037302</td>\n",
       "      <td>-0.068840</td>\n",
       "      <td>0.007308</td>\n",
       "      <td>-0.000173</td>\n",
       "      <td>-0.012282</td>\n",
       "      <td>-0.225775</td>\n",
       "      <td>-0.149825</td>\n",
       "      <td>0.672880</td>\n",
       "      <td>1.000000</td>\n",
       "      <td>-0.039580</td>\n",
       "      <td>-0.039933</td>\n",
       "      <td>0.105954</td>\n",
       "      <td>-0.220955</td>\n",
       "      <td>0.056876</td>\n",
       "      <td>0.217472</td>\n",
       "      <td>0.123677</td>\n",
       "      <td>-0.242845</td>\n",
       "      <td>0.420672</td>\n",
       "      <td>-0.064528</td>\n",
       "      <td>0.474164</td>\n",
       "      <td>0.068590</td>\n",
       "    </tr>\n",
       "    <tr>\n",
       "      <th>Work load Average/day</th>\n",
       "      <td>0.092754</td>\n",
       "      <td>-0.124865</td>\n",
       "      <td>-0.171228</td>\n",
       "      <td>0.015682</td>\n",
       "      <td>0.150664</td>\n",
       "      <td>0.005429</td>\n",
       "      <td>-0.068781</td>\n",
       "      <td>-0.000661</td>\n",
       "      <td>-0.039580</td>\n",
       "      <td>1.000000</td>\n",
       "      <td>-0.089444</td>\n",
       "      <td>0.029022</td>\n",
       "      <td>-0.075001</td>\n",
       "      <td>0.027843</td>\n",
       "      <td>-0.033772</td>\n",
       "      <td>0.030965</td>\n",
       "      <td>0.007334</td>\n",
       "      <td>-0.038621</td>\n",
       "      <td>0.103346</td>\n",
       "      <td>-0.091102</td>\n",
       "      <td>0.024748</td>\n",
       "    </tr>\n",
       "    <tr>\n",
       "      <th>Hit target</th>\n",
       "      <td>0.018946</td>\n",
       "      <td>0.090925</td>\n",
       "      <td>-0.462852</td>\n",
       "      <td>0.030910</td>\n",
       "      <td>-0.061035</td>\n",
       "      <td>-0.080046</td>\n",
       "      <td>-0.013938</td>\n",
       "      <td>-0.007954</td>\n",
       "      <td>-0.039933</td>\n",
       "      <td>-0.089444</td>\n",
       "      <td>1.000000</td>\n",
       "      <td>-0.147885</td>\n",
       "      <td>0.101296</td>\n",
       "      <td>-0.014226</td>\n",
       "      <td>-0.102768</td>\n",
       "      <td>0.051388</td>\n",
       "      <td>0.006352</td>\n",
       "      <td>-0.045534</td>\n",
       "      <td>0.093332</td>\n",
       "      <td>-0.089843</td>\n",
       "      <td>0.026941</td>\n",
       "    </tr>\n",
       "    <tr>\n",
       "      <th>Disciplinary failure</th>\n",
       "      <td>0.004309</td>\n",
       "      <td>-0.553221</td>\n",
       "      <td>0.106907</td>\n",
       "      <td>-0.014861</td>\n",
       "      <td>0.151547</td>\n",
       "      <td>0.108782</td>\n",
       "      <td>-0.056510</td>\n",
       "      <td>0.000026</td>\n",
       "      <td>0.105954</td>\n",
       "      <td>0.029022</td>\n",
       "      <td>-0.147885</td>\n",
       "      <td>1.000000</td>\n",
       "      <td>-0.059750</td>\n",
       "      <td>0.072423</td>\n",
       "      <td>0.052139</td>\n",
       "      <td>0.116507</td>\n",
       "      <td>0.021501</td>\n",
       "      <td>0.073429</td>\n",
       "      <td>-0.010575</td>\n",
       "      <td>0.080872</td>\n",
       "      <td>-0.124837</td>\n",
       "    </tr>\n",
       "    <tr>\n",
       "      <th>Education</th>\n",
       "      <td>-0.036765</td>\n",
       "      <td>-0.051957</td>\n",
       "      <td>-0.069891</td>\n",
       "      <td>0.059162</td>\n",
       "      <td>-0.003824</td>\n",
       "      <td>-0.056390</td>\n",
       "      <td>-0.259909</td>\n",
       "      <td>-0.212666</td>\n",
       "      <td>-0.220955</td>\n",
       "      <td>-0.075001</td>\n",
       "      <td>0.101296</td>\n",
       "      <td>-0.059750</td>\n",
       "      <td>1.000000</td>\n",
       "      <td>-0.188290</td>\n",
       "      <td>-0.420627</td>\n",
       "      <td>0.032249</td>\n",
       "      <td>-0.050743</td>\n",
       "      <td>-0.299942</td>\n",
       "      <td>0.100917</td>\n",
       "      <td>-0.366810</td>\n",
       "      <td>-0.047197</td>\n",
       "    </tr>\n",
       "    <tr>\n",
       "      <th>Son</th>\n",
       "      <td>0.003887</td>\n",
       "      <td>-0.053301</td>\n",
       "      <td>0.081789</td>\n",
       "      <td>0.098248</td>\n",
       "      <td>0.047623</td>\n",
       "      <td>0.383716</td>\n",
       "      <td>0.053906</td>\n",
       "      <td>-0.047551</td>\n",
       "      <td>0.056876</td>\n",
       "      <td>0.027843</td>\n",
       "      <td>-0.014226</td>\n",
       "      <td>0.072423</td>\n",
       "      <td>-0.188290</td>\n",
       "      <td>1.000000</td>\n",
       "      <td>0.205820</td>\n",
       "      <td>0.156524</td>\n",
       "      <td>0.110308</td>\n",
       "      <td>-0.142037</td>\n",
       "      <td>-0.013793</td>\n",
       "      <td>-0.147236</td>\n",
       "      <td>0.114487</td>\n",
       "    </tr>\n",
       "    <tr>\n",
       "      <th>Social drinker</th>\n",
       "      <td>-0.448699</td>\n",
       "      <td>0.068152</td>\n",
       "      <td>0.058240</td>\n",
       "      <td>0.044896</td>\n",
       "      <td>-0.043279</td>\n",
       "      <td>0.146350</td>\n",
       "      <td>0.456205</td>\n",
       "      <td>0.353875</td>\n",
       "      <td>0.217472</td>\n",
       "      <td>-0.033772</td>\n",
       "      <td>-0.102768</td>\n",
       "      <td>0.052139</td>\n",
       "      <td>-0.420627</td>\n",
       "      <td>0.205820</td>\n",
       "      <td>1.000000</td>\n",
       "      <td>-0.111682</td>\n",
       "      <td>-0.133207</td>\n",
       "      <td>0.376716</td>\n",
       "      <td>0.171904</td>\n",
       "      <td>0.321166</td>\n",
       "      <td>0.065653</td>\n",
       "    </tr>\n",
       "    <tr>\n",
       "      <th>Social smoker</th>\n",
       "      <td>-0.011108</td>\n",
       "      <td>-0.119597</td>\n",
       "      <td>-0.040996</td>\n",
       "      <td>0.013518</td>\n",
       "      <td>-0.049317</td>\n",
       "      <td>0.043672</td>\n",
       "      <td>-0.075368</td>\n",
       "      <td>0.072737</td>\n",
       "      <td>0.123677</td>\n",
       "      <td>0.030965</td>\n",
       "      <td>0.051388</td>\n",
       "      <td>0.116507</td>\n",
       "      <td>0.032249</td>\n",
       "      <td>0.156524</td>\n",
       "      <td>-0.111682</td>\n",
       "      <td>1.000000</td>\n",
       "      <td>0.110288</td>\n",
       "      <td>-0.198074</td>\n",
       "      <td>0.003188</td>\n",
       "      <td>-0.195706</td>\n",
       "      <td>-0.009537</td>\n",
       "    </tr>\n",
       "    <tr>\n",
       "      <th>Pet</th>\n",
       "      <td>-0.031957</td>\n",
       "      <td>-0.036494</td>\n",
       "      <td>0.066275</td>\n",
       "      <td>-0.025144</td>\n",
       "      <td>0.023789</td>\n",
       "      <td>0.421375</td>\n",
       "      <td>0.218045</td>\n",
       "      <td>-0.451301</td>\n",
       "      <td>-0.242845</td>\n",
       "      <td>0.007334</td>\n",
       "      <td>0.006352</td>\n",
       "      <td>0.021501</td>\n",
       "      <td>-0.050743</td>\n",
       "      <td>0.110308</td>\n",
       "      <td>-0.133207</td>\n",
       "      <td>0.110288</td>\n",
       "      <td>1.000000</td>\n",
       "      <td>-0.119769</td>\n",
       "      <td>-0.102428</td>\n",
       "      <td>-0.093696</td>\n",
       "      <td>-0.024115</td>\n",
       "    </tr>\n",
       "    <tr>\n",
       "      <th>Weight</th>\n",
       "      <td>-0.250996</td>\n",
       "      <td>0.008961</td>\n",
       "      <td>0.030949</td>\n",
       "      <td>-0.128165</td>\n",
       "      <td>-0.022446</td>\n",
       "      <td>-0.205870</td>\n",
       "      <td>-0.046564</td>\n",
       "      <td>0.456684</td>\n",
       "      <td>0.420672</td>\n",
       "      <td>-0.038621</td>\n",
       "      <td>-0.045534</td>\n",
       "      <td>0.073429</td>\n",
       "      <td>-0.299942</td>\n",
       "      <td>-0.142037</td>\n",
       "      <td>0.376716</td>\n",
       "      <td>-0.198074</td>\n",
       "      <td>-0.119769</td>\n",
       "      <td>1.000000</td>\n",
       "      <td>0.309492</td>\n",
       "      <td>0.903495</td>\n",
       "      <td>0.017934</td>\n",
       "    </tr>\n",
       "    <tr>\n",
       "      <th>Height</th>\n",
       "      <td>0.074600</td>\n",
       "      <td>-0.080842</td>\n",
       "      <td>-0.070007</td>\n",
       "      <td>-0.083531</td>\n",
       "      <td>-0.034961</td>\n",
       "      <td>-0.195185</td>\n",
       "      <td>-0.355040</td>\n",
       "      <td>-0.053168</td>\n",
       "      <td>-0.064528</td>\n",
       "      <td>0.103346</td>\n",
       "      <td>0.093332</td>\n",
       "      <td>-0.010575</td>\n",
       "      <td>0.100917</td>\n",
       "      <td>-0.013793</td>\n",
       "      <td>0.171904</td>\n",
       "      <td>0.003188</td>\n",
       "      <td>-0.102428</td>\n",
       "      <td>0.309492</td>\n",
       "      <td>1.000000</td>\n",
       "      <td>-0.119658</td>\n",
       "      <td>0.144389</td>\n",
       "    </tr>\n",
       "    <tr>\n",
       "      <th>Body mass index</th>\n",
       "      <td>-0.303171</td>\n",
       "      <td>0.048028</td>\n",
       "      <td>0.059889</td>\n",
       "      <td>-0.102128</td>\n",
       "      <td>-0.006345</td>\n",
       "      <td>-0.134531</td>\n",
       "      <td>0.116527</td>\n",
       "      <td>0.501195</td>\n",
       "      <td>0.474164</td>\n",
       "      <td>-0.091102</td>\n",
       "      <td>-0.089843</td>\n",
       "      <td>0.080872</td>\n",
       "      <td>-0.366810</td>\n",
       "      <td>-0.147236</td>\n",
       "      <td>0.321166</td>\n",
       "      <td>-0.195706</td>\n",
       "      <td>-0.093696</td>\n",
       "      <td>0.903495</td>\n",
       "      <td>-0.119658</td>\n",
       "      <td>1.000000</td>\n",
       "      <td>-0.047667</td>\n",
       "    </tr>\n",
       "    <tr>\n",
       "      <th>Absenteeism time in hours</th>\n",
       "      <td>-0.018519</td>\n",
       "      <td>-0.179952</td>\n",
       "      <td>0.020603</td>\n",
       "      <td>-0.124021</td>\n",
       "      <td>-0.006666</td>\n",
       "      <td>0.026215</td>\n",
       "      <td>-0.088307</td>\n",
       "      <td>0.019580</td>\n",
       "      <td>0.068590</td>\n",
       "      <td>0.024748</td>\n",
       "      <td>0.026941</td>\n",
       "      <td>-0.124837</td>\n",
       "      <td>-0.047197</td>\n",
       "      <td>0.114487</td>\n",
       "      <td>0.065653</td>\n",
       "      <td>-0.009537</td>\n",
       "      <td>-0.024115</td>\n",
       "      <td>0.017934</td>\n",
       "      <td>0.144389</td>\n",
       "      <td>-0.047667</td>\n",
       "      <td>1.000000</td>\n",
       "    </tr>\n",
       "  </tbody>\n",
       "</table>\n",
       "</div>"
      ],
      "text/plain": [
       "                                       ID  Reason for absence  \\\n",
       "ID                               1.000000           -0.067157   \n",
       "Reason for absence              -0.067157            1.000000   \n",
       "Month of absence                -0.001661           -0.102748   \n",
       "Day of the week                  0.030529            0.120543   \n",
       "Seasons                          0.095106           -0.123988   \n",
       "Transportation expense          -0.226494           -0.127263   \n",
       "Distance from Residence to Work -0.492063            0.164906   \n",
       "Service time                    -0.273746            0.051336   \n",
       "Age                              0.037302           -0.068840   \n",
       "Work load Average/day            0.092754           -0.124865   \n",
       "Hit target                       0.018946            0.090925   \n",
       "Disciplinary failure             0.004309           -0.553221   \n",
       "Education                       -0.036765           -0.051957   \n",
       "Son                              0.003887           -0.053301   \n",
       "Social drinker                  -0.448699            0.068152   \n",
       "Social smoker                   -0.011108           -0.119597   \n",
       "Pet                             -0.031957           -0.036494   \n",
       "Weight                          -0.250996            0.008961   \n",
       "Height                           0.074600           -0.080842   \n",
       "Body mass index                 -0.303171            0.048028   \n",
       "Absenteeism time in hours       -0.018519           -0.179952   \n",
       "\n",
       "                                 Month of absence  Day of the week   Seasons  \\\n",
       "ID                                      -0.001661         0.030529  0.095106   \n",
       "Reason for absence                      -0.102748         0.120543 -0.123988   \n",
       "Month of absence                         1.000000        -0.004358  0.407560   \n",
       "Day of the week                         -0.004358         1.000000  0.044661   \n",
       "Seasons                                  0.407560         0.044661  1.000000   \n",
       "Transportation expense                   0.133624         0.034014  0.034655   \n",
       "Distance from Residence to Work         -0.003052         0.115404 -0.065629   \n",
       "Service time                            -0.061394         0.020698 -0.010693   \n",
       "Age                                      0.007308        -0.000173 -0.012282   \n",
       "Work load Average/day                   -0.171228         0.015682  0.150664   \n",
       "Hit target                              -0.462852         0.030910 -0.061035   \n",
       "Disciplinary failure                     0.106907        -0.014861  0.151547   \n",
       "Education                               -0.069891         0.059162 -0.003824   \n",
       "Son                                      0.081789         0.098248  0.047623   \n",
       "Social drinker                           0.058240         0.044896 -0.043279   \n",
       "Social smoker                           -0.040996         0.013518 -0.049317   \n",
       "Pet                                      0.066275        -0.025144  0.023789   \n",
       "Weight                                   0.030949        -0.128165 -0.022446   \n",
       "Height                                  -0.070007        -0.083531 -0.034961   \n",
       "Body mass index                          0.059889        -0.102128 -0.006345   \n",
       "Absenteeism time in hours                0.020603        -0.124021 -0.006666   \n",
       "\n",
       "                                 Transportation expense  \\\n",
       "ID                                            -0.226494   \n",
       "Reason for absence                            -0.127263   \n",
       "Month of absence                               0.133624   \n",
       "Day of the week                                0.034014   \n",
       "Seasons                                        0.034655   \n",
       "Transportation expense                         1.000000   \n",
       "Distance from Residence to Work                0.261707   \n",
       "Service time                                  -0.350174   \n",
       "Age                                           -0.225775   \n",
       "Work load Average/day                          0.005429   \n",
       "Hit target                                    -0.080046   \n",
       "Disciplinary failure                           0.108782   \n",
       "Education                                     -0.056390   \n",
       "Son                                            0.383716   \n",
       "Social drinker                                 0.146350   \n",
       "Social smoker                                  0.043672   \n",
       "Pet                                            0.421375   \n",
       "Weight                                        -0.205870   \n",
       "Height                                        -0.195185   \n",
       "Body mass index                               -0.134531   \n",
       "Absenteeism time in hours                      0.026215   \n",
       "\n",
       "                                 Distance from Residence to Work  \\\n",
       "ID                                                     -0.492063   \n",
       "Reason for absence                                      0.164906   \n",
       "Month of absence                                       -0.003052   \n",
       "Day of the week                                         0.115404   \n",
       "Seasons                                                -0.065629   \n",
       "Transportation expense                                  0.261707   \n",
       "Distance from Residence to Work                         1.000000   \n",
       "Service time                                            0.131477   \n",
       "Age                                                    -0.149825   \n",
       "Work load Average/day                                  -0.068781   \n",
       "Hit target                                             -0.013938   \n",
       "Disciplinary failure                                   -0.056510   \n",
       "Education                                              -0.259909   \n",
       "Son                                                     0.053906   \n",
       "Social drinker                                          0.456205   \n",
       "Social smoker                                          -0.075368   \n",
       "Pet                                                     0.218045   \n",
       "Weight                                                 -0.046564   \n",
       "Height                                                 -0.355040   \n",
       "Body mass index                                         0.116527   \n",
       "Absenteeism time in hours                              -0.088307   \n",
       "\n",
       "                                 Service time       Age  \\\n",
       "ID                                  -0.273746  0.037302   \n",
       "Reason for absence                   0.051336 -0.068840   \n",
       "Month of absence                    -0.061394  0.007308   \n",
       "Day of the week                      0.020698 -0.000173   \n",
       "Seasons                             -0.010693 -0.012282   \n",
       "Transportation expense              -0.350174 -0.225775   \n",
       "Distance from Residence to Work      0.131477 -0.149825   \n",
       "Service time                         1.000000  0.672880   \n",
       "Age                                  0.672880  1.000000   \n",
       "Work load Average/day               -0.000661 -0.039580   \n",
       "Hit target                          -0.007954 -0.039933   \n",
       "Disciplinary failure                 0.000026  0.105954   \n",
       "Education                           -0.212666 -0.220955   \n",
       "Son                                 -0.047551  0.056876   \n",
       "Social drinker                       0.353875  0.217472   \n",
       "Social smoker                        0.072737  0.123677   \n",
       "Pet                                 -0.451301 -0.242845   \n",
       "Weight                               0.456684  0.420672   \n",
       "Height                              -0.053168 -0.064528   \n",
       "Body mass index                      0.501195  0.474164   \n",
       "Absenteeism time in hours            0.019580  0.068590   \n",
       "\n",
       "                                 Work load Average/day   Hit target  \\\n",
       "ID                                             0.092754    0.018946   \n",
       "Reason for absence                            -0.124865    0.090925   \n",
       "Month of absence                              -0.171228   -0.462852   \n",
       "Day of the week                                0.015682    0.030910   \n",
       "Seasons                                        0.150664   -0.061035   \n",
       "Transportation expense                         0.005429   -0.080046   \n",
       "Distance from Residence to Work               -0.068781   -0.013938   \n",
       "Service time                                  -0.000661   -0.007954   \n",
       "Age                                           -0.039580   -0.039933   \n",
       "Work load Average/day                          1.000000   -0.089444   \n",
       "Hit target                                    -0.089444    1.000000   \n",
       "Disciplinary failure                           0.029022   -0.147885   \n",
       "Education                                     -0.075001    0.101296   \n",
       "Son                                            0.027843   -0.014226   \n",
       "Social drinker                                -0.033772   -0.102768   \n",
       "Social smoker                                  0.030965    0.051388   \n",
       "Pet                                            0.007334    0.006352   \n",
       "Weight                                        -0.038621   -0.045534   \n",
       "Height                                         0.103346    0.093332   \n",
       "Body mass index                               -0.091102   -0.089843   \n",
       "Absenteeism time in hours                      0.024748    0.026941   \n",
       "\n",
       "                                 Disciplinary failure  Education       Son  \\\n",
       "ID                                           0.004309  -0.036765  0.003887   \n",
       "Reason for absence                          -0.553221  -0.051957 -0.053301   \n",
       "Month of absence                             0.106907  -0.069891  0.081789   \n",
       "Day of the week                             -0.014861   0.059162  0.098248   \n",
       "Seasons                                      0.151547  -0.003824  0.047623   \n",
       "Transportation expense                       0.108782  -0.056390  0.383716   \n",
       "Distance from Residence to Work             -0.056510  -0.259909  0.053906   \n",
       "Service time                                 0.000026  -0.212666 -0.047551   \n",
       "Age                                          0.105954  -0.220955  0.056876   \n",
       "Work load Average/day                        0.029022  -0.075001  0.027843   \n",
       "Hit target                                  -0.147885   0.101296 -0.014226   \n",
       "Disciplinary failure                         1.000000  -0.059750  0.072423   \n",
       "Education                                   -0.059750   1.000000 -0.188290   \n",
       "Son                                          0.072423  -0.188290  1.000000   \n",
       "Social drinker                               0.052139  -0.420627  0.205820   \n",
       "Social smoker                                0.116507   0.032249  0.156524   \n",
       "Pet                                          0.021501  -0.050743  0.110308   \n",
       "Weight                                       0.073429  -0.299942 -0.142037   \n",
       "Height                                      -0.010575   0.100917 -0.013793   \n",
       "Body mass index                              0.080872  -0.366810 -0.147236   \n",
       "Absenteeism time in hours                   -0.124837  -0.047197  0.114487   \n",
       "\n",
       "                                 Social drinker  Social smoker       Pet  \\\n",
       "ID                                    -0.448699      -0.011108 -0.031957   \n",
       "Reason for absence                     0.068152      -0.119597 -0.036494   \n",
       "Month of absence                       0.058240      -0.040996  0.066275   \n",
       "Day of the week                        0.044896       0.013518 -0.025144   \n",
       "Seasons                               -0.043279      -0.049317  0.023789   \n",
       "Transportation expense                 0.146350       0.043672  0.421375   \n",
       "Distance from Residence to Work        0.456205      -0.075368  0.218045   \n",
       "Service time                           0.353875       0.072737 -0.451301   \n",
       "Age                                    0.217472       0.123677 -0.242845   \n",
       "Work load Average/day                 -0.033772       0.030965  0.007334   \n",
       "Hit target                            -0.102768       0.051388  0.006352   \n",
       "Disciplinary failure                   0.052139       0.116507  0.021501   \n",
       "Education                             -0.420627       0.032249 -0.050743   \n",
       "Son                                    0.205820       0.156524  0.110308   \n",
       "Social drinker                         1.000000      -0.111682 -0.133207   \n",
       "Social smoker                         -0.111682       1.000000  0.110288   \n",
       "Pet                                   -0.133207       0.110288  1.000000   \n",
       "Weight                                 0.376716      -0.198074 -0.119769   \n",
       "Height                                 0.171904       0.003188 -0.102428   \n",
       "Body mass index                        0.321166      -0.195706 -0.093696   \n",
       "Absenteeism time in hours              0.065653      -0.009537 -0.024115   \n",
       "\n",
       "                                   Weight    Height  Body mass index  \\\n",
       "ID                              -0.250996  0.074600        -0.303171   \n",
       "Reason for absence               0.008961 -0.080842         0.048028   \n",
       "Month of absence                 0.030949 -0.070007         0.059889   \n",
       "Day of the week                 -0.128165 -0.083531        -0.102128   \n",
       "Seasons                         -0.022446 -0.034961        -0.006345   \n",
       "Transportation expense          -0.205870 -0.195185        -0.134531   \n",
       "Distance from Residence to Work -0.046564 -0.355040         0.116527   \n",
       "Service time                     0.456684 -0.053168         0.501195   \n",
       "Age                              0.420672 -0.064528         0.474164   \n",
       "Work load Average/day           -0.038621  0.103346        -0.091102   \n",
       "Hit target                      -0.045534  0.093332        -0.089843   \n",
       "Disciplinary failure             0.073429 -0.010575         0.080872   \n",
       "Education                       -0.299942  0.100917        -0.366810   \n",
       "Son                             -0.142037 -0.013793        -0.147236   \n",
       "Social drinker                   0.376716  0.171904         0.321166   \n",
       "Social smoker                   -0.198074  0.003188        -0.195706   \n",
       "Pet                             -0.119769 -0.102428        -0.093696   \n",
       "Weight                           1.000000  0.309492         0.903495   \n",
       "Height                           0.309492  1.000000        -0.119658   \n",
       "Body mass index                  0.903495 -0.119658         1.000000   \n",
       "Absenteeism time in hours        0.017934  0.144389        -0.047667   \n",
       "\n",
       "                                 Absenteeism time in hours  \n",
       "ID                                               -0.018519  \n",
       "Reason for absence                               -0.179952  \n",
       "Month of absence                                  0.020603  \n",
       "Day of the week                                  -0.124021  \n",
       "Seasons                                          -0.006666  \n",
       "Transportation expense                            0.026215  \n",
       "Distance from Residence to Work                  -0.088307  \n",
       "Service time                                      0.019580  \n",
       "Age                                               0.068590  \n",
       "Work load Average/day                             0.024748  \n",
       "Hit target                                        0.026941  \n",
       "Disciplinary failure                             -0.124837  \n",
       "Education                                        -0.047197  \n",
       "Son                                               0.114487  \n",
       "Social drinker                                    0.065653  \n",
       "Social smoker                                    -0.009537  \n",
       "Pet                                              -0.024115  \n",
       "Weight                                            0.017934  \n",
       "Height                                            0.144389  \n",
       "Body mass index                                  -0.047667  \n",
       "Absenteeism time in hours                         1.000000  "
      ]
     },
     "execution_count": 86,
     "metadata": {},
     "output_type": "execute_result"
    }
   ],
   "source": [
    "df.corr()"
   ]
  },
  {
   "cell_type": "code",
   "execution_count": 87,
   "metadata": {},
   "outputs": [
    {
     "data": {
      "text/plain": [
       "<matplotlib.axes._subplots.AxesSubplot at 0x1abf89f5248>"
      ]
     },
     "execution_count": 87,
     "metadata": {},
     "output_type": "execute_result"
    },
    {
     "data": {
      "image/png": "[encoded data removed]",
      "text/plain": [
       "<Figure size 432x288 with 2 Axes>"
      ]
     },
     "metadata": {
      "needs_background": "light"
     },
     "output_type": "display_data"
    }
   ],
   "source": [
    "sns.heatmap(df.corr())"
   ]
  },
  {
   "cell_type": "markdown",
   "metadata": {},
   "source": [
    "Observations\n",
    "1. None of the attributes show clear positive correlation with the target absenteeism.\n",
    "2. Age has positive correlation of some extent with BMI, weight and service.\n"
   ]
  },
  {
   "cell_type": "markdown",
   "metadata": {},
   "source": [
    "#### Analysing by grouping data\n"
   ]
  },
  {
   "cell_type": "code",
   "execution_count": 88,
   "metadata": {},
   "outputs": [
    {
     "data": {
      "text/html": [
       "<div>\n",
       "<style scoped>\n",
       "    .dataframe tbody tr th:only-of-type {\n",
       "        vertical-align: middle;\n",
       "    }\n",
       "\n",
       "    .dataframe tbody tr th {\n",
       "        vertical-align: top;\n",
       "    }\n",
       "\n",
       "    .dataframe thead th {\n",
       "        text-align: right;\n",
       "    }\n",
       "</style>\n",
       "<table border=\"1\" class=\"dataframe\">\n",
       "  <thead>\n",
       "    <tr style=\"text-align: right;\">\n",
       "      <th></th>\n",
       "      <th>Absenteeism time in hours</th>\n",
       "    </tr>\n",
       "    <tr>\n",
       "      <th>Month of absence</th>\n",
       "      <th></th>\n",
       "    </tr>\n",
       "  </thead>\n",
       "  <tbody>\n",
       "    <tr>\n",
       "      <th>1</th>\n",
       "      <td>222</td>\n",
       "    </tr>\n",
       "    <tr>\n",
       "      <th>2</th>\n",
       "      <td>294</td>\n",
       "    </tr>\n",
       "    <tr>\n",
       "      <th>3</th>\n",
       "      <td>765</td>\n",
       "    </tr>\n",
       "    <tr>\n",
       "      <th>4</th>\n",
       "      <td>482</td>\n",
       "    </tr>\n",
       "    <tr>\n",
       "      <th>5</th>\n",
       "      <td>400</td>\n",
       "    </tr>\n",
       "    <tr>\n",
       "      <th>6</th>\n",
       "      <td>411</td>\n",
       "    </tr>\n",
       "    <tr>\n",
       "      <th>7</th>\n",
       "      <td>734</td>\n",
       "    </tr>\n",
       "    <tr>\n",
       "      <th>8</th>\n",
       "      <td>288</td>\n",
       "    </tr>\n",
       "    <tr>\n",
       "      <th>9</th>\n",
       "      <td>292</td>\n",
       "    </tr>\n",
       "    <tr>\n",
       "      <th>10</th>\n",
       "      <td>349</td>\n",
       "    </tr>\n",
       "    <tr>\n",
       "      <th>11</th>\n",
       "      <td>473</td>\n",
       "    </tr>\n",
       "    <tr>\n",
       "      <th>12</th>\n",
       "      <td>414</td>\n",
       "    </tr>\n",
       "  </tbody>\n",
       "</table>\n",
       "</div>"
      ],
      "text/plain": [
       "                  Absenteeism time in hours\n",
       "Month of absence                           \n",
       "1                                       222\n",
       "2                                       294\n",
       "3                                       765\n",
       "4                                       482\n",
       "5                                       400\n",
       "6                                       411\n",
       "7                                       734\n",
       "8                                       288\n",
       "9                                       292\n",
       "10                                      349\n",
       "11                                      473\n",
       "12                                      414"
      ]
     },
     "execution_count": 88,
     "metadata": {},
     "output_type": "execute_result"
    }
   ],
   "source": [
    "df.groupby(['Month of absence'])[['Absenteeism time in hours']].sum()"
   ]
  },
  {
   "cell_type": "code",
   "execution_count": 89,
   "metadata": {},
   "outputs": [
    {
     "data": {
      "image/png": "[encoded data removed]",
      "text/plain": [
       "<Figure size 576x288 with 1 Axes>"
      ]
     },
     "metadata": {
      "needs_background": "light"
     },
     "output_type": "display_data"
    }
   ],
   "source": [
    "month_absenteeism=df.groupby(['Month of absence'])[['Absenteeism time in hours']].sum()\n",
    "ax=month_absenteeism.plot(kind='bar',figsize=(8,4))\n",
    "for i,v in enumerate(month_absenteeism.values):\n",
    "     ax.text(i-.25, v +0.2, str(v[0]), color='red')\n",
    "ax.set_xlabel('Month of Absenteeism')\n",
    "ax.set_ylabel('Absenteeism in Hours')\n",
    "ax.set_title('Month wise Absenteeism of Employees')\n",
    "plt.show()"
   ]
  },
  {
   "cell_type": "markdown",
   "metadata": {},
   "source": [
    "Observations\n",
    "1. July and March have noticed highest absenteeism in total no.of hours."
   ]
  },
  {
   "cell_type": "code",
   "execution_count": 90,
   "metadata": {},
   "outputs": [
    {
     "data": {
      "image/png": "[encoded data removed]",
      "text/plain": [
       "<Figure size 576x288 with 1 Axes>"
      ]
     },
     "metadata": {
      "needs_background": "light"
     },
     "output_type": "display_data"
    }
   ],
   "source": [
    "df.groupby(['Seasons']).sum()\n",
    "season_absenteeism=df.groupby(['Seasons'])[['Absenteeism time in hours']].sum()\n",
    "ax=season_absenteeism.plot(kind='bar',figsize=(8,4))\n",
    "for i,v in enumerate(season_absenteeism.values):\n",
    "     ax.text(i-.25, v +0.2, str(v[0]), color='red')\n",
    "ax.set_xlabel('Season')\n",
    "ax.set_ylabel('Absenteeism in Hours')\n",
    "ax.set_title('Season wise Absenteeism of Employees')\n",
    "plt.show()"
   ]
  },
  {
   "cell_type": "markdown",
   "metadata": {},
   "source": [
    "Observations\n",
    "1. Winter has witnessed more absenteeism followed by summer."
   ]
  },
  {
   "cell_type": "code",
   "execution_count": 91,
   "metadata": {},
   "outputs": [
    {
     "data": {
      "text/html": [
       "<div>\n",
       "<style scoped>\n",
       "    .dataframe tbody tr th:only-of-type {\n",
       "        vertical-align: middle;\n",
       "    }\n",
       "\n",
       "    .dataframe tbody tr th {\n",
       "        vertical-align: top;\n",
       "    }\n",
       "\n",
       "    .dataframe thead th {\n",
       "        text-align: right;\n",
       "    }\n",
       "</style>\n",
       "<table border=\"1\" class=\"dataframe\">\n",
       "  <thead>\n",
       "    <tr style=\"text-align: right;\">\n",
       "      <th></th>\n",
       "      <th>ID</th>\n",
       "      <th>Reason for absence</th>\n",
       "      <th>Month of absence</th>\n",
       "      <th>Day of the week</th>\n",
       "      <th>Seasons</th>\n",
       "      <th>Transportation expense</th>\n",
       "      <th>Distance from Residence to Work</th>\n",
       "      <th>Service time</th>\n",
       "      <th>Age</th>\n",
       "      <th>Work load Average/day</th>\n",
       "      <th>Hit target</th>\n",
       "      <th>Education</th>\n",
       "      <th>Son</th>\n",
       "      <th>Social drinker</th>\n",
       "      <th>Social smoker</th>\n",
       "      <th>Pet</th>\n",
       "      <th>Weight</th>\n",
       "      <th>Height</th>\n",
       "      <th>Body mass index</th>\n",
       "      <th>Absenteeism time in hours</th>\n",
       "    </tr>\n",
       "    <tr>\n",
       "      <th>Disciplinary failure</th>\n",
       "      <th></th>\n",
       "      <th></th>\n",
       "      <th></th>\n",
       "      <th></th>\n",
       "      <th></th>\n",
       "      <th></th>\n",
       "      <th></th>\n",
       "      <th></th>\n",
       "      <th></th>\n",
       "      <th></th>\n",
       "      <th></th>\n",
       "      <th></th>\n",
       "      <th></th>\n",
       "      <th></th>\n",
       "      <th></th>\n",
       "      <th></th>\n",
       "      <th></th>\n",
       "      <th></th>\n",
       "      <th></th>\n",
       "      <th></th>\n",
       "    </tr>\n",
       "  </thead>\n",
       "  <tbody>\n",
       "    <tr>\n",
       "      <th>0</th>\n",
       "      <td>18.015782</td>\n",
       "      <td>20.401722</td>\n",
       "      <td>6.262554</td>\n",
       "      <td>3.918221</td>\n",
       "      <td>2.506456</td>\n",
       "      <td>219.770445</td>\n",
       "      <td>29.824964</td>\n",
       "      <td>12.549498</td>\n",
       "      <td>36.25538</td>\n",
       "      <td>271219.416069</td>\n",
       "      <td>94.72023</td>\n",
       "      <td>1.302726</td>\n",
       "      <td>0.998565</td>\n",
       "      <td>0.560976</td>\n",
       "      <td>0.065997</td>\n",
       "      <td>0.727403</td>\n",
       "      <td>78.757532</td>\n",
       "      <td>172.131994</td>\n",
       "      <td>26.575323</td>\n",
       "      <td>7.351506</td>\n",
       "    </tr>\n",
       "    <tr>\n",
       "      <th>1</th>\n",
       "      <td>18.225000</td>\n",
       "      <td>0.000000</td>\n",
       "      <td>7.875000</td>\n",
       "      <td>3.825000</td>\n",
       "      <td>3.250000</td>\n",
       "      <td>251.900000</td>\n",
       "      <td>26.125000</td>\n",
       "      <td>12.550000</td>\n",
       "      <td>39.27500</td>\n",
       "      <td>276229.600000</td>\n",
       "      <td>92.25000</td>\n",
       "      <td>1.125000</td>\n",
       "      <td>1.350000</td>\n",
       "      <td>0.675000</td>\n",
       "      <td>0.200000</td>\n",
       "      <td>0.850000</td>\n",
       "      <td>82.925000</td>\n",
       "      <td>171.850000</td>\n",
       "      <td>28.100000</td>\n",
       "      <td>0.000000</td>\n",
       "    </tr>\n",
       "  </tbody>\n",
       "</table>\n",
       "</div>"
      ],
      "text/plain": [
       "                             ID  Reason for absence  Month of absence  \\\n",
       "Disciplinary failure                                                    \n",
       "0                     18.015782           20.401722          6.262554   \n",
       "1                     18.225000            0.000000          7.875000   \n",
       "\n",
       "                      Day of the week   Seasons  Transportation expense  \\\n",
       "Disciplinary failure                                                      \n",
       "0                            3.918221  2.506456              219.770445   \n",
       "1                            3.825000  3.250000              251.900000   \n",
       "\n",
       "                      Distance from Residence to Work  Service time       Age  \\\n",
       "Disciplinary failure                                                            \n",
       "0                                           29.824964     12.549498  36.25538   \n",
       "1                                           26.125000     12.550000  39.27500   \n",
       "\n",
       "                      Work load Average/day   Hit target  Education       Son  \\\n",
       "Disciplinary failure                                                            \n",
       "0                              271219.416069    94.72023   1.302726  0.998565   \n",
       "1                              276229.600000    92.25000   1.125000  1.350000   \n",
       "\n",
       "                      Social drinker  Social smoker       Pet     Weight  \\\n",
       "Disciplinary failure                                                       \n",
       "0                           0.560976       0.065997  0.727403  78.757532   \n",
       "1                           0.675000       0.200000  0.850000  82.925000   \n",
       "\n",
       "                          Height  Body mass index  Absenteeism time in hours  \n",
       "Disciplinary failure                                                          \n",
       "0                     172.131994        26.575323                   7.351506  \n",
       "1                     171.850000        28.100000                   0.000000  "
      ]
     },
     "execution_count": 91,
     "metadata": {},
     "output_type": "execute_result"
    }
   ],
   "source": [
    "df.groupby(['Disciplinary failure']).mean()"
   ]
  },
  {
   "cell_type": "markdown",
   "metadata": {},
   "source": [
    "Observations\n",
    "1. The absenteeism time where displinary failure is 1 is zero.\n",
    "2. Where displinary failure is zero, the avg absenteeism is 7.32 hours."
   ]
  },
  {
   "cell_type": "code",
   "execution_count": 92,
   "metadata": {},
   "outputs": [
    {
     "data": {
      "image/png": "[encoded data removed]",
      "text/plain": [
       "<Figure size 576x288 with 1 Axes>"
      ]
     },
     "metadata": {
      "needs_background": "light"
     },
     "output_type": "display_data"
    }
   ],
   "source": [
    "\n",
    "education_absenteeism=df.groupby(['Education'])[['Absenteeism time in hours']].sum()\n",
    "ax=education_absenteeism.plot(kind='bar',figsize=(8,4))\n",
    "for i,v in enumerate(education_absenteeism.values):\n",
    "     ax.text(i-.25, v +0.2, str(v[0]), color='red')\n",
    "ax.set_xlabel('Education')\n",
    "ax.set_ylabel('Absenteeism in Hours')\n",
    "ax.set_title('Education wise Absenteeism of Employees')\n",
    "plt.show()"
   ]
  },
  {
   "cell_type": "markdown",
   "metadata": {},
   "source": [
    "Observations\n",
    "1. Absenteeism is highest amongst those who education is upto high school level.\n",
    "2. The average absenteeism is less for post graduates and phds and masters.\n"
   ]
  },
  {
   "cell_type": "code",
   "execution_count": 93,
   "metadata": {},
   "outputs": [
    {
     "data": {
      "image/png": "[encoded data removed]",
      "text/plain": [
       "<Figure size 576x288 with 1 Axes>"
      ]
     },
     "metadata": {
      "needs_background": "light"
     },
     "output_type": "display_data"
    }
   ],
   "source": [
    "df.groupby(['Son']).mean()\n",
    "son_absenteeism=df.groupby(['Son'])[['Absenteeism time in hours']].mean()\n",
    "ax=son_absenteeism.plot(kind='bar',figsize=(8,4))\n",
    "for i,v in enumerate(son_absenteeism.values):\n",
    "     ax.text(i-.25, v +0.2, str(np.int(np.round(v))), color='red')\n",
    "ax.set_xlabel('Son')\n",
    "ax.set_ylabel('Absenteeism in Hours')\n",
    "ax.set_title('Son wise Absenteeism of Employees')\n",
    "plt.show()"
   ]
  },
  {
   "cell_type": "markdown",
   "metadata": {},
   "source": [
    "Observations:\n",
    "1. Where avg no of sons are 3 and 4, the average absenteeism is highest at 10 and 12 respectively."
   ]
  },
  {
   "cell_type": "code",
   "execution_count": 94,
   "metadata": {},
   "outputs": [
    {
     "data": {
      "image/png": "[encoded data removed]",
      "text/plain": [
       "<Figure size 576x288 with 1 Axes>"
      ]
     },
     "metadata": {
      "needs_background": "light"
     },
     "output_type": "display_data"
    }
   ],
   "source": [
    "\n",
    "Socialdrinker_absenteeism=df.groupby(['Social drinker'])[['Absenteeism time in hours']].sum()\n",
    "ax=Socialdrinker_absenteeism.plot(kind='bar',figsize=(8,4))\n",
    "for i,v in enumerate(Socialdrinker_absenteeism.values):\n",
    "     ax.text(i-.25, v +0.2, str(v[0]), color='red')\n",
    "ax.set_xlabel('Social drinker')\n",
    "ax.set_ylabel('Absenteeism in Hours')\n",
    "ax.set_title('Social drinker wise Absenteeism of Employees')\n",
    "plt.show()"
   ]
  },
  {
   "cell_type": "markdown",
   "metadata": {},
   "source": [
    "Observations:\n",
    "1. The total absenteeism is more when a person is social drinker."
   ]
  },
  {
   "cell_type": "code",
   "execution_count": 95,
   "metadata": {},
   "outputs": [
    {
     "data": {
      "image/png": "[encoded data removed]",
      "text/plain": [
       "<Figure size 576x288 with 1 Axes>"
      ]
     },
     "metadata": {
      "needs_background": "light"
     },
     "output_type": "display_data"
    }
   ],
   "source": [
    "\n",
    "Social_smoker_absenteeism=df.groupby(['Social smoker'])[['Absenteeism time in hours']].sum()\n",
    "ax=Social_smoker_absenteeism.plot(kind='bar',figsize=(8,4))\n",
    "for i,v in enumerate(Social_smoker_absenteeism.values):\n",
    "     ax.text(i-.25, v +0.2, str(v[0]), color='red')\n",
    "ax.set_xlabel('Social smoker')\n",
    "ax.set_ylabel('Absenteeism in Hours')\n",
    "ax.set_title('Social smoker wise Absenteeism of Employees')\n",
    "plt.show()"
   ]
  },
  {
   "cell_type": "markdown",
   "metadata": {},
   "source": [
    "Observations\n",
    "1. The total no. of hours of a social smoker is very less than the non social smoker."
   ]
  },
  {
   "cell_type": "code",
   "execution_count": 96,
   "metadata": {},
   "outputs": [
    {
     "data": {
      "image/png": "[encoded data removed]",
      "text/plain": [
       "<Figure size 576x288 with 1 Axes>"
      ]
     },
     "metadata": {
      "needs_background": "light"
     },
     "output_type": "display_data"
    }
   ],
   "source": [
    "\n",
    "Pet_absenteeism=df.groupby(['Pet'])[['Absenteeism time in hours']].sum()\n",
    "ax=Pet_absenteeism.plot(kind='bar',figsize=(8,4))\n",
    "for i,v in enumerate(Pet_absenteeism.values):\n",
    "     ax.text(i-.25, v +0.2, str(v[0]), color='red')\n",
    "ax.set_xlabel('Pet')\n",
    "ax.set_ylabel('Absenteeism in Hours')\n",
    "ax.set_title('Pet wise Absenteeism of Employees')\n",
    "plt.show()"
   ]
  },
  {
   "cell_type": "markdown",
   "metadata": {},
   "source": [
    "Observations\n",
    "1. Absenteeism is highest when there are no pets and with no. of pets increasing, the total hours of absenteeism decreases."
   ]
  },
  {
   "cell_type": "code",
   "execution_count": 97,
   "metadata": {},
   "outputs": [
    {
     "data": {
      "image/png": "[encoded data removed]",
      "text/plain": [
       "<Figure size 576x288 with 1 Axes>"
      ]
     },
     "metadata": {
      "needs_background": "light"
     },
     "output_type": "display_data"
    }
   ],
   "source": [
    "\n",
    "Reason_for_absence_absenteeism=df.groupby(['Reason for absence'])[['Absenteeism time in hours']].sum()\n",
    "ax=Reason_for_absence_absenteeism.plot(kind='bar',figsize=(8,4))\n",
    "for i,v in enumerate(Reason_for_absence_absenteeism.values):\n",
    "     ax.text(i-.25, v +0.2, str(v[0]), color='red')\n",
    "ax.set_xlabel('Reason for absence')\n",
    "ax.set_ylabel('Absenteeism in Hours')\n",
    "ax.set_title('Reason for absence wise Absenteeism of Employees')\n",
    "plt.show()"
   ]
  },
  {
   "cell_type": "markdown",
   "metadata": {},
   "source": [
    "Observations\n",
    "1. Reason no. 13 (Diseases of the musculoskeletal system and connective tissue) and reason no. 19 ( Injury, poisoning and certain other consequences of external causes) accounts for two highest reasons for absenteeism.\n"
   ]
  },
  {
   "cell_type": "code",
   "execution_count": 98,
   "metadata": {},
   "outputs": [
    {
     "data": {
      "text/plain": [
       "<matplotlib.axes._subplots.AxesSubplot at 0x1abfc0cf0c8>"
      ]
     },
     "execution_count": 98,
     "metadata": {},
     "output_type": "execute_result"
    },
    {
     "data": {
      "image/png": "[encoded data removed]",
      "text/plain": [
       "<Figure size 432x288 with 1 Axes>"
      ]
     },
     "metadata": {
      "needs_background": "light"
     },
     "output_type": "display_data"
    }
   ],
   "source": [
    "sns.countplot(df['Reason for absence'])"
   ]
  },
  {
   "cell_type": "markdown",
   "metadata": {},
   "source": [
    "Observations\n",
    "1. The no. of times the reasons repeated most for the absence are :\n",
    "    reason no. 23 -  medical consultation \n",
    "    reason no. 28 -  dental consultation "
   ]
  },
  {
   "cell_type": "code",
   "execution_count": 99,
   "metadata": {},
   "outputs": [
    {
     "data": {
      "image/png": "[encoded data removed]",
      "text/plain": [
       "<Figure size 576x288 with 1 Axes>"
      ]
     },
     "metadata": {
      "needs_background": "light"
     },
     "output_type": "display_data"
    }
   ],
   "source": [
    "age_absent=df.groupby(['Age'])[['Absenteeism time in hours']].mean()\n",
    "ax=age_absent.plot(kind='bar',figsize=(8,4))\n",
    "for i,v in enumerate(age_absent.values):\n",
    "     ax.text(i-.25, v +0.2, str(np.int(np.round(v))), color='red')\n",
    "ax.set_xlabel('Age')\n",
    "ax.set_ylabel('Absenteeism in Hours')\n",
    "ax.set_title('Age wise Absenteeism of Employees')\n",
    "plt.show()"
   ]
  },
  {
   "cell_type": "markdown",
   "metadata": {},
   "source": [
    "Observations\n",
    "For age 58, the absenteeism is high at 33, for rest it doesn't make much difference."
   ]
  },
  {
   "cell_type": "code",
   "execution_count": 100,
   "metadata": {},
   "outputs": [
    {
     "data": {
      "image/png": "[encoded data removed]",
      "text/plain": [
       "<Figure size 576x288 with 1 Axes>"
      ]
     },
     "metadata": {
      "needs_background": "light"
     },
     "output_type": "display_data"
    }
   ],
   "source": [
    "dist_absent=df.groupby(['Distance from Residence to Work'])[['Absenteeism time in hours']].mean()\n",
    "ax=dist_absent.plot(kind='bar',figsize=(8,4))\n",
    "for i,v in enumerate(dist_absent.values):\n",
    "     ax.text(i-.25, v +0.2, str(np.int(np.round(v))), color='red')\n",
    "ax.set_xlabel('Distance from Residence to work (in Kms)')\n",
    "ax.set_ylabel('Absenteeism in Hours')\n",
    "ax.set_title('Distance wise Absenteeism of Employees')\n",
    "plt.show()"
   ]
  },
  {
   "cell_type": "code",
   "execution_count": 101,
   "metadata": {},
   "outputs": [],
   "source": [
    "#There is no relationship between distance from residence to work and absenteeism."
   ]
  },
  {
   "cell_type": "code",
   "execution_count": 102,
   "metadata": {},
   "outputs": [
    {
     "data": {
      "text/html": [
       "<div>\n",
       "<style scoped>\n",
       "    .dataframe tbody tr th:only-of-type {\n",
       "        vertical-align: middle;\n",
       "    }\n",
       "\n",
       "    .dataframe tbody tr th {\n",
       "        vertical-align: top;\n",
       "    }\n",
       "\n",
       "    .dataframe thead th {\n",
       "        text-align: right;\n",
       "    }\n",
       "</style>\n",
       "<table border=\"1\" class=\"dataframe\">\n",
       "  <thead>\n",
       "    <tr style=\"text-align: right;\">\n",
       "      <th></th>\n",
       "      <th>Reason for absence</th>\n",
       "      <th>Month of absence</th>\n",
       "      <th>Day of the week</th>\n",
       "      <th>Seasons</th>\n",
       "      <th>Transportation expense</th>\n",
       "      <th>Distance from Residence to Work</th>\n",
       "      <th>Service time</th>\n",
       "      <th>Age</th>\n",
       "      <th>Work load Average/day</th>\n",
       "      <th>Hit target</th>\n",
       "      <th>Disciplinary failure</th>\n",
       "      <th>Education</th>\n",
       "      <th>Son</th>\n",
       "      <th>Social drinker</th>\n",
       "      <th>Social smoker</th>\n",
       "      <th>Pet</th>\n",
       "      <th>Weight</th>\n",
       "      <th>Height</th>\n",
       "      <th>Body mass index</th>\n",
       "      <th>Absenteeism time in hours</th>\n",
       "    </tr>\n",
       "  </thead>\n",
       "  <tbody>\n",
       "    <tr>\n",
       "      <th>0</th>\n",
       "      <td>26</td>\n",
       "      <td>7</td>\n",
       "      <td>3</td>\n",
       "      <td>1</td>\n",
       "      <td>289</td>\n",
       "      <td>36</td>\n",
       "      <td>13</td>\n",
       "      <td>33</td>\n",
       "      <td>239554</td>\n",
       "      <td>97</td>\n",
       "      <td>0</td>\n",
       "      <td>1</td>\n",
       "      <td>2</td>\n",
       "      <td>1</td>\n",
       "      <td>0</td>\n",
       "      <td>1</td>\n",
       "      <td>90</td>\n",
       "      <td>172</td>\n",
       "      <td>30</td>\n",
       "      <td>4</td>\n",
       "    </tr>\n",
       "    <tr>\n",
       "      <th>1</th>\n",
       "      <td>0</td>\n",
       "      <td>7</td>\n",
       "      <td>3</td>\n",
       "      <td>1</td>\n",
       "      <td>118</td>\n",
       "      <td>13</td>\n",
       "      <td>18</td>\n",
       "      <td>50</td>\n",
       "      <td>239554</td>\n",
       "      <td>97</td>\n",
       "      <td>1</td>\n",
       "      <td>1</td>\n",
       "      <td>1</td>\n",
       "      <td>1</td>\n",
       "      <td>0</td>\n",
       "      <td>0</td>\n",
       "      <td>98</td>\n",
       "      <td>178</td>\n",
       "      <td>31</td>\n",
       "      <td>0</td>\n",
       "    </tr>\n",
       "    <tr>\n",
       "      <th>2</th>\n",
       "      <td>23</td>\n",
       "      <td>7</td>\n",
       "      <td>4</td>\n",
       "      <td>1</td>\n",
       "      <td>179</td>\n",
       "      <td>51</td>\n",
       "      <td>18</td>\n",
       "      <td>38</td>\n",
       "      <td>239554</td>\n",
       "      <td>97</td>\n",
       "      <td>0</td>\n",
       "      <td>1</td>\n",
       "      <td>0</td>\n",
       "      <td>1</td>\n",
       "      <td>0</td>\n",
       "      <td>0</td>\n",
       "      <td>89</td>\n",
       "      <td>170</td>\n",
       "      <td>31</td>\n",
       "      <td>2</td>\n",
       "    </tr>\n",
       "    <tr>\n",
       "      <th>3</th>\n",
       "      <td>7</td>\n",
       "      <td>7</td>\n",
       "      <td>5</td>\n",
       "      <td>1</td>\n",
       "      <td>279</td>\n",
       "      <td>5</td>\n",
       "      <td>14</td>\n",
       "      <td>39</td>\n",
       "      <td>239554</td>\n",
       "      <td>97</td>\n",
       "      <td>0</td>\n",
       "      <td>1</td>\n",
       "      <td>2</td>\n",
       "      <td>1</td>\n",
       "      <td>1</td>\n",
       "      <td>0</td>\n",
       "      <td>68</td>\n",
       "      <td>168</td>\n",
       "      <td>24</td>\n",
       "      <td>4</td>\n",
       "    </tr>\n",
       "    <tr>\n",
       "      <th>4</th>\n",
       "      <td>23</td>\n",
       "      <td>7</td>\n",
       "      <td>5</td>\n",
       "      <td>1</td>\n",
       "      <td>289</td>\n",
       "      <td>36</td>\n",
       "      <td>13</td>\n",
       "      <td>33</td>\n",
       "      <td>239554</td>\n",
       "      <td>97</td>\n",
       "      <td>0</td>\n",
       "      <td>1</td>\n",
       "      <td>2</td>\n",
       "      <td>1</td>\n",
       "      <td>0</td>\n",
       "      <td>1</td>\n",
       "      <td>90</td>\n",
       "      <td>172</td>\n",
       "      <td>30</td>\n",
       "      <td>2</td>\n",
       "    </tr>\n",
       "  </tbody>\n",
       "</table>\n",
       "</div>"
      ],
      "text/plain": [
       "   Reason for absence  Month of absence  Day of the week  Seasons  \\\n",
       "0                  26                 7                3        1   \n",
       "1                   0                 7                3        1   \n",
       "2                  23                 7                4        1   \n",
       "3                   7                 7                5        1   \n",
       "4                  23                 7                5        1   \n",
       "\n",
       "   Transportation expense  Distance from Residence to Work  Service time  Age  \\\n",
       "0                     289                               36            13   33   \n",
       "1                     118                               13            18   50   \n",
       "2                     179                               51            18   38   \n",
       "3                     279                                5            14   39   \n",
       "4                     289                               36            13   33   \n",
       "\n",
       "   Work load Average/day   Hit target  Disciplinary failure  Education  Son  \\\n",
       "0                  239554          97                     0          1    2   \n",
       "1                  239554          97                     1          1    1   \n",
       "2                  239554          97                     0          1    0   \n",
       "3                  239554          97                     0          1    2   \n",
       "4                  239554          97                     0          1    2   \n",
       "\n",
       "   Social drinker  Social smoker  Pet  Weight  Height  Body mass index  \\\n",
       "0               1              0    1      90     172               30   \n",
       "1               1              0    0      98     178               31   \n",
       "2               1              0    0      89     170               31   \n",
       "3               1              1    0      68     168               24   \n",
       "4               1              0    1      90     172               30   \n",
       "\n",
       "   Absenteeism time in hours  \n",
       "0                          4  \n",
       "1                          0  \n",
       "2                          2  \n",
       "3                          4  \n",
       "4                          2  "
      ]
     },
     "execution_count": 102,
     "metadata": {},
     "output_type": "execute_result"
    }
   ],
   "source": [
    "#removing the column\n",
    "#ID column is unique and repetitive and can be removed\n",
    "df1=df.drop('ID',axis=1)\n",
    "df1.head()"
   ]
  },
  {
   "cell_type": "markdown",
   "metadata": {},
   "source": [
    "#### removing outliers"
   ]
  },
  {
   "cell_type": "code",
   "execution_count": 103,
   "metadata": {},
   "outputs": [
    {
     "name": "stdout",
     "output_type": "stream",
     "text": [
      "The datashape before removing outliers is  (737, 20)\n",
      "The datashape after removing outliers is  (574, 20)\n"
     ]
    }
   ],
   "source": [
    "from scipy.stats import zscore\n",
    "z=np.abs(zscore(df1))\n",
    "print(\"The datashape before removing outliers is \", df1.shape)\n",
    "df2=df1[(z<3).all(axis=1)]\n",
    "print(\"The datashape after removing outliers is \", df2.shape)"
   ]
  },
  {
   "cell_type": "markdown",
   "metadata": {},
   "source": [
    "#### splitting the data into input and output variables\n",
    "The data will be split into input and output variables. "
   ]
  },
  {
   "cell_type": "code",
   "execution_count": 104,
   "metadata": {},
   "outputs": [
    {
     "data": {
      "text/html": [
       "<div>\n",
       "<style scoped>\n",
       "    .dataframe tbody tr th:only-of-type {\n",
       "        vertical-align: middle;\n",
       "    }\n",
       "\n",
       "    .dataframe tbody tr th {\n",
       "        vertical-align: top;\n",
       "    }\n",
       "\n",
       "    .dataframe thead th {\n",
       "        text-align: right;\n",
       "    }\n",
       "</style>\n",
       "<table border=\"1\" class=\"dataframe\">\n",
       "  <thead>\n",
       "    <tr style=\"text-align: right;\">\n",
       "      <th></th>\n",
       "      <th>Reason for absence</th>\n",
       "      <th>Month of absence</th>\n",
       "      <th>Day of the week</th>\n",
       "      <th>Seasons</th>\n",
       "      <th>Transportation expense</th>\n",
       "      <th>Distance from Residence to Work</th>\n",
       "      <th>Service time</th>\n",
       "      <th>Age</th>\n",
       "      <th>Work load Average/day</th>\n",
       "      <th>Hit target</th>\n",
       "      <th>Disciplinary failure</th>\n",
       "      <th>Education</th>\n",
       "      <th>Son</th>\n",
       "      <th>Social drinker</th>\n",
       "      <th>Social smoker</th>\n",
       "      <th>Pet</th>\n",
       "      <th>Weight</th>\n",
       "      <th>Height</th>\n",
       "      <th>Body mass index</th>\n",
       "    </tr>\n",
       "  </thead>\n",
       "  <tbody>\n",
       "    <tr>\n",
       "      <th>0</th>\n",
       "      <td>26</td>\n",
       "      <td>7</td>\n",
       "      <td>3</td>\n",
       "      <td>1</td>\n",
       "      <td>289</td>\n",
       "      <td>36</td>\n",
       "      <td>13</td>\n",
       "      <td>33</td>\n",
       "      <td>239554</td>\n",
       "      <td>97</td>\n",
       "      <td>0</td>\n",
       "      <td>1</td>\n",
       "      <td>2</td>\n",
       "      <td>1</td>\n",
       "      <td>0</td>\n",
       "      <td>1</td>\n",
       "      <td>90</td>\n",
       "      <td>172</td>\n",
       "      <td>30</td>\n",
       "    </tr>\n",
       "    <tr>\n",
       "      <th>2</th>\n",
       "      <td>23</td>\n",
       "      <td>7</td>\n",
       "      <td>4</td>\n",
       "      <td>1</td>\n",
       "      <td>179</td>\n",
       "      <td>51</td>\n",
       "      <td>18</td>\n",
       "      <td>38</td>\n",
       "      <td>239554</td>\n",
       "      <td>97</td>\n",
       "      <td>0</td>\n",
       "      <td>1</td>\n",
       "      <td>0</td>\n",
       "      <td>1</td>\n",
       "      <td>0</td>\n",
       "      <td>0</td>\n",
       "      <td>89</td>\n",
       "      <td>170</td>\n",
       "      <td>31</td>\n",
       "    </tr>\n",
       "    <tr>\n",
       "      <th>4</th>\n",
       "      <td>23</td>\n",
       "      <td>7</td>\n",
       "      <td>5</td>\n",
       "      <td>1</td>\n",
       "      <td>289</td>\n",
       "      <td>36</td>\n",
       "      <td>13</td>\n",
       "      <td>33</td>\n",
       "      <td>239554</td>\n",
       "      <td>97</td>\n",
       "      <td>0</td>\n",
       "      <td>1</td>\n",
       "      <td>2</td>\n",
       "      <td>1</td>\n",
       "      <td>0</td>\n",
       "      <td>1</td>\n",
       "      <td>90</td>\n",
       "      <td>172</td>\n",
       "      <td>30</td>\n",
       "    </tr>\n",
       "    <tr>\n",
       "      <th>5</th>\n",
       "      <td>23</td>\n",
       "      <td>7</td>\n",
       "      <td>6</td>\n",
       "      <td>1</td>\n",
       "      <td>179</td>\n",
       "      <td>51</td>\n",
       "      <td>18</td>\n",
       "      <td>38</td>\n",
       "      <td>239554</td>\n",
       "      <td>97</td>\n",
       "      <td>0</td>\n",
       "      <td>1</td>\n",
       "      <td>0</td>\n",
       "      <td>1</td>\n",
       "      <td>0</td>\n",
       "      <td>0</td>\n",
       "      <td>89</td>\n",
       "      <td>170</td>\n",
       "      <td>31</td>\n",
       "    </tr>\n",
       "    <tr>\n",
       "      <th>6</th>\n",
       "      <td>22</td>\n",
       "      <td>7</td>\n",
       "      <td>6</td>\n",
       "      <td>1</td>\n",
       "      <td>361</td>\n",
       "      <td>52</td>\n",
       "      <td>3</td>\n",
       "      <td>28</td>\n",
       "      <td>239554</td>\n",
       "      <td>97</td>\n",
       "      <td>0</td>\n",
       "      <td>1</td>\n",
       "      <td>1</td>\n",
       "      <td>1</td>\n",
       "      <td>0</td>\n",
       "      <td>4</td>\n",
       "      <td>80</td>\n",
       "      <td>172</td>\n",
       "      <td>27</td>\n",
       "    </tr>\n",
       "  </tbody>\n",
       "</table>\n",
       "</div>"
      ],
      "text/plain": [
       "   Reason for absence  Month of absence  Day of the week  Seasons  \\\n",
       "0                  26                 7                3        1   \n",
       "2                  23                 7                4        1   \n",
       "4                  23                 7                5        1   \n",
       "5                  23                 7                6        1   \n",
       "6                  22                 7                6        1   \n",
       "\n",
       "   Transportation expense  Distance from Residence to Work  Service time  Age  \\\n",
       "0                     289                               36            13   33   \n",
       "2                     179                               51            18   38   \n",
       "4                     289                               36            13   33   \n",
       "5                     179                               51            18   38   \n",
       "6                     361                               52             3   28   \n",
       "\n",
       "   Work load Average/day   Hit target  Disciplinary failure  Education  Son  \\\n",
       "0                  239554          97                     0          1    2   \n",
       "2                  239554          97                     0          1    0   \n",
       "4                  239554          97                     0          1    2   \n",
       "5                  239554          97                     0          1    0   \n",
       "6                  239554          97                     0          1    1   \n",
       "\n",
       "   Social drinker  Social smoker  Pet  Weight  Height  Body mass index  \n",
       "0               1              0    1      90     172               30  \n",
       "2               1              0    0      89     170               31  \n",
       "4               1              0    1      90     172               30  \n",
       "5               1              0    0      89     170               31  \n",
       "6               1              0    4      80     172               27  "
      ]
     },
     "execution_count": 104,
     "metadata": {},
     "output_type": "execute_result"
    }
   ],
   "source": [
    "x=df2.iloc[:,0:-1]\n",
    "y=pd.DataFrame(df2.iloc[:,-1])\n",
    "x.head()"
   ]
  },
  {
   "cell_type": "code",
   "execution_count": 105,
   "metadata": {},
   "outputs": [
    {
     "data": {
      "text/html": [
       "<div>\n",
       "<style scoped>\n",
       "    .dataframe tbody tr th:only-of-type {\n",
       "        vertical-align: middle;\n",
       "    }\n",
       "\n",
       "    .dataframe tbody tr th {\n",
       "        vertical-align: top;\n",
       "    }\n",
       "\n",
       "    .dataframe thead th {\n",
       "        text-align: right;\n",
       "    }\n",
       "</style>\n",
       "<table border=\"1\" class=\"dataframe\">\n",
       "  <thead>\n",
       "    <tr style=\"text-align: right;\">\n",
       "      <th></th>\n",
       "      <th>Absenteeism time in hours</th>\n",
       "    </tr>\n",
       "  </thead>\n",
       "  <tbody>\n",
       "    <tr>\n",
       "      <th>0</th>\n",
       "      <td>4</td>\n",
       "    </tr>\n",
       "    <tr>\n",
       "      <th>2</th>\n",
       "      <td>2</td>\n",
       "    </tr>\n",
       "    <tr>\n",
       "      <th>4</th>\n",
       "      <td>2</td>\n",
       "    </tr>\n",
       "    <tr>\n",
       "      <th>5</th>\n",
       "      <td>2</td>\n",
       "    </tr>\n",
       "    <tr>\n",
       "      <th>6</th>\n",
       "      <td>8</td>\n",
       "    </tr>\n",
       "  </tbody>\n",
       "</table>\n",
       "</div>"
      ],
      "text/plain": [
       "   Absenteeism time in hours\n",
       "0                          4\n",
       "2                          2\n",
       "4                          2\n",
       "5                          2\n",
       "6                          8"
      ]
     },
     "execution_count": 105,
     "metadata": {},
     "output_type": "execute_result"
    }
   ],
   "source": [
    "y.head()"
   ]
  },
  {
   "cell_type": "markdown",
   "metadata": {},
   "source": [
    "#### Checking the skewness in the datasets"
   ]
  },
  {
   "cell_type": "code",
   "execution_count": 106,
   "metadata": {},
   "outputs": [
    {
     "data": {
      "text/plain": [
       "Reason for absence                -1.013913\n",
       "Month of absence                   0.112640\n",
       "Day of the week                    0.084895\n",
       "Seasons                           -0.019668\n",
       "Transportation expense             0.325314\n",
       "Distance from Residence to Work    0.204322\n",
       "Service time                      -0.148807\n",
       "Age                                0.503395\n",
       "Work load Average/day              1.018241\n",
       "Hit target                        -0.460344\n",
       "Disciplinary failure               0.000000\n",
       "Education                          1.984304\n",
       "Son                                1.452847\n",
       "Social drinker                    -0.189487\n",
       "Social smoker                      0.000000\n",
       "Pet                                1.731443\n",
       "Weight                            -0.129907\n",
       "Height                             1.455586\n",
       "Body mass index                    0.032502\n",
       "dtype: float64"
      ]
     },
     "execution_count": 106,
     "metadata": {},
     "output_type": "execute_result"
    }
   ],
   "source": [
    "x.skew()"
   ]
  },
  {
   "cell_type": "code",
   "execution_count": 107,
   "metadata": {},
   "outputs": [],
   "source": [
    "#using log1p method to remove the skewness\n",
    "for i in x.columns:\n",
    "    if x.skew()[i]>0.55:\n",
    "        x[i]=np.log1p(x[i])"
   ]
  },
  {
   "cell_type": "code",
   "execution_count": 108,
   "metadata": {},
   "outputs": [
    {
     "data": {
      "text/plain": [
       "Reason for absence                -1.013913\n",
       "Month of absence                   0.112640\n",
       "Day of the week                    0.084895\n",
       "Seasons                           -0.019668\n",
       "Transportation expense             0.325314\n",
       "Distance from Residence to Work    0.204322\n",
       "Service time                      -0.148807\n",
       "Age                                0.503395\n",
       "Work load Average/day              0.668633\n",
       "Hit target                        -0.460344\n",
       "Disciplinary failure               0.000000\n",
       "Education                          1.944621\n",
       "Son                                0.582118\n",
       "Social drinker                    -0.189487\n",
       "Social smoker                      0.000000\n",
       "Pet                                0.972281\n",
       "Weight                            -0.129907\n",
       "Height                             1.372779\n",
       "Body mass index                    0.032502\n",
       "dtype: float64"
      ]
     },
     "execution_count": 108,
     "metadata": {},
     "output_type": "execute_result"
    }
   ],
   "source": [
    "x.skew()\n",
    "#skewness is reduced to a large extent"
   ]
  },
  {
   "cell_type": "code",
   "execution_count": 109,
   "metadata": {},
   "outputs": [],
   "source": [
    "#Scaling the data"
   ]
  },
  {
   "cell_type": "code",
   "execution_count": 110,
   "metadata": {},
   "outputs": [
    {
     "data": {
      "text/html": [
       "<div>\n",
       "<style scoped>\n",
       "    .dataframe tbody tr th:only-of-type {\n",
       "        vertical-align: middle;\n",
       "    }\n",
       "\n",
       "    .dataframe tbody tr th {\n",
       "        vertical-align: top;\n",
       "    }\n",
       "\n",
       "    .dataframe thead th {\n",
       "        text-align: right;\n",
       "    }\n",
       "</style>\n",
       "<table border=\"1\" class=\"dataframe\">\n",
       "  <thead>\n",
       "    <tr style=\"text-align: right;\">\n",
       "      <th></th>\n",
       "      <th>0</th>\n",
       "      <th>1</th>\n",
       "      <th>2</th>\n",
       "      <th>3</th>\n",
       "      <th>4</th>\n",
       "      <th>5</th>\n",
       "      <th>6</th>\n",
       "      <th>7</th>\n",
       "      <th>8</th>\n",
       "      <th>9</th>\n",
       "      <th>10</th>\n",
       "      <th>11</th>\n",
       "      <th>12</th>\n",
       "      <th>13</th>\n",
       "      <th>14</th>\n",
       "      <th>15</th>\n",
       "      <th>16</th>\n",
       "      <th>17</th>\n",
       "      <th>18</th>\n",
       "    </tr>\n",
       "  </thead>\n",
       "  <tbody>\n",
       "    <tr>\n",
       "      <th>0</th>\n",
       "      <td>0.724295</td>\n",
       "      <td>0.201985</td>\n",
       "      <td>-0.654547</td>\n",
       "      <td>-1.402022</td>\n",
       "      <td>1.014924</td>\n",
       "      <td>0.340692</td>\n",
       "      <td>0.185913</td>\n",
       "      <td>-0.441441</td>\n",
       "      <td>-0.803606</td>\n",
       "      <td>0.667308</td>\n",
       "      <td>0.0</td>\n",
       "      <td>-0.432432</td>\n",
       "      <td>1.179584</td>\n",
       "      <td>0.909959</td>\n",
       "      <td>0.0</td>\n",
       "      <td>0.673763</td>\n",
       "      <td>0.932441</td>\n",
       "      <td>0.386572</td>\n",
       "      <td>0.746306</td>\n",
       "    </tr>\n",
       "    <tr>\n",
       "      <th>1</th>\n",
       "      <td>0.299053</td>\n",
       "      <td>0.201985</td>\n",
       "      <td>0.045099</td>\n",
       "      <td>-1.402022</td>\n",
       "      <td>-0.651629</td>\n",
       "      <td>1.357455</td>\n",
       "      <td>1.387646</td>\n",
       "      <td>0.393718</td>\n",
       "      <td>-0.803606</td>\n",
       "      <td>0.667308</td>\n",
       "      <td>0.0</td>\n",
       "      <td>-0.432432</td>\n",
       "      <td>-0.946874</td>\n",
       "      <td>0.909959</td>\n",
       "      <td>0.0</td>\n",
       "      <td>-0.725913</td>\n",
       "      <td>0.850964</td>\n",
       "      <td>-0.249184</td>\n",
       "      <td>0.987104</td>\n",
       "    </tr>\n",
       "    <tr>\n",
       "      <th>2</th>\n",
       "      <td>0.299053</td>\n",
       "      <td>0.201985</td>\n",
       "      <td>0.744745</td>\n",
       "      <td>-1.402022</td>\n",
       "      <td>1.014924</td>\n",
       "      <td>0.340692</td>\n",
       "      <td>0.185913</td>\n",
       "      <td>-0.441441</td>\n",
       "      <td>-0.803606</td>\n",
       "      <td>0.667308</td>\n",
       "      <td>0.0</td>\n",
       "      <td>-0.432432</td>\n",
       "      <td>1.179584</td>\n",
       "      <td>0.909959</td>\n",
       "      <td>0.0</td>\n",
       "      <td>0.673763</td>\n",
       "      <td>0.932441</td>\n",
       "      <td>0.386572</td>\n",
       "      <td>0.746306</td>\n",
       "    </tr>\n",
       "    <tr>\n",
       "      <th>3</th>\n",
       "      <td>0.299053</td>\n",
       "      <td>0.201985</td>\n",
       "      <td>1.444391</td>\n",
       "      <td>-1.402022</td>\n",
       "      <td>-0.651629</td>\n",
       "      <td>1.357455</td>\n",
       "      <td>1.387646</td>\n",
       "      <td>0.393718</td>\n",
       "      <td>-0.803606</td>\n",
       "      <td>0.667308</td>\n",
       "      <td>0.0</td>\n",
       "      <td>-0.432432</td>\n",
       "      <td>-0.946874</td>\n",
       "      <td>0.909959</td>\n",
       "      <td>0.0</td>\n",
       "      <td>-0.725913</td>\n",
       "      <td>0.850964</td>\n",
       "      <td>-0.249184</td>\n",
       "      <td>0.987104</td>\n",
       "    </tr>\n",
       "    <tr>\n",
       "      <th>4</th>\n",
       "      <td>0.157305</td>\n",
       "      <td>0.201985</td>\n",
       "      <td>1.444391</td>\n",
       "      <td>-1.402022</td>\n",
       "      <td>2.105759</td>\n",
       "      <td>1.425240</td>\n",
       "      <td>-2.217553</td>\n",
       "      <td>-1.276599</td>\n",
       "      <td>-0.803606</td>\n",
       "      <td>0.667308</td>\n",
       "      <td>0.0</td>\n",
       "      <td>-0.432432</td>\n",
       "      <td>0.394771</td>\n",
       "      <td>0.909959</td>\n",
       "      <td>0.0</td>\n",
       "      <td>2.524034</td>\n",
       "      <td>0.117673</td>\n",
       "      <td>0.386572</td>\n",
       "      <td>0.023912</td>\n",
       "    </tr>\n",
       "  </tbody>\n",
       "</table>\n",
       "</div>"
      ],
      "text/plain": [
       "          0         1         2         3         4         5         6  \\\n",
       "0  0.724295  0.201985 -0.654547 -1.402022  1.014924  0.340692  0.185913   \n",
       "1  0.299053  0.201985  0.045099 -1.402022 -0.651629  1.357455  1.387646   \n",
       "2  0.299053  0.201985  0.744745 -1.402022  1.014924  0.340692  0.185913   \n",
       "3  0.299053  0.201985  1.444391 -1.402022 -0.651629  1.357455  1.387646   \n",
       "4  0.157305  0.201985  1.444391 -1.402022  2.105759  1.425240 -2.217553   \n",
       "\n",
       "          7         8         9   10        11        12        13   14  \\\n",
       "0 -0.441441 -0.803606  0.667308  0.0 -0.432432  1.179584  0.909959  0.0   \n",
       "1  0.393718 -0.803606  0.667308  0.0 -0.432432 -0.946874  0.909959  0.0   \n",
       "2 -0.441441 -0.803606  0.667308  0.0 -0.432432  1.179584  0.909959  0.0   \n",
       "3  0.393718 -0.803606  0.667308  0.0 -0.432432 -0.946874  0.909959  0.0   \n",
       "4 -1.276599 -0.803606  0.667308  0.0 -0.432432  0.394771  0.909959  0.0   \n",
       "\n",
       "         15        16        17        18  \n",
       "0  0.673763  0.932441  0.386572  0.746306  \n",
       "1 -0.725913  0.850964 -0.249184  0.987104  \n",
       "2  0.673763  0.932441  0.386572  0.746306  \n",
       "3 -0.725913  0.850964 -0.249184  0.987104  \n",
       "4  2.524034  0.117673  0.386572  0.023912  "
      ]
     },
     "execution_count": 110,
     "metadata": {},
     "output_type": "execute_result"
    }
   ],
   "source": [
    "#We need to scale the data for normalising the input data and for the same we can use Standardscaler\n",
    "from sklearn.preprocessing import StandardScaler\n",
    "scaler=StandardScaler()\n",
    "x=pd.DataFrame(scaler.fit_transform(x))\n",
    "x.head()"
   ]
  },
  {
   "cell_type": "code",
   "execution_count": 111,
   "metadata": {},
   "outputs": [],
   "source": [
    "#Checking the best random state for finalising the train and test data\n",
    "#importing necessary libraries\n",
    "from sklearn.model_selection import train_test_split\n",
    "from sklearn.linear_model import LinearRegression\n",
    "from sklearn.metrics import r2_score, mean_squared_error, mean_absolute_error\n",
    "\n",
    "def max_r2_score(reg,x,y):\n",
    "    max_r2score=0\n",
    "    for r_state in range(42,101):\n",
    "        train_x,test_x,train_y,test_y=train_test_split(x,y,random_state=r_state,test_size=0.20)\n",
    "        reg.fit(train_x,train_y)\n",
    "        pred=reg.predict(test_x)\n",
    "        r2score=r2_score(test_y,pred)\n",
    "        if r2score>max_r2score:\n",
    "            max_r2score=r2score\n",
    "            final_r_state=r_state\n",
    "    print(\"The maximum r2 score\", max_r2score, \"is achieved at random state\", final_r_state)"
   ]
  },
  {
   "cell_type": "code",
   "execution_count": 112,
   "metadata": {},
   "outputs": [
    {
     "name": "stdout",
     "output_type": "stream",
     "text": [
      "The maximum r2 score 0.3094827044561449 is achieved at random state 50\n"
     ]
    }
   ],
   "source": [
    "lr=LinearRegression()\n",
    "max_r2_score(lr,x,y)"
   ]
  },
  {
   "cell_type": "code",
   "execution_count": 113,
   "metadata": {},
   "outputs": [],
   "source": [
    "#Finalising the train test data\n",
    "train_x,test_x,train_y,test_y=train_test_split(x,y,random_state=50,test_size=0.20)"
   ]
  },
  {
   "cell_type": "code",
   "execution_count": 114,
   "metadata": {},
   "outputs": [],
   "source": [
    "import warnings\n",
    "warnings.filterwarnings('ignore')"
   ]
  },
  {
   "cell_type": "code",
   "execution_count": 115,
   "metadata": {},
   "outputs": [
    {
     "data": {
      "text/plain": [
       "{'n_neighbors': 10}"
      ]
     },
     "execution_count": 115,
     "metadata": {},
     "output_type": "execute_result"
    }
   ],
   "source": [
    "#Let us check the performances of other models and to derive at the best parameters for the models, let us use Gridsearchcv\n",
    "from sklearn.model_selection import GridSearchCV\n",
    "from sklearn.neighbors import KNeighborsRegressor\n",
    "kn=KNeighborsRegressor()\n",
    "parameters={'n_neighbors':(1,10)}\n",
    "gdk=GridSearchCV(kn,parameters)\n",
    "gdk.fit(train_x,train_y)\n",
    "gdk.best_params_"
   ]
  },
  {
   "cell_type": "code",
   "execution_count": 116,
   "metadata": {},
   "outputs": [
    {
     "data": {
      "text/plain": [
       "{'criterion': 'mse'}"
      ]
     },
     "execution_count": 116,
     "metadata": {},
     "output_type": "execute_result"
    }
   ],
   "source": [
    "from sklearn.tree import DecisionTreeRegressor\n",
    "dt=DecisionTreeRegressor()\n",
    "parameters={'criterion':('mse','friedman_mse','mae')}\n",
    "gdd=GridSearchCV(dt,parameters)\n",
    "gdd.fit(train_x,train_y)\n",
    "gdd.best_params_"
   ]
  },
  {
   "cell_type": "code",
   "execution_count": 117,
   "metadata": {},
   "outputs": [
    {
     "data": {
      "text/plain": [
       "{'C': 10, 'kernel': 'linear'}"
      ]
     },
     "execution_count": 117,
     "metadata": {},
     "output_type": "execute_result"
    }
   ],
   "source": [
    "from sklearn.svm import SVR\n",
    "sv=SVR()\n",
    "parameters={'kernel':('linear','rbf'), 'C':[1,10]}\n",
    "gdsr=GridSearchCV(sv,parameters)\n",
    "gdsr.fit(train_x,train_y)\n",
    "gdsr.best_params_"
   ]
  },
  {
   "cell_type": "code",
   "execution_count": 118,
   "metadata": {},
   "outputs": [
    {
     "name": "stdout",
     "output_type": "stream",
     "text": [
      "LinearRegression(copy_X=True, fit_intercept=True, n_jobs=None, normalize=False)\n",
      "The r2 score is 0.3094827044561449\n",
      "The cross val score is 0.11233636357254906\n",
      "The mean squared error is 10.9848901126873\n",
      "The root mean squared error is 3.3143461063514925\n",
      "\n",
      "\n",
      "\n",
      "\n",
      "KNeighborsRegressor(algorithm='auto', leaf_size=30, metric='minkowski',\n",
      "                    metric_params=None, n_jobs=None, n_neighbors=10, p=2,\n",
      "                    weights='uniform')\n",
      "The r2 score is 0.24627351629861338\n",
      "The cross val score is 0.06713674474030673\n",
      "The mean squared error is 11.990434782608693\n",
      "The root mean squared error is 3.462720719695525\n",
      "\n",
      "\n",
      "\n",
      "\n",
      "DecisionTreeRegressor(ccp_alpha=0.0, criterion='mse', max_depth=None,\n",
      "                      max_features=None, max_leaf_nodes=None,\n",
      "                      min_impurity_decrease=0.0, min_impurity_split=None,\n",
      "                      min_samples_leaf=1, min_samples_split=2,\n",
      "                      min_weight_fraction_leaf=0.0, presort='deprecated',\n",
      "                      random_state=None, splitter='best')\n",
      "The r2 score is -1.4107057979143094\n",
      "The cross val score is -0.7432503302301803\n",
      "The mean squared error is 38.35\n",
      "The root mean squared error is 6.192737682156414\n",
      "\n",
      "\n",
      "\n",
      "\n",
      "SVR(C=10, cache_size=200, coef0=0.0, degree=3, epsilon=0.1, gamma='scale',\n",
      "    kernel='linear', max_iter=-1, shrinking=True, tol=0.001, verbose=False)\n",
      "The r2 score is 0.30157880744145726\n",
      "The cross val score is 0.11464963724696486\n",
      "The mean squared error is 11.110626920047002\n",
      "The root mean squared error is 3.3332607038824613\n",
      "\n",
      "\n",
      "\n",
      "\n"
     ]
    }
   ],
   "source": [
    "score=[]\n",
    "cv=[]\n",
    "Mean=[]\n",
    "Root=[]\n",
    "\n",
    "from sklearn.model_selection import cross_val_score\n",
    "\n",
    "models=[LinearRegression(),KNeighborsRegressor(n_neighbors=10),DecisionTreeRegressor(criterion='mse'),SVR(C=10,kernel='linear')]\n",
    "\n",
    "for i in models:\n",
    "    i.fit(train_x,train_y)\n",
    "    pred=i.predict(test_x)\n",
    "    print(i)\n",
    "    r2score=r2_score(test_y,pred)\n",
    "    score.append(r2score)\n",
    "    print(\"The r2 score is\", r2score)\n",
    "    cscore=cross_val_score(i,x,y,scoring='r2').mean()\n",
    "    cv.append(cscore)\n",
    "    print(\"The cross val score is\", cscore)\n",
    "    meanerror=mean_squared_error(test_y,pred)\n",
    "    Mean.append(meanerror)\n",
    "    print(\"The mean squared error is\", meanerror)\n",
    "    rooterror=np.sqrt(meanerror)\n",
    "    print(\"The root mean squared error is\", rooterror)\n",
    "    Root.append(rooterror)\n",
    "    print(\"\\n\")\n",
    "    print(\"\\n\")\n"
   ]
  },
  {
   "cell_type": "code",
   "execution_count": 119,
   "metadata": {},
   "outputs": [
    {
     "data": {
      "text/html": [
       "<div>\n",
       "<style scoped>\n",
       "    .dataframe tbody tr th:only-of-type {\n",
       "        vertical-align: middle;\n",
       "    }\n",
       "\n",
       "    .dataframe tbody tr th {\n",
       "        vertical-align: top;\n",
       "    }\n",
       "\n",
       "    .dataframe thead th {\n",
       "        text-align: right;\n",
       "    }\n",
       "</style>\n",
       "<table border=\"1\" class=\"dataframe\">\n",
       "  <thead>\n",
       "    <tr style=\"text-align: right;\">\n",
       "      <th></th>\n",
       "      <th>Model</th>\n",
       "      <th>R2score</th>\n",
       "      <th>Cross_val_score</th>\n",
       "      <th>Mean Squared Error</th>\n",
       "      <th>Root Mean Squared Error</th>\n",
       "    </tr>\n",
       "  </thead>\n",
       "  <tbody>\n",
       "    <tr>\n",
       "      <th>0</th>\n",
       "      <td>LinearRegression</td>\n",
       "      <td>0.309483</td>\n",
       "      <td>0.112336</td>\n",
       "      <td>10.984890</td>\n",
       "      <td>3.314346</td>\n",
       "    </tr>\n",
       "    <tr>\n",
       "      <th>1</th>\n",
       "      <td>KNeighborsRegressor</td>\n",
       "      <td>0.246274</td>\n",
       "      <td>0.067137</td>\n",
       "      <td>11.990435</td>\n",
       "      <td>3.462721</td>\n",
       "    </tr>\n",
       "    <tr>\n",
       "      <th>2</th>\n",
       "      <td>DecisionTreeRegressor</td>\n",
       "      <td>-1.410706</td>\n",
       "      <td>-0.743250</td>\n",
       "      <td>38.350000</td>\n",
       "      <td>6.192738</td>\n",
       "    </tr>\n",
       "    <tr>\n",
       "      <th>3</th>\n",
       "      <td>SVR</td>\n",
       "      <td>0.301579</td>\n",
       "      <td>0.114650</td>\n",
       "      <td>11.110627</td>\n",
       "      <td>3.333261</td>\n",
       "    </tr>\n",
       "  </tbody>\n",
       "</table>\n",
       "</div>"
      ],
      "text/plain": [
       "                   Model   R2score  Cross_val_score  Mean Squared Error  \\\n",
       "0       LinearRegression  0.309483         0.112336           10.984890   \n",
       "1    KNeighborsRegressor  0.246274         0.067137           11.990435   \n",
       "2  DecisionTreeRegressor -1.410706        -0.743250           38.350000   \n",
       "3                    SVR  0.301579         0.114650           11.110627   \n",
       "\n",
       "   Root Mean Squared Error  \n",
       "0                 3.314346  \n",
       "1                 3.462721  \n",
       "2                 6.192738  \n",
       "3                 3.333261  "
      ]
     },
     "execution_count": 119,
     "metadata": {},
     "output_type": "execute_result"
    }
   ],
   "source": [
    "result=pd.DataFrame({'Model':['LinearRegression','KNeighborsRegressor', 'DecisionTreeRegressor', 'SVR'],'R2score':score,'Cross_val_score':cv,'Mean Squared Error':Mean, 'Root Mean Squared Error': Root})\n",
    "result"
   ]
  },
  {
   "cell_type": "code",
   "execution_count": 120,
   "metadata": {},
   "outputs": [
    {
     "data": {
      "text/plain": [
       "{'alpha': 0.1}"
      ]
     },
     "execution_count": 120,
     "metadata": {},
     "output_type": "execute_result"
    }
   ],
   "source": [
    "#Lets try Lasso and Ridge\n",
    "#Let us check the best parameters for lasso\n",
    "from sklearn.linear_model import Lasso\n",
    "ls=Lasso()\n",
    "parameters={'alpha':(0.001,0.01,0.1,1)}\n",
    "gd=GridSearchCV(ls,parameters)\n",
    "gd.fit(train_x,train_y)\n",
    "gd.best_params_"
   ]
  },
  {
   "cell_type": "code",
   "execution_count": 121,
   "metadata": {},
   "outputs": [
    {
     "name": "stdout",
     "output_type": "stream",
     "text": [
      "The maximum r2 score 0.3371927495131596 is achieved at random state 50\n"
     ]
    }
   ],
   "source": [
    "#Let us check the best r2 score for Lasso\n",
    "ls=Lasso(alpha=0.1)\n",
    "max_r2_score(ls,x,y)"
   ]
  },
  {
   "cell_type": "code",
   "execution_count": 122,
   "metadata": {},
   "outputs": [
    {
     "name": "stdout",
     "output_type": "stream",
     "text": [
      "The cross val score is 0.13465668628980837\n"
     ]
    }
   ],
   "source": [
    "#Let us check the cross val score for lasso\n",
    "cross=cross_val_score(ls,x,y,cv=5,scoring='r2').mean()\n",
    "print(\"The cross val score is\", cross)"
   ]
  },
  {
   "cell_type": "markdown",
   "metadata": {},
   "source": [
    "#### Ridge"
   ]
  },
  {
   "cell_type": "code",
   "execution_count": 123,
   "metadata": {},
   "outputs": [
    {
     "data": {
      "text/plain": [
       "{'alpha': 0.1}"
      ]
     },
     "execution_count": 123,
     "metadata": {},
     "output_type": "execute_result"
    }
   ],
   "source": [
    "#Let us check the best parameters for Ridge\n",
    "from sklearn.linear_model import Ridge\n",
    "rd=Ridge()\n",
    "parameters={'alpha':(0.001,0.01,0.1,1)}\n",
    "gd=GridSearchCV(rd,parameters)\n",
    "gd.fit(train_x,train_y)\n",
    "gd.best_params_"
   ]
  },
  {
   "cell_type": "code",
   "execution_count": 124,
   "metadata": {},
   "outputs": [
    {
     "name": "stdout",
     "output_type": "stream",
     "text": [
      "The maximum r2 score 0.31238231317125364 is achieved at random state 50\n"
     ]
    }
   ],
   "source": [
    "#Let us check the best r2 score for Ridge\n",
    "rd=Ridge(alpha=0.1)\n",
    "max_r2_score(rd,x,y)"
   ]
  },
  {
   "cell_type": "code",
   "execution_count": 125,
   "metadata": {},
   "outputs": [
    {
     "name": "stdout",
     "output_type": "stream",
     "text": [
      "The cross val score is 0.11370346798830311\n"
     ]
    }
   ],
   "source": [
    "#Let us check the cross val score for Ridge\n",
    "cross=cross_val_score(rd,x,y,cv=5,scoring='r2').mean()\n",
    "print(\"The cross val score is\", cross)"
   ]
  },
  {
   "cell_type": "markdown",
   "metadata": {},
   "source": [
    "#### Ensemble Techniques"
   ]
  },
  {
   "cell_type": "markdown",
   "metadata": {},
   "source": [
    "#### Random Forest"
   ]
  },
  {
   "cell_type": "code",
   "execution_count": 126,
   "metadata": {},
   "outputs": [],
   "source": [
    "#Let us try to use ensemble techniques\n",
    "from sklearn.ensemble import RandomForestRegressor\n",
    "from sklearn.ensemble import GradientBoostingRegressor\n",
    "from sklearn.ensemble import AdaBoostRegressor"
   ]
  },
  {
   "cell_type": "code",
   "execution_count": 127,
   "metadata": {},
   "outputs": [
    {
     "data": {
      "text/plain": [
       "{'n_estimators': 50}"
      ]
     },
     "execution_count": 127,
     "metadata": {},
     "output_type": "execute_result"
    }
   ],
   "source": [
    "#Selecting the best parameters using GridSearchCV\n",
    "rf=RandomForestRegressor()\n",
    "parameters={'n_estimators':(50,100,200,500)}\n",
    "gdrf=GridSearchCV(rf,parameters)\n",
    "gdrf.fit(train_x,train_y)\n",
    "gdrf.best_params_"
   ]
  },
  {
   "cell_type": "code",
   "execution_count": 128,
   "metadata": {},
   "outputs": [
    {
     "name": "stdout",
     "output_type": "stream",
     "text": [
      "The maximum r2 score 0.3913480700949067 is achieved at random state 93\n"
     ]
    }
   ],
   "source": [
    "#Lets check the r2 score \n",
    "rf=RandomForestRegressor(n_estimators=50)\n",
    "max_r2_score(rf,x,y)"
   ]
  },
  {
   "cell_type": "code",
   "execution_count": 129,
   "metadata": {},
   "outputs": [
    {
     "name": "stdout",
     "output_type": "stream",
     "text": [
      "The cross validation score is 0.12233230209951937\n"
     ]
    }
   ],
   "source": [
    "#Lets check the cross val score\n",
    "cvscore=cross_val_score(rf,x,y,cv=5,scoring='r2').mean()\n",
    "print(\"The cross validation score is\", cvscore)"
   ]
  },
  {
   "cell_type": "markdown",
   "metadata": {},
   "source": [
    "#### GradientBoostingRegressor"
   ]
  },
  {
   "cell_type": "code",
   "execution_count": 130,
   "metadata": {},
   "outputs": [
    {
     "data": {
      "text/plain": [
       "{'learning_rate': 0.01, 'n_estimators': 500}"
      ]
     },
     "execution_count": 130,
     "metadata": {},
     "output_type": "execute_result"
    }
   ],
   "source": [
    "#selecting the best parameters \n",
    "gb=GradientBoostingRegressor()\n",
    "parameters={'learning_rate':(0.001,0.01,0.1,1), 'n_estimators':(10,50,100,500)}\n",
    "gdg=GridSearchCV(gb,parameters)                                                                                                                                        \n",
    "gdg.fit(train_x,train_y)                                                                                                                                         \n",
    "gdg.best_params_"
   ]
  },
  {
   "cell_type": "code",
   "execution_count": 131,
   "metadata": {},
   "outputs": [
    {
     "name": "stdout",
     "output_type": "stream",
     "text": [
      "The maximum r2 score 0.40527641785350776 is achieved at random state 91\n"
     ]
    }
   ],
   "source": [
    "\n",
    "#Lets check the r2 score \n",
    "gb=GradientBoostingRegressor(n_estimators=500,learning_rate=0.01)\n",
    "max_r2_score(gb,x,y)"
   ]
  },
  {
   "cell_type": "code",
   "execution_count": 132,
   "metadata": {},
   "outputs": [
    {
     "name": "stdout",
     "output_type": "stream",
     "text": [
      "The cross val score is 0.20937345801128285\n"
     ]
    }
   ],
   "source": [
    "#Let us check the cross val score for GradientBoosting\n",
    "cross=cross_val_score(gb,x,y,cv=5,scoring='r2').mean()\n",
    "print(\"The cross val score is\", cross)"
   ]
  },
  {
   "cell_type": "code",
   "execution_count": 133,
   "metadata": {},
   "outputs": [
    {
     "data": {
      "text/plain": [
       "{'learning_rate': 0.01, 'n_estimators': 200}"
      ]
     },
     "execution_count": 133,
     "metadata": {},
     "output_type": "execute_result"
    }
   ],
   "source": [
    "#selecting the best parameters\n",
    "ad=AdaBoostRegressor()\n",
    "parameters={'n_estimators':(10,50,100,200,500),'learning_rate':(0.001,0.01,0.1,1)}\n",
    "gad=GridSearchCV(ad,parameters)\n",
    "gad.fit(train_x,train_y)\n",
    "gad.best_params_"
   ]
  },
  {
   "cell_type": "code",
   "execution_count": 134,
   "metadata": {},
   "outputs": [
    {
     "name": "stdout",
     "output_type": "stream",
     "text": [
      "The maximum r2 score 0.39746140515640294 is achieved at random state 93\n"
     ]
    }
   ],
   "source": [
    "#Lets check the r2 score \n",
    "ad=AdaBoostRegressor(n_estimators=200,learning_rate=0.01)\n",
    "max_r2_score(ad,x,y)"
   ]
  },
  {
   "cell_type": "code",
   "execution_count": 135,
   "metadata": {},
   "outputs": [
    {
     "name": "stdout",
     "output_type": "stream",
     "text": [
      "The cross val score is 0.22545426200690394\n"
     ]
    }
   ],
   "source": [
    "#Let us check the cross val score for Adaboost\n",
    "cross=cross_val_score(ad,x,y,cv=5,scoring='r2').mean()\n",
    "print(\"The cross val score is\", cross)"
   ]
  },
  {
   "cell_type": "code",
   "execution_count": 136,
   "metadata": {},
   "outputs": [
    {
     "data": {
      "text/html": [
       "<div>\n",
       "<style scoped>\n",
       "    .dataframe tbody tr th:only-of-type {\n",
       "        vertical-align: middle;\n",
       "    }\n",
       "\n",
       "    .dataframe tbody tr th {\n",
       "        vertical-align: top;\n",
       "    }\n",
       "\n",
       "    .dataframe thead th {\n",
       "        text-align: right;\n",
       "    }\n",
       "</style>\n",
       "<table border=\"1\" class=\"dataframe\">\n",
       "  <thead>\n",
       "    <tr style=\"text-align: right;\">\n",
       "      <th></th>\n",
       "      <th>Boosters</th>\n",
       "      <th>R2 Score</th>\n",
       "      <th>Cross_val_score</th>\n",
       "    </tr>\n",
       "  </thead>\n",
       "  <tbody>\n",
       "    <tr>\n",
       "      <th>0</th>\n",
       "      <td>Lasso</td>\n",
       "      <td>0.337</td>\n",
       "      <td>0.134</td>\n",
       "    </tr>\n",
       "    <tr>\n",
       "      <th>1</th>\n",
       "      <td>Ridge</td>\n",
       "      <td>0.312</td>\n",
       "      <td>0.113</td>\n",
       "    </tr>\n",
       "    <tr>\n",
       "      <th>2</th>\n",
       "      <td>RandomForestRegressor</td>\n",
       "      <td>0.366</td>\n",
       "      <td>0.165</td>\n",
       "    </tr>\n",
       "    <tr>\n",
       "      <th>3</th>\n",
       "      <td>GradientBoostRegressor</td>\n",
       "      <td>0.409</td>\n",
       "      <td>0.209</td>\n",
       "    </tr>\n",
       "    <tr>\n",
       "      <th>4</th>\n",
       "      <td>AdaBoostRegressor</td>\n",
       "      <td>0.463</td>\n",
       "      <td>0.137</td>\n",
       "    </tr>\n",
       "  </tbody>\n",
       "</table>\n",
       "</div>"
      ],
      "text/plain": [
       "                 Boosters  R2 Score  Cross_val_score\n",
       "0                   Lasso     0.337            0.134\n",
       "1                   Ridge     0.312            0.113\n",
       "2   RandomForestRegressor     0.366            0.165\n",
       "3  GradientBoostRegressor     0.409            0.209\n",
       "4       AdaBoostRegressor     0.463            0.137"
      ]
     },
     "execution_count": 136,
     "metadata": {},
     "output_type": "execute_result"
    }
   ],
   "source": [
    "result2=pd.DataFrame({'Boosters':['Lasso','Ridge','RandomForestRegressor','GradientBoostRegressor','AdaBoostRegressor'],'R2 Score':[0.337,0.312,0.366,0.409,0.463],'Cross_val_score':[0.134,0.113,0.165,0.209,0.137]})\n",
    "result2"
   ]
  },
  {
   "cell_type": "code",
   "execution_count": 137,
   "metadata": {},
   "outputs": [
    {
     "data": {
      "text/html": [
       "<div>\n",
       "<style scoped>\n",
       "    .dataframe tbody tr th:only-of-type {\n",
       "        vertical-align: middle;\n",
       "    }\n",
       "\n",
       "    .dataframe tbody tr th {\n",
       "        vertical-align: top;\n",
       "    }\n",
       "\n",
       "    .dataframe thead th {\n",
       "        text-align: right;\n",
       "    }\n",
       "</style>\n",
       "<table border=\"1\" class=\"dataframe\">\n",
       "  <thead>\n",
       "    <tr style=\"text-align: right;\">\n",
       "      <th></th>\n",
       "      <th>Model</th>\n",
       "      <th>R2score</th>\n",
       "      <th>Cross_val_score</th>\n",
       "      <th>Mean Squared Error</th>\n",
       "      <th>Root Mean Squared Error</th>\n",
       "    </tr>\n",
       "  </thead>\n",
       "  <tbody>\n",
       "    <tr>\n",
       "      <th>0</th>\n",
       "      <td>LinearRegression</td>\n",
       "      <td>0.309483</td>\n",
       "      <td>0.112336</td>\n",
       "      <td>10.984890</td>\n",
       "      <td>3.314346</td>\n",
       "    </tr>\n",
       "    <tr>\n",
       "      <th>1</th>\n",
       "      <td>KNeighborsRegressor</td>\n",
       "      <td>0.246274</td>\n",
       "      <td>0.067137</td>\n",
       "      <td>11.990435</td>\n",
       "      <td>3.462721</td>\n",
       "    </tr>\n",
       "    <tr>\n",
       "      <th>2</th>\n",
       "      <td>DecisionTreeRegressor</td>\n",
       "      <td>-1.410706</td>\n",
       "      <td>-0.743250</td>\n",
       "      <td>38.350000</td>\n",
       "      <td>6.192738</td>\n",
       "    </tr>\n",
       "    <tr>\n",
       "      <th>3</th>\n",
       "      <td>SVR</td>\n",
       "      <td>0.301579</td>\n",
       "      <td>0.114650</td>\n",
       "      <td>11.110627</td>\n",
       "      <td>3.333261</td>\n",
       "    </tr>\n",
       "  </tbody>\n",
       "</table>\n",
       "</div>"
      ],
      "text/plain": [
       "                   Model   R2score  Cross_val_score  Mean Squared Error  \\\n",
       "0       LinearRegression  0.309483         0.112336           10.984890   \n",
       "1    KNeighborsRegressor  0.246274         0.067137           11.990435   \n",
       "2  DecisionTreeRegressor -1.410706        -0.743250           38.350000   \n",
       "3                    SVR  0.301579         0.114650           11.110627   \n",
       "\n",
       "   Root Mean Squared Error  \n",
       "0                 3.314346  \n",
       "1                 3.462721  \n",
       "2                 6.192738  \n",
       "3                 3.333261  "
      ]
     },
     "execution_count": 137,
     "metadata": {},
     "output_type": "execute_result"
    }
   ],
   "source": [
    "result"
   ]
  },
  {
   "cell_type": "markdown",
   "metadata": {},
   "source": [
    "Since the attributes are not having good positive correlation with the target, the scores are less. "
   ]
  },
  {
   "cell_type": "markdown",
   "metadata": {},
   "source": [
    "## Classification, not Regression???\n",
    "\n",
    "Since, we have observed that the target variable didnot show linear relationship with the input, we will have to consider this situation as classification problem instead of regression. Because abseetism is not linearly related with variables.\n",
    "\n",
    "Let us change the output target from continuous variable to categories to check if it helps in better scores."
   ]
  },
  {
   "cell_type": "code",
   "execution_count": 138,
   "metadata": {},
   "outputs": [],
   "source": [
    "abs_bins = [0, 4, 8, 16, np.inf]\n",
    "abs_names = ['<4', '8', '16', '16+']\n",
    "df['abs_range'] = pd.cut(df['Absenteeism time in hours'], abs_bins, labels=abs_names)"
   ]
  },
  {
   "cell_type": "code",
   "execution_count": 139,
   "metadata": {},
   "outputs": [],
   "source": [
    "df['abs_range']=df['abs_range'].fillna('<4')"
   ]
  },
  {
   "cell_type": "code",
   "execution_count": 140,
   "metadata": {},
   "outputs": [
    {
     "data": {
      "text/plain": [
       "0"
      ]
     },
     "execution_count": 140,
     "metadata": {},
     "output_type": "execute_result"
    }
   ],
   "source": [
    "df['abs_range'].isnull().sum()"
   ]
  },
  {
   "cell_type": "code",
   "execution_count": 141,
   "metadata": {},
   "outputs": [],
   "source": [
    "x1=df.iloc[:,0:-1]\n",
    "y1=pd.DataFrame(df['abs_range'])"
   ]
  },
  {
   "cell_type": "code",
   "execution_count": 142,
   "metadata": {},
   "outputs": [],
   "source": [
    "#### deriving the best random_state for splitting the data into train and test\n",
    "from sklearn.metrics import accuracy_score\n",
    "\n",
    "def max_acc_score(reg,x1,y1):\n",
    "    max_acc_score=0\n",
    "    for r_state in range(42,101):\n",
    "        train_x1,test_x1,train_y1,test_y1=train_test_split(x1,y1,random_state=r_state,test_size=0.20)\n",
    "        reg.fit(train_x1,train_y1)\n",
    "        pred=reg.predict(test_x1)\n",
    "        acc_score=accuracy_score(test_y1,pred)\n",
    "        if acc_score>max_acc_score:\n",
    "            max_acc_score=acc_score\n",
    "            final_r_state=r_state\n",
    "    print(\"The max accuracy score \", max_acc_score, \"is achieved at\", final_r_state)\n",
    "    return final_r_state"
   ]
  },
  {
   "cell_type": "code",
   "execution_count": 143,
   "metadata": {},
   "outputs": [
    {
     "name": "stdout",
     "output_type": "stream",
     "text": [
      "The max accuracy score  1.0 is achieved at 42\n"
     ]
    },
    {
     "data": {
      "text/plain": [
       "42"
      ]
     },
     "execution_count": 143,
     "metadata": {},
     "output_type": "execute_result"
    }
   ],
   "source": [
    "#Checking the decisiontree for the above\n",
    "from sklearn.tree import DecisionTreeClassifier\n",
    "dt=DecisionTreeClassifier()\n",
    "\n",
    "max_acc_score(dt,x1,y1)"
   ]
  },
  {
   "cell_type": "code",
   "execution_count": 144,
   "metadata": {},
   "outputs": [],
   "source": [
    "#We need to finalise the train and test data\n",
    "train_x1,test_x1,train_y1,test_y1=train_test_split(x1,y1,random_state=42,test_size=0.20)"
   ]
  },
  {
   "cell_type": "code",
   "execution_count": 145,
   "metadata": {},
   "outputs": [
    {
     "data": {
      "text/plain": [
       "{'algorithm': 'ball_tree', 'n_neighbors': 10, 'weights': 'distance'}"
      ]
     },
     "execution_count": 145,
     "metadata": {},
     "output_type": "execute_result"
    }
   ],
   "source": [
    "from sklearn.model_selection import GridSearchCV\n",
    "from sklearn.neighbors import KNeighborsClassifier\n",
    "kn=KNeighborsClassifier()\n",
    "parameters={'n_neighbors':(5,10,15,20),'weights':('uniform','distance'),'algorithm':('auto','ball_tree','kd_tree','brute')}\n",
    "gdkn=GridSearchCV(kn,parameters)\n",
    "gdkn.fit(train_x,train_y)\n",
    "gdkn.best_params_\n"
   ]
  },
  {
   "cell_type": "code",
   "execution_count": 146,
   "metadata": {},
   "outputs": [
    {
     "data": {
      "text/plain": [
       "{'criterion': 'entropy', 'splitter': 'random'}"
      ]
     },
     "execution_count": 146,
     "metadata": {},
     "output_type": "execute_result"
    }
   ],
   "source": [
    "from sklearn.tree import DecisionTreeClassifier\n",
    "dt=DecisionTreeClassifier()\n",
    "parameters={'criterion':('gini','entropy'), 'splitter':('best','random')}\n",
    "gddt=GridSearchCV(dt,parameters)\n",
    "gddt.fit(train_x,train_y)\n",
    "gddt.best_params_"
   ]
  },
  {
   "cell_type": "code",
   "execution_count": 147,
   "metadata": {},
   "outputs": [
    {
     "data": {
      "text/plain": [
       "{'C': 1, 'kernel': 'linear'}"
      ]
     },
     "execution_count": 147,
     "metadata": {},
     "output_type": "execute_result"
    }
   ],
   "source": [
    "from sklearn.svm import SVC\n",
    "sv=SVC()\n",
    "parameters={'C':(1,10),'kernel':('linear','poly','rbf')}\n",
    "gdsv=GridSearchCV(sv,parameters)\n",
    "gdsv.fit(train_x,train_y)\n",
    "gdsv.best_params_"
   ]
  },
  {
   "cell_type": "code",
   "execution_count": 148,
   "metadata": {},
   "outputs": [],
   "source": [
    "#After obtaining best parameters, we should now check the models"
   ]
  },
  {
   "cell_type": "code",
   "execution_count": 149,
   "metadata": {},
   "outputs": [
    {
     "name": "stdout",
     "output_type": "stream",
     "text": [
      "KNeighborsClassifier(algorithm='auto', leaf_size=30, metric='minkowski',\n",
      "                     metric_params=None, n_jobs=None, n_neighbors=20, p=2,\n",
      "                     weights='distance')\n",
      "\n",
      "The accuracy score is  0.6081081081081081\n",
      "\n",
      "The cross val score is 0.4138812281669425\n",
      "\n",
      "              precision    recall  f1-score   support\n",
      "\n",
      "          16       0.00      0.00      0.00         2\n",
      "         16+       0.00      0.00      0.00         8\n",
      "           8       0.46      0.26      0.33        47\n",
      "          <4       0.64      0.86      0.73        91\n",
      "\n",
      "    accuracy                           0.61       148\n",
      "   macro avg       0.28      0.28      0.27       148\n",
      "weighted avg       0.54      0.61      0.55       148\n",
      "\n",
      "\n",
      "[[ 0  0  0  2]\n",
      " [ 0  0  1  7]\n",
      " [ 0  0 12 35]\n",
      " [ 0  0 13 78]]\n",
      "\n",
      "DecisionTreeClassifier(ccp_alpha=0.0, class_weight=None, criterion='entropy',\n",
      "                       max_depth=None, max_features=None, max_leaf_nodes=None,\n",
      "                       min_impurity_decrease=0.0, min_impurity_split=None,\n",
      "                       min_samples_leaf=1, min_samples_split=2,\n",
      "                       min_weight_fraction_leaf=0.0, presort='deprecated',\n",
      "                       random_state=None, splitter='best')\n",
      "\n",
      "The accuracy score is  1.0\n",
      "\n",
      "The cross val score is 1.0\n",
      "\n",
      "              precision    recall  f1-score   support\n",
      "\n",
      "          16       1.00      1.00      1.00         2\n",
      "         16+       1.00      1.00      1.00         8\n",
      "           8       1.00      1.00      1.00        47\n",
      "          <4       1.00      1.00      1.00        91\n",
      "\n",
      "    accuracy                           1.00       148\n",
      "   macro avg       1.00      1.00      1.00       148\n",
      "weighted avg       1.00      1.00      1.00       148\n",
      "\n",
      "\n",
      "[[ 2  0  0  0]\n",
      " [ 0  8  0  0]\n",
      " [ 0  0 47  0]\n",
      " [ 0  0  0 91]]\n",
      "\n",
      "SVC(C=1, break_ties=False, cache_size=200, class_weight=None, coef0=0.0,\n",
      "    decision_function_shape='ovr', degree=3, gamma='scale', kernel='poly',\n",
      "    max_iter=-1, probability=False, random_state=None, shrinking=True,\n",
      "    tol=0.001, verbose=False)\n",
      "\n",
      "The accuracy score is  0.6148648648648649\n",
      "\n",
      "The cross val score is 0.6214377642949072\n",
      "\n",
      "              precision    recall  f1-score   support\n",
      "\n",
      "          16       0.00      0.00      0.00         2\n",
      "         16+       0.00      0.00      0.00         8\n",
      "           8       0.00      0.00      0.00        47\n",
      "          <4       0.61      1.00      0.76        91\n",
      "\n",
      "    accuracy                           0.61       148\n",
      "   macro avg       0.15      0.25      0.19       148\n",
      "weighted avg       0.38      0.61      0.47       148\n",
      "\n",
      "\n",
      "[[ 0  0  0  2]\n",
      " [ 0  0  0  8]\n",
      " [ 0  0  0 47]\n",
      " [ 0  0  0 91]]\n",
      "\n",
      "MultinomialNB(alpha=1.0, class_prior=None, fit_prior=True)\n",
      "\n",
      "The accuracy score is  0.6756756756756757\n",
      "\n",
      "The cross val score is 0.6921400992829565\n",
      "\n",
      "              precision    recall  f1-score   support\n",
      "\n",
      "          16       0.08      0.50      0.13         2\n",
      "         16+       1.00      0.50      0.67         8\n",
      "           8       0.56      0.62      0.59        47\n",
      "          <4       0.84      0.73      0.78        91\n",
      "\n",
      "    accuracy                           0.68       148\n",
      "   macro avg       0.62      0.59      0.54       148\n",
      "weighted avg       0.75      0.68      0.70       148\n",
      "\n",
      "\n",
      "[[ 1  0  1  0]\n",
      " [ 4  4  0  0]\n",
      " [ 5  0 29 13]\n",
      " [ 3  0 22 66]]\n",
      "\n"
     ]
    }
   ],
   "source": [
    "from sklearn.metrics import accuracy_score, classification_report, confusion_matrix\n",
    "from sklearn.model_selection import cross_val_score\n",
    "from sklearn.naive_bayes import MultinomialNB\n",
    "\n",
    "score=[]\n",
    "cv=[]\n",
    "\n",
    "\n",
    "\n",
    "algorithms=[KNeighborsClassifier(algorithm='auto', n_neighbors= 20, weights='distance'), DecisionTreeClassifier(criterion= 'entropy', splitter= 'best'), SVC(C=1, kernel='poly'), MultinomialNB()]\n",
    "\n",
    "for i in algorithms:\n",
    "    print(i)\n",
    "    i.fit(train_x1,train_y1)\n",
    "    pred=i.predict(test_x1)\n",
    "    accscore=accuracy_score(test_y1,pred)\n",
    "    score.append(accscore)\n",
    "    print(\"\")\n",
    "    print(\"The accuracy score is \", accscore)\n",
    "    print(\"\")\n",
    "    cvscore=cross_val_score(i,x1,y1,cv=5,scoring='accuracy').mean()\n",
    "    cv.append(cvscore)\n",
    "    print(\"The cross val score is\", cvscore)\n",
    "    print()\n",
    "    print(classification_report(test_y1,pred))\n",
    "    print()\n",
    "    cm=confusion_matrix(test_y1,pred)\n",
    "    print(cm)\n",
    "    print()"
   ]
  },
  {
   "cell_type": "code",
   "execution_count": 150,
   "metadata": {},
   "outputs": [
    {
     "data": {
      "text/html": [
       "<div>\n",
       "<style scoped>\n",
       "    .dataframe tbody tr th:only-of-type {\n",
       "        vertical-align: middle;\n",
       "    }\n",
       "\n",
       "    .dataframe tbody tr th {\n",
       "        vertical-align: top;\n",
       "    }\n",
       "\n",
       "    .dataframe thead th {\n",
       "        text-align: right;\n",
       "    }\n",
       "</style>\n",
       "<table border=\"1\" class=\"dataframe\">\n",
       "  <thead>\n",
       "    <tr style=\"text-align: right;\">\n",
       "      <th></th>\n",
       "      <th>Model</th>\n",
       "      <th>Accuracy Score</th>\n",
       "      <th>Cross_val_score</th>\n",
       "    </tr>\n",
       "  </thead>\n",
       "  <tbody>\n",
       "    <tr>\n",
       "      <th>0</th>\n",
       "      <td>KNeighborsClassifier</td>\n",
       "      <td>0.608108</td>\n",
       "      <td>0.413881</td>\n",
       "    </tr>\n",
       "    <tr>\n",
       "      <th>1</th>\n",
       "      <td>DecisionTree</td>\n",
       "      <td>1.000000</td>\n",
       "      <td>1.000000</td>\n",
       "    </tr>\n",
       "    <tr>\n",
       "      <th>2</th>\n",
       "      <td>SVC</td>\n",
       "      <td>0.614865</td>\n",
       "      <td>0.621438</td>\n",
       "    </tr>\n",
       "    <tr>\n",
       "      <th>3</th>\n",
       "      <td>MultinomialNB</td>\n",
       "      <td>0.675676</td>\n",
       "      <td>0.692140</td>\n",
       "    </tr>\n",
       "  </tbody>\n",
       "</table>\n",
       "</div>"
      ],
      "text/plain": [
       "                  Model  Accuracy Score  Cross_val_score\n",
       "0  KNeighborsClassifier        0.608108         0.413881\n",
       "1          DecisionTree        1.000000         1.000000\n",
       "2                   SVC        0.614865         0.621438\n",
       "3         MultinomialNB        0.675676         0.692140"
      ]
     },
     "execution_count": 150,
     "metadata": {},
     "output_type": "execute_result"
    }
   ],
   "source": [
    "result=pd.DataFrame({'Model':['KNeighborsClassifier','DecisionTree', 'SVC','MultinomialNB'],'Accuracy Score':score,'Cross_val_score':cv})\n",
    "result"
   ]
  },
  {
   "cell_type": "code",
   "execution_count": 151,
   "metadata": {},
   "outputs": [
    {
     "name": "stdout",
     "output_type": "stream",
     "text": [
      "The accuracy score is  1.0\n",
      "The cross validation score is 1.0\n"
     ]
    }
   ],
   "source": [
    "# we can finalise the Decision Tree classifier as it is giving perfect score for accuracy and cross val\n",
    "\n",
    "dt=DecisionTreeClassifier(criterion= 'entropy', splitter= 'best')\n",
    "dt.fit(train_x1,train_y1)\n",
    "pred=dt.predict(test_x1)\n",
    "score=accuracy_score(test_y1,pred)\n",
    "cvs=cross_val_score(dt,x1,y1,cv=5).mean()\n",
    "print(\"The accuracy score is \", score)\n",
    "print(\"The cross validation score is\", cvs)"
   ]
  },
  {
   "cell_type": "code",
   "execution_count": 152,
   "metadata": {},
   "outputs": [
    {
     "data": {
      "text/plain": [
       "['Project16_Absenteeism_Classification.pkl']"
      ]
     },
     "execution_count": 152,
     "metadata": {},
     "output_type": "execute_result"
    }
   ],
   "source": [
    "#now we can save the model\n",
    "from sklearn.externals import joblib\n",
    "joblib.dump(dt,\"Project16_Absenteeism_Classification.pkl\")"
   ]
  },
  {
   "cell_type": "code",
   "execution_count": null,
   "metadata": {},
   "outputs": [],
   "source": []
  }
 ],
 "metadata": {
  "kernelspec": {
   "display_name": "Python 3",
   "language": "python",
   "name": "python3"
  },
  "language_info": {
   "codemirror_mode": {
    "name": "ipython",
    "version": 3
   },
   "file_extension": ".py",
   "mimetype": "text/x-python",
   "name": "python",
   "nbconvert_exporter": "python",
   "pygments_lexer": "ipython3",
   "version": "3.7.6"
  }
 },
 "nbformat": 4,
 "nbformat_minor": 2
}
