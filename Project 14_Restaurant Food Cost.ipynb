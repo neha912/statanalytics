{
 "cells": [
  {
   "cell_type": "markdown",
   "metadata": {},
   "source": [
    "#### Summary\n",
    "This project is about the predicting the cost of the restaurant cuisines. The cost of the cuisines depend on many factors like type of restaurant whether star restaurant or not, the locality, the type of day whether weekend or weekday, the time whether peek hours or not, the type of cuisine offered.\n",
    "\n",
    "In this project we are Both datasets training and test datasets. We need to predict the best features in the datasets and build a model which will predict the nearest prices."
   ]
  },
  {
   "cell_type": "code",
   "execution_count": 15,
   "metadata": {},
   "outputs": [],
   "source": [
    "#import necessary libraries\n",
    "import pandas as pd\n",
    "import numpy as np\n",
    "import matplotlib.pyplot as plt\n",
    "import seaborn as sns\n",
    "import warnings\n",
    "warnings.filterwarnings('ignore')"
   ]
  },
  {
   "cell_type": "code",
   "execution_count": 16,
   "metadata": {},
   "outputs": [
    {
     "data": {
      "text/html": [
       "<div>\n",
       "<style scoped>\n",
       "    .dataframe tbody tr th:only-of-type {\n",
       "        vertical-align: middle;\n",
       "    }\n",
       "\n",
       "    .dataframe tbody tr th {\n",
       "        vertical-align: top;\n",
       "    }\n",
       "\n",
       "    .dataframe thead th {\n",
       "        text-align: right;\n",
       "    }\n",
       "</style>\n",
       "<table border=\"1\" class=\"dataframe\">\n",
       "  <thead>\n",
       "    <tr style=\"text-align: right;\">\n",
       "      <th></th>\n",
       "      <th>TITLE</th>\n",
       "      <th>RESTAURANT_ID</th>\n",
       "      <th>CUISINES</th>\n",
       "      <th>TIME</th>\n",
       "      <th>CITY</th>\n",
       "      <th>LOCALITY</th>\n",
       "      <th>RATING</th>\n",
       "      <th>VOTES</th>\n",
       "      <th>COST</th>\n",
       "    </tr>\n",
       "  </thead>\n",
       "  <tbody>\n",
       "    <tr>\n",
       "      <th>0</th>\n",
       "      <td>CASUAL DINING</td>\n",
       "      <td>9438</td>\n",
       "      <td>Malwani, Goan, North Indian</td>\n",
       "      <td>11am – 4pm, 7:30pm – 11:30pm (Mon-Sun)</td>\n",
       "      <td>Thane</td>\n",
       "      <td>Dombivali East</td>\n",
       "      <td>3.6</td>\n",
       "      <td>49 votes</td>\n",
       "      <td>1200</td>\n",
       "    </tr>\n",
       "    <tr>\n",
       "      <th>1</th>\n",
       "      <td>CASUAL DINING,BAR</td>\n",
       "      <td>13198</td>\n",
       "      <td>Asian, Modern Indian, Japanese</td>\n",
       "      <td>6pm – 11pm (Mon-Sun)</td>\n",
       "      <td>Chennai</td>\n",
       "      <td>Ramapuram</td>\n",
       "      <td>4.2</td>\n",
       "      <td>30 votes</td>\n",
       "      <td>1500</td>\n",
       "    </tr>\n",
       "    <tr>\n",
       "      <th>2</th>\n",
       "      <td>CASUAL DINING</td>\n",
       "      <td>10915</td>\n",
       "      <td>North Indian, Chinese, Biryani, Hyderabadi</td>\n",
       "      <td>11am – 3:30pm, 7pm – 11pm (Mon-Sun)</td>\n",
       "      <td>Chennai</td>\n",
       "      <td>Saligramam</td>\n",
       "      <td>3.8</td>\n",
       "      <td>221 votes</td>\n",
       "      <td>800</td>\n",
       "    </tr>\n",
       "    <tr>\n",
       "      <th>3</th>\n",
       "      <td>QUICK BITES</td>\n",
       "      <td>6346</td>\n",
       "      <td>Tibetan, Chinese</td>\n",
       "      <td>11:30am – 1am (Mon-Sun)</td>\n",
       "      <td>Mumbai</td>\n",
       "      <td>Bandra West</td>\n",
       "      <td>4.1</td>\n",
       "      <td>24 votes</td>\n",
       "      <td>800</td>\n",
       "    </tr>\n",
       "    <tr>\n",
       "      <th>4</th>\n",
       "      <td>DESSERT PARLOR</td>\n",
       "      <td>15387</td>\n",
       "      <td>Desserts</td>\n",
       "      <td>11am – 1am (Mon-Sun)</td>\n",
       "      <td>Mumbai</td>\n",
       "      <td>Lower Parel</td>\n",
       "      <td>3.8</td>\n",
       "      <td>165 votes</td>\n",
       "      <td>300</td>\n",
       "    </tr>\n",
       "  </tbody>\n",
       "</table>\n",
       "</div>"
      ],
      "text/plain": [
       "               TITLE  RESTAURANT_ID  \\\n",
       "0      CASUAL DINING           9438   \n",
       "1  CASUAL DINING,BAR          13198   \n",
       "2      CASUAL DINING          10915   \n",
       "3        QUICK BITES           6346   \n",
       "4     DESSERT PARLOR          15387   \n",
       "\n",
       "                                     CUISINES  \\\n",
       "0                 Malwani, Goan, North Indian   \n",
       "1              Asian, Modern Indian, Japanese   \n",
       "2  North Indian, Chinese, Biryani, Hyderabadi   \n",
       "3                            Tibetan, Chinese   \n",
       "4                                    Desserts   \n",
       "\n",
       "                                     TIME     CITY        LOCALITY RATING  \\\n",
       "0  11am – 4pm, 7:30pm – 11:30pm (Mon-Sun)    Thane  Dombivali East    3.6   \n",
       "1                    6pm – 11pm (Mon-Sun)  Chennai       Ramapuram    4.2   \n",
       "2     11am – 3:30pm, 7pm – 11pm (Mon-Sun)  Chennai      Saligramam    3.8   \n",
       "3                 11:30am – 1am (Mon-Sun)   Mumbai     Bandra West    4.1   \n",
       "4                    11am – 1am (Mon-Sun)   Mumbai     Lower Parel    3.8   \n",
       "\n",
       "       VOTES  COST  \n",
       "0   49 votes  1200  \n",
       "1   30 votes  1500  \n",
       "2  221 votes   800  \n",
       "3   24 votes   800  \n",
       "4  165 votes   300  "
      ]
     },
     "execution_count": 16,
     "metadata": {},
     "output_type": "execute_result"
    }
   ],
   "source": [
    "#import the dataset\n",
    "df=pd.read_excel(\"Restaurant Train Data.xlsx\")\n",
    "dftest=pd.read_excel(\"restaurant test Data.xlsx\")\n",
    "df.head()"
   ]
  },
  {
   "cell_type": "code",
   "execution_count": 17,
   "metadata": {},
   "outputs": [
    {
     "name": "stdout",
     "output_type": "stream",
     "text": [
      "(12690, 9)\n",
      "(4231, 8)\n"
     ]
    }
   ],
   "source": [
    "#checking shape of the datasets\n",
    "print(df.shape)\n",
    "print(dftest.shape)\n",
    "\n",
    "#There are 12690 rows and 9 columns in the training dataset\n",
    "#There are 4231 rows and 8 columns in the test dataset"
   ]
  },
  {
   "cell_type": "code",
   "execution_count": 18,
   "metadata": {},
   "outputs": [
    {
     "name": "stdout",
     "output_type": "stream",
     "text": [
      "TITLE            object\n",
      "RESTAURANT_ID     int64\n",
      "CUISINES         object\n",
      "TIME             object\n",
      "CITY             object\n",
      "LOCALITY         object\n",
      "RATING           object\n",
      "VOTES            object\n",
      "COST              int64\n",
      "dtype: object\n",
      "\n",
      "\n",
      "TITLE            object\n",
      "RESTAURANT_ID     int64\n",
      "CUISINES         object\n",
      "TIME             object\n",
      "CITY             object\n",
      "LOCALITY         object\n",
      "RATING           object\n",
      "VOTES            object\n",
      "dtype: object\n"
     ]
    }
   ],
   "source": [
    "#checking the datatypes\n",
    "print(df.dtypes)\n",
    "print(\"\\n\")\n",
    "print(dftest.dtypes)\n",
    "\n",
    "#Restaurant ID and Cost are in int format. Rest all are in object format."
   ]
  },
  {
   "cell_type": "markdown",
   "metadata": {},
   "source": [
    "#### Checking missing values"
   ]
  },
  {
   "cell_type": "code",
   "execution_count": 19,
   "metadata": {},
   "outputs": [
    {
     "data": {
      "text/plain": [
       "<matplotlib.axes._subplots.AxesSubplot at 0x1fc256e1048>"
      ]
     },
     "execution_count": 19,
     "metadata": {},
     "output_type": "execute_result"
    },
    {
     "data": {
      "image/png": "[encoded data removed]",
      "text/plain": [
       "<Figure size 432x288 with 2 Axes>"
      ]
     },
     "metadata": {
      "needs_background": "light"
     },
     "output_type": "display_data"
    }
   ],
   "source": [
    "#training dataset\n",
    "sns.heatmap(df.isnull())"
   ]
  },
  {
   "cell_type": "code",
   "execution_count": 20,
   "metadata": {},
   "outputs": [
    {
     "data": {
      "text/plain": [
       "TITLE               0\n",
       "RESTAURANT_ID       0\n",
       "CUISINES            0\n",
       "TIME                0\n",
       "CITY              112\n",
       "LOCALITY           98\n",
       "RATING              2\n",
       "VOTES            1204\n",
       "COST                0\n",
       "dtype: int64"
      ]
     },
     "execution_count": 20,
     "metadata": {},
     "output_type": "execute_result"
    }
   ],
   "source": [
    "#training dataset\n",
    "df.isnull().sum()\n",
    "\n",
    "# Training dataset - in city 112 values and in votes 1204 values are missing"
   ]
  },
  {
   "cell_type": "code",
   "execution_count": 21,
   "metadata": {},
   "outputs": [
    {
     "data": {
      "text/plain": [
       "<matplotlib.axes._subplots.AxesSubplot at 0x1fc24d7a588>"
      ]
     },
     "execution_count": 21,
     "metadata": {},
     "output_type": "execute_result"
    },
    {
     "data": {
      "image/png": "[encoded data removed]",
      "text/plain": [
       "<Figure size 432x288 with 2 Axes>"
      ]
     },
     "metadata": {
      "needs_background": "light"
     },
     "output_type": "display_data"
    }
   ],
   "source": [
    "# test dataset\n",
    "\n",
    "sns.heatmap(dftest.isnull())"
   ]
  },
  {
   "cell_type": "code",
   "execution_count": 22,
   "metadata": {},
   "outputs": [
    {
     "data": {
      "text/plain": [
       "TITLE              0\n",
       "RESTAURANT_ID      0\n",
       "CUISINES           0\n",
       "TIME               0\n",
       "CITY              35\n",
       "LOCALITY          30\n",
       "RATING             2\n",
       "VOTES            402\n",
       "dtype: int64"
      ]
     },
     "execution_count": 22,
     "metadata": {},
     "output_type": "execute_result"
    }
   ],
   "source": [
    "# test dataset\n",
    "dftest.isnull().sum()\n",
    "\n",
    "#test dataset - city 35, locality 30, rating 2 and votes 402 values are missing"
   ]
  },
  {
   "cell_type": "code",
   "execution_count": 23,
   "metadata": {},
   "outputs": [
    {
     "data": {
      "text/html": [
       "<div>\n",
       "<style scoped>\n",
       "    .dataframe tbody tr th:only-of-type {\n",
       "        vertical-align: middle;\n",
       "    }\n",
       "\n",
       "    .dataframe tbody tr th {\n",
       "        vertical-align: top;\n",
       "    }\n",
       "\n",
       "    .dataframe thead th {\n",
       "        text-align: right;\n",
       "    }\n",
       "</style>\n",
       "<table border=\"1\" class=\"dataframe\">\n",
       "  <thead>\n",
       "    <tr style=\"text-align: right;\">\n",
       "      <th></th>\n",
       "      <th>column_name</th>\n",
       "      <th>Value</th>\n",
       "    </tr>\n",
       "  </thead>\n",
       "  <tbody>\n",
       "    <tr>\n",
       "      <th>1</th>\n",
       "      <td>RESTAURANT_ID</td>\n",
       "      <td>11892</td>\n",
       "    </tr>\n",
       "    <tr>\n",
       "      <th>2</th>\n",
       "      <td>CUISINES</td>\n",
       "      <td>4155</td>\n",
       "    </tr>\n",
       "    <tr>\n",
       "      <th>3</th>\n",
       "      <td>TIME</td>\n",
       "      <td>2689</td>\n",
       "    </tr>\n",
       "    <tr>\n",
       "      <th>7</th>\n",
       "      <td>VOTES</td>\n",
       "      <td>1847</td>\n",
       "    </tr>\n",
       "    <tr>\n",
       "      <th>5</th>\n",
       "      <td>LOCALITY</td>\n",
       "      <td>1416</td>\n",
       "    </tr>\n",
       "    <tr>\n",
       "      <th>4</th>\n",
       "      <td>CITY</td>\n",
       "      <td>359</td>\n",
       "    </tr>\n",
       "    <tr>\n",
       "      <th>0</th>\n",
       "      <td>TITLE</td>\n",
       "      <td>113</td>\n",
       "    </tr>\n",
       "    <tr>\n",
       "      <th>8</th>\n",
       "      <td>COST</td>\n",
       "      <td>86</td>\n",
       "    </tr>\n",
       "    <tr>\n",
       "      <th>6</th>\n",
       "      <td>RATING</td>\n",
       "      <td>32</td>\n",
       "    </tr>\n",
       "  </tbody>\n",
       "</table>\n",
       "</div>"
      ],
      "text/plain": [
       "     column_name  Value\n",
       "1  RESTAURANT_ID  11892\n",
       "2       CUISINES   4155\n",
       "3           TIME   2689\n",
       "7          VOTES   1847\n",
       "5       LOCALITY   1416\n",
       "4           CITY    359\n",
       "0          TITLE    113\n",
       "8           COST     86\n",
       "6         RATING     32"
      ]
     },
     "execution_count": 23,
     "metadata": {},
     "output_type": "execute_result"
    }
   ],
   "source": [
    "#checking the no. of unique values\n",
    "\n",
    "#training dataset\n",
    "\n",
    "col_name=[]\n",
    "unique_value=[]\n",
    "\n",
    "for i in df.columns:\n",
    "    col_name.append(str(i))\n",
    "    unique_value.append(df[i].nunique())\n",
    "\n",
    "table=pd.DataFrame()\n",
    "table['column_name']=col_name\n",
    "table['Value']=unique_value\n",
    "\n",
    "table=table.sort_values('Value', ascending=False)\n",
    "table"
   ]
  },
  {
   "cell_type": "code",
   "execution_count": 24,
   "metadata": {},
   "outputs": [
    {
     "name": "stdout",
     "output_type": "stream",
     "text": [
      "QUICK BITES                     4218\n",
      "CASUAL DINING                   3652\n",
      "None                            1003\n",
      "CAFÉ                             607\n",
      "DESSERT PARLOR                   382\n",
      "                                ... \n",
      "CONFECTIONERY,QUICK BITES          1\n",
      "SWEET SHOP,CONFECTIONERY           1\n",
      "CASUAL DINING,FOOD COURT           1\n",
      "CASUAL DINING,DESSERT PARLOR       1\n",
      "MEAT SHOP                          1\n",
      "Name: TITLE, Length: 113, dtype: int64\n",
      "\n",
      "7264     8\n",
      "4634     7\n",
      "9910     6\n",
      "13173    5\n",
      "1571     5\n",
      "        ..\n",
      "461      1\n",
      "2508     1\n",
      "14794    1\n",
      "10696    1\n",
      "0        1\n",
      "Name: RESTAURANT_ID, Length: 11892, dtype: int64\n",
      "\n",
      "South Indian                                    532\n",
      "North Indian                                    526\n",
      "North Indian, Chinese                           501\n",
      "Fast Food                                       286\n",
      "Chinese                                         167\n",
      "                                               ... \n",
      "North Indian, Iranian                             1\n",
      "Kerala, Seafood, Juices                           1\n",
      "European, Continental, Italian, North Indian      1\n",
      "Cafe, Fast Food, Thai, Chinese                    1\n",
      "Cafe, Fast Food, Italian, Beverages               1\n",
      "Name: CUISINES, Length: 4155, dtype: int64\n",
      "\n",
      "11am – 11pm (Mon-Sun)                              1415\n",
      "12noon – 12midnight (Mon-Sun)                       469\n",
      "12noon – 11pm (Mon-Sun)                             407\n",
      "11am – 12midnight (Mon-Sun)                         310\n",
      "10am – 10pm (Mon-Sun)                               221\n",
      "                                                   ... \n",
      "Closed (Mon),12noon – 3:15pm, 7pm – 11:15pm...        1\n",
      "12noon – 11:30pm (Mon-Wed),11:30am – 11:30pm...       1\n",
      "12noon – 3pm, 7:30pm – 2am (Mon-Sun)                  1\n",
      "Closed (Mon),10am – 12midnight (Tue-Sun)              1\n",
      "Closed (Mon),7am – 1:30am (Tue-Sun)                   1\n",
      "Name: TIME, Length: 2689, dtype: int64\n",
      "\n",
      "Chennai                           2174\n",
      "Bangalore                         2149\n",
      "Hyderabad                         1819\n",
      "Mumbai                            1722\n",
      "New Delhi                         1321\n",
      "                                  ... \n",
      "Gurgoan                              1\n",
      "Hosur Road                           1\n",
      "Kochi.                               1\n",
      "Sector 1                             1\n",
      "Rajarajeshwari Nagar bangalore       1\n",
      "Name: CITY, Length: 359, dtype: int64\n",
      "\n",
      "Gachibowli                166\n",
      "Indiranagar               138\n",
      "Edappally                 122\n",
      "Kakkanad                  121\n",
      "HSR                       120\n",
      "                         ... \n",
      "Satellite Town              1\n",
      "Near RTA office Nagole      1\n",
      "Rajiv Gandhi Salai          1\n",
      "Courtyard by Marriott       1\n",
      "Jamalia                     1\n",
      "Name: LOCALITY, Length: 1416, dtype: int64\n",
      "\n",
      "3.9    1238\n",
      "3.8    1190\n",
      "4.0    1099\n",
      "3.7    1086\n",
      "3.6     951\n",
      "4.1     936\n",
      "3.5     771\n",
      "4.2     723\n",
      "NEW     707\n",
      "3.4     575\n",
      "4.3     556\n",
      "-       495\n",
      "3.3     365\n",
      "4.4     362\n",
      "3.2     266\n",
      "4.5     199\n",
      "3.1     186\n",
      "2.9     186\n",
      "3.0     170\n",
      "2.8     146\n",
      "4.6     141\n",
      "2.7      89\n",
      "4.7      69\n",
      "2.6      61\n",
      "2.5      35\n",
      "4.8      32\n",
      "4.9      22\n",
      "2.4      15\n",
      "2.3      10\n",
      "2.1       3\n",
      "2.2       2\n",
      "2.0       2\n",
      "Name: RATING, dtype: int64\n",
      "\n",
      "44 votes      71\n",
      "29 votes      66\n",
      "28 votes      66\n",
      "38 votes      65\n",
      "35 votes      64\n",
      "              ..\n",
      "3505 votes     1\n",
      "4121 votes     1\n",
      "1334 votes     1\n",
      "598 votes      1\n",
      "1711 votes     1\n",
      "Name: VOTES, Length: 1847, dtype: int64\n",
      "\n",
      "300      1595\n",
      "400      1357\n",
      "500      1300\n",
      "200      1031\n",
      "600       806\n",
      "         ... \n",
      "4100        1\n",
      "70          1\n",
      "14000       1\n",
      "1950        1\n",
      "80          1\n",
      "Name: COST, Length: 86, dtype: int64\n",
      "\n"
     ]
    }
   ],
   "source": [
    "#checking the unique values in the dataset\n",
    "#training dataset\n",
    "for i in df.columns:\n",
    "    print(df[i].value_counts())\n",
    "    print()"
   ]
  },
  {
   "cell_type": "markdown",
   "metadata": {},
   "source": [
    "Observations for training dataset\n",
    "1. The cuisines are of 4155 types.\n",
    "2. The unique value of time is 2689.\n",
    "3. The votes is 1847 unique types.\n",
    "4. The locality is 1416 unique types.\n",
    "5. The 359 unique cities are mentioned.\n",
    "6. 1416 different localities are mentioned.\n",
    "7. There are 11892 restaurant IDs\n",
    "8. Title of cuisines is of 113 different types\n",
    "9. Cost is 86 unique values.\n",
    "10. Ratings is 32 different types."
   ]
  },
  {
   "cell_type": "code",
   "execution_count": 25,
   "metadata": {},
   "outputs": [
    {
     "data": {
      "text/html": [
       "<div>\n",
       "<style scoped>\n",
       "    .dataframe tbody tr th:only-of-type {\n",
       "        vertical-align: middle;\n",
       "    }\n",
       "\n",
       "    .dataframe tbody tr th {\n",
       "        vertical-align: top;\n",
       "    }\n",
       "\n",
       "    .dataframe thead th {\n",
       "        text-align: right;\n",
       "    }\n",
       "</style>\n",
       "<table border=\"1\" class=\"dataframe\">\n",
       "  <thead>\n",
       "    <tr style=\"text-align: right;\">\n",
       "      <th></th>\n",
       "      <th>column_name</th>\n",
       "      <th>Value</th>\n",
       "    </tr>\n",
       "  </thead>\n",
       "  <tbody>\n",
       "    <tr>\n",
       "      <th>1</th>\n",
       "      <td>RESTAURANT_ID</td>\n",
       "      <td>4127</td>\n",
       "    </tr>\n",
       "    <tr>\n",
       "      <th>2</th>\n",
       "      <td>CUISINES</td>\n",
       "      <td>1727</td>\n",
       "    </tr>\n",
       "    <tr>\n",
       "      <th>3</th>\n",
       "      <td>TIME</td>\n",
       "      <td>1183</td>\n",
       "    </tr>\n",
       "    <tr>\n",
       "      <th>7</th>\n",
       "      <td>VOTES</td>\n",
       "      <td>1136</td>\n",
       "    </tr>\n",
       "    <tr>\n",
       "      <th>5</th>\n",
       "      <td>LOCALITY</td>\n",
       "      <td>834</td>\n",
       "    </tr>\n",
       "    <tr>\n",
       "      <th>4</th>\n",
       "      <td>CITY</td>\n",
       "      <td>151</td>\n",
       "    </tr>\n",
       "    <tr>\n",
       "      <th>0</th>\n",
       "      <td>TITLE</td>\n",
       "      <td>86</td>\n",
       "    </tr>\n",
       "    <tr>\n",
       "      <th>6</th>\n",
       "      <td>RATING</td>\n",
       "      <td>31</td>\n",
       "    </tr>\n",
       "  </tbody>\n",
       "</table>\n",
       "</div>"
      ],
      "text/plain": [
       "     column_name  Value\n",
       "1  RESTAURANT_ID   4127\n",
       "2       CUISINES   1727\n",
       "3           TIME   1183\n",
       "7          VOTES   1136\n",
       "5       LOCALITY    834\n",
       "4           CITY    151\n",
       "0          TITLE     86\n",
       "6         RATING     31"
      ]
     },
     "execution_count": 25,
     "metadata": {},
     "output_type": "execute_result"
    }
   ],
   "source": [
    "#checking the no. of unique values\n",
    "\n",
    "#test dataset\n",
    "\n",
    "col_name=[]\n",
    "unique_value=[]\n",
    "\n",
    "for i in dftest.columns:\n",
    "    col_name.append(str(i))\n",
    "    unique_value.append(dftest[i].nunique())\n",
    "\n",
    "tabletest=pd.DataFrame()\n",
    "tabletest['column_name']=col_name\n",
    "tabletest['Value']=unique_value\n",
    "\n",
    "tabletest=tabletest.sort_values('Value', ascending=False)\n",
    "tabletest"
   ]
  },
  {
   "cell_type": "code",
   "execution_count": 26,
   "metadata": {},
   "outputs": [
    {
     "name": "stdout",
     "output_type": "stream",
     "text": [
      "QUICK BITES                   1416\n",
      "CASUAL DINING                 1258\n",
      "None                           284\n",
      "CAFÉ                           223\n",
      "DESSERT PARLOR                 126\n",
      "                              ... \n",
      "COCKTAIL BAR,CASUAL DINING       1\n",
      "CASUAL DINING,IRANI CAFE         1\n",
      "CAFÉ,FOOD COURT                  1\n",
      "BAKERY,CASUAL DINING             1\n",
      "QUICK BITES,CASUAL DINING        1\n",
      "Name: TITLE, Length: 86, dtype: int64\n",
      "\n",
      "12799    3\n",
      "15454    3\n",
      "4262     3\n",
      "11169    3\n",
      "1619     3\n",
      "        ..\n",
      "9598     1\n",
      "11432    1\n",
      "3451     1\n",
      "5496     1\n",
      "10241    1\n",
      "Name: RESTAURANT_ID, Length: 4127, dtype: int64\n",
      "\n",
      "North Indian, Chinese                               213\n",
      "North Indian                                        190\n",
      "South Indian                                        174\n",
      "Fast Food                                            78\n",
      "Chinese                                              59\n",
      "                                                   ... \n",
      "North Indian, Chinese, Hyderabadi                     1\n",
      "North Indian, Asian                                   1\n",
      "Italian, Finger Food                                  1\n",
      "Cafe, Fast Food, Tea, Coffee, Beverages               1\n",
      "Continental, North Indian, South Indian, Italian      1\n",
      "Name: CUISINES, Length: 1727, dtype: int64\n",
      "\n",
      "11am – 11pm (Mon-Sun)                                 447\n",
      "12noon – 12midnight (Mon-Sun)                         146\n",
      "12noon – 11pm (Mon-Sun)                               134\n",
      "11am – 12midnight (Mon-Sun)                           109\n",
      "10am – 11pm (Mon-Sun)                                  74\n",
      "                                                     ... \n",
      "11:30am – 4:30pm, 7pm – 11pm (Mon-Sun)                  1\n",
      "12noon – 11:30pm (Mon-Fri),12noon – 11:45pm...          1\n",
      "Closed (Mon),1pm – 11pm (Tue-Sun)                       1\n",
      "12noon – 3:30pm, 7pm – 11pm (Mon, Wed, Thu, Fri...      1\n",
      "6:30am – 7pm (Mon-Sun)                                  1\n",
      "Name: TIME, Length: 1183, dtype: int64\n",
      "\n",
      "Bangalore               686\n",
      "Chennai                 681\n",
      "Hyderabad               639\n",
      "Mumbai                  589\n",
      "Kochi                   472\n",
      "                       ... \n",
      "Bengalore                 1\n",
      "Velachery                 1\n",
      "Telangana 500027          1\n",
      "India Gate New Delhi      1\n",
      "Delh.                     1\n",
      "Name: CITY, Length: 151, dtype: int64\n",
      "\n",
      "Kakkanad                 54\n",
      "Kukatpally               54\n",
      "Whitefield               53\n",
      "Madhapur                 52\n",
      "Gachibowli               50\n",
      "                         ..\n",
      "4 Bungalows               1\n",
      "Sector 41                 1\n",
      "Sector 15 Part 1          1\n",
      "international Airport     1\n",
      "Mumbai CST Area           1\n",
      "Name: LOCALITY, Length: 834, dtype: int64\n",
      "\n",
      "3.8    414\n",
      "3.9    405\n",
      "4.0    399\n",
      "3.7    351\n",
      "3.6    310\n",
      "4.1    281\n",
      "4.2    245\n",
      "NEW    223\n",
      "3.5    217\n",
      "3.4    202\n",
      "4.3    184\n",
      "-      177\n",
      "4.4    122\n",
      "3.3    120\n",
      "3.2     83\n",
      "3.1     77\n",
      "4.5     75\n",
      "3.0     59\n",
      "2.9     56\n",
      "2.8     45\n",
      "4.6     43\n",
      "2.7     40\n",
      "2.6     24\n",
      "4.7     21\n",
      "4.8     17\n",
      "2.5     16\n",
      "2.4      9\n",
      "4.9      6\n",
      "2.3      5\n",
      "2.2      2\n",
      "2.1      1\n",
      "Name: RATING, dtype: int64\n",
      "\n",
      "6 votes       30\n",
      "58 votes      26\n",
      "22 votes      26\n",
      "42 votes      24\n",
      "23 votes      24\n",
      "              ..\n",
      "2585 votes     1\n",
      "831 votes      1\n",
      "3972 votes     1\n",
      "1143 votes     1\n",
      "1878 votes     1\n",
      "Name: VOTES, Length: 1136, dtype: int64\n",
      "\n"
     ]
    }
   ],
   "source": [
    "#checking the unique values in the dataset\n",
    "#test dataset\n",
    "for i in dftest.columns:\n",
    "    print(dftest[i].value_counts())\n",
    "    print()"
   ]
  },
  {
   "cell_type": "markdown",
   "metadata": {},
   "source": [
    "Observations for training dataset\n",
    "1. The cuisines are of 1727 types.\n",
    "2. The unique value of time is 1183.\n",
    "3. The votes is 1136 unique types.\n",
    "4. The locality is 834 unique types.\n",
    "5. The 151 unique cities are mentioned.\n",
    "6. 834 different localities are mentioned.\n",
    "7. There are 4127 restaurant IDs\n",
    "8. Title of cuisines is of 86 different types\n",
    "9. Ratings is 31 different types."
   ]
  },
  {
   "cell_type": "code",
   "execution_count": 27,
   "metadata": {},
   "outputs": [],
   "source": [
    "#converting votes from object datatype to int\n",
    "#firstly we need to remove votes from the data ex:- 29 votes should be converted to 29\n",
    "#converting into float as the data has null values and it doesnot allow to convert to int\n",
    "\n",
    "#training dataset\n",
    "df['VOTES']=df['VOTES'].str.replace('votes','').astype(float) \n",
    "dftest['VOTES']=dftest['VOTES'].str.replace('votes','').astype(float)"
   ]
  },
  {
   "cell_type": "code",
   "execution_count": 28,
   "metadata": {},
   "outputs": [
    {
     "data": {
      "text/plain": [
       "0     49.0\n",
       "1     30.0\n",
       "2    221.0\n",
       "3     24.0\n",
       "4    165.0\n",
       "Name: VOTES, dtype: float64"
      ]
     },
     "execution_count": 28,
     "metadata": {},
     "output_type": "execute_result"
    }
   ],
   "source": [
    "df['VOTES'].head()\n",
    "# the column VOTES has been converted to float successfully."
   ]
  },
  {
   "cell_type": "code",
   "execution_count": 29,
   "metadata": {},
   "outputs": [],
   "source": [
    "#replacing the missing values in VOTES by the mean values.\n",
    "#training and test dataset\n",
    "df['VOTES']=df['VOTES'].fillna(df['VOTES'].mean())\n",
    "dftest['VOTES']=dftest['VOTES'].fillna(dftest['VOTES'].mean())"
   ]
  },
  {
   "cell_type": "code",
   "execution_count": 30,
   "metadata": {},
   "outputs": [
    {
     "name": "stdout",
     "output_type": "stream",
     "text": [
      "0\n",
      "0\n"
     ]
    }
   ],
   "source": [
    "#checking if there any missing values\n",
    "print(df['VOTES'].isnull().sum())\n",
    "print(dftest['VOTES'].isnull().sum())\n",
    "\n",
    "#All missing values have been replaced successfully"
   ]
  },
  {
   "cell_type": "code",
   "execution_count": 31,
   "metadata": {},
   "outputs": [
    {
     "data": {
      "text/html": [
       "<div>\n",
       "<style scoped>\n",
       "    .dataframe tbody tr th:only-of-type {\n",
       "        vertical-align: middle;\n",
       "    }\n",
       "\n",
       "    .dataframe tbody tr th {\n",
       "        vertical-align: top;\n",
       "    }\n",
       "\n",
       "    .dataframe thead th {\n",
       "        text-align: right;\n",
       "    }\n",
       "</style>\n",
       "<table border=\"1\" class=\"dataframe\">\n",
       "  <thead>\n",
       "    <tr style=\"text-align: right;\">\n",
       "      <th></th>\n",
       "      <th>TITLE</th>\n",
       "      <th>RESTAURANT_ID</th>\n",
       "      <th>CUISINES</th>\n",
       "      <th>TIME</th>\n",
       "      <th>CITY</th>\n",
       "      <th>LOCALITY</th>\n",
       "      <th>RATING</th>\n",
       "      <th>VOTES</th>\n",
       "      <th>COST</th>\n",
       "    </tr>\n",
       "  </thead>\n",
       "  <tbody>\n",
       "    <tr>\n",
       "      <th>129</th>\n",
       "      <td>None</td>\n",
       "      <td>9101</td>\n",
       "      <td>North Indian, South Indian, Chinese, Continental</td>\n",
       "      <td>12noon – 3pm, 7pm – 2am (Mon-Sun)</td>\n",
       "      <td>NaN</td>\n",
       "      <td>NaN</td>\n",
       "      <td>3.6</td>\n",
       "      <td>728.000000</td>\n",
       "      <td>500</td>\n",
       "    </tr>\n",
       "    <tr>\n",
       "      <th>204</th>\n",
       "      <td>BAKERY</td>\n",
       "      <td>15062</td>\n",
       "      <td>Bakery</td>\n",
       "      <td>Not Available</td>\n",
       "      <td>Kochi</td>\n",
       "      <td>Marine Drive</td>\n",
       "      <td>NaN</td>\n",
       "      <td>415.668901</td>\n",
       "      <td>200</td>\n",
       "    </tr>\n",
       "    <tr>\n",
       "      <th>246</th>\n",
       "      <td>QUICK BITES</td>\n",
       "      <td>14502</td>\n",
       "      <td>Biryani</td>\n",
       "      <td>12noon – 11pm (Mon-Sun)</td>\n",
       "      <td>NaN</td>\n",
       "      <td>Palarivattom Kochi</td>\n",
       "      <td>3.4</td>\n",
       "      <td>82.000000</td>\n",
       "      <td>300</td>\n",
       "    </tr>\n",
       "    <tr>\n",
       "      <th>411</th>\n",
       "      <td>None</td>\n",
       "      <td>6313</td>\n",
       "      <td>North Indian, Chinese, Pizza, Burger, Fast Food</td>\n",
       "      <td>7pm – 4am (Mon-Sun)</td>\n",
       "      <td>NaN</td>\n",
       "      <td>NaN</td>\n",
       "      <td>4.0</td>\n",
       "      <td>29.000000</td>\n",
       "      <td>600</td>\n",
       "    </tr>\n",
       "    <tr>\n",
       "      <th>421</th>\n",
       "      <td>CAFÉ</td>\n",
       "      <td>14127</td>\n",
       "      <td>Cafe, Fast Food</td>\n",
       "      <td>Not Available</td>\n",
       "      <td>Hyderabad</td>\n",
       "      <td>Banjara Hills</td>\n",
       "      <td>NaN</td>\n",
       "      <td>415.668901</td>\n",
       "      <td>350</td>\n",
       "    </tr>\n",
       "    <tr>\n",
       "      <th>...</th>\n",
       "      <td>...</td>\n",
       "      <td>...</td>\n",
       "      <td>...</td>\n",
       "      <td>...</td>\n",
       "      <td>...</td>\n",
       "      <td>...</td>\n",
       "      <td>...</td>\n",
       "      <td>...</td>\n",
       "      <td>...</td>\n",
       "    </tr>\n",
       "    <tr>\n",
       "      <th>12280</th>\n",
       "      <td>None</td>\n",
       "      <td>3446</td>\n",
       "      <td>North Indian, Chinese</td>\n",
       "      <td>5pm – 5am (Mon-Sun)</td>\n",
       "      <td>NaN</td>\n",
       "      <td>NaN</td>\n",
       "      <td>3.7</td>\n",
       "      <td>281.000000</td>\n",
       "      <td>500</td>\n",
       "    </tr>\n",
       "    <tr>\n",
       "      <th>12314</th>\n",
       "      <td>CASUAL DINING</td>\n",
       "      <td>11724</td>\n",
       "      <td>North Indian, Bengali</td>\n",
       "      <td>11am – 3:30pm, 7pm – 11pm (Mon-Sun)</td>\n",
       "      <td>NaN</td>\n",
       "      <td>Opposite to corporation bank and LIC office ba...</td>\n",
       "      <td>4.3</td>\n",
       "      <td>775.000000</td>\n",
       "      <td>650</td>\n",
       "    </tr>\n",
       "    <tr>\n",
       "      <th>12447</th>\n",
       "      <td>QUICK BITES</td>\n",
       "      <td>7314</td>\n",
       "      <td>North Indian, Chinese, Mughlai, Seafood</td>\n",
       "      <td>12:30pm – 12midnight (Mon-Sun)</td>\n",
       "      <td>NaN</td>\n",
       "      <td>Hyderabad</td>\n",
       "      <td>3.1</td>\n",
       "      <td>44.000000</td>\n",
       "      <td>350</td>\n",
       "    </tr>\n",
       "    <tr>\n",
       "      <th>12567</th>\n",
       "      <td>None</td>\n",
       "      <td>15532</td>\n",
       "      <td>Biryani, Chinese, Fast Food, North Indian</td>\n",
       "      <td>11am – 1am (Mon, Sun), 11am – 12:15AM (Tue-Sat)</td>\n",
       "      <td>NaN</td>\n",
       "      <td>NaN</td>\n",
       "      <td>3.7</td>\n",
       "      <td>656.000000</td>\n",
       "      <td>300</td>\n",
       "    </tr>\n",
       "    <tr>\n",
       "      <th>12615</th>\n",
       "      <td>None</td>\n",
       "      <td>13734</td>\n",
       "      <td>Healthy Food, Salad</td>\n",
       "      <td>9am – 8pm (Mon-Sun)</td>\n",
       "      <td>NaN</td>\n",
       "      <td>NaN</td>\n",
       "      <td>3.6</td>\n",
       "      <td>40.000000</td>\n",
       "      <td>400</td>\n",
       "    </tr>\n",
       "  </tbody>\n",
       "</table>\n",
       "<p>115 rows × 9 columns</p>\n",
       "</div>"
      ],
      "text/plain": [
       "               TITLE  RESTAURANT_ID  \\\n",
       "129             None           9101   \n",
       "204           BAKERY          15062   \n",
       "246      QUICK BITES          14502   \n",
       "411             None           6313   \n",
       "421             CAFÉ          14127   \n",
       "...              ...            ...   \n",
       "12280           None           3446   \n",
       "12314  CASUAL DINING          11724   \n",
       "12447    QUICK BITES           7314   \n",
       "12567           None          15532   \n",
       "12615           None          13734   \n",
       "\n",
       "                                               CUISINES  \\\n",
       "129    North Indian, South Indian, Chinese, Continental   \n",
       "204                                              Bakery   \n",
       "246                                             Biryani   \n",
       "411     North Indian, Chinese, Pizza, Burger, Fast Food   \n",
       "421                                     Cafe, Fast Food   \n",
       "...                                                 ...   \n",
       "12280                             North Indian, Chinese   \n",
       "12314                             North Indian, Bengali   \n",
       "12447           North Indian, Chinese, Mughlai, Seafood   \n",
       "12567         Biryani, Chinese, Fast Food, North Indian   \n",
       "12615                               Healthy Food, Salad   \n",
       "\n",
       "                                                  TIME       CITY  \\\n",
       "129                  12noon – 3pm, 7pm – 2am (Mon-Sun)        NaN   \n",
       "204                                      Not Available      Kochi   \n",
       "246                            12noon – 11pm (Mon-Sun)        NaN   \n",
       "411                                7pm – 4am (Mon-Sun)        NaN   \n",
       "421                                      Not Available  Hyderabad   \n",
       "...                                                ...        ...   \n",
       "12280                              5pm – 5am (Mon-Sun)        NaN   \n",
       "12314              11am – 3:30pm, 7pm – 11pm (Mon-Sun)        NaN   \n",
       "12447                   12:30pm – 12midnight (Mon-Sun)        NaN   \n",
       "12567  11am – 1am (Mon, Sun), 11am – 12:15AM (Tue-Sat)        NaN   \n",
       "12615                              9am – 8pm (Mon-Sun)        NaN   \n",
       "\n",
       "                                                LOCALITY RATING       VOTES  \\\n",
       "129                                                  NaN    3.6  728.000000   \n",
       "204                                         Marine Drive    NaN  415.668901   \n",
       "246                                   Palarivattom Kochi    3.4   82.000000   \n",
       "411                                                  NaN    4.0   29.000000   \n",
       "421                                        Banjara Hills    NaN  415.668901   \n",
       "...                                                  ...    ...         ...   \n",
       "12280                                                NaN    3.7  281.000000   \n",
       "12314  Opposite to corporation bank and LIC office ba...    4.3  775.000000   \n",
       "12447                                          Hyderabad    3.1   44.000000   \n",
       "12567                                                NaN    3.7  656.000000   \n",
       "12615                                                NaN    3.6   40.000000   \n",
       "\n",
       "       COST  \n",
       "129     500  \n",
       "204     200  \n",
       "246     300  \n",
       "411     600  \n",
       "421     350  \n",
       "...     ...  \n",
       "12280   500  \n",
       "12314   650  \n",
       "12447   350  \n",
       "12567   300  \n",
       "12615   400  \n",
       "\n",
       "[115 rows x 9 columns]"
      ]
     },
     "execution_count": 31,
     "metadata": {},
     "output_type": "execute_result"
    }
   ],
   "source": [
    "#checking the rows where there are missing values\n",
    "df[df.isnull().any(axis=1)]"
   ]
  },
  {
   "cell_type": "markdown",
   "metadata": {},
   "source": [
    "Observations\n",
    "If we above the above dataset, we can see that few cities missing can be derived by the locality names mentioned along.\n",
    "But for the rest we can either replace city and location by mode (but then city and location cannot mismatch as location should be in same city) or else we can categorise separately as missing."
   ]
  },
  {
   "cell_type": "code",
   "execution_count": 32,
   "metadata": {},
   "outputs": [],
   "source": [
    "#replacing CITY details using available Locality details\n",
    "df.iloc[246,4]='Kochi'\n",
    "df.iloc[817,4]='Navi Mumbai'\n",
    "df.iloc[5149,4]='Navi Mumbai'\n",
    "df.iloc[5297,4]='Kochi'\n",
    "df.iloc[6397,4]='Mumbai'\n",
    "df.iloc[6451,4]='Chennai'\n",
    "df.iloc[8456,4]='Bangalore'\n",
    "df.iloc[8735,4]='Chennai'\n",
    "df.iloc[9121,4]='Bangalore'\n",
    "df.iloc[9268,4]='Kochi'\n",
    "df.iloc[10200,4]='Thane'\n",
    "df.iloc[10704,4]='Chennai'\n",
    "df.iloc[11491,4]='Chennai'\n",
    "df.iloc[12181,5]='Kadubesanahalli'\n",
    "df.iloc[12314,4]='Bangalore'\n",
    "df.iloc[12447,4]='Hyderabad'"
   ]
  },
  {
   "cell_type": "code",
   "execution_count": 33,
   "metadata": {},
   "outputs": [],
   "source": [
    "#filling the nan values in the location and city columns by 'missing'\n",
    "\n",
    "#training and test data\n",
    "df['CITY']=df['CITY'].fillna('missing')\n",
    "dftest['CITY']=dftest['CITY'].fillna('missing')"
   ]
  },
  {
   "cell_type": "code",
   "execution_count": 34,
   "metadata": {},
   "outputs": [],
   "source": [
    "#filling the missing values with mode in the Rating column\n",
    "\n",
    "# training and test dataset\n",
    "df['RATING']=df['RATING'].fillna(df['RATING'].mode()[0])\n",
    "dftest['RATING']=dftest['RATING'].fillna(dftest['RATING'].mode()[0])"
   ]
  },
  {
   "cell_type": "code",
   "execution_count": 35,
   "metadata": {},
   "outputs": [
    {
     "data": {
      "text/html": [
       "<div>\n",
       "<style scoped>\n",
       "    .dataframe tbody tr th:only-of-type {\n",
       "        vertical-align: middle;\n",
       "    }\n",
       "\n",
       "    .dataframe tbody tr th {\n",
       "        vertical-align: top;\n",
       "    }\n",
       "\n",
       "    .dataframe thead th {\n",
       "        text-align: right;\n",
       "    }\n",
       "</style>\n",
       "<table border=\"1\" class=\"dataframe\">\n",
       "  <thead>\n",
       "    <tr style=\"text-align: right;\">\n",
       "      <th></th>\n",
       "      <th>TITLE</th>\n",
       "      <th>RESTAURANT_ID</th>\n",
       "      <th>CUISINES</th>\n",
       "      <th>TIME</th>\n",
       "      <th>CITY</th>\n",
       "      <th>LOCALITY</th>\n",
       "      <th>RATING</th>\n",
       "      <th>VOTES</th>\n",
       "      <th>COST</th>\n",
       "    </tr>\n",
       "  </thead>\n",
       "  <tbody>\n",
       "    <tr>\n",
       "      <th>13</th>\n",
       "      <td>CASUAL DINING</td>\n",
       "      <td>4319</td>\n",
       "      <td>South Indian</td>\n",
       "      <td>11am – 11:30pm (Mon-Sun)</td>\n",
       "      <td>Kochi</td>\n",
       "      <td>Edappally</td>\n",
       "      <td>-</td>\n",
       "      <td>415.668901</td>\n",
       "      <td>400</td>\n",
       "    </tr>\n",
       "    <tr>\n",
       "      <th>85</th>\n",
       "      <td>QUICK BITES</td>\n",
       "      <td>12657</td>\n",
       "      <td>North Indian, South Indian</td>\n",
       "      <td>Closed (Mon),7:30am – 10:30pm (Tue-Sun)</td>\n",
       "      <td>Bangalore</td>\n",
       "      <td>Vijay Nagar</td>\n",
       "      <td>-</td>\n",
       "      <td>415.668901</td>\n",
       "      <td>300</td>\n",
       "    </tr>\n",
       "    <tr>\n",
       "      <th>156</th>\n",
       "      <td>QUICK BITES</td>\n",
       "      <td>6302</td>\n",
       "      <td>South Indian</td>\n",
       "      <td>6am – 8pm (Mon-Sun)</td>\n",
       "      <td>Kochi</td>\n",
       "      <td>Vyttila</td>\n",
       "      <td>-</td>\n",
       "      <td>415.668901</td>\n",
       "      <td>400</td>\n",
       "    </tr>\n",
       "    <tr>\n",
       "      <th>178</th>\n",
       "      <td>CASUAL DINING</td>\n",
       "      <td>14064</td>\n",
       "      <td>Indian, Chinese</td>\n",
       "      <td>12noon – 11:30pm (Mon-Sun)</td>\n",
       "      <td>Kochi</td>\n",
       "      <td>Vennala</td>\n",
       "      <td>-</td>\n",
       "      <td>415.668901</td>\n",
       "      <td>400</td>\n",
       "    </tr>\n",
       "    <tr>\n",
       "      <th>235</th>\n",
       "      <td>QUICK BITES</td>\n",
       "      <td>14990</td>\n",
       "      <td>Kerala</td>\n",
       "      <td>8am – 7pm (Mon-Sun)</td>\n",
       "      <td>Kochi</td>\n",
       "      <td>Near Marine Drive</td>\n",
       "      <td>-</td>\n",
       "      <td>415.668901</td>\n",
       "      <td>50</td>\n",
       "    </tr>\n",
       "    <tr>\n",
       "      <th>...</th>\n",
       "      <td>...</td>\n",
       "      <td>...</td>\n",
       "      <td>...</td>\n",
       "      <td>...</td>\n",
       "      <td>...</td>\n",
       "      <td>...</td>\n",
       "      <td>...</td>\n",
       "      <td>...</td>\n",
       "      <td>...</td>\n",
       "    </tr>\n",
       "    <tr>\n",
       "      <th>12584</th>\n",
       "      <td>QUICK BITES</td>\n",
       "      <td>11842</td>\n",
       "      <td>Kerala, Biryani</td>\n",
       "      <td>8am – 10pm (Mon-Sun)</td>\n",
       "      <td>Kochi</td>\n",
       "      <td>Panampilly Nagar</td>\n",
       "      <td>-</td>\n",
       "      <td>415.668901</td>\n",
       "      <td>300</td>\n",
       "    </tr>\n",
       "    <tr>\n",
       "      <th>12585</th>\n",
       "      <td>CASUAL DINING</td>\n",
       "      <td>5878</td>\n",
       "      <td>Kerala</td>\n",
       "      <td>6am – 4pm (Mon-Sun)</td>\n",
       "      <td>Kochi</td>\n",
       "      <td>Elamkulam</td>\n",
       "      <td>-</td>\n",
       "      <td>415.668901</td>\n",
       "      <td>400</td>\n",
       "    </tr>\n",
       "    <tr>\n",
       "      <th>12591</th>\n",
       "      <td>BEVERAGE SHOP</td>\n",
       "      <td>1167</td>\n",
       "      <td>Beverages, Juices, Desserts</td>\n",
       "      <td>9am – 10pm (Mon-Sun)</td>\n",
       "      <td>Kochi</td>\n",
       "      <td>Edappally</td>\n",
       "      <td>-</td>\n",
       "      <td>415.668901</td>\n",
       "      <td>150</td>\n",
       "    </tr>\n",
       "    <tr>\n",
       "      <th>12641</th>\n",
       "      <td>CASUAL DINING</td>\n",
       "      <td>8312</td>\n",
       "      <td>Kerala</td>\n",
       "      <td>7:30am – 11:30pm (Mon-Sun)</td>\n",
       "      <td>Kochi</td>\n",
       "      <td>Pallimukku</td>\n",
       "      <td>-</td>\n",
       "      <td>415.668901</td>\n",
       "      <td>300</td>\n",
       "    </tr>\n",
       "    <tr>\n",
       "      <th>12646</th>\n",
       "      <td>QUICK BITES</td>\n",
       "      <td>6050</td>\n",
       "      <td>Kerala, Chinese</td>\n",
       "      <td>11am – 11pm (Mon-Sun)</td>\n",
       "      <td>Ernakulam</td>\n",
       "      <td>Market Road</td>\n",
       "      <td>-</td>\n",
       "      <td>415.668901</td>\n",
       "      <td>300</td>\n",
       "    </tr>\n",
       "  </tbody>\n",
       "</table>\n",
       "<p>495 rows × 9 columns</p>\n",
       "</div>"
      ],
      "text/plain": [
       "               TITLE  RESTAURANT_ID                     CUISINES  \\\n",
       "13     CASUAL DINING           4319                 South Indian   \n",
       "85       QUICK BITES          12657   North Indian, South Indian   \n",
       "156      QUICK BITES           6302                 South Indian   \n",
       "178    CASUAL DINING          14064              Indian, Chinese   \n",
       "235      QUICK BITES          14990                       Kerala   \n",
       "...              ...            ...                          ...   \n",
       "12584    QUICK BITES          11842              Kerala, Biryani   \n",
       "12585  CASUAL DINING           5878                       Kerala   \n",
       "12591  BEVERAGE SHOP           1167  Beverages, Juices, Desserts   \n",
       "12641  CASUAL DINING           8312                       Kerala   \n",
       "12646    QUICK BITES           6050              Kerala, Chinese   \n",
       "\n",
       "                                          TIME       CITY           LOCALITY  \\\n",
       "13                    11am – 11:30pm (Mon-Sun)      Kochi          Edappally   \n",
       "85     Closed (Mon),7:30am – 10:30pm (Tue-Sun)  Bangalore        Vijay Nagar   \n",
       "156                        6am – 8pm (Mon-Sun)      Kochi            Vyttila   \n",
       "178                 12noon – 11:30pm (Mon-Sun)      Kochi            Vennala   \n",
       "235                        8am – 7pm (Mon-Sun)      Kochi  Near Marine Drive   \n",
       "...                                        ...        ...                ...   \n",
       "12584                     8am – 10pm (Mon-Sun)      Kochi   Panampilly Nagar   \n",
       "12585                      6am – 4pm (Mon-Sun)      Kochi          Elamkulam   \n",
       "12591                     9am – 10pm (Mon-Sun)      Kochi          Edappally   \n",
       "12641               7:30am – 11:30pm (Mon-Sun)      Kochi         Pallimukku   \n",
       "12646                    11am – 11pm (Mon-Sun)  Ernakulam        Market Road   \n",
       "\n",
       "      RATING       VOTES  COST  \n",
       "13         -  415.668901   400  \n",
       "85         -  415.668901   300  \n",
       "156        -  415.668901   400  \n",
       "178        -  415.668901   400  \n",
       "235        -  415.668901    50  \n",
       "...      ...         ...   ...  \n",
       "12584      -  415.668901   300  \n",
       "12585      -  415.668901   400  \n",
       "12591      -  415.668901   150  \n",
       "12641      -  415.668901   300  \n",
       "12646      -  415.668901   300  \n",
       "\n",
       "[495 rows x 9 columns]"
      ]
     },
     "execution_count": 35,
     "metadata": {},
     "output_type": "execute_result"
    }
   ],
   "source": [
    "#training dataset\n",
    "#there are few values in the RATING column which is represented by '-'\n",
    "#checking the rows where there are missing values\n",
    "df[df['RATING']=='-']\n",
    "#where the null values in the votes have been filled by mean, the ratings are also missing and represented by '-'. We can fill them by mean/mode"
   ]
  },
  {
   "cell_type": "code",
   "execution_count": 36,
   "metadata": {},
   "outputs": [
    {
     "data": {
      "text/html": [
       "<div>\n",
       "<style scoped>\n",
       "    .dataframe tbody tr th:only-of-type {\n",
       "        vertical-align: middle;\n",
       "    }\n",
       "\n",
       "    .dataframe tbody tr th {\n",
       "        vertical-align: top;\n",
       "    }\n",
       "\n",
       "    .dataframe thead th {\n",
       "        text-align: right;\n",
       "    }\n",
       "</style>\n",
       "<table border=\"1\" class=\"dataframe\">\n",
       "  <thead>\n",
       "    <tr style=\"text-align: right;\">\n",
       "      <th></th>\n",
       "      <th>TITLE</th>\n",
       "      <th>RESTAURANT_ID</th>\n",
       "      <th>CUISINES</th>\n",
       "      <th>TIME</th>\n",
       "      <th>CITY</th>\n",
       "      <th>LOCALITY</th>\n",
       "      <th>RATING</th>\n",
       "      <th>VOTES</th>\n",
       "      <th>COST</th>\n",
       "    </tr>\n",
       "  </thead>\n",
       "  <tbody>\n",
       "    <tr>\n",
       "      <th>62</th>\n",
       "      <td>QUICK BITES</td>\n",
       "      <td>7841</td>\n",
       "      <td>North Indian, Beverages</td>\n",
       "      <td>11am – 11pm (Mon-Sun)</td>\n",
       "      <td>Kochi</td>\n",
       "      <td>Kalamassery</td>\n",
       "      <td>NEW</td>\n",
       "      <td>415.668901</td>\n",
       "      <td>200</td>\n",
       "    </tr>\n",
       "    <tr>\n",
       "      <th>69</th>\n",
       "      <td>None</td>\n",
       "      <td>11096</td>\n",
       "      <td>Pizza, Fast Food</td>\n",
       "      <td>11am – 11pm (Mon-Sun)</td>\n",
       "      <td>New Delhi</td>\n",
       "      <td>Kalkaji</td>\n",
       "      <td>NEW</td>\n",
       "      <td>415.668901</td>\n",
       "      <td>200</td>\n",
       "    </tr>\n",
       "    <tr>\n",
       "      <th>111</th>\n",
       "      <td>CASUAL DINING</td>\n",
       "      <td>7095</td>\n",
       "      <td>Gujarati, Rajasthani, North Indian</td>\n",
       "      <td>11:30am – 3:30pm, 7pm – 11pm (Mon-Sun)</td>\n",
       "      <td>Mumbai</td>\n",
       "      <td>Borivali West</td>\n",
       "      <td>NEW</td>\n",
       "      <td>415.668901</td>\n",
       "      <td>800</td>\n",
       "    </tr>\n",
       "    <tr>\n",
       "      <th>117</th>\n",
       "      <td>QUICK BITES</td>\n",
       "      <td>8091</td>\n",
       "      <td>North Indian, Chinese</td>\n",
       "      <td>11am – 11pm (Mon-Sun)</td>\n",
       "      <td>New Delhi</td>\n",
       "      <td>Dwarka</td>\n",
       "      <td>NEW</td>\n",
       "      <td>415.668901</td>\n",
       "      <td>500</td>\n",
       "    </tr>\n",
       "    <tr>\n",
       "      <th>120</th>\n",
       "      <td>QUICK BITES</td>\n",
       "      <td>4993</td>\n",
       "      <td>North Indian, South Indian</td>\n",
       "      <td>7:30am – 9:30pm (Mon-Sat),Closed (Sun)</td>\n",
       "      <td>Bangalore-560066</td>\n",
       "      <td>Whitefield</td>\n",
       "      <td>NEW</td>\n",
       "      <td>415.668901</td>\n",
       "      <td>150</td>\n",
       "    </tr>\n",
       "    <tr>\n",
       "      <th>...</th>\n",
       "      <td>...</td>\n",
       "      <td>...</td>\n",
       "      <td>...</td>\n",
       "      <td>...</td>\n",
       "      <td>...</td>\n",
       "      <td>...</td>\n",
       "      <td>...</td>\n",
       "      <td>...</td>\n",
       "      <td>...</td>\n",
       "    </tr>\n",
       "    <tr>\n",
       "      <th>12602</th>\n",
       "      <td>QUICK BITES</td>\n",
       "      <td>11176</td>\n",
       "      <td>Rolls, North Indian, Biryani</td>\n",
       "      <td>12noon – 12midnight (Mon-Sun)</td>\n",
       "      <td>Mumbai</td>\n",
       "      <td>Mahakali</td>\n",
       "      <td>NEW</td>\n",
       "      <td>415.668901</td>\n",
       "      <td>200</td>\n",
       "    </tr>\n",
       "    <tr>\n",
       "      <th>12613</th>\n",
       "      <td>CASUAL DINING</td>\n",
       "      <td>397</td>\n",
       "      <td>Asian, Thai, Sushi, Healthy Food</td>\n",
       "      <td>12noon – 11pm (Mon-Sun)</td>\n",
       "      <td>Gurgaon</td>\n",
       "      <td>DLF Phase 4</td>\n",
       "      <td>NEW</td>\n",
       "      <td>415.668901</td>\n",
       "      <td>950</td>\n",
       "    </tr>\n",
       "    <tr>\n",
       "      <th>12630</th>\n",
       "      <td>CASUAL DINING</td>\n",
       "      <td>9959</td>\n",
       "      <td>Tex-Mex, Italian, Coffee</td>\n",
       "      <td>8am – 10:30pm (Mon-Sun)</td>\n",
       "      <td>Gurgaon</td>\n",
       "      <td>Golf Course Road</td>\n",
       "      <td>NEW</td>\n",
       "      <td>415.668901</td>\n",
       "      <td>1200</td>\n",
       "    </tr>\n",
       "    <tr>\n",
       "      <th>12658</th>\n",
       "      <td>None</td>\n",
       "      <td>9384</td>\n",
       "      <td>Kerala, South Indian</td>\n",
       "      <td>11am – 5pm (Mon-Sun)</td>\n",
       "      <td>Kochi</td>\n",
       "      <td>Chittoor Road</td>\n",
       "      <td>NEW</td>\n",
       "      <td>415.668901</td>\n",
       "      <td>400</td>\n",
       "    </tr>\n",
       "    <tr>\n",
       "      <th>12660</th>\n",
       "      <td>CASUAL DINING,BAR</td>\n",
       "      <td>1439</td>\n",
       "      <td>North Indian, Continental, Chinese, Beverages</td>\n",
       "      <td>5pm – 1:30am (Mon-Sun)</td>\n",
       "      <td>Mumbai</td>\n",
       "      <td>Bandra West</td>\n",
       "      <td>NEW</td>\n",
       "      <td>415.668901</td>\n",
       "      <td>1200</td>\n",
       "    </tr>\n",
       "  </tbody>\n",
       "</table>\n",
       "<p>707 rows × 9 columns</p>\n",
       "</div>"
      ],
      "text/plain": [
       "                   TITLE  RESTAURANT_ID  \\\n",
       "62           QUICK BITES           7841   \n",
       "69                  None          11096   \n",
       "111        CASUAL DINING           7095   \n",
       "117          QUICK BITES           8091   \n",
       "120          QUICK BITES           4993   \n",
       "...                  ...            ...   \n",
       "12602        QUICK BITES          11176   \n",
       "12613      CASUAL DINING            397   \n",
       "12630      CASUAL DINING           9959   \n",
       "12658               None           9384   \n",
       "12660  CASUAL DINING,BAR           1439   \n",
       "\n",
       "                                            CUISINES  \\\n",
       "62                           North Indian, Beverages   \n",
       "69                                  Pizza, Fast Food   \n",
       "111               Gujarati, Rajasthani, North Indian   \n",
       "117                            North Indian, Chinese   \n",
       "120                       North Indian, South Indian   \n",
       "...                                              ...   \n",
       "12602                   Rolls, North Indian, Biryani   \n",
       "12613               Asian, Thai, Sushi, Healthy Food   \n",
       "12630                       Tex-Mex, Italian, Coffee   \n",
       "12658                           Kerala, South Indian   \n",
       "12660  North Indian, Continental, Chinese, Beverages   \n",
       "\n",
       "                                         TIME              CITY  \\\n",
       "62                      11am – 11pm (Mon-Sun)             Kochi   \n",
       "69                      11am – 11pm (Mon-Sun)         New Delhi   \n",
       "111    11:30am – 3:30pm, 7pm – 11pm (Mon-Sun)            Mumbai   \n",
       "117                     11am – 11pm (Mon-Sun)         New Delhi   \n",
       "120    7:30am – 9:30pm (Mon-Sat),Closed (Sun)  Bangalore-560066   \n",
       "...                                       ...               ...   \n",
       "12602           12noon – 12midnight (Mon-Sun)            Mumbai   \n",
       "12613                 12noon – 11pm (Mon-Sun)           Gurgaon   \n",
       "12630                 8am – 10:30pm (Mon-Sun)           Gurgaon   \n",
       "12658                    11am – 5pm (Mon-Sun)             Kochi   \n",
       "12660                  5pm – 1:30am (Mon-Sun)            Mumbai   \n",
       "\n",
       "               LOCALITY RATING       VOTES  COST  \n",
       "62          Kalamassery    NEW  415.668901   200  \n",
       "69              Kalkaji    NEW  415.668901   200  \n",
       "111       Borivali West    NEW  415.668901   800  \n",
       "117              Dwarka    NEW  415.668901   500  \n",
       "120          Whitefield    NEW  415.668901   150  \n",
       "...                 ...    ...         ...   ...  \n",
       "12602          Mahakali    NEW  415.668901   200  \n",
       "12613       DLF Phase 4    NEW  415.668901   950  \n",
       "12630  Golf Course Road    NEW  415.668901  1200  \n",
       "12658     Chittoor Road    NEW  415.668901   400  \n",
       "12660       Bandra West    NEW  415.668901  1200  \n",
       "\n",
       "[707 rows x 9 columns]"
      ]
     },
     "execution_count": 36,
     "metadata": {},
     "output_type": "execute_result"
    }
   ],
   "source": [
    "#training dataset\n",
    "#Similarly in the Rating column there are values represented by 'NEW'. Even the same can be replaced by mode values.\n",
    "df[df['RATING']=='NEW']"
   ]
  },
  {
   "cell_type": "code",
   "execution_count": 37,
   "metadata": {},
   "outputs": [
    {
     "data": {
      "text/html": [
       "<div>\n",
       "<style scoped>\n",
       "    .dataframe tbody tr th:only-of-type {\n",
       "        vertical-align: middle;\n",
       "    }\n",
       "\n",
       "    .dataframe tbody tr th {\n",
       "        vertical-align: top;\n",
       "    }\n",
       "\n",
       "    .dataframe thead th {\n",
       "        text-align: right;\n",
       "    }\n",
       "</style>\n",
       "<table border=\"1\" class=\"dataframe\">\n",
       "  <thead>\n",
       "    <tr style=\"text-align: right;\">\n",
       "      <th></th>\n",
       "      <th>TITLE</th>\n",
       "      <th>RESTAURANT_ID</th>\n",
       "      <th>CUISINES</th>\n",
       "      <th>TIME</th>\n",
       "      <th>CITY</th>\n",
       "      <th>LOCALITY</th>\n",
       "      <th>RATING</th>\n",
       "      <th>VOTES</th>\n",
       "    </tr>\n",
       "  </thead>\n",
       "  <tbody>\n",
       "    <tr>\n",
       "      <th>37</th>\n",
       "      <td>QUICK BITES</td>\n",
       "      <td>5854</td>\n",
       "      <td>Kerala, Fast Food</td>\n",
       "      <td>5am – 9pm (Mon-Sun)</td>\n",
       "      <td>Kochi</td>\n",
       "      <td>Edappally</td>\n",
       "      <td>-</td>\n",
       "      <td>429.769391</td>\n",
       "    </tr>\n",
       "    <tr>\n",
       "      <th>66</th>\n",
       "      <td>QUICK BITES</td>\n",
       "      <td>414</td>\n",
       "      <td>South Indian</td>\n",
       "      <td>10am – 10pm (Mon-Sun)</td>\n",
       "      <td>Kochi</td>\n",
       "      <td>Pallimukku</td>\n",
       "      <td>-</td>\n",
       "      <td>429.769391</td>\n",
       "    </tr>\n",
       "    <tr>\n",
       "      <th>73</th>\n",
       "      <td>QUICK BITES</td>\n",
       "      <td>3331</td>\n",
       "      <td>Kerala, South Indian</td>\n",
       "      <td>Not Available</td>\n",
       "      <td>Kochi</td>\n",
       "      <td>Thevera</td>\n",
       "      <td>-</td>\n",
       "      <td>429.769391</td>\n",
       "    </tr>\n",
       "    <tr>\n",
       "      <th>108</th>\n",
       "      <td>BAKERY</td>\n",
       "      <td>1323</td>\n",
       "      <td>Bakery</td>\n",
       "      <td>9:30am – 10:30pm (Mon-Sun)</td>\n",
       "      <td>Kochi</td>\n",
       "      <td>Thopumpady</td>\n",
       "      <td>-</td>\n",
       "      <td>429.769391</td>\n",
       "    </tr>\n",
       "    <tr>\n",
       "      <th>130</th>\n",
       "      <td>BEVERAGE SHOP</td>\n",
       "      <td>6507</td>\n",
       "      <td>Beverages</td>\n",
       "      <td>9am – 8:30pm (Mon-Sun)</td>\n",
       "      <td>Kochi</td>\n",
       "      <td>Marine Drive</td>\n",
       "      <td>-</td>\n",
       "      <td>429.769391</td>\n",
       "    </tr>\n",
       "    <tr>\n",
       "      <th>...</th>\n",
       "      <td>...</td>\n",
       "      <td>...</td>\n",
       "      <td>...</td>\n",
       "      <td>...</td>\n",
       "      <td>...</td>\n",
       "      <td>...</td>\n",
       "      <td>...</td>\n",
       "      <td>...</td>\n",
       "    </tr>\n",
       "    <tr>\n",
       "      <th>4026</th>\n",
       "      <td>QUICK BITES</td>\n",
       "      <td>1278</td>\n",
       "      <td>Chinese, South Indian</td>\n",
       "      <td>10am – 9pm (Mon-Sun)</td>\n",
       "      <td>Kochi</td>\n",
       "      <td>Kaloor</td>\n",
       "      <td>-</td>\n",
       "      <td>429.769391</td>\n",
       "    </tr>\n",
       "    <tr>\n",
       "      <th>4030</th>\n",
       "      <td>CASUAL DINING</td>\n",
       "      <td>5915</td>\n",
       "      <td>Kerala, Biryani</td>\n",
       "      <td>7am – 11pm (Mon-Sun)</td>\n",
       "      <td>Kochi</td>\n",
       "      <td>Kacheripady</td>\n",
       "      <td>-</td>\n",
       "      <td>429.769391</td>\n",
       "    </tr>\n",
       "    <tr>\n",
       "      <th>4109</th>\n",
       "      <td>CASUAL DINING</td>\n",
       "      <td>3829</td>\n",
       "      <td>Italian, Desserts, Continental</td>\n",
       "      <td>10am – 12midnight (Mon-Sun)</td>\n",
       "      <td>KK Road</td>\n",
       "      <td>Near Express Garden</td>\n",
       "      <td>-</td>\n",
       "      <td>429.769391</td>\n",
       "    </tr>\n",
       "    <tr>\n",
       "      <th>4172</th>\n",
       "      <td>QUICK BITES</td>\n",
       "      <td>5365</td>\n",
       "      <td>North Indian, Chinese, Kerala</td>\n",
       "      <td>9am – 11pm (Mon-Sun)</td>\n",
       "      <td>Kochi</td>\n",
       "      <td>Palarivattom</td>\n",
       "      <td>-</td>\n",
       "      <td>429.769391</td>\n",
       "    </tr>\n",
       "    <tr>\n",
       "      <th>4229</th>\n",
       "      <td>QUICK BITES</td>\n",
       "      <td>6485</td>\n",
       "      <td>Rolls, Beverages</td>\n",
       "      <td>11am – 11:30pm (Mon, Tue, Wed, Thu, Sat, Sun),...</td>\n",
       "      <td>Kochi</td>\n",
       "      <td>Kochi</td>\n",
       "      <td>-</td>\n",
       "      <td>429.769391</td>\n",
       "    </tr>\n",
       "  </tbody>\n",
       "</table>\n",
       "<p>177 rows × 8 columns</p>\n",
       "</div>"
      ],
      "text/plain": [
       "              TITLE  RESTAURANT_ID                        CUISINES  \\\n",
       "37      QUICK BITES           5854               Kerala, Fast Food   \n",
       "66      QUICK BITES            414                    South Indian   \n",
       "73      QUICK BITES           3331            Kerala, South Indian   \n",
       "108          BAKERY           1323                          Bakery   \n",
       "130   BEVERAGE SHOP           6507                       Beverages   \n",
       "...             ...            ...                             ...   \n",
       "4026    QUICK BITES           1278           Chinese, South Indian   \n",
       "4030  CASUAL DINING           5915                 Kerala, Biryani   \n",
       "4109  CASUAL DINING           3829  Italian, Desserts, Continental   \n",
       "4172    QUICK BITES           5365   North Indian, Chinese, Kerala   \n",
       "4229    QUICK BITES           6485                Rolls, Beverages   \n",
       "\n",
       "                                                   TIME     CITY  \\\n",
       "37                                  5am – 9pm (Mon-Sun)    Kochi   \n",
       "66                                10am – 10pm (Mon-Sun)    Kochi   \n",
       "73                                        Not Available    Kochi   \n",
       "108                          9:30am – 10:30pm (Mon-Sun)    Kochi   \n",
       "130                              9am – 8:30pm (Mon-Sun)    Kochi   \n",
       "...                                                 ...      ...   \n",
       "4026                               10am – 9pm (Mon-Sun)    Kochi   \n",
       "4030                               7am – 11pm (Mon-Sun)    Kochi   \n",
       "4109                        10am – 12midnight (Mon-Sun)  KK Road   \n",
       "4172                               9am – 11pm (Mon-Sun)    Kochi   \n",
       "4229  11am – 11:30pm (Mon, Tue, Wed, Thu, Sat, Sun),...    Kochi   \n",
       "\n",
       "                 LOCALITY RATING       VOTES  \n",
       "37              Edappally      -  429.769391  \n",
       "66             Pallimukku      -  429.769391  \n",
       "73                Thevera      -  429.769391  \n",
       "108            Thopumpady      -  429.769391  \n",
       "130          Marine Drive      -  429.769391  \n",
       "...                   ...    ...         ...  \n",
       "4026               Kaloor      -  429.769391  \n",
       "4030          Kacheripady      -  429.769391  \n",
       "4109  Near Express Garden      -  429.769391  \n",
       "4172         Palarivattom      -  429.769391  \n",
       "4229                Kochi      -  429.769391  \n",
       "\n",
       "[177 rows x 8 columns]"
      ]
     },
     "execution_count": 37,
     "metadata": {},
     "output_type": "execute_result"
    }
   ],
   "source": [
    "#test dataset\n",
    "#there are few values in the RATING column which is represented by '-'\n",
    "#checking the rows where there are missing values\n",
    "dftest[dftest['RATING']=='-']\n",
    "#silimar to what we saw in training dataset, where the null values in the votes have been filled by mean, \n",
    "#the ratings are also missing and represented by '-'. We can fill them by mean/mode"
   ]
  },
  {
   "cell_type": "code",
   "execution_count": 38,
   "metadata": {},
   "outputs": [
    {
     "data": {
      "text/html": [
       "<div>\n",
       "<style scoped>\n",
       "    .dataframe tbody tr th:only-of-type {\n",
       "        vertical-align: middle;\n",
       "    }\n",
       "\n",
       "    .dataframe tbody tr th {\n",
       "        vertical-align: top;\n",
       "    }\n",
       "\n",
       "    .dataframe thead th {\n",
       "        text-align: right;\n",
       "    }\n",
       "</style>\n",
       "<table border=\"1\" class=\"dataframe\">\n",
       "  <thead>\n",
       "    <tr style=\"text-align: right;\">\n",
       "      <th></th>\n",
       "      <th>TITLE</th>\n",
       "      <th>RESTAURANT_ID</th>\n",
       "      <th>CUISINES</th>\n",
       "      <th>TIME</th>\n",
       "      <th>CITY</th>\n",
       "      <th>LOCALITY</th>\n",
       "      <th>RATING</th>\n",
       "      <th>VOTES</th>\n",
       "    </tr>\n",
       "  </thead>\n",
       "  <tbody>\n",
       "    <tr>\n",
       "      <th>6</th>\n",
       "      <td>CASUAL DINING</td>\n",
       "      <td>1643</td>\n",
       "      <td>North Indian, Street Food, Fast Food</td>\n",
       "      <td>12noon – 3:30pm, 7pm – 11:30pm (Mon-Sun)</td>\n",
       "      <td>Navi Mumbai</td>\n",
       "      <td>Kharghar</td>\n",
       "      <td>NEW</td>\n",
       "      <td>429.769391</td>\n",
       "    </tr>\n",
       "    <tr>\n",
       "      <th>21</th>\n",
       "      <td>CASUAL DINING</td>\n",
       "      <td>3852</td>\n",
       "      <td>North Indian, South Indian</td>\n",
       "      <td>12noon – 11pm (Mon-Sun)</td>\n",
       "      <td>Chennai</td>\n",
       "      <td>Anna Salai</td>\n",
       "      <td>NEW</td>\n",
       "      <td>429.769391</td>\n",
       "    </tr>\n",
       "    <tr>\n",
       "      <th>24</th>\n",
       "      <td>QUICK BITES</td>\n",
       "      <td>8102</td>\n",
       "      <td>Biryani, Andhra, North Indian</td>\n",
       "      <td>11am – 11pm (Mon-Sun)</td>\n",
       "      <td>Bangalore</td>\n",
       "      <td>Banaswadi</td>\n",
       "      <td>NEW</td>\n",
       "      <td>429.769391</td>\n",
       "    </tr>\n",
       "    <tr>\n",
       "      <th>27</th>\n",
       "      <td>CASUAL DINING</td>\n",
       "      <td>4696</td>\n",
       "      <td>Continental, Italian</td>\n",
       "      <td>11am – 12midnight (Mon-Thu),11am – 1am (Fri-Sun)</td>\n",
       "      <td>Bangalore</td>\n",
       "      <td>BTM</td>\n",
       "      <td>NEW</td>\n",
       "      <td>429.769391</td>\n",
       "    </tr>\n",
       "    <tr>\n",
       "      <th>29</th>\n",
       "      <td>QUICK BITES</td>\n",
       "      <td>14208</td>\n",
       "      <td>North Indian, Chinese</td>\n",
       "      <td>12noon – 1am (Mon-Sun)</td>\n",
       "      <td>Mumbai</td>\n",
       "      <td>Bandra West</td>\n",
       "      <td>NEW</td>\n",
       "      <td>429.769391</td>\n",
       "    </tr>\n",
       "    <tr>\n",
       "      <th>...</th>\n",
       "      <td>...</td>\n",
       "      <td>...</td>\n",
       "      <td>...</td>\n",
       "      <td>...</td>\n",
       "      <td>...</td>\n",
       "      <td>...</td>\n",
       "      <td>...</td>\n",
       "      <td>...</td>\n",
       "    </tr>\n",
       "    <tr>\n",
       "      <th>4181</th>\n",
       "      <td>CASUAL DINING</td>\n",
       "      <td>681</td>\n",
       "      <td>American, Italian</td>\n",
       "      <td>7pm – 1am (Mon-Sun)</td>\n",
       "      <td>Mumbai</td>\n",
       "      <td>Fort</td>\n",
       "      <td>NEW</td>\n",
       "      <td>429.769391</td>\n",
       "    </tr>\n",
       "    <tr>\n",
       "      <th>4183</th>\n",
       "      <td>CAFÉ</td>\n",
       "      <td>7007</td>\n",
       "      <td>Cafe, North Indian</td>\n",
       "      <td>11am – 11pm (Mon-Sun)</td>\n",
       "      <td>Noida</td>\n",
       "      <td>Sector 63</td>\n",
       "      <td>NEW</td>\n",
       "      <td>429.769391</td>\n",
       "    </tr>\n",
       "    <tr>\n",
       "      <th>4185</th>\n",
       "      <td>QUICK BITES</td>\n",
       "      <td>6387</td>\n",
       "      <td>Fast Food</td>\n",
       "      <td>12:30pm – 10:30pm (Mon-Sun)</td>\n",
       "      <td>New Delhi</td>\n",
       "      <td>Shalimar Bagh</td>\n",
       "      <td>NEW</td>\n",
       "      <td>429.769391</td>\n",
       "    </tr>\n",
       "    <tr>\n",
       "      <th>4198</th>\n",
       "      <td>QUICK BITES</td>\n",
       "      <td>13381</td>\n",
       "      <td>Continental</td>\n",
       "      <td>11am – 12midnight (Mon-Sun)</td>\n",
       "      <td>Bangalore</td>\n",
       "      <td>Indiranagar</td>\n",
       "      <td>NEW</td>\n",
       "      <td>429.769391</td>\n",
       "    </tr>\n",
       "    <tr>\n",
       "      <th>4223</th>\n",
       "      <td>CASUAL DINING</td>\n",
       "      <td>6887</td>\n",
       "      <td>Sindhi, Street Food</td>\n",
       "      <td>11:30am – 4pm, 7pm – 11:30pm (Mon-Sun)</td>\n",
       "      <td>Mumbai</td>\n",
       "      <td>Lower Parel</td>\n",
       "      <td>NEW</td>\n",
       "      <td>429.769391</td>\n",
       "    </tr>\n",
       "  </tbody>\n",
       "</table>\n",
       "<p>223 rows × 8 columns</p>\n",
       "</div>"
      ],
      "text/plain": [
       "              TITLE  RESTAURANT_ID                              CUISINES  \\\n",
       "6     CASUAL DINING           1643  North Indian, Street Food, Fast Food   \n",
       "21    CASUAL DINING           3852            North Indian, South Indian   \n",
       "24      QUICK BITES           8102         Biryani, Andhra, North Indian   \n",
       "27    CASUAL DINING           4696                  Continental, Italian   \n",
       "29      QUICK BITES          14208                 North Indian, Chinese   \n",
       "...             ...            ...                                   ...   \n",
       "4181  CASUAL DINING            681                     American, Italian   \n",
       "4183           CAFÉ           7007                    Cafe, North Indian   \n",
       "4185    QUICK BITES           6387                             Fast Food   \n",
       "4198    QUICK BITES          13381                           Continental   \n",
       "4223  CASUAL DINING           6887                   Sindhi, Street Food   \n",
       "\n",
       "                                                  TIME         CITY  \\\n",
       "6             12noon – 3:30pm, 7pm – 11:30pm (Mon-Sun)  Navi Mumbai   \n",
       "21                             12noon – 11pm (Mon-Sun)      Chennai   \n",
       "24                               11am – 11pm (Mon-Sun)    Bangalore   \n",
       "27    11am – 12midnight (Mon-Thu),11am – 1am (Fri-Sun)    Bangalore   \n",
       "29                              12noon – 1am (Mon-Sun)       Mumbai   \n",
       "...                                                ...          ...   \n",
       "4181                               7pm – 1am (Mon-Sun)       Mumbai   \n",
       "4183                             11am – 11pm (Mon-Sun)        Noida   \n",
       "4185                       12:30pm – 10:30pm (Mon-Sun)    New Delhi   \n",
       "4198                       11am – 12midnight (Mon-Sun)    Bangalore   \n",
       "4223            11:30am – 4pm, 7pm – 11:30pm (Mon-Sun)       Mumbai   \n",
       "\n",
       "           LOCALITY RATING       VOTES  \n",
       "6          Kharghar    NEW  429.769391  \n",
       "21       Anna Salai    NEW  429.769391  \n",
       "24        Banaswadi    NEW  429.769391  \n",
       "27              BTM    NEW  429.769391  \n",
       "29      Bandra West    NEW  429.769391  \n",
       "...             ...    ...         ...  \n",
       "4181           Fort    NEW  429.769391  \n",
       "4183      Sector 63    NEW  429.769391  \n",
       "4185  Shalimar Bagh    NEW  429.769391  \n",
       "4198    Indiranagar    NEW  429.769391  \n",
       "4223    Lower Parel    NEW  429.769391  \n",
       "\n",
       "[223 rows x 8 columns]"
      ]
     },
     "execution_count": 38,
     "metadata": {},
     "output_type": "execute_result"
    }
   ],
   "source": [
    "#test dataset\n",
    "#Similarly in the Rating column there are values represented by 'NEW'. Even the same can be replaced by mode values.\n",
    "dftest[dftest['RATING']=='NEW']"
   ]
  },
  {
   "cell_type": "code",
   "execution_count": 39,
   "metadata": {},
   "outputs": [],
   "source": [
    "#replacing '-' and 'NEW' with mode in the training and test dataset\n",
    "df['RATING']=df['RATING'].replace('-',df['RATING'].mode()[0])\n",
    "dftest['RATING']=dftest['RATING'].replace('-',dftest['RATING'].mode()[0])\n",
    "df['RATING']=df['RATING'].replace('NEW',df['RATING'].mode()[0])\n",
    "dftest['RATING']=dftest['RATING'].replace('NEW',dftest['RATING'].mode()[0])"
   ]
  },
  {
   "cell_type": "code",
   "execution_count": 40,
   "metadata": {},
   "outputs": [],
   "source": [
    "#converting the datatype of RATING from object to float\n",
    "df['RATING']=df['RATING'].astype(float)\n",
    "dftest['RATING']=dftest['RATING'].astype(float)"
   ]
  },
  {
   "cell_type": "code",
   "execution_count": 41,
   "metadata": {},
   "outputs": [
    {
     "name": "stdout",
     "output_type": "stream",
     "text": [
      "TITLE             object\n",
      "RESTAURANT_ID      int64\n",
      "CUISINES          object\n",
      "TIME              object\n",
      "CITY              object\n",
      "LOCALITY          object\n",
      "RATING           float64\n",
      "VOTES            float64\n",
      "COST               int64\n",
      "dtype: object\n",
      "\n",
      "TITLE             object\n",
      "RESTAURANT_ID      int64\n",
      "CUISINES          object\n",
      "TIME              object\n",
      "CITY              object\n",
      "LOCALITY          object\n",
      "RATING           float64\n",
      "VOTES            float64\n",
      "dtype: object\n"
     ]
    }
   ],
   "source": [
    "#checking if the columns have been changed properly\n",
    "print(df.dtypes)\n",
    "print(\"\")\n",
    "print(dftest.dtypes)\n"
   ]
  },
  {
   "cell_type": "code",
   "execution_count": 42,
   "metadata": {},
   "outputs": [],
   "source": [
    "# We can remove Restaurant ID from training and test dataset\n",
    "df1=df.drop('RESTAURANT_ID', axis=1)\n",
    "dftest1=dftest.drop('RESTAURANT_ID', axis=1)"
   ]
  },
  {
   "cell_type": "code",
   "execution_count": 43,
   "metadata": {},
   "outputs": [
    {
     "data": {
      "text/html": [
       "<div>\n",
       "<style scoped>\n",
       "    .dataframe tbody tr th:only-of-type {\n",
       "        vertical-align: middle;\n",
       "    }\n",
       "\n",
       "    .dataframe tbody tr th {\n",
       "        vertical-align: top;\n",
       "    }\n",
       "\n",
       "    .dataframe thead th {\n",
       "        text-align: right;\n",
       "    }\n",
       "</style>\n",
       "<table border=\"1\" class=\"dataframe\">\n",
       "  <thead>\n",
       "    <tr style=\"text-align: right;\">\n",
       "      <th></th>\n",
       "      <th>TITLE</th>\n",
       "      <th>CUISINES</th>\n",
       "      <th>TIME</th>\n",
       "      <th>CITY</th>\n",
       "      <th>LOCALITY</th>\n",
       "      <th>RATING</th>\n",
       "      <th>VOTES</th>\n",
       "      <th>COST</th>\n",
       "    </tr>\n",
       "  </thead>\n",
       "  <tbody>\n",
       "    <tr>\n",
       "      <th>0</th>\n",
       "      <td>CASUAL DINING</td>\n",
       "      <td>Malwani, Goan, North Indian</td>\n",
       "      <td>11am – 4pm, 7:30pm – 11:30pm (Mon-Sun)</td>\n",
       "      <td>Thane</td>\n",
       "      <td>Dombivali East</td>\n",
       "      <td>3.6</td>\n",
       "      <td>49.0</td>\n",
       "      <td>1200</td>\n",
       "    </tr>\n",
       "    <tr>\n",
       "      <th>1</th>\n",
       "      <td>CASUAL DINING,BAR</td>\n",
       "      <td>Asian, Modern Indian, Japanese</td>\n",
       "      <td>6pm – 11pm (Mon-Sun)</td>\n",
       "      <td>Chennai</td>\n",
       "      <td>Ramapuram</td>\n",
       "      <td>4.2</td>\n",
       "      <td>30.0</td>\n",
       "      <td>1500</td>\n",
       "    </tr>\n",
       "    <tr>\n",
       "      <th>2</th>\n",
       "      <td>CASUAL DINING</td>\n",
       "      <td>North Indian, Chinese, Biryani, Hyderabadi</td>\n",
       "      <td>11am – 3:30pm, 7pm – 11pm (Mon-Sun)</td>\n",
       "      <td>Chennai</td>\n",
       "      <td>Saligramam</td>\n",
       "      <td>3.8</td>\n",
       "      <td>221.0</td>\n",
       "      <td>800</td>\n",
       "    </tr>\n",
       "    <tr>\n",
       "      <th>3</th>\n",
       "      <td>QUICK BITES</td>\n",
       "      <td>Tibetan, Chinese</td>\n",
       "      <td>11:30am – 1am (Mon-Sun)</td>\n",
       "      <td>Mumbai</td>\n",
       "      <td>Bandra West</td>\n",
       "      <td>4.1</td>\n",
       "      <td>24.0</td>\n",
       "      <td>800</td>\n",
       "    </tr>\n",
       "    <tr>\n",
       "      <th>4</th>\n",
       "      <td>DESSERT PARLOR</td>\n",
       "      <td>Desserts</td>\n",
       "      <td>11am – 1am (Mon-Sun)</td>\n",
       "      <td>Mumbai</td>\n",
       "      <td>Lower Parel</td>\n",
       "      <td>3.8</td>\n",
       "      <td>165.0</td>\n",
       "      <td>300</td>\n",
       "    </tr>\n",
       "  </tbody>\n",
       "</table>\n",
       "</div>"
      ],
      "text/plain": [
       "               TITLE                                    CUISINES  \\\n",
       "0      CASUAL DINING                 Malwani, Goan, North Indian   \n",
       "1  CASUAL DINING,BAR              Asian, Modern Indian, Japanese   \n",
       "2      CASUAL DINING  North Indian, Chinese, Biryani, Hyderabadi   \n",
       "3        QUICK BITES                            Tibetan, Chinese   \n",
       "4     DESSERT PARLOR                                    Desserts   \n",
       "\n",
       "                                     TIME     CITY        LOCALITY  RATING  \\\n",
       "0  11am – 4pm, 7:30pm – 11:30pm (Mon-Sun)    Thane  Dombivali East     3.6   \n",
       "1                    6pm – 11pm (Mon-Sun)  Chennai       Ramapuram     4.2   \n",
       "2     11am – 3:30pm, 7pm – 11pm (Mon-Sun)  Chennai      Saligramam     3.8   \n",
       "3                 11:30am – 1am (Mon-Sun)   Mumbai     Bandra West     4.1   \n",
       "4                    11am – 1am (Mon-Sun)   Mumbai     Lower Parel     3.8   \n",
       "\n",
       "   VOTES  COST  \n",
       "0   49.0  1200  \n",
       "1   30.0  1500  \n",
       "2  221.0   800  \n",
       "3   24.0   800  \n",
       "4  165.0   300  "
      ]
     },
     "execution_count": 43,
     "metadata": {},
     "output_type": "execute_result"
    }
   ],
   "source": [
    "df1.head()"
   ]
  },
  {
   "cell_type": "markdown",
   "metadata": {},
   "source": [
    "#### Analysing by grouping "
   ]
  },
  {
   "cell_type": "code",
   "execution_count": 44,
   "metadata": {},
   "outputs": [
    {
     "data": {
      "text/html": [
       "<div>\n",
       "<style scoped>\n",
       "    .dataframe tbody tr th:only-of-type {\n",
       "        vertical-align: middle;\n",
       "    }\n",
       "\n",
       "    .dataframe tbody tr th {\n",
       "        vertical-align: top;\n",
       "    }\n",
       "\n",
       "    .dataframe thead th {\n",
       "        text-align: right;\n",
       "    }\n",
       "</style>\n",
       "<table border=\"1\" class=\"dataframe\">\n",
       "  <thead>\n",
       "    <tr style=\"text-align: right;\">\n",
       "      <th></th>\n",
       "      <th>RATING</th>\n",
       "      <th>VOTES</th>\n",
       "      <th>COST</th>\n",
       "    </tr>\n",
       "    <tr>\n",
       "      <th>TITLE</th>\n",
       "      <th></th>\n",
       "      <th></th>\n",
       "      <th></th>\n",
       "    </tr>\n",
       "  </thead>\n",
       "  <tbody>\n",
       "    <tr>\n",
       "      <th>FINE DINING</th>\n",
       "      <td>4.119156</td>\n",
       "      <td>548.287886</td>\n",
       "      <td>2958.928571</td>\n",
       "    </tr>\n",
       "    <tr>\n",
       "      <th>COCKTAIL BAR,CASUAL DINING</th>\n",
       "      <td>4.100000</td>\n",
       "      <td>421.889634</td>\n",
       "      <td>2833.333333</td>\n",
       "    </tr>\n",
       "    <tr>\n",
       "      <th>FINE DINING,BAR</th>\n",
       "      <td>4.225000</td>\n",
       "      <td>695.718750</td>\n",
       "      <td>2825.000000</td>\n",
       "    </tr>\n",
       "    <tr>\n",
       "      <th>CLUB</th>\n",
       "      <td>3.905000</td>\n",
       "      <td>571.333445</td>\n",
       "      <td>2555.000000</td>\n",
       "    </tr>\n",
       "    <tr>\n",
       "      <th>FINE DINING,LOUNGE</th>\n",
       "      <td>3.862500</td>\n",
       "      <td>582.750000</td>\n",
       "      <td>2550.000000</td>\n",
       "    </tr>\n",
       "    <tr>\n",
       "      <th>...</th>\n",
       "      <td>...</td>\n",
       "      <td>...</td>\n",
       "      <td>...</td>\n",
       "    </tr>\n",
       "    <tr>\n",
       "      <th>QUICK BITES,FOOD TRUCK</th>\n",
       "      <td>3.700000</td>\n",
       "      <td>55.000000</td>\n",
       "      <td>150.000000</td>\n",
       "    </tr>\n",
       "    <tr>\n",
       "      <th>BEVERAGE SHOP,FOOD COURT</th>\n",
       "      <td>3.900000</td>\n",
       "      <td>415.668901</td>\n",
       "      <td>150.000000</td>\n",
       "    </tr>\n",
       "    <tr>\n",
       "      <th>KIOSK,QUICK BITES</th>\n",
       "      <td>3.500000</td>\n",
       "      <td>20.500000</td>\n",
       "      <td>150.000000</td>\n",
       "    </tr>\n",
       "    <tr>\n",
       "      <th>PAAN SHOP</th>\n",
       "      <td>3.925000</td>\n",
       "      <td>209.667225</td>\n",
       "      <td>112.500000</td>\n",
       "    </tr>\n",
       "    <tr>\n",
       "      <th>SWEET SHOP,BAKERY</th>\n",
       "      <td>3.800000</td>\n",
       "      <td>299.834451</td>\n",
       "      <td>100.000000</td>\n",
       "    </tr>\n",
       "  </tbody>\n",
       "</table>\n",
       "<p>113 rows × 3 columns</p>\n",
       "</div>"
      ],
      "text/plain": [
       "                              RATING       VOTES         COST\n",
       "TITLE                                                        \n",
       "FINE DINING                 4.119156  548.287886  2958.928571\n",
       "COCKTAIL BAR,CASUAL DINING  4.100000  421.889634  2833.333333\n",
       "FINE DINING,BAR             4.225000  695.718750  2825.000000\n",
       "CLUB                        3.905000  571.333445  2555.000000\n",
       "FINE DINING,LOUNGE          3.862500  582.750000  2550.000000\n",
       "...                              ...         ...          ...\n",
       "QUICK BITES,FOOD TRUCK      3.700000   55.000000   150.000000\n",
       "BEVERAGE SHOP,FOOD COURT    3.900000  415.668901   150.000000\n",
       "KIOSK,QUICK BITES           3.500000   20.500000   150.000000\n",
       "PAAN SHOP                   3.925000  209.667225   112.500000\n",
       "SWEET SHOP,BAKERY           3.800000  299.834451   100.000000\n",
       "\n",
       "[113 rows x 3 columns]"
      ]
     },
     "execution_count": 44,
     "metadata": {},
     "output_type": "execute_result"
    }
   ],
   "source": [
    "Titlegroup=df1.groupby('TITLE').mean()\n",
    "Titlegroup.sort_values(by='COST',ascending=False)"
   ]
  },
  {
   "cell_type": "markdown",
   "metadata": {},
   "source": [
    "Analysis\n",
    "1. Fine Dining and Coctail Bar, Casual Dining are the costliest dining.\n",
    "2. Bakery, sweet shop, Pan shop, quick bites cost is cheapest amongst all.\n"
   ]
  },
  {
   "cell_type": "markdown",
   "metadata": {},
   "source": [
    "#### Checking distribution of the data"
   ]
  },
  {
   "cell_type": "code",
   "execution_count": 45,
   "metadata": {},
   "outputs": [
    {
     "data": {
      "image/png": "[encoded data removed]",
      "text/plain": [
       "<Figure size 360x360 with 1 Axes>"
      ]
     },
     "metadata": {
      "needs_background": "light"
     },
     "output_type": "display_data"
    },
    {
     "data": {
      "image/png": "[encoded data removed]",
      "text/plain": [
       "<Figure size 360x360 with 1 Axes>"
      ]
     },
     "metadata": {
      "needs_background": "light"
     },
     "output_type": "display_data"
    },
    {
     "data": {
      "image/png": "[encoded data removed]",
      "text/plain": [
       "<Figure size 360x360 with 1 Axes>"
      ]
     },
     "metadata": {
      "needs_background": "light"
     },
     "output_type": "display_data"
    }
   ],
   "source": [
    "#training data\n",
    "for i in df1.columns:\n",
    "    if df1[i].dtypes!='O':\n",
    "        plt.figure(figsize=(5,5))\n",
    "        plt.subplot(3,1,3)\n",
    "        sns.distplot(df1[i])"
   ]
  },
  {
   "cell_type": "code",
   "execution_count": 46,
   "metadata": {},
   "outputs": [
    {
     "data": {
      "image/png": "[encoded data removed]",
      "text/plain": [
       "<Figure size 360x360 with 1 Axes>"
      ]
     },
     "metadata": {
      "needs_background": "light"
     },
     "output_type": "display_data"
    },
    {
     "data": {
      "image/png": "[encoded data removed]",
      "text/plain": [
       "<Figure size 360x360 with 1 Axes>"
      ]
     },
     "metadata": {
      "needs_background": "light"
     },
     "output_type": "display_data"
    }
   ],
   "source": [
    "#test data\n",
    "for i in dftest1.columns:\n",
    "    if dftest1[i].dtypes!='O':\n",
    "        plt.figure(figsize=(5,5))\n",
    "        plt.subplot(3,1,3)\n",
    "        sns.distplot(dftest1[i])"
   ]
  },
  {
   "cell_type": "markdown",
   "metadata": {},
   "source": [
    "Observations\n",
    "Training data\n",
    "1. The rating column is almost in a normal distribution\n",
    "2. Most of the votes are within 1000.\n",
    "3. Most of the Cost are within 1000.\n",
    "\n",
    "Test data\n",
    "1. The rating column is almost in a normal distribution\n",
    "2. Most of the votes are within 1000."
   ]
  },
  {
   "cell_type": "markdown",
   "metadata": {},
   "source": [
    "#### checking outliers of the data"
   ]
  },
  {
   "cell_type": "code",
   "execution_count": 47,
   "metadata": {},
   "outputs": [
    {
     "data": {
      "image/png": "[encoded data removed]",
      "text/plain": [
       "<Figure size 360x360 with 1 Axes>"
      ]
     },
     "metadata": {
      "needs_background": "light"
     },
     "output_type": "display_data"
    },
    {
     "data": {
      "image/png": "[encoded data removed]",
      "text/plain": [
       "<Figure size 360x360 with 1 Axes>"
      ]
     },
     "metadata": {
      "needs_background": "light"
     },
     "output_type": "display_data"
    },
    {
     "data": {
      "image/png": "[encoded data removed]",
      "text/plain": [
       "<Figure size 360x360 with 1 Axes>"
      ]
     },
     "metadata": {
      "needs_background": "light"
     },
     "output_type": "display_data"
    }
   ],
   "source": [
    "#training data\n",
    "for i in df1.columns:\n",
    "    if df1[i].dtypes!='O':\n",
    "        plt.figure(figsize=(5,5))\n",
    "        plt.subplot(3,1,3)\n",
    "        sns.boxplot(df1[i])"
   ]
  },
  {
   "cell_type": "code",
   "execution_count": 48,
   "metadata": {},
   "outputs": [
    {
     "data": {
      "image/png": "[encoded data removed]",
      "text/plain": [
       "<Figure size 360x360 with 1 Axes>"
      ]
     },
     "metadata": {
      "needs_background": "light"
     },
     "output_type": "display_data"
    },
    {
     "data": {
      "image/png": "[encoded data removed]",
      "text/plain": [
       "<Figure size 360x360 with 1 Axes>"
      ]
     },
     "metadata": {
      "needs_background": "light"
     },
     "output_type": "display_data"
    }
   ],
   "source": [
    "#test data\n",
    "for i in dftest1.columns:\n",
    "    if dftest1[i].dtypes!='O':\n",
    "        plt.figure(figsize=(5,5))\n",
    "        plt.subplot(3,1,3)\n",
    "        sns.boxplot(dftest1[i])"
   ]
  },
  {
   "cell_type": "markdown",
   "metadata": {},
   "source": [
    "Observations\n",
    "1. There are outliers in Rating, Votes in the test data.\n",
    "2. There are outliers in Rating, Votes and Cost in the training data."
   ]
  },
  {
   "cell_type": "code",
   "execution_count": 49,
   "metadata": {},
   "outputs": [
    {
     "data": {
      "image/png": "[encoded data removed]",
      "text/plain": [
       "<Figure size 864x360 with 1 Axes>"
      ]
     },
     "metadata": {
      "needs_background": "light"
     },
     "output_type": "display_data"
    },
    {
     "data": {
      "image/png": "[encoded data removed]",
      "text/plain": [
       "<Figure size 864x360 with 1 Axes>"
      ]
     },
     "metadata": {
      "needs_background": "light"
     },
     "output_type": "display_data"
    },
    {
     "data": {
      "image/png": "[encoded data removed]",
      "text/plain": [
       "<Figure size 864x360 with 1 Axes>"
      ]
     },
     "metadata": {
      "needs_background": "light"
     },
     "output_type": "display_data"
    }
   ],
   "source": [
    "#scatter plots. checking the attributes relationship with the target 'Cost'. Since only training data has fees column, \n",
    "#we will use only training data here.\n",
    "\n",
    "for i in df1.columns:\n",
    "    if df1[i].dtypes!='O':\n",
    "        plt.figure(figsize=(12,5))\n",
    "        plt.title(str(i)+' with '+'Cost')\n",
    "        sns.scatterplot(x=df1['COST'], y=df1[i], data=df1)\n",
    "        plt.show()"
   ]
  },
  {
   "cell_type": "markdown",
   "metadata": {},
   "source": [
    "Observations\n",
    "1. The numerical values have no positive correlation with the cost."
   ]
  },
  {
   "cell_type": "markdown",
   "metadata": {},
   "source": [
    "#### Checking Correlation"
   ]
  },
  {
   "cell_type": "markdown",
   "metadata": {},
   "source": [
    "###### training data"
   ]
  },
  {
   "cell_type": "code",
   "execution_count": 50,
   "metadata": {},
   "outputs": [
    {
     "data": {
      "text/plain": [
       "<matplotlib.axes._subplots.AxesSubplot at 0x1fc24d3dc48>"
      ]
     },
     "execution_count": 50,
     "metadata": {},
     "output_type": "execute_result"
    },
    {
     "data": {
      "image/png": "[encoded data removed]",
      "text/plain": [
       "<Figure size 432x288 with 2 Axes>"
      ]
     },
     "metadata": {
      "needs_background": "light"
     },
     "output_type": "display_data"
    }
   ],
   "source": [
    "sns.heatmap(df1.corr())"
   ]
  },
  {
   "cell_type": "code",
   "execution_count": 51,
   "metadata": {},
   "outputs": [
    {
     "data": {
      "text/html": [
       "<div>\n",
       "<style scoped>\n",
       "    .dataframe tbody tr th:only-of-type {\n",
       "        vertical-align: middle;\n",
       "    }\n",
       "\n",
       "    .dataframe tbody tr th {\n",
       "        vertical-align: top;\n",
       "    }\n",
       "\n",
       "    .dataframe thead th {\n",
       "        text-align: right;\n",
       "    }\n",
       "</style>\n",
       "<table border=\"1\" class=\"dataframe\">\n",
       "  <thead>\n",
       "    <tr style=\"text-align: right;\">\n",
       "      <th></th>\n",
       "      <th>RATING</th>\n",
       "      <th>VOTES</th>\n",
       "      <th>COST</th>\n",
       "    </tr>\n",
       "  </thead>\n",
       "  <tbody>\n",
       "    <tr>\n",
       "      <th>RATING</th>\n",
       "      <td>1.000000</td>\n",
       "      <td>0.346739</td>\n",
       "      <td>0.308018</td>\n",
       "    </tr>\n",
       "    <tr>\n",
       "      <th>VOTES</th>\n",
       "      <td>0.346739</td>\n",
       "      <td>1.000000</td>\n",
       "      <td>0.240241</td>\n",
       "    </tr>\n",
       "    <tr>\n",
       "      <th>COST</th>\n",
       "      <td>0.308018</td>\n",
       "      <td>0.240241</td>\n",
       "      <td>1.000000</td>\n",
       "    </tr>\n",
       "  </tbody>\n",
       "</table>\n",
       "</div>"
      ],
      "text/plain": [
       "          RATING     VOTES      COST\n",
       "RATING  1.000000  0.346739  0.308018\n",
       "VOTES   0.346739  1.000000  0.240241\n",
       "COST    0.308018  0.240241  1.000000"
      ]
     },
     "execution_count": 51,
     "metadata": {},
     "output_type": "execute_result"
    }
   ],
   "source": [
    "df1.corr()"
   ]
  },
  {
   "cell_type": "markdown",
   "metadata": {},
   "source": [
    "##### test data"
   ]
  },
  {
   "cell_type": "code",
   "execution_count": 52,
   "metadata": {},
   "outputs": [
    {
     "data": {
      "text/plain": [
       "<matplotlib.axes._subplots.AxesSubplot at 0x1fc24d1ee88>"
      ]
     },
     "execution_count": 52,
     "metadata": {},
     "output_type": "execute_result"
    },
    {
     "data": {
      "image/png": "[encoded data removed]",
      "text/plain": [
       "<Figure size 432x288 with 2 Axes>"
      ]
     },
     "metadata": {
      "needs_background": "light"
     },
     "output_type": "display_data"
    }
   ],
   "source": [
    "sns.heatmap(dftest1.corr())"
   ]
  },
  {
   "cell_type": "code",
   "execution_count": 53,
   "metadata": {},
   "outputs": [
    {
     "data": {
      "text/html": [
       "<div>\n",
       "<style scoped>\n",
       "    .dataframe tbody tr th:only-of-type {\n",
       "        vertical-align: middle;\n",
       "    }\n",
       "\n",
       "    .dataframe tbody tr th {\n",
       "        vertical-align: top;\n",
       "    }\n",
       "\n",
       "    .dataframe thead th {\n",
       "        text-align: right;\n",
       "    }\n",
       "</style>\n",
       "<table border=\"1\" class=\"dataframe\">\n",
       "  <thead>\n",
       "    <tr style=\"text-align: right;\">\n",
       "      <th></th>\n",
       "      <th>RATING</th>\n",
       "      <th>VOTES</th>\n",
       "    </tr>\n",
       "  </thead>\n",
       "  <tbody>\n",
       "    <tr>\n",
       "      <th>RATING</th>\n",
       "      <td>1.000000</td>\n",
       "      <td>0.356333</td>\n",
       "    </tr>\n",
       "    <tr>\n",
       "      <th>VOTES</th>\n",
       "      <td>0.356333</td>\n",
       "      <td>1.000000</td>\n",
       "    </tr>\n",
       "  </tbody>\n",
       "</table>\n",
       "</div>"
      ],
      "text/plain": [
       "          RATING     VOTES\n",
       "RATING  1.000000  0.356333\n",
       "VOTES   0.356333  1.000000"
      ]
     },
     "execution_count": 53,
     "metadata": {},
     "output_type": "execute_result"
    }
   ],
   "source": [
    "dftest1.corr()"
   ]
  },
  {
   "cell_type": "markdown",
   "metadata": {},
   "source": [
    "Observations:\n",
    "1. In both the training and test dataset, votes and ratings show little positive correlation.\n",
    "2. Cost and rating has little positive correlation."
   ]
  },
  {
   "cell_type": "markdown",
   "metadata": {},
   "source": [
    "#### Label Encoding"
   ]
  },
  {
   "cell_type": "code",
   "execution_count": 54,
   "metadata": {},
   "outputs": [],
   "source": [
    "#training data\n",
    "from sklearn.preprocessing import LabelEncoder\n",
    "lb=LabelEncoder()\n",
    "\n",
    "for i in df1.columns:\n",
    "    if df1.columns.dtype=='O':\n",
    "        df1[i]=lb.fit_transform(df1[i].astype(str))"
   ]
  },
  {
   "cell_type": "code",
   "execution_count": 55,
   "metadata": {},
   "outputs": [],
   "source": [
    "#test data\n",
    "for i in dftest1.columns:\n",
    "    if dftest1.columns.dtype=='O':\n",
    "        dftest1[i]=lb.fit_transform(dftest1[i].astype(str))"
   ]
  },
  {
   "cell_type": "code",
   "execution_count": 56,
   "metadata": {},
   "outputs": [
    {
     "data": {
      "text/html": [
       "<div>\n",
       "<style scoped>\n",
       "    .dataframe tbody tr th:only-of-type {\n",
       "        vertical-align: middle;\n",
       "    }\n",
       "\n",
       "    .dataframe tbody tr th {\n",
       "        vertical-align: top;\n",
       "    }\n",
       "\n",
       "    .dataframe thead th {\n",
       "        text-align: right;\n",
       "    }\n",
       "</style>\n",
       "<table border=\"1\" class=\"dataframe\">\n",
       "  <thead>\n",
       "    <tr style=\"text-align: right;\">\n",
       "      <th></th>\n",
       "      <th>TITLE</th>\n",
       "      <th>CUISINES</th>\n",
       "      <th>TIME</th>\n",
       "      <th>CITY</th>\n",
       "      <th>LOCALITY</th>\n",
       "      <th>RATING</th>\n",
       "      <th>VOTES</th>\n",
       "      <th>COST</th>\n",
       "    </tr>\n",
       "  </thead>\n",
       "  <tbody>\n",
       "    <tr>\n",
       "      <th>0</th>\n",
       "      <td>31</td>\n",
       "      <td>2627</td>\n",
       "      <td>739</td>\n",
       "      <td>320</td>\n",
       "      <td>285</td>\n",
       "      <td>16</td>\n",
       "      <td>1279</td>\n",
       "      <td>7</td>\n",
       "    </tr>\n",
       "    <tr>\n",
       "      <th>1</th>\n",
       "      <td>33</td>\n",
       "      <td>289</td>\n",
       "      <td>1885</td>\n",
       "      <td>67</td>\n",
       "      <td>1047</td>\n",
       "      <td>22</td>\n",
       "      <td>950</td>\n",
       "      <td>18</td>\n",
       "    </tr>\n",
       "    <tr>\n",
       "      <th>2</th>\n",
       "      <td>31</td>\n",
       "      <td>2976</td>\n",
       "      <td>661</td>\n",
       "      <td>67</td>\n",
       "      <td>1102</td>\n",
       "      <td>18</td>\n",
       "      <td>712</td>\n",
       "      <td>81</td>\n",
       "    </tr>\n",
       "    <tr>\n",
       "      <th>3</th>\n",
       "      <td>95</td>\n",
       "      <td>4130</td>\n",
       "      <td>275</td>\n",
       "      <td>222</td>\n",
       "      <td>136</td>\n",
       "      <td>21</td>\n",
       "      <td>787</td>\n",
       "      <td>81</td>\n",
       "    </tr>\n",
       "    <tr>\n",
       "      <th>4</th>\n",
       "      <td>50</td>\n",
       "      <td>1766</td>\n",
       "      <td>615</td>\n",
       "      <td>222</td>\n",
       "      <td>621</td>\n",
       "      <td>18</td>\n",
       "      <td>470</td>\n",
       "      <td>43</td>\n",
       "    </tr>\n",
       "  </tbody>\n",
       "</table>\n",
       "</div>"
      ],
      "text/plain": [
       "   TITLE  CUISINES  TIME  CITY  LOCALITY  RATING  VOTES  COST\n",
       "0     31      2627   739   320       285      16   1279     7\n",
       "1     33       289  1885    67      1047      22    950    18\n",
       "2     31      2976   661    67      1102      18    712    81\n",
       "3     95      4130   275   222       136      21    787    81\n",
       "4     50      1766   615   222       621      18    470    43"
      ]
     },
     "execution_count": 56,
     "metadata": {},
     "output_type": "execute_result"
    }
   ],
   "source": [
    "df1.head()"
   ]
  },
  {
   "cell_type": "code",
   "execution_count": 57,
   "metadata": {},
   "outputs": [
    {
     "data": {
      "text/html": [
       "<div>\n",
       "<style scoped>\n",
       "    .dataframe tbody tr th:only-of-type {\n",
       "        vertical-align: middle;\n",
       "    }\n",
       "\n",
       "    .dataframe tbody tr th {\n",
       "        vertical-align: top;\n",
       "    }\n",
       "\n",
       "    .dataframe thead th {\n",
       "        text-align: right;\n",
       "    }\n",
       "</style>\n",
       "<table border=\"1\" class=\"dataframe\">\n",
       "  <thead>\n",
       "    <tr style=\"text-align: right;\">\n",
       "      <th></th>\n",
       "      <th>TITLE</th>\n",
       "      <th>CUISINES</th>\n",
       "      <th>TIME</th>\n",
       "      <th>CITY</th>\n",
       "      <th>LOCALITY</th>\n",
       "      <th>RATING</th>\n",
       "      <th>VOTES</th>\n",
       "    </tr>\n",
       "  </thead>\n",
       "  <tbody>\n",
       "    <tr>\n",
       "      <th>0</th>\n",
       "      <td>23</td>\n",
       "      <td>1293</td>\n",
       "      <td>503</td>\n",
       "      <td>110</td>\n",
       "      <td>662</td>\n",
       "      <td>22</td>\n",
       "      <td>824</td>\n",
       "    </tr>\n",
       "    <tr>\n",
       "      <th>1</th>\n",
       "      <td>75</td>\n",
       "      <td>1632</td>\n",
       "      <td>933</td>\n",
       "      <td>96</td>\n",
       "      <td>221</td>\n",
       "      <td>21</td>\n",
       "      <td>872</td>\n",
       "    </tr>\n",
       "    <tr>\n",
       "      <th>2</th>\n",
       "      <td>23</td>\n",
       "      <td>1455</td>\n",
       "      <td>219</td>\n",
       "      <td>96</td>\n",
       "      <td>411</td>\n",
       "      <td>17</td>\n",
       "      <td>575</td>\n",
       "    </tr>\n",
       "    <tr>\n",
       "      <th>3</th>\n",
       "      <td>66</td>\n",
       "      <td>208</td>\n",
       "      <td>1071</td>\n",
       "      <td>41</td>\n",
       "      <td>456</td>\n",
       "      <td>17</td>\n",
       "      <td>179</td>\n",
       "    </tr>\n",
       "    <tr>\n",
       "      <th>4</th>\n",
       "      <td>75</td>\n",
       "      <td>1637</td>\n",
       "      <td>208</td>\n",
       "      <td>78</td>\n",
       "      <td>300</td>\n",
       "      <td>15</td>\n",
       "      <td>394</td>\n",
       "    </tr>\n",
       "  </tbody>\n",
       "</table>\n",
       "</div>"
      ],
      "text/plain": [
       "   TITLE  CUISINES  TIME  CITY  LOCALITY  RATING  VOTES\n",
       "0     23      1293   503   110       662      22    824\n",
       "1     75      1632   933    96       221      21    872\n",
       "2     23      1455   219    96       411      17    575\n",
       "3     66       208  1071    41       456      17    179\n",
       "4     75      1637   208    78       300      15    394"
      ]
     },
     "execution_count": 57,
     "metadata": {},
     "output_type": "execute_result"
    }
   ],
   "source": [
    "dftest1.head()"
   ]
  },
  {
   "cell_type": "markdown",
   "metadata": {},
   "source": [
    "#### removing outliers"
   ]
  },
  {
   "cell_type": "code",
   "execution_count": 58,
   "metadata": {},
   "outputs": [
    {
     "name": "stdout",
     "output_type": "stream",
     "text": [
      "The datashape before removing outliers is  (12690, 8)\n",
      "The datashape after removing outliers is  (12623, 8)\n"
     ]
    }
   ],
   "source": [
    "#training dataset\n",
    "from scipy.stats import zscore\n",
    "z=np.abs(zscore(df1))\n",
    "print(\"The datashape before removing outliers is \", df1.shape)\n",
    "df2=df1[(z<3).all(axis=1)]\n",
    "print(\"The datashape after removing outliers is \", df2.shape)"
   ]
  },
  {
   "cell_type": "code",
   "execution_count": 59,
   "metadata": {},
   "outputs": [
    {
     "name": "stdout",
     "output_type": "stream",
     "text": [
      "The datashape before removing outliers is  (4231, 7)\n",
      "The datashape after removing outliers is  (4198, 7)\n"
     ]
    }
   ],
   "source": [
    "#testing dataset\n",
    "from scipy.stats import zscore\n",
    "z=np.abs(zscore(dftest1))\n",
    "print(\"The datashape before removing outliers is \", dftest1.shape)\n",
    "dftest2=dftest1[(z<3).all(axis=1)]\n",
    "print(\"The datashape after removing outliers is \", dftest2.shape)"
   ]
  },
  {
   "cell_type": "markdown",
   "metadata": {},
   "source": [
    "#### splitting the data into input and output variables\n",
    "The training data will be split into input and output variables. Testing dataset has only input variables. Hence no need to spilt the same."
   ]
  },
  {
   "cell_type": "code",
   "execution_count": 60,
   "metadata": {},
   "outputs": [
    {
     "data": {
      "text/html": [
       "<div>\n",
       "<style scoped>\n",
       "    .dataframe tbody tr th:only-of-type {\n",
       "        vertical-align: middle;\n",
       "    }\n",
       "\n",
       "    .dataframe tbody tr th {\n",
       "        vertical-align: top;\n",
       "    }\n",
       "\n",
       "    .dataframe thead th {\n",
       "        text-align: right;\n",
       "    }\n",
       "</style>\n",
       "<table border=\"1\" class=\"dataframe\">\n",
       "  <thead>\n",
       "    <tr style=\"text-align: right;\">\n",
       "      <th></th>\n",
       "      <th>TITLE</th>\n",
       "      <th>CUISINES</th>\n",
       "      <th>TIME</th>\n",
       "      <th>CITY</th>\n",
       "      <th>LOCALITY</th>\n",
       "      <th>RATING</th>\n",
       "      <th>VOTES</th>\n",
       "    </tr>\n",
       "  </thead>\n",
       "  <tbody>\n",
       "    <tr>\n",
       "      <th>0</th>\n",
       "      <td>31</td>\n",
       "      <td>2627</td>\n",
       "      <td>739</td>\n",
       "      <td>320</td>\n",
       "      <td>285</td>\n",
       "      <td>16</td>\n",
       "      <td>1279</td>\n",
       "    </tr>\n",
       "    <tr>\n",
       "      <th>1</th>\n",
       "      <td>33</td>\n",
       "      <td>289</td>\n",
       "      <td>1885</td>\n",
       "      <td>67</td>\n",
       "      <td>1047</td>\n",
       "      <td>22</td>\n",
       "      <td>950</td>\n",
       "    </tr>\n",
       "    <tr>\n",
       "      <th>2</th>\n",
       "      <td>31</td>\n",
       "      <td>2976</td>\n",
       "      <td>661</td>\n",
       "      <td>67</td>\n",
       "      <td>1102</td>\n",
       "      <td>18</td>\n",
       "      <td>712</td>\n",
       "    </tr>\n",
       "    <tr>\n",
       "      <th>3</th>\n",
       "      <td>95</td>\n",
       "      <td>4130</td>\n",
       "      <td>275</td>\n",
       "      <td>222</td>\n",
       "      <td>136</td>\n",
       "      <td>21</td>\n",
       "      <td>787</td>\n",
       "    </tr>\n",
       "    <tr>\n",
       "      <th>4</th>\n",
       "      <td>50</td>\n",
       "      <td>1766</td>\n",
       "      <td>615</td>\n",
       "      <td>222</td>\n",
       "      <td>621</td>\n",
       "      <td>18</td>\n",
       "      <td>470</td>\n",
       "    </tr>\n",
       "  </tbody>\n",
       "</table>\n",
       "</div>"
      ],
      "text/plain": [
       "   TITLE  CUISINES  TIME  CITY  LOCALITY  RATING  VOTES\n",
       "0     31      2627   739   320       285      16   1279\n",
       "1     33       289  1885    67      1047      22    950\n",
       "2     31      2976   661    67      1102      18    712\n",
       "3     95      4130   275   222       136      21    787\n",
       "4     50      1766   615   222       621      18    470"
      ]
     },
     "execution_count": 60,
     "metadata": {},
     "output_type": "execute_result"
    }
   ],
   "source": [
    "x=df1.iloc[:,0:-1]\n",
    "y=pd.DataFrame(df.iloc[:,-1])\n",
    "x.head()"
   ]
  },
  {
   "cell_type": "code",
   "execution_count": 61,
   "metadata": {},
   "outputs": [
    {
     "data": {
      "text/html": [
       "<div>\n",
       "<style scoped>\n",
       "    .dataframe tbody tr th:only-of-type {\n",
       "        vertical-align: middle;\n",
       "    }\n",
       "\n",
       "    .dataframe tbody tr th {\n",
       "        vertical-align: top;\n",
       "    }\n",
       "\n",
       "    .dataframe thead th {\n",
       "        text-align: right;\n",
       "    }\n",
       "</style>\n",
       "<table border=\"1\" class=\"dataframe\">\n",
       "  <thead>\n",
       "    <tr style=\"text-align: right;\">\n",
       "      <th></th>\n",
       "      <th>COST</th>\n",
       "    </tr>\n",
       "  </thead>\n",
       "  <tbody>\n",
       "    <tr>\n",
       "      <th>0</th>\n",
       "      <td>1200</td>\n",
       "    </tr>\n",
       "    <tr>\n",
       "      <th>1</th>\n",
       "      <td>1500</td>\n",
       "    </tr>\n",
       "    <tr>\n",
       "      <th>2</th>\n",
       "      <td>800</td>\n",
       "    </tr>\n",
       "    <tr>\n",
       "      <th>3</th>\n",
       "      <td>800</td>\n",
       "    </tr>\n",
       "    <tr>\n",
       "      <th>4</th>\n",
       "      <td>300</td>\n",
       "    </tr>\n",
       "  </tbody>\n",
       "</table>\n",
       "</div>"
      ],
      "text/plain": [
       "   COST\n",
       "0  1200\n",
       "1  1500\n",
       "2   800\n",
       "3   800\n",
       "4   300"
      ]
     },
     "execution_count": 61,
     "metadata": {},
     "output_type": "execute_result"
    }
   ],
   "source": [
    "y.head()"
   ]
  },
  {
   "cell_type": "markdown",
   "metadata": {},
   "source": [
    "#### Checking the skewness in the datasets"
   ]
  },
  {
   "cell_type": "code",
   "execution_count": 62,
   "metadata": {},
   "outputs": [
    {
     "data": {
      "text/plain": [
       "TITLE      -0.069803\n",
       "CUISINES   -0.218782\n",
       "TIME        0.306186\n",
       "CITY        0.292433\n",
       "LOCALITY    0.332539\n",
       "RATING     -0.610531\n",
       "VOTES      -0.300137\n",
       "dtype: float64"
      ]
     },
     "execution_count": 62,
     "metadata": {},
     "output_type": "execute_result"
    }
   ],
   "source": [
    "x.skew()"
   ]
  },
  {
   "cell_type": "code",
   "execution_count": 63,
   "metadata": {},
   "outputs": [
    {
     "data": {
      "text/plain": [
       "TITLE      -0.020298\n",
       "CUISINES   -0.208618\n",
       "TIME        0.311112\n",
       "CITY        0.108726\n",
       "LOCALITY    0.300052\n",
       "RATING     -0.446332\n",
       "VOTES      -0.103036\n",
       "dtype: float64"
      ]
     },
     "execution_count": 63,
     "metadata": {},
     "output_type": "execute_result"
    }
   ],
   "source": [
    "dftest2.skew()"
   ]
  },
  {
   "cell_type": "markdown",
   "metadata": {},
   "source": [
    "Observations\n",
    "1. The datasets are normal and not skewed"
   ]
  },
  {
   "cell_type": "markdown",
   "metadata": {},
   "source": [
    "#### Scaling the data"
   ]
  },
  {
   "cell_type": "code",
   "execution_count": 64,
   "metadata": {},
   "outputs": [
    {
     "data": {
      "text/html": [
       "<div>\n",
       "<style scoped>\n",
       "    .dataframe tbody tr th:only-of-type {\n",
       "        vertical-align: middle;\n",
       "    }\n",
       "\n",
       "    .dataframe tbody tr th {\n",
       "        vertical-align: top;\n",
       "    }\n",
       "\n",
       "    .dataframe thead th {\n",
       "        text-align: right;\n",
       "    }\n",
       "</style>\n",
       "<table border=\"1\" class=\"dataframe\">\n",
       "  <thead>\n",
       "    <tr style=\"text-align: right;\">\n",
       "      <th></th>\n",
       "      <th>0</th>\n",
       "      <th>1</th>\n",
       "      <th>2</th>\n",
       "      <th>3</th>\n",
       "      <th>4</th>\n",
       "      <th>5</th>\n",
       "      <th>6</th>\n",
       "    </tr>\n",
       "  </thead>\n",
       "  <tbody>\n",
       "    <tr>\n",
       "      <th>0</th>\n",
       "      <td>-0.868887</td>\n",
       "      <td>0.325408</td>\n",
       "      <td>-0.584658</td>\n",
       "      <td>2.047933</td>\n",
       "      <td>-0.931285</td>\n",
       "      <td>-0.487207</td>\n",
       "      <td>0.603800</td>\n",
       "    </tr>\n",
       "    <tr>\n",
       "      <th>1</th>\n",
       "      <td>-0.807839</td>\n",
       "      <td>-1.616381</td>\n",
       "      <td>0.934369</td>\n",
       "      <td>-0.905332</td>\n",
       "      <td>0.955358</td>\n",
       "      <td>1.001812</td>\n",
       "      <td>-0.079534</td>\n",
       "    </tr>\n",
       "    <tr>\n",
       "      <th>2</th>\n",
       "      <td>-0.868887</td>\n",
       "      <td>0.615265</td>\n",
       "      <td>-0.688048</td>\n",
       "      <td>-0.905332</td>\n",
       "      <td>1.091533</td>\n",
       "      <td>0.009133</td>\n",
       "      <td>-0.573861</td>\n",
       "    </tr>\n",
       "    <tr>\n",
       "      <th>3</th>\n",
       "      <td>1.084647</td>\n",
       "      <td>1.573701</td>\n",
       "      <td>-1.199692</td>\n",
       "      <td>0.903980</td>\n",
       "      <td>-1.300196</td>\n",
       "      <td>0.753642</td>\n",
       "      <td>-0.418086</td>\n",
       "    </tr>\n",
       "    <tr>\n",
       "      <th>4</th>\n",
       "      <td>-0.288931</td>\n",
       "      <td>-0.389682</td>\n",
       "      <td>-0.749021</td>\n",
       "      <td>0.903980</td>\n",
       "      <td>-0.099380</td>\n",
       "      <td>0.009133</td>\n",
       "      <td>-1.076495</td>\n",
       "    </tr>\n",
       "  </tbody>\n",
       "</table>\n",
       "</div>"
      ],
      "text/plain": [
       "          0         1         2         3         4         5         6\n",
       "0 -0.868887  0.325408 -0.584658  2.047933 -0.931285 -0.487207  0.603800\n",
       "1 -0.807839 -1.616381  0.934369 -0.905332  0.955358  1.001812 -0.079534\n",
       "2 -0.868887  0.615265 -0.688048 -0.905332  1.091533  0.009133 -0.573861\n",
       "3  1.084647  1.573701 -1.199692  0.903980 -1.300196  0.753642 -0.418086\n",
       "4 -0.288931 -0.389682 -0.749021  0.903980 -0.099380  0.009133 -1.076495"
      ]
     },
     "execution_count": 64,
     "metadata": {},
     "output_type": "execute_result"
    }
   ],
   "source": [
    "from sklearn.preprocessing import StandardScaler\n",
    "scaler=StandardScaler()\n",
    "x=pd.DataFrame(scaler.fit_transform(x))\n",
    "x.head()"
   ]
  },
  {
   "cell_type": "code",
   "execution_count": 65,
   "metadata": {},
   "outputs": [
    {
     "data": {
      "text/html": [
       "<div>\n",
       "<style scoped>\n",
       "    .dataframe tbody tr th:only-of-type {\n",
       "        vertical-align: middle;\n",
       "    }\n",
       "\n",
       "    .dataframe tbody tr th {\n",
       "        vertical-align: top;\n",
       "    }\n",
       "\n",
       "    .dataframe thead th {\n",
       "        text-align: right;\n",
       "    }\n",
       "</style>\n",
       "<table border=\"1\" class=\"dataframe\">\n",
       "  <thead>\n",
       "    <tr style=\"text-align: right;\">\n",
       "      <th></th>\n",
       "      <th>0</th>\n",
       "      <th>1</th>\n",
       "      <th>2</th>\n",
       "      <th>3</th>\n",
       "      <th>4</th>\n",
       "      <th>5</th>\n",
       "      <th>6</th>\n",
       "    </tr>\n",
       "  </thead>\n",
       "  <tbody>\n",
       "    <tr>\n",
       "      <th>0</th>\n",
       "      <td>-0.862147</td>\n",
       "      <td>0.733542</td>\n",
       "      <td>-0.061965</td>\n",
       "      <td>1.281713</td>\n",
       "      <td>1.152796</td>\n",
       "      <td>1.279600</td>\n",
       "      <td>0.794376</td>\n",
       "    </tr>\n",
       "    <tr>\n",
       "      <th>1</th>\n",
       "      <td>1.106692</td>\n",
       "      <td>1.413398</td>\n",
       "      <td>1.201252</td>\n",
       "      <td>0.925895</td>\n",
       "      <td>-0.700685</td>\n",
       "      <td>1.026680</td>\n",
       "      <td>0.949800</td>\n",
       "    </tr>\n",
       "    <tr>\n",
       "      <th>2</th>\n",
       "      <td>-0.862147</td>\n",
       "      <td>1.058429</td>\n",
       "      <td>-0.896276</td>\n",
       "      <td>0.925895</td>\n",
       "      <td>0.097867</td>\n",
       "      <td>0.015002</td>\n",
       "      <td>-0.011884</td>\n",
       "    </tr>\n",
       "    <tr>\n",
       "      <th>3</th>\n",
       "      <td>0.765931</td>\n",
       "      <td>-1.442399</td>\n",
       "      <td>1.606657</td>\n",
       "      <td>-0.471962</td>\n",
       "      <td>0.286998</td>\n",
       "      <td>0.015002</td>\n",
       "      <td>-1.294128</td>\n",
       "    </tr>\n",
       "    <tr>\n",
       "      <th>4</th>\n",
       "      <td>1.106692</td>\n",
       "      <td>1.423425</td>\n",
       "      <td>-0.928591</td>\n",
       "      <td>0.468414</td>\n",
       "      <td>-0.368655</td>\n",
       "      <td>-0.490838</td>\n",
       "      <td>-0.597960</td>\n",
       "    </tr>\n",
       "  </tbody>\n",
       "</table>\n",
       "</div>"
      ],
      "text/plain": [
       "          0         1         2         3         4         5         6\n",
       "0 -0.862147  0.733542 -0.061965  1.281713  1.152796  1.279600  0.794376\n",
       "1  1.106692  1.413398  1.201252  0.925895 -0.700685  1.026680  0.949800\n",
       "2 -0.862147  1.058429 -0.896276  0.925895  0.097867  0.015002 -0.011884\n",
       "3  0.765931 -1.442399  1.606657 -0.471962  0.286998  0.015002 -1.294128\n",
       "4  1.106692  1.423425 -0.928591  0.468414 -0.368655 -0.490838 -0.597960"
      ]
     },
     "execution_count": 65,
     "metadata": {},
     "output_type": "execute_result"
    }
   ],
   "source": [
    "dftest2=pd.DataFrame(scaler.fit_transform(dftest2))\n",
    "dftest2.head()"
   ]
  },
  {
   "cell_type": "code",
   "execution_count": 66,
   "metadata": {},
   "outputs": [],
   "source": [
    "#Checking the best random state for finalising the train and test data\n",
    "#importing necessary libraries\n",
    "from sklearn.model_selection import train_test_split\n",
    "from sklearn.linear_model import LinearRegression\n",
    "from sklearn.metrics import r2_score, mean_squared_error, mean_absolute_error\n",
    "\n",
    "def max_r2_score(reg,x,y):\n",
    "    max_r2score=0\n",
    "    for r_state in range(42,101):\n",
    "        train_x,test_x,train_y,test_y=train_test_split(x,y,random_state=r_state,test_size=0.20)\n",
    "        reg.fit(train_x,train_y)\n",
    "        pred=reg.predict(test_x)\n",
    "        r2score=r2_score(test_y,pred)\n",
    "        if r2score>max_r2score:\n",
    "            max_r2score=r2score\n",
    "            final_r_state=r_state\n",
    "    print(\"The maximum r2 score\", max_r2score, \"is achieved at random state\", final_r_state)"
   ]
  },
  {
   "cell_type": "code",
   "execution_count": 67,
   "metadata": {},
   "outputs": [
    {
     "name": "stdout",
     "output_type": "stream",
     "text": [
      "The maximum r2 score 0.17604721618359365 is achieved at random state 67\n"
     ]
    }
   ],
   "source": [
    "lr=LinearRegression()\n",
    "max_r2_score(lr,x,y)"
   ]
  },
  {
   "cell_type": "code",
   "execution_count": 68,
   "metadata": {},
   "outputs": [],
   "source": [
    "#Finalising the train test data\n",
    "train_x,test_x,train_y,test_y=train_test_split(x,y,random_state=67,test_size=0.20)"
   ]
  },
  {
   "cell_type": "code",
   "execution_count": 69,
   "metadata": {},
   "outputs": [
    {
     "data": {
      "text/plain": [
       "{'n_neighbors': 10}"
      ]
     },
     "execution_count": 69,
     "metadata": {},
     "output_type": "execute_result"
    }
   ],
   "source": [
    "#Let us check the performances of other models and to derive at the best parameters for the models, let us use Gridsearchcv\n",
    "from sklearn.model_selection import GridSearchCV\n",
    "from sklearn.neighbors import KNeighborsRegressor\n",
    "kn=KNeighborsRegressor()\n",
    "parameters={'n_neighbors':(1,10)}\n",
    "gdk=GridSearchCV(kn,parameters)\n",
    "gdk.fit(train_x,train_y)\n",
    "gdk.best_params_"
   ]
  },
  {
   "cell_type": "code",
   "execution_count": 70,
   "metadata": {},
   "outputs": [
    {
     "data": {
      "text/plain": [
       "{'criterion': 'friedman_mse'}"
      ]
     },
     "execution_count": 70,
     "metadata": {},
     "output_type": "execute_result"
    }
   ],
   "source": [
    "from sklearn.tree import DecisionTreeRegressor\n",
    "dt=DecisionTreeRegressor()\n",
    "parameters={'criterion':('mse','friedman_mse','mae')}\n",
    "gdd=GridSearchCV(dt,parameters)\n",
    "gdd.fit(train_x,train_y)\n",
    "gdd.best_params_"
   ]
  },
  {
   "cell_type": "code",
   "execution_count": 71,
   "metadata": {},
   "outputs": [
    {
     "data": {
      "text/plain": [
       "{'C': 10, 'kernel': 'rbf'}"
      ]
     },
     "execution_count": 71,
     "metadata": {},
     "output_type": "execute_result"
    }
   ],
   "source": [
    "from sklearn.svm import SVR\n",
    "sv=SVR()\n",
    "parameters={'kernel':('linear','rbf'), 'C':[1,10]}\n",
    "gdsr=GridSearchCV(sv,parameters)\n",
    "gdsr.fit(train_x,train_y)\n",
    "gdsr.best_params_"
   ]
  },
  {
   "cell_type": "code",
   "execution_count": 72,
   "metadata": {},
   "outputs": [
    {
     "name": "stdout",
     "output_type": "stream",
     "text": [
      "LinearRegression(copy_X=True, fit_intercept=True, n_jobs=None, normalize=False)\n",
      "The r2 score is 0.17604721618359365\n",
      "The cross val score is 0.14718305899596387\n",
      "The mean squared error is 287233.79809057317\n",
      "The root mean squared error is 535.9419726897429\n",
      "\n",
      "\n",
      "\n",
      "\n",
      "KNeighborsRegressor(algorithm='auto', leaf_size=30, metric='minkowski',\n",
      "                    metric_params=None, n_jobs=None, n_neighbors=10, p=2,\n",
      "                    weights='uniform')\n",
      "The r2 score is 0.4365969299317116\n",
      "The cross val score is 0.4078544803489037\n",
      "The mean squared error is 196404.94801418437\n",
      "The root mean squared error is 443.17597860690097\n",
      "\n",
      "\n",
      "\n",
      "\n",
      "DecisionTreeRegressor(ccp_alpha=0.0, criterion='friedman_mse', max_depth=None,\n",
      "                      max_features=None, max_leaf_nodes=None,\n",
      "                      min_impurity_decrease=0.0, min_impurity_split=None,\n",
      "                      min_samples_leaf=1, min_samples_split=2,\n",
      "                      min_weight_fraction_leaf=0.0, presort='deprecated',\n",
      "                      random_state=None, splitter='best')\n",
      "The r2 score is 0.12824435617583974\n",
      "The cross val score is 0.4355987876156366\n",
      "The mean squared error is 303898.0988967691\n",
      "The root mean squared error is 551.2695338006347\n",
      "\n",
      "\n",
      "\n",
      "\n",
      "SVR(C=10, cache_size=200, coef0=0.0, degree=3, epsilon=0.1, gamma='scale',\n",
      "    kernel='rbf', max_iter=-1, shrinking=True, tol=0.001, verbose=False)\n",
      "The r2 score is 0.21412924993752647\n",
      "The cross val score is 0.19107146433619715\n",
      "The mean squared error is 273958.22282824985\n",
      "The root mean squared error is 523.4101860188143\n",
      "\n",
      "\n",
      "\n",
      "\n"
     ]
    }
   ],
   "source": [
    "score=[]\n",
    "cv=[]\n",
    "Mean=[]\n",
    "Root=[]\n",
    "\n",
    "from sklearn.model_selection import cross_val_score\n",
    "\n",
    "models=[LinearRegression(),KNeighborsRegressor(n_neighbors=10),DecisionTreeRegressor(criterion='friedman_mse'),SVR(C=10,kernel='rbf')]\n",
    "\n",
    "for i in models:\n",
    "    i.fit(train_x,train_y)\n",
    "    pred=i.predict(test_x)\n",
    "    print(i)\n",
    "    r2score=r2_score(test_y,pred)\n",
    "    score.append(r2score)\n",
    "    print(\"The r2 score is\", r2score)\n",
    "    cscore=cross_val_score(i,x,y,scoring='r2').mean()\n",
    "    cv.append(cscore)\n",
    "    print(\"The cross val score is\", cscore)\n",
    "    meanerror=mean_squared_error(test_y,pred)\n",
    "    Mean.append(meanerror)\n",
    "    print(\"The mean squared error is\", meanerror)\n",
    "    rooterror=np.sqrt(meanerror)\n",
    "    print(\"The root mean squared error is\", rooterror)\n",
    "    Root.append(rooterror)\n",
    "    print(\"\\n\")\n",
    "    print(\"\\n\")\n"
   ]
  },
  {
   "cell_type": "code",
   "execution_count": 242,
   "metadata": {},
   "outputs": [
    {
     "data": {
      "text/html": [
       "<div>\n",
       "<style scoped>\n",
       "    .dataframe tbody tr th:only-of-type {\n",
       "        vertical-align: middle;\n",
       "    }\n",
       "\n",
       "    .dataframe tbody tr th {\n",
       "        vertical-align: top;\n",
       "    }\n",
       "\n",
       "    .dataframe thead th {\n",
       "        text-align: right;\n",
       "    }\n",
       "</style>\n",
       "<table border=\"1\" class=\"dataframe\">\n",
       "  <thead>\n",
       "    <tr style=\"text-align: right;\">\n",
       "      <th></th>\n",
       "      <th>Model</th>\n",
       "      <th>R2score</th>\n",
       "      <th>Cross_val_score</th>\n",
       "      <th>Mean Squared Error</th>\n",
       "      <th>Root Mean Squared Error</th>\n",
       "    </tr>\n",
       "  </thead>\n",
       "  <tbody>\n",
       "    <tr>\n",
       "      <td>0</td>\n",
       "      <td>LinearRegression</td>\n",
       "      <td>0.176047</td>\n",
       "      <td>0.146430</td>\n",
       "      <td>287233.798091</td>\n",
       "      <td>535.941973</td>\n",
       "    </tr>\n",
       "    <tr>\n",
       "      <td>1</td>\n",
       "      <td>KNeighborsRegressor</td>\n",
       "      <td>0.436597</td>\n",
       "      <td>0.401351</td>\n",
       "      <td>196404.948014</td>\n",
       "      <td>443.175979</td>\n",
       "    </tr>\n",
       "    <tr>\n",
       "      <td>2</td>\n",
       "      <td>DecisionTreeRegressor</td>\n",
       "      <td>0.109039</td>\n",
       "      <td>0.448940</td>\n",
       "      <td>310593.213948</td>\n",
       "      <td>557.308904</td>\n",
       "    </tr>\n",
       "    <tr>\n",
       "      <td>3</td>\n",
       "      <td>SVR</td>\n",
       "      <td>0.214159</td>\n",
       "      <td>0.182995</td>\n",
       "      <td>273947.688549</td>\n",
       "      <td>523.400123</td>\n",
       "    </tr>\n",
       "  </tbody>\n",
       "</table>\n",
       "</div>"
      ],
      "text/plain": [
       "                   Model   R2score  Cross_val_score  Mean Squared Error  \\\n",
       "0       LinearRegression  0.176047         0.146430       287233.798091   \n",
       "1    KNeighborsRegressor  0.436597         0.401351       196404.948014   \n",
       "2  DecisionTreeRegressor  0.109039         0.448940       310593.213948   \n",
       "3                    SVR  0.214159         0.182995       273947.688549   \n",
       "\n",
       "   Root Mean Squared Error  \n",
       "0               535.941973  \n",
       "1               443.175979  \n",
       "2               557.308904  \n",
       "3               523.400123  "
      ]
     },
     "execution_count": 242,
     "metadata": {},
     "output_type": "execute_result"
    }
   ],
   "source": [
    "result=pd.DataFrame({'Model':['LinearRegression','KNeighborsRegressor', 'DecisionTreeRegressor', 'SVR'],'R2score':score,'Cross_val_score':cv,'Mean Squared Error':Mean, 'Root Mean Squared Error': Root})\n",
    "result"
   ]
  },
  {
   "cell_type": "code",
   "execution_count": 243,
   "metadata": {},
   "outputs": [],
   "source": [
    "#Let us try to boost our scores by trying boosters and lasso and ridge"
   ]
  },
  {
   "cell_type": "markdown",
   "metadata": {},
   "source": [
    "#### Lasso"
   ]
  },
  {
   "cell_type": "code",
   "execution_count": 244,
   "metadata": {},
   "outputs": [
    {
     "data": {
      "text/plain": [
       "{'alpha': 1}"
      ]
     },
     "execution_count": 244,
     "metadata": {},
     "output_type": "execute_result"
    }
   ],
   "source": [
    "#Let us check the best parameters for lasso\n",
    "from sklearn.linear_model import Lasso\n",
    "ls=Lasso()\n",
    "parameters={'alpha':(0.001,0.01,0.1,1)}\n",
    "gd=GridSearchCV(ls,parameters)\n",
    "gd.fit(train_x,train_y)\n",
    "gd.best_params_"
   ]
  },
  {
   "cell_type": "code",
   "execution_count": 245,
   "metadata": {},
   "outputs": [
    {
     "name": "stdout",
     "output_type": "stream",
     "text": [
      "The maximum r2 score 0.1758706984294911 is achieved at random state 67\n"
     ]
    }
   ],
   "source": [
    "#Let us check the best r2 score for Lasso\n",
    "ls=Lasso(alpha=1)\n",
    "max_r2_score(ls,x,y)"
   ]
  },
  {
   "cell_type": "code",
   "execution_count": 246,
   "metadata": {},
   "outputs": [
    {
     "name": "stdout",
     "output_type": "stream",
     "text": [
      "The cross val score is 0.14720020740359085\n"
     ]
    }
   ],
   "source": [
    "#Let us check the cross val score for lasso\n",
    "cross=cross_val_score(ls,x,y,cv=5,scoring='r2').mean()\n",
    "print(\"The cross val score is\", cross)"
   ]
  },
  {
   "cell_type": "markdown",
   "metadata": {},
   "source": [
    "#### Ridge"
   ]
  },
  {
   "cell_type": "code",
   "execution_count": 247,
   "metadata": {},
   "outputs": [
    {
     "data": {
      "text/plain": [
       "{'alpha': 1}"
      ]
     },
     "execution_count": 247,
     "metadata": {},
     "output_type": "execute_result"
    }
   ],
   "source": [
    "#Let us check the best parameters for Ridge\n",
    "from sklearn.linear_model import Ridge\n",
    "rd=Ridge()\n",
    "parameters={'alpha':(0.001,0.01,0.1,1)}\n",
    "gd=GridSearchCV(rd,parameters)\n",
    "gd.fit(train_x,train_y)\n",
    "gd.best_params_"
   ]
  },
  {
   "cell_type": "code",
   "execution_count": 248,
   "metadata": {},
   "outputs": [
    {
     "name": "stdout",
     "output_type": "stream",
     "text": [
      "The maximum r2 score 0.17604573503034582 is achieved at random state 67\n"
     ]
    }
   ],
   "source": [
    "#Let us check the best r2 score for Ridge\n",
    "rd=Ridge(alpha=1)\n",
    "max_r2_score(rd,x,y)"
   ]
  },
  {
   "cell_type": "code",
   "execution_count": 249,
   "metadata": {},
   "outputs": [
    {
     "name": "stdout",
     "output_type": "stream",
     "text": [
      "The cross val score is 0.14718327167710085\n"
     ]
    }
   ],
   "source": [
    "#Let us check the cross val score for Ridge\n",
    "cross=cross_val_score(rd,x,y,cv=5,scoring='r2').mean()\n",
    "print(\"The cross val score is\", cross)"
   ]
  },
  {
   "cell_type": "markdown",
   "metadata": {},
   "source": [
    "#### Ensemble Techniques"
   ]
  },
  {
   "cell_type": "markdown",
   "metadata": {},
   "source": [
    "#### Random Forest"
   ]
  },
  {
   "cell_type": "code",
   "execution_count": 250,
   "metadata": {},
   "outputs": [],
   "source": [
    "#Let us try to use ensemble techniques\n",
    "from sklearn.ensemble import RandomForestRegressor\n",
    "from sklearn.ensemble import GradientBoostingRegressor\n",
    "from sklearn.ensemble import AdaBoostRegressor"
   ]
  },
  {
   "cell_type": "code",
   "execution_count": 251,
   "metadata": {},
   "outputs": [
    {
     "data": {
      "text/plain": [
       "{'n_estimators': 100}"
      ]
     },
     "execution_count": 251,
     "metadata": {},
     "output_type": "execute_result"
    }
   ],
   "source": [
    "#Selecting the best parameters using GridSearchCV\n",
    "rf=RandomForestRegressor()\n",
    "parameters={'n_estimators':(50,100,200,500)}\n",
    "gdrf=GridSearchCV(rf,parameters)\n",
    "gdrf.fit(train_x,train_y)\n",
    "gdrf.best_params_"
   ]
  },
  {
   "cell_type": "code",
   "execution_count": 252,
   "metadata": {},
   "outputs": [
    {
     "name": "stdout",
     "output_type": "stream",
     "text": [
      "The maximum r2 score 0.7709000972314098 is achieved at random state 94\n"
     ]
    }
   ],
   "source": [
    "#Lets check the r2 score \n",
    "rf=RandomForestRegressor(n_estimators=100)\n",
    "max_r2_score(rf,x,y)"
   ]
  },
  {
   "cell_type": "code",
   "execution_count": 253,
   "metadata": {},
   "outputs": [
    {
     "name": "stdout",
     "output_type": "stream",
     "text": [
      "The cross val score is 0.7116184917857187\n"
     ]
    }
   ],
   "source": [
    "#Let us check the cross val score for RandomForest\n",
    "cross=cross_val_score(rf,x,y,cv=5,scoring='r2').mean()\n",
    "print(\"The cross val score is\", cross)"
   ]
  },
  {
   "cell_type": "markdown",
   "metadata": {},
   "source": [
    "#### GradientBoostingRegressor"
   ]
  },
  {
   "cell_type": "code",
   "execution_count": 254,
   "metadata": {},
   "outputs": [
    {
     "data": {
      "text/plain": [
       "{'learning_rate': 0.1, 'n_estimators': 500}"
      ]
     },
     "execution_count": 254,
     "metadata": {},
     "output_type": "execute_result"
    }
   ],
   "source": [
    "#selecting the best parameters \n",
    "gb=GradientBoostingRegressor()\n",
    "parameters={'learning_rate':(0.001,0.01,0.1,1), 'n_estimators':(10,50,100,500)}\n",
    "gdg=GridSearchCV(gb,parameters)                                                                                                                                        \n",
    "gdg.fit(train_x,train_y)                                                                                                                                         \n",
    "gdg.best_params_"
   ]
  },
  {
   "cell_type": "code",
   "execution_count": 255,
   "metadata": {},
   "outputs": [
    {
     "name": "stdout",
     "output_type": "stream",
     "text": [
      "The maximum r2 score 0.7453486857635555 is achieved at random state 94\n"
     ]
    }
   ],
   "source": [
    "\n",
    "#Lets check the r2 score \n",
    "gb=GradientBoostingRegressor(n_estimators=100,learning_rate=0.1)\n",
    "max_r2_score(gb,x,y)"
   ]
  },
  {
   "cell_type": "code",
   "execution_count": 256,
   "metadata": {},
   "outputs": [
    {
     "name": "stdout",
     "output_type": "stream",
     "text": [
      "The cross val score is 0.7004598181260269\n"
     ]
    }
   ],
   "source": [
    "#Let us check the cross val score for GradientBoosting\n",
    "cross=cross_val_score(gb,x,y,cv=5,scoring='r2').mean()\n",
    "print(\"The cross val score is\", cross)"
   ]
  },
  {
   "cell_type": "code",
   "execution_count": 257,
   "metadata": {},
   "outputs": [
    {
     "data": {
      "text/plain": [
       "{'learning_rate': 0.01, 'n_estimators': 200}"
      ]
     },
     "execution_count": 257,
     "metadata": {},
     "output_type": "execute_result"
    }
   ],
   "source": [
    "#selecting the best parameters\n",
    "ad=AdaBoostRegressor()\n",
    "parameters={'n_estimators':(10,50,100,200,500),'learning_rate':(0.001,0.01,0.1,1)}\n",
    "gad=GridSearchCV(ad,parameters)\n",
    "gad.fit(train_x,train_y)\n",
    "gad.best_params_"
   ]
  },
  {
   "cell_type": "code",
   "execution_count": 258,
   "metadata": {},
   "outputs": [
    {
     "name": "stdout",
     "output_type": "stream",
     "text": [
      "The maximum r2 score 0.5687522179400886 is achieved at random state 43\n"
     ]
    }
   ],
   "source": [
    "#Lets check the r2 score \n",
    "ad=AdaBoostRegressor(n_estimators=200,learning_rate=0.01)\n",
    "max_r2_score(ad,x,y)"
   ]
  },
  {
   "cell_type": "code",
   "execution_count": 261,
   "metadata": {},
   "outputs": [
    {
     "name": "stdout",
     "output_type": "stream",
     "text": [
      "The cross val score is 0.5215265006591773\n"
     ]
    }
   ],
   "source": [
    "#Let us check the cross val score for Adaboost\n",
    "cross=cross_val_score(ad,x,y,cv=5,scoring='r2').mean()\n",
    "print(\"The cross val score is\", cross)"
   ]
  },
  {
   "cell_type": "code",
   "execution_count": 262,
   "metadata": {},
   "outputs": [
    {
     "name": "stdout",
     "output_type": "stream",
     "text": [
      "The maximum r2 score 0.6830812598176743 is achieved at random state 77\n"
     ]
    }
   ],
   "source": [
    "from xgboost import XGBRegressor\n",
    "xgb = XGBRegressor(learning_rate=0.02, gamma=100, max_depth=25, min_child_weight=1, max_delta_step=0, subsample=0.75, colsample_bylevel=0.95, colsample_bytree=0.70, reg_lambda=1)\n",
    "max_r2_score(xgb,x,y)"
   ]
  },
  {
   "cell_type": "code",
   "execution_count": 263,
   "metadata": {},
   "outputs": [
    {
     "name": "stdout",
     "output_type": "stream",
     "text": [
      "The cross val score is 0.631353350444092\n"
     ]
    }
   ],
   "source": [
    "#Let us check the cross val score for XGBRegressor\n",
    "cross=cross_val_score(xgb,x,y,cv=5,scoring='r2').mean()\n",
    "print(\"The cross val score is\", cross)"
   ]
  },
  {
   "cell_type": "code",
   "execution_count": 298,
   "metadata": {},
   "outputs": [
    {
     "data": {
      "text/html": [
       "<div>\n",
       "<style scoped>\n",
       "    .dataframe tbody tr th:only-of-type {\n",
       "        vertical-align: middle;\n",
       "    }\n",
       "\n",
       "    .dataframe tbody tr th {\n",
       "        vertical-align: top;\n",
       "    }\n",
       "\n",
       "    .dataframe thead th {\n",
       "        text-align: right;\n",
       "    }\n",
       "</style>\n",
       "<table border=\"1\" class=\"dataframe\">\n",
       "  <thead>\n",
       "    <tr style=\"text-align: right;\">\n",
       "      <th></th>\n",
       "      <th>Boosters</th>\n",
       "      <th>R2 Score</th>\n",
       "      <th>Cross_val_score</th>\n",
       "    </tr>\n",
       "  </thead>\n",
       "  <tbody>\n",
       "    <tr>\n",
       "      <td>0</td>\n",
       "      <td>Lasso</td>\n",
       "      <td>0.176</td>\n",
       "      <td>0.147</td>\n",
       "    </tr>\n",
       "    <tr>\n",
       "      <td>1</td>\n",
       "      <td>Ridge</td>\n",
       "      <td>0.176</td>\n",
       "      <td>0.147</td>\n",
       "    </tr>\n",
       "    <tr>\n",
       "      <td>2</td>\n",
       "      <td>RandomForestRegressor</td>\n",
       "      <td>0.771</td>\n",
       "      <td>0.711</td>\n",
       "    </tr>\n",
       "    <tr>\n",
       "      <td>3</td>\n",
       "      <td>GradientBoostRegressor</td>\n",
       "      <td>0.745</td>\n",
       "      <td>0.700</td>\n",
       "    </tr>\n",
       "    <tr>\n",
       "      <td>4</td>\n",
       "      <td>AdaBoostRegressor</td>\n",
       "      <td>0.569</td>\n",
       "      <td>0.521</td>\n",
       "    </tr>\n",
       "    <tr>\n",
       "      <td>5</td>\n",
       "      <td>XGB Regressor</td>\n",
       "      <td>0.683</td>\n",
       "      <td>0.631</td>\n",
       "    </tr>\n",
       "  </tbody>\n",
       "</table>\n",
       "</div>"
      ],
      "text/plain": [
       "                 Boosters  R2 Score  Cross_val_score\n",
       "0                   Lasso     0.176            0.147\n",
       "1                   Ridge     0.176            0.147\n",
       "2   RandomForestRegressor     0.771            0.711\n",
       "3  GradientBoostRegressor     0.745            0.700\n",
       "4       AdaBoostRegressor     0.569            0.521\n",
       "5           XGB Regressor     0.683            0.631"
      ]
     },
     "execution_count": 298,
     "metadata": {},
     "output_type": "execute_result"
    }
   ],
   "source": [
    "result2=pd.DataFrame({'Boosters':['Lasso','Ridge','RandomForestRegressor','GradientBoostRegressor','AdaBoostRegressor','XGB Regressor'],'R2 Score':[0.176,0.176,0.771,0.745,0.569,0.683],'Cross_val_score':[0.147,0.147,0.711,0.700,0.521,0.631]})\n",
    "result2"
   ]
  },
  {
   "cell_type": "code",
   "execution_count": 299,
   "metadata": {},
   "outputs": [
    {
     "name": "stdout",
     "output_type": "stream",
     "text": [
      "The accuracy score is 0.7701696166773451\n",
      "The cross val score is 0.7073407014320564\n"
     ]
    }
   ],
   "source": [
    "#Random Forest Regressor is giving the better scores. So we can finalise the same\n",
    "train_x,test_x,train_y,test_y=train_test_split(x,y,random_state=94,test_size=0.20)\n",
    "rf=RandomForestRegressor(n_estimators=100)\n",
    "rf.fit(train_x,train_y)\n",
    "pred=rf.predict(test_x)\n",
    "r2score=r2_score(test_y,pred)\n",
    "cv=cross_val_score(rf,x,y,cv=5,scoring='r2').mean()\n",
    "print(\"The accuracy score is\", r2score)\n",
    "print(\"The cross val score is\", cv)"
   ]
  },
  {
   "cell_type": "code",
   "execution_count": 302,
   "metadata": {},
   "outputs": [],
   "source": [
    "#predicting the test data\n",
    "predtest=rf.predict(dftest2)\n",
    "pd.DataFrame(predtest).to_csv(\"Restaurant_food_predictions.csv\")"
   ]
  },
  {
   "cell_type": "code",
   "execution_count": 303,
   "metadata": {},
   "outputs": [],
   "source": [
    "import warnings\n",
    "warnings.filterwarnings('ignore')"
   ]
  },
  {
   "cell_type": "code",
   "execution_count": 304,
   "metadata": {},
   "outputs": [
    {
     "data": {
      "text/plain": [
       "['Project14_Restaurant_Food_predictions.pkl']"
      ]
     },
     "execution_count": 304,
     "metadata": {},
     "output_type": "execute_result"
    }
   ],
   "source": [
    "#saving the model\n",
    "from sklearn.externals import joblib\n",
    "joblib.dump(rf,'Project14_Restaurant_Food_predictions.pkl')"
   ]
  },
  {
   "cell_type": "code",
   "execution_count": null,
   "metadata": {},
   "outputs": [],
   "source": []
  }
 ],
 "metadata": {
  "kernelspec": {
   "display_name": "Python 3",
   "language": "python",
   "name": "python3"
  },
  "language_info": {
   "codemirror_mode": {
    "name": "ipython",
    "version": 3
   },
   "file_extension": ".py",
   "mimetype": "text/x-python",
   "name": "python",
   "nbconvert_exporter": "python",
   "pygments_lexer": "ipython3",
   "version": "3.7.6"
  }
 },
 "nbformat": 4,
 "nbformat_minor": 2
}
